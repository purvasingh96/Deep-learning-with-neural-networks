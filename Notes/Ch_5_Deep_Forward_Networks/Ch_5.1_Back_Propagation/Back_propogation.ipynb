{
  "nbformat": 4,
  "nbformat_minor": 0,
  "metadata": {
    "colab": {
      "name": "Back_propogation.ipynb",
      "provenance": [],
      "authorship_tag": "ABX9TyMtJ6bHLP9q6vehDLYAcyH3",
      "include_colab_link": true
    },
    "kernelspec": {
      "name": "python3",
      "display_name": "Python 3"
    }
  },
  "cells": [
    {
      "cell_type": "markdown",
      "metadata": {
        "id": "view-in-github",
        "colab_type": "text"
      },
      "source": [
        "<a href=\"https://colab.research.google.com/github/purvasingh96/Deep-learning-with-neural-networks/blob/master/Notes/Ch_5_Deep_Forward_Networks/Ch_5.1_Back_Propagation/Back_propogation.ipynb\" target=\"_parent\"><img src=\"https://colab.research.google.com/assets/colab-badge.svg\" alt=\"Open In Colab\"/></a>"
      ]
    },
    {
      "cell_type": "markdown",
      "metadata": {
        "id": "wyShBNUVEbbT",
        "colab_type": "text"
      },
      "source": [
        "# Backpropogation \n",
        "Consider the example below - \n",
        " \n"
      ]
    }
  ]
}