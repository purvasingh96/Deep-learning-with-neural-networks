{
 "cells": [
  {
   "cell_type": "code",
   "execution_count": 15,
   "metadata": {},
   "outputs": [],
   "source": [
    "import torch\n"
   ]
  },
  {
   "cell_type": "code",
   "execution_count": 16,
   "metadata": {},
   "outputs": [],
   "source": [
    "def activation(x):\n",
    "    # sigmoid function\n",
    "    return 1/(1+torch.exp(-x))"
   ]
  },
  {
   "cell_type": "code",
   "execution_count": 17,
   "metadata": {},
   "outputs": [
    {
     "name": "stdout",
     "output_type": "stream",
     "text": [
      "tensor([[0.1595]])\n",
      "tensor(0.1595)\n"
     ]
    }
   ],
   "source": [
    "# set seed for generating random numbers\n",
    "torch.manual_seed(7)\n",
    "\n",
    "# 1*5 tensor for features\n",
    "features = torch.randn((1,5))\n",
    "\n",
    "# same for weights\n",
    "weights = torch.randn_like(features)\n",
    "\n",
    "# adding bias term\n",
    "bias = torch.randn((1,1))\n",
    "\n",
    "# generating labels \n",
    "y = activation(torch.sum(features*weights)+bias)\n",
    "print(y)\n",
    "\n",
    "# torch.mm() for matrix multiplication\n",
    "# increases algebric operations\n",
    "# Stricter rules on types of vector you pass\n",
    "\n",
    "# weights.view() due to size mismatch \n",
    "# matrix multiplication rule\n",
    "# a[m*n], b[n*p]\n",
    "\n",
    "y_mm = activation(torch.sum(torch.mm(features, weights.view(5,1))+bias))\n",
    "print(y_mm)"
   ]
  },
  {
   "cell_type": "code",
   "execution_count": null,
   "metadata": {},
   "outputs": [],
   "source": []
  },
  {
   "cell_type": "code",
   "execution_count": null,
   "metadata": {},
   "outputs": [],
   "source": []
  }
 ],
 "metadata": {
  "kernelspec": {
   "display_name": "Python 3",
   "language": "python",
   "name": "python3"
  },
  "language_info": {
   "codemirror_mode": {
    "name": "ipython",
    "version": 3
   },
   "file_extension": ".py",
   "mimetype": "text/x-python",
   "name": "python",
   "nbconvert_exporter": "python",
   "pygments_lexer": "ipython3",
   "version": "3.7.3"
  }
 },
 "nbformat": 4,
 "nbformat_minor": 2
}
