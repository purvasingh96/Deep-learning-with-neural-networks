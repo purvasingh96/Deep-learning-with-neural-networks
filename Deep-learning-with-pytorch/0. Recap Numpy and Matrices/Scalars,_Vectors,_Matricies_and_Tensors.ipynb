{
  "nbformat": 4,
  "nbformat_minor": 0,
  "metadata": {
    "colab": {
      "name": "Scalars, Vectors, Matricies and Tensors.ipynb",
      "provenance": [],
      "collapsed_sections": [],
      "authorship_tag": "ABX9TyOPbtM+m+oF3uEfrOeyd2+H",
      "include_colab_link": true
    },
    "kernelspec": {
      "name": "python3",
      "display_name": "Python 3"
    }
  },
  "cells": [
    {
      "cell_type": "markdown",
      "metadata": {
        "id": "view-in-github",
        "colab_type": "text"
      },
      "source": [
        "<a href=\"https://colab.research.google.com/github/purvasingh96/Deep-learning-with-neural-networks/blob/master/Deep-learning-with-pytorch/0.%20Recap%20Numpy%20and%20Matrices/Scalars%2C_Vectors%2C_Matricies_and_Tensors.ipynb\" target=\"_parent\"><img src=\"https://colab.research.google.com/assets/colab-badge.svg\" alt=\"Open In Colab\"/></a>"
      ]
    },
    {
      "cell_type": "markdown",
      "metadata": {
        "id": "nOaY5yJ2DW_p",
        "colab_type": "text"
      },
      "source": [
        "# Data in NumPy\n",
        "Data can be classified into the following categories - <br>\n",
        "<img src=\"./images/01. Data classification.png\"></img> "
      ]
    },
    {
      "cell_type": "markdown",
      "metadata": {
        "id": "YOaiEpGS7JZI",
        "colab_type": "text"
      },
      "source": [
        "# Scalars and Numpy\n",
        "NumPy lets you specify signed and unsigned types, as well as different sizes. So instead of Python’s int, you have access to types like uint8, int8, uint16, int16, and so on.\n",
        "\n",
        "## Declaration"
      ]
    },
    {
      "cell_type": "code",
      "metadata": {
        "id": "woWYpr6KDxQa",
        "colab_type": "code",
        "colab": {}
      },
      "source": [
        "import numpy as np"
      ],
      "execution_count": 0,
      "outputs": []
    },
    {
      "cell_type": "code",
      "metadata": {
        "id": "KG5cfYsg3O2i",
        "colab_type": "code",
        "colab": {}
      },
      "source": [
        "scalar_qty = np.array(5)"
      ],
      "execution_count": 0,
      "outputs": []
    },
    {
      "cell_type": "markdown",
      "metadata": {
        "id": "s-QZsW-u7gJs",
        "colab_type": "text"
      },
      "source": [
        "## Shape of Scalar\n",
        "\n",
        "Scalars have 0 dimension. Hence printing the shape of a scalar using numpy will yeild you an empty parenthesis."
      ]
    },
    {
      "cell_type": "code",
      "metadata": {
        "id": "_gLeGC8d7cgp",
        "colab_type": "code",
        "colab": {
          "base_uri": "https://localhost:8080/",
          "height": 34
        },
        "outputId": "65eca9c1-8db3-430d-e14a-867f95791908"
      },
      "source": [
        "shape_s = scalar_qty.shape\n",
        "print(shape_s)"
      ],
      "execution_count": 9,
      "outputs": [
        {
          "output_type": "stream",
          "text": [
            "()\n"
          ],
          "name": "stdout"
        }
      ]
    },
    {
      "cell_type": "markdown",
      "metadata": {
        "id": "S32iyR_58FNs",
        "colab_type": "text"
      },
      "source": [
        "## Operations on Scalars\n",
        "You can directly perform operations(add, substract etc) on scalars. Even though scalars are inside arrays, you still use them like a normal scalar. So you could type:"
      ]
    },
    {
      "cell_type": "code",
      "metadata": {
        "id": "mbN13N-47pGK",
        "colab_type": "code",
        "colab": {
          "base_uri": "https://localhost:8080/",
          "height": 34
        },
        "outputId": "c9a55925-1e93-4e26-cb63-5a30adb58aea"
      },
      "source": [
        "add_operation = scalar_qty+3\n",
        "print(add_operation)"
      ],
      "execution_count": 11,
      "outputs": [
        {
          "output_type": "stream",
          "text": [
            "8\n"
          ],
          "name": "stdout"
        }
      ]
    },
    {
      "cell_type": "markdown",
      "metadata": {
        "id": "3S8MoHwz8cat",
        "colab_type": "text"
      },
      "source": [
        "## Type of Resultant Operation\n",
        " If you were to check the type of *add_operation*, you'd find it is probably *numpy.int64*, because its working with NumPy types, not Python types."
      ]
    },
    {
      "cell_type": "code",
      "metadata": {
        "id": "1U0mSy2H8VsW",
        "colab_type": "code",
        "colab": {
          "base_uri": "https://localhost:8080/",
          "height": 34
        },
        "outputId": "2f7e6653-49d8-4d7b-8006-5435a6e15e80"
      },
      "source": [
        "print(add_operation.dtype)"
      ],
      "execution_count": 12,
      "outputs": [
        {
          "output_type": "stream",
          "text": [
            "int64\n"
          ],
          "name": "stdout"
        }
      ]
    },
    {
      "cell_type": "markdown",
      "metadata": {
        "id": "_P2W72K_8vWY",
        "colab_type": "text"
      },
      "source": [
        "# Vectors and Numpy\n",
        "To create a vector, you'd pass a Python list to the array function, like this :<br>\n",
        "*Note :* Python doesn’t understand (3). Since (3,) is a tuple with one item, so it requires the comma. "
      ]
    },
    {
      "cell_type": "code",
      "metadata": {
        "id": "usUX6BMT8siR",
        "colab_type": "code",
        "colab": {
          "base_uri": "https://localhost:8080/",
          "height": 34
        },
        "outputId": "af28adb1-a39c-4ba4-eb56-af9a9343f483"
      },
      "source": [
        "vector_qty = np.array([1, 2, 3])\n",
        "print(vector_qty.shape)"
      ],
      "execution_count": 13,
      "outputs": [
        {
          "output_type": "stream",
          "text": [
            "(3,)\n"
          ],
          "name": "stdout"
        }
      ]
    },
    {
      "cell_type": "markdown",
      "metadata": {
        "id": "FOFTkUxb9bbX",
        "colab_type": "text"
      },
      "source": [
        "## Accessing Elements of Vector "
      ]
    },
    {
      "cell_type": "code",
      "metadata": {
        "id": "stCBmE549DJg",
        "colab_type": "code",
        "colab": {
          "base_uri": "https://localhost:8080/",
          "height": 34
        },
        "outputId": "a8782e53-012d-4ced-86ce-ab8c5e858ea8"
      },
      "source": [
        "print(vector_qty[1:])"
      ],
      "execution_count": 14,
      "outputs": [
        {
          "output_type": "stream",
          "text": [
            "[2 3]\n"
          ],
          "name": "stdout"
        }
      ]
    },
    {
      "cell_type": "code",
      "metadata": {
        "id": "_aWvDYOV9h2_",
        "colab_type": "code",
        "colab": {
          "base_uri": "https://localhost:8080/",
          "height": 34
        },
        "outputId": "3d4d4e97-5a25-4ab0-df5c-e9b38e952282"
      },
      "source": [
        "print(vector_qty[:2])"
      ],
      "execution_count": 15,
      "outputs": [
        {
          "output_type": "stream",
          "text": [
            "[1 2]\n"
          ],
          "name": "stdout"
        }
      ]
    },
    {
      "cell_type": "markdown",
      "metadata": {
        "id": "DtDyfwwC_49c",
        "colab_type": "text"
      },
      "source": [
        "# Matricies and Numpy\n",
        "You create matrices using NumPy's array function, just you did for vectors. However, instead of just passing in a list, you need to supply a list of lists, where each list represents a row. "
      ]
    },
    {
      "cell_type": "code",
      "metadata": {
        "id": "z6SiEoy99lpb",
        "colab_type": "code",
        "colab": {}
      },
      "source": [
        "matrix_qty = np.array([[1,2, 3], [4, 5, 6], [7, 8, 9]])"
      ],
      "execution_count": 0,
      "outputs": []
    },
    {
      "cell_type": "code",
      "metadata": {
        "id": "07YPicnqAnBq",
        "colab_type": "code",
        "colab": {
          "base_uri": "https://localhost:8080/",
          "height": 34
        },
        "outputId": "ad107863-300c-4ce1-d3a0-30cde00b7b0b"
      },
      "source": [
        "matrix_shape = matrix_qty.shape\n",
        "print(matrix_shape)"
      ],
      "execution_count": 17,
      "outputs": [
        {
          "output_type": "stream",
          "text": [
            "(3, 3)\n"
          ],
          "name": "stdout"
        }
      ]
    },
    {
      "cell_type": "markdown",
      "metadata": {
        "id": "ZCS7s-SAAxJI",
        "colab_type": "text"
      },
      "source": [
        "# Tensors and Numpy\n",
        "Tensors are just like vectors and matrices, but they can have more dimensions. For example, to create a 3x3x2x1 tensor, you could do the following:"
      ]
    },
    {
      "cell_type": "code",
      "metadata": {
        "id": "iscWSbkAAuxY",
        "colab_type": "code",
        "colab": {
          "base_uri": "https://localhost:8080/",
          "height": 34
        },
        "outputId": "1fe9a023-f16f-41fd-c38c-a48174104b02"
      },
      "source": [
        "tensor_qty = np.array([[[[1],[2]],[[3],[4]],[[5],[6]]],[[[7],[8]],[[9],[10]],[[11],[12]]],[[[13],[14]],[[15],[16]],[[17],[17]]]])\n",
        "tensor_shape = tensor_qty.shape\n",
        "print(tensor_shape)"
      ],
      "execution_count": 18,
      "outputs": [
        {
          "output_type": "stream",
          "text": [
            "(3, 3, 2, 1)\n"
          ],
          "name": "stdout"
        }
      ]
    },
    {
      "cell_type": "markdown",
      "metadata": {
        "id": "wgB4Kt4RCCpd",
        "colab_type": "text"
      },
      "source": [
        "## Changing Shape\n",
        "Use `reshape` or `view` to change shape of vectors/matricies/tensors. "
      ]
    },
    {
      "cell_type": "code",
      "metadata": {
        "id": "8RwBSVlaBNtC",
        "colab_type": "code",
        "colab": {
          "base_uri": "https://localhost:8080/",
          "height": 34
        },
        "outputId": "2c81c970-8fd8-4aae-a202-40e53b55ca4e"
      },
      "source": [
        "vector_qty = np.array([1, 2, 3, 4])\n",
        "reshaped_vector_1 = vector_qty.reshape(1, 4)\n",
        "print(reshaped_vector_1.shape)"
      ],
      "execution_count": 22,
      "outputs": [
        {
          "output_type": "stream",
          "text": [
            "(1, 4)\n"
          ],
          "name": "stdout"
        }
      ]
    },
    {
      "cell_type": "code",
      "metadata": {
        "id": "8j7r_3AUC5aU",
        "colab_type": "code",
        "colab": {}
      },
      "source": [
        ""
      ],
      "execution_count": 0,
      "outputs": []
    }
  ]
}