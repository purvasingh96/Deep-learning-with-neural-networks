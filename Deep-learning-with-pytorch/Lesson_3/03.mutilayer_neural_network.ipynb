{
 "cells": [
  {
   "cell_type": "code",
   "execution_count": 8,
   "metadata": {},
   "outputs": [],
   "source": [
    "import torch\n"
   ]
  },
  {
   "cell_type": "code",
   "execution_count": 9,
   "metadata": {},
   "outputs": [],
   "source": [
    "def activation(x):\n",
    "    # sigmoid function\n",
    "    return 1/(1+torch.exp(-x))"
   ]
  },
  {
   "cell_type": "code",
   "execution_count": 13,
   "metadata": {},
   "outputs": [
    {
     "name": "stdout",
     "output_type": "stream",
     "text": [
      "tensor([[0.3171]])\n"
     ]
    }
   ],
   "source": [
    "# set seed for generating random numbers\n",
    "torch.manual_seed(7)\n",
    "\n",
    "# 3 random numbers for features\n",
    "features = torch.randn((1,3))\n",
    "\n",
    "# Define size for each layer of network\n",
    "\n",
    "# features.shape : tensor.Size[1, 3]\n",
    "# features.shape[0] : 1\n",
    "# features.shape[1] : 3\n",
    "n_input = features.shape[1] \n",
    "n_hidden = 2\n",
    "n_output = 1\n",
    "\n",
    "\n",
    "# weights for input to hidden layer \n",
    "W1 = torch.randn(n_input, n_hidden)\n",
    "\n",
    "# weights for hidden to output layer\n",
    "W2 = torch.randn(n_hidden, n_output)\n",
    "\n",
    "# add bias terms for hidden and output layer\n",
    "B1 = torch.randn((1, n_hidden))\n",
    "B2 = torch.randn((1, n_output))\n",
    "\n",
    "# output of multi-layer perceptron\n",
    "h = activation(torch.mm(features, W1)+B1)\n",
    "y_output = activation(torch.mm(h, W2)+B2)\n",
    "print(y_output)"
   ]
  },
  {
   "cell_type": "code",
   "execution_count": null,
   "metadata": {},
   "outputs": [],
   "source": []
  }
 ],
 "metadata": {
  "kernelspec": {
   "display_name": "Python 3",
   "language": "python",
   "name": "python3"
  },
  "language_info": {
   "codemirror_mode": {
    "name": "ipython",
    "version": 3
   },
   "file_extension": ".py",
   "mimetype": "text/x-python",
   "name": "python",
   "nbconvert_exporter": "python",
   "pygments_lexer": "ipython3",
   "version": "3.7.3"
  }
 },
 "nbformat": 4,
 "nbformat_minor": 2
}
