{
  "nbformat": 4,
  "nbformat_minor": 0,
  "metadata": {
    "colab": {
      "name": "04. Training_an_image_classifier.ipynb",
      "provenance": [],
      "authorship_tag": "ABX9TyPQSJC4lyspa67MSJqKBSDF",
      "include_colab_link": true
    },
    "kernelspec": {
      "name": "python3",
      "display_name": "Python 3"
    },
    "accelerator": "GPU"
  },
  "cells": [
    {
      "cell_type": "markdown",
      "metadata": {
        "id": "view-in-github",
        "colab_type": "text"
      },
      "source": [
        "<a href=\"https://colab.research.google.com/github/purvasingh96/pytorch-examples/blob/master/Basics/04_Training_an_image_classifier.ipynb\" target=\"_parent\"><img src=\"https://colab.research.google.com/assets/colab-badge.svg\" alt=\"Open In Colab\"/></a>"
      ]
    },
    {
      "cell_type": "markdown",
      "metadata": {
        "id": "4nwCoOxnP2lR",
        "colab_type": "text"
      },
      "source": [
        "# Training an Image Classifier\n",
        "\n",
        "## Overview \n",
        "We will do the following steps in order:\n",
        "\n",
        "1. Load and normalizing the CIFAR10 training and test datasets using `torchvision`\n",
        "2. Define a Convolutional Neural Network\n",
        "3. Define a loss function\n",
        "4. Train the network on the training data\n",
        "5. Test the network on the test data"
      ]
    },
    {
      "cell_type": "markdown",
      "metadata": {
        "id": "4lXNrwTtQMdR",
        "colab_type": "text"
      },
      "source": [
        "## Loading and Normalizing CIFAR10\n",
        "Using `torchvision` it is easy to load CIFAR10 image dataset. Although, `torchvision` will load image data as PILImage() and hence we need to transform them to `Tensors`."
      ]
    },
    {
      "cell_type": "code",
      "metadata": {
        "id": "5zln3BFRTd9j",
        "colab_type": "code",
        "colab": {}
      },
      "source": [
        "import torch\n",
        "import torchvision\n",
        "from torchvision.transforms import transforms"
      ],
      "execution_count": 0,
      "outputs": []
    },
    {
      "cell_type": "code",
      "metadata": {
        "id": "-HMj_4llTj4H",
        "colab_type": "code",
        "colab": {}
      },
      "source": [
        "transform = transforms.Compose([\n",
        "                                transforms.ToTensor(),\n",
        "                                transforms.Normalize((0.5, 0.5, 0.5), (0.5, 0.5, 0.5))\n",
        "])"
      ],
      "execution_count": 0,
      "outputs": []
    },
    {
      "cell_type": "code",
      "metadata": {
        "id": "vT_NtgYtUDFO",
        "colab_type": "code",
        "colab": {
          "base_uri": "https://localhost:8080/",
          "height": 51
        },
        "outputId": "aaa4b677-e2f1-4424-e102-f312e1f8d65c"
      },
      "source": [
        "trainset = torchvision.datasets.CIFAR10(root='./data', train=True, download=True, transform=transform)\n",
        "trainloader = torch.utils.data.DataLoader(trainset, batch_size=4, shuffle=True, num_workers=2)\n",
        "\n",
        "testset = torchvision.datasets.CIFAR10(root='./data', train=False, download=True, transform=transform)\n",
        "testloader = torch.utils.data.DataLoader(testset, shuffle=True, batch_size=4, num_workers=2)"
      ],
      "execution_count": 4,
      "outputs": [
        {
          "output_type": "stream",
          "text": [
            "Files already downloaded and verified\n",
            "Files already downloaded and verified\n"
          ],
          "name": "stdout"
        }
      ]
    },
    {
      "cell_type": "code",
      "metadata": {
        "id": "ZusxfphFUuOy",
        "colab_type": "code",
        "colab": {}
      },
      "source": [
        "classes = ('plane', 'car', 'bird', 'cat',\n",
        "           'deer', 'dog', 'frog', 'horse', 'ship', 'truck')"
      ],
      "execution_count": 0,
      "outputs": []
    },
    {
      "cell_type": "code",
      "metadata": {
        "id": "myZ1xmfHVonM",
        "colab_type": "code",
        "colab": {
          "base_uri": "https://localhost:8080/",
          "height": 155
        },
        "outputId": "e8523138-4af6-479a-b750-cb40585f4384"
      },
      "source": [
        "# helper function to display image\n",
        "import numpy as np\n",
        "import matplotlib.pyplot as plt\n",
        "%matplotlib inline\n",
        "\n",
        "def imshow(img):\n",
        "  img = img /2 +0.5\n",
        "  npimage = img.numpy()\n",
        "  plt.imshow(np.transpose(npimage, (1, 2, 0)))\n",
        "  plt.show()\n",
        "\n",
        "# obtain one batch of training images\n",
        "dataiter = iter(testloader)\n",
        "images, labels = dataiter.next()\n",
        "\n",
        "imshow(torchvision.utils.make_grid(images))\n",
        "print(' '.join('%5s' % classes[labels[j]] for j in range(4)))"
      ],
      "execution_count": 11,
      "outputs": [
        {
          "output_type": "display_data",
          "data": {
            "image/png": "[encoded data removed]",
            "text/plain": [
              "<Figure size 432x288 with 1 Axes>"
            ]
          },
          "metadata": {
            "tags": []
          }
        },
        {
          "output_type": "stream",
          "text": [
            "truck truck horse truck\n"
          ],
          "name": "stdout"
        }
      ]
    },
    {
      "cell_type": "markdown",
      "metadata": {
        "id": "l8me7FkdZgNq",
        "colab_type": "text"
      },
      "source": [
        "## Define a Convolutional Neural Network\n"
      ]
    },
    {
      "cell_type": "code",
      "metadata": {
        "id": "rD6izTUWZqLx",
        "colab_type": "code",
        "colab": {}
      },
      "source": [
        "import torch.nn as nn\n",
        "import torch.nn.functional as F\n",
        "\n",
        "class Net(nn.Module):\n",
        "  def __init__(self):\n",
        "    super(Net, self).__init__()\n",
        "    self.conv1 = nn.Conv2d(3, 6, 5)\n",
        "    self.conv2 = nn.Conv2d(6, 16, 5)\n",
        "    self.fc1 = nn.Linear(16 * 5 *5, 120)\n",
        "    self.fc2 = nn.Linear(120, 84)\n",
        "    self.fc3 = nn.Linear(84, 10)\n",
        "    self.pool = nn.MaxPool2d(2, 2)\n",
        "\n",
        "\n",
        "  def forward(self, x):\n",
        "      x = self.pool(F.relu(self.conv1(x)))\n",
        "      x = self.pool(F.relu(self.conv2(x)))\n",
        "      x = x.view(-1, self.num_flat_features(x))\n",
        "      x = F.relu(self.fc1(x))\n",
        "      x = F.relu(self.fc2(x))\n",
        "      x = self.fc3(x)\n",
        "      return x\n",
        "    \n",
        "  def num_flat_features(self, x):\n",
        "      num_features = 1;\n",
        "      size = x.size()[1:]\n",
        "      for features in size:\n",
        "        num_features *= features\n",
        "      return num_features\n",
        "\n",
        "   "
      ],
      "execution_count": 0,
      "outputs": []
    },
    {
      "cell_type": "code",
      "metadata": {
        "id": "Dgxj-PzVdT2Q",
        "colab_type": "code",
        "colab": {
          "base_uri": "https://localhost:8080/",
          "height": 153
        },
        "outputId": "3d3ac980-c62d-40be-93a6-4c739fbfb028"
      },
      "source": [
        "net = Net()\n",
        "print(net)\n",
        "if(torch.cuda.is_available):\n",
        "  net.cuda()"
      ],
      "execution_count": 22,
      "outputs": [
        {
          "output_type": "stream",
          "text": [
            "Net(\n",
            "  (conv1): Conv2d(3, 6, kernel_size=(5, 5), stride=(1, 1))\n",
            "  (conv2): Conv2d(6, 16, kernel_size=(5, 5), stride=(1, 1))\n",
            "  (fc1): Linear(in_features=400, out_features=120, bias=True)\n",
            "  (fc2): Linear(in_features=120, out_features=84, bias=True)\n",
            "  (fc3): Linear(in_features=84, out_features=10, bias=True)\n",
            "  (pool): MaxPool2d(kernel_size=2, stride=2, padding=0, dilation=1, ceil_mode=False)\n",
            ")\n"
          ],
          "name": "stdout"
        }
      ]
    },
    {
      "cell_type": "markdown",
      "metadata": {
        "id": "cA0-aHSMgYT3",
        "colab_type": "text"
      },
      "source": [
        "## Momentum\n",
        "A very popular technique that is used along with SGD is called Momentum. Instead of using only the gradient of the current step to guide the search, momentum also accumulates the gradient of the past steps to determine the direction to go"
      ]
    },
    {
      "cell_type": "code",
      "metadata": {
        "id": "5QPiAwP0d9Yz",
        "colab_type": "code",
        "colab": {}
      },
      "source": [
        "import torch.optim as optim\n",
        "\n",
        "criterion = nn.CrossEntropyLoss()\n",
        "optimizer = optim.SGD(net.parameters(), lr=0.001, momentum=0.9)"
      ],
      "execution_count": 0,
      "outputs": []
    },
    {
      "cell_type": "markdown",
      "metadata": {
        "id": "wtOz85QagcvB",
        "colab_type": "text"
      },
      "source": [
        "## Train the Network\n",
        "\n"
      ]
    },
    {
      "cell_type": "code",
      "metadata": {
        "id": "eHKFVRTWgjgv",
        "colab_type": "code",
        "colab": {
          "base_uri": "https://localhost:8080/",
          "height": 221
        },
        "outputId": "6a8d1f98-b225-47b2-f8a2-4015fa2f5470"
      },
      "source": [
        "for epoch in range(2):\n",
        "  running_loss = 0.0\n",
        "  print_every = 2000\n",
        "  counter = 0\n",
        "  for images, labels in trainloader:\n",
        "    if(torch.cuda.is_available):\n",
        "      images, labels = images.cuda(), labels.cuda()\n",
        "    counter += 1\n",
        "    optimizer.zero_grad()\n",
        "    outputs = net(images)\n",
        "    loss = criterion(outputs, labels)\n",
        "    loss.backward()\n",
        "    optimizer.step()\n",
        "\n",
        "    running_loss += loss.item()\n",
        "    if counter % print_every == 0:    # print every 2000 mini-batches\n",
        "            print('[%d, %5d] loss: %.3f' %\n",
        "                  (epoch + 1, counter, running_loss / 2000))\n",
        "            running_loss = 0.0\n"
      ],
      "execution_count": 26,
      "outputs": [
        {
          "output_type": "stream",
          "text": [
            "[1,  2000] loss: 1.511\n",
            "[1,  4000] loss: 1.447\n",
            "[1,  6000] loss: 1.409\n",
            "[1,  8000] loss: 1.391\n",
            "[1, 10000] loss: 1.349\n",
            "[1, 12000] loss: 1.354\n",
            "[2,  2000] loss: 1.277\n",
            "[2,  4000] loss: 1.261\n",
            "[2,  6000] loss: 1.251\n",
            "[2,  8000] loss: 1.241\n",
            "[2, 10000] loss: 1.264\n",
            "[2, 12000] loss: 1.224\n"
          ],
          "name": "stdout"
        }
      ]
    },
    {
      "cell_type": "code",
      "metadata": {
        "id": "lq1B_yZBhI82",
        "colab_type": "code",
        "colab": {}
      },
      "source": [
        "path = './cifar10_classifier.pth'\n",
        "torch.save(net.state_dict(), path)"
      ],
      "execution_count": 0,
      "outputs": []
    },
    {
      "cell_type": "markdown",
      "metadata": {
        "id": "4pCkoYyUjU_R",
        "colab_type": "text"
      },
      "source": [
        "## Test network on test data"
      ]
    },
    {
      "cell_type": "code",
      "metadata": {
        "id": "R62k6ivGjOQZ",
        "colab_type": "code",
        "colab": {
          "base_uri": "https://localhost:8080/",
          "height": 187
        },
        "outputId": "5a05b8bc-b5de-4b9a-8700-403237590b9a"
      },
      "source": [
        "correct = 0\n",
        "total = 0\n",
        "class_correct = list(0. for i in range(10))\n",
        "class_total = list(0. for i in range(10))\n",
        "# class_correct/class_total = [0.0, 0.0, 0.0, 0.0, 0.0, 0.0, 0.0, 0.0, 0.0, 0.0]\n",
        "\n",
        "# net.eval()\n",
        "with torch.no_grad():\n",
        "  for images, labels in testloader:\n",
        "    if(torch.cuda.is_available):\n",
        "      images, labels = images.cuda(), labels.cuda()\n",
        "    outputs = net(images)\n",
        "    _, predict = torch.max(outputs,1)\n",
        "    # predict : tensor([8, 9, 4, 9], device='cuda:0')\n",
        "    # labels  : tensor([8, 9, 5, 1], device='cuda:0')\n",
        "    c =  (predict == labels).squeeze()\n",
        "    # c = tensor([True,  True,  False,  False], device='cuda:0')\n",
        "    for i in range(4):\n",
        "      label = labels[i]\n",
        "      class_correct[label] += c[i].item()\n",
        "      class_total[label] += 1\n",
        "\n",
        "for i in range(10):\n",
        "    print('Accuracy of %5s : %2d %%' % (\n",
        "        classes[i], 100 * class_correct[i] / class_total[i]))\n",
        "\n"
      ],
      "execution_count": 49,
      "outputs": [
        {
          "output_type": "stream",
          "text": [
            "Accuracy of plane : 70 %\n",
            "Accuracy of   car : 61 %\n",
            "Accuracy of  bird : 32 %\n",
            "Accuracy of   cat : 34 %\n",
            "Accuracy of  deer : 55 %\n",
            "Accuracy of   dog : 50 %\n",
            "Accuracy of  frog : 79 %\n",
            "Accuracy of horse : 61 %\n",
            "Accuracy of  ship : 74 %\n",
            "Accuracy of truck : 61 %\n"
          ],
          "name": "stdout"
        }
      ]
    },
    {
      "cell_type": "code",
      "metadata": {
        "id": "c3QEL4wulJTr",
        "colab_type": "code",
        "colab": {}
      },
      "source": [
        ""
      ],
      "execution_count": 0,
      "outputs": []
    }
  ]
}