{
  "nbformat": 4,
  "nbformat_minor": 0,
  "metadata": {
    "colab": {
      "name": "Sentiment-analysis-via-RNN.ipynb",
      "provenance": [],
      "authorship_tag": "ABX9TyOcAP+mlfUkw2q3UceAVt5c",
      "include_colab_link": true
    },
    "kernelspec": {
      "name": "python3",
      "display_name": "Python 3"
    },
    "accelerator": "GPU"
  },
  "cells": [
    {
      "cell_type": "markdown",
      "metadata": {
        "id": "view-in-github",
        "colab_type": "text"
      },
      "source": [
        "<a href=\"https://colab.research.google.com/github/purvasingh96/Deep-learning-with-neural-networks/blob/master/Deep-learning-with-pytorch/3.%20Recurrent%20Neural%20Networks/Sentiment_analysis_via_RNN.ipynb\" target=\"_parent\"><img src=\"https://colab.research.google.com/assets/colab-badge.svg\" alt=\"Open In Colab\"/></a>"
      ]
    },
    {
      "cell_type": "markdown",
      "metadata": {
        "id": "8lOMXlvC9EXh",
        "colab_type": "text"
      },
      "source": [
        "# Sentiment Analysis with an RNN\n",
        "In this notebook I have implemented a RNN that performs sentiment analysis. <br>\n",
        "Reason for using RNN instead of a strictly feedforward network is that we can also include information about *sequence* of words."
      ]
    },
    {
      "cell_type": "markdown",
      "metadata": {
        "id": "-XLBReg2AH9l",
        "colab_type": "text"
      },
      "source": [
        "### Network Architecture\n",
        "Below would be the architecture diagram for my sentiment analysis model - <br>\n",
        "<img src=\"https://github.com/purvasingh96/Deep-learning-with-neural-networks/blob/master/Deep-learning-with-pytorch/3.%20Recurrent%20Neural%20Networks/images/network_diagram.png\" width=40%></img>"
      ]
    },
    {
      "cell_type": "code",
      "metadata": {
        "id": "G5XrlKCf8DaZ",
        "colab_type": "code",
        "colab": {}
      },
      "source": [
        "import numpy as np"
      ],
      "execution_count": 0,
      "outputs": []
    },
    {
      "cell_type": "code",
      "metadata": {
        "id": "z3su6MQD_XnK",
        "colab_type": "code",
        "colab": {}
      },
      "source": [
        "with open('sample_data/reviews.txt', 'r') as f:\n",
        "  reviews = f.read()\n",
        "with open('sample_data/labels.txt', 'r') as f:\n",
        "  labels = f.read()"
      ],
      "execution_count": 0,
      "outputs": []
    },
    {
      "cell_type": "code",
      "metadata": {
        "id": "05qiscqd8QtP",
        "colab_type": "code",
        "colab": {
          "base_uri": "https://localhost:8080/",
          "height": 238
        },
        "outputId": "61cecee2-ccfb-4466-9c85-d52d4392881a"
      },
      "source": [
        "print(reviews[:100])\n",
        "print(labels[:100])"
      ],
      "execution_count": 6,
      "outputs": [
        {
          "output_type": "stream",
          "text": [
            "bromwell high is a cartoon comedy . it ran at the same time as some other programs about school life\n",
            "positive\n",
            "negative\n",
            "positive\n",
            "negative\n",
            "positive\n",
            "negative\n",
            "positive\n",
            "negative\n",
            "positive\n",
            "negative\n",
            "positive\n",
            "n\n"
          ],
          "name": "stdout"
        }
      ]
    },
    {
      "cell_type": "code",
      "metadata": {
        "id": "9fNcnT1q8vhd",
        "colab_type": "code",
        "colab": {}
      },
      "source": [
        "from string import punctuation\n",
        "\n",
        "# get rid of punctuation\n"
      ],
      "execution_count": 0,
      "outputs": []
    }
  ]
}