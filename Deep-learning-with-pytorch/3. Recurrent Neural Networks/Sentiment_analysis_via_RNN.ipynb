{
  "nbformat": 4,
  "nbformat_minor": 0,
  "metadata": {
    "colab": {
      "name": "Sentiment_analysis_via_RNN",
      "provenance": [],
      "authorship_tag": "ABX9TyPQ/WmVtrMDCkHWfpK+G6jt",
      "include_colab_link": true
    },
    "kernelspec": {
      "name": "python3",
      "display_name": "Python 3"
    },
    "accelerator": "GPU"
  },
  "cells": [
    {
      "cell_type": "markdown",
      "metadata": {
        "id": "view-in-github",
        "colab_type": "text"
      },
      "source": [
        "<a href=\"https://colab.research.google.com/github/purvasingh96/Deep-learning-with-neural-networks/blob/master/Deep-learning-with-pytorch/3.%20Recurrent%20Neural%20Networks/Sentiment_analysis_via_RNN.ipynb\" target=\"_parent\"><img src=\"https://colab.research.google.com/assets/colab-badge.svg\" alt=\"Open In Colab\"/></a>"
      ]
    },
    {
      "cell_type": "markdown",
      "metadata": {
        "id": "8lOMXlvC9EXh",
        "colab_type": "text"
      },
      "source": [
        "# Sentiment Analysis with an RNN\n",
        "In this notebook I have implemented a RNN that performs sentiment analysis. <br>\n",
        "Reason for using RNN instead of a strictly feedforward network is that we can also include information about *sequence* of words."
      ]
    },
    {
      "cell_type": "markdown",
      "metadata": {
        "id": "-XLBReg2AH9l",
        "colab_type": "text"
      },
      "source": [
        "### Network Architecture\n",
        "Below would be the architecture diagram for my sentiment analysis model - <br>\n",
        "<img src=\"https://github.com/purvasingh96/Deep-learning-with-neural-networks/blob/master/Deep-learning-with-pytorch/3.%20Recurrent%20Neural%20Networks/images/network_diagram.png?raw=1\"></img>\n",
        "\n",
        "**Notes -**\n",
        "1. Since we are performing sentiment analysis, we need a more efficient representation of words as compared to one_hot_encoded vectors. Hence, using *embeded layer for dimensionality reduction.*\n",
        "2. The new embeddings will be passed to LSTM cells. LSTM cells will add recurrent connections and add ability to *include information about sequence of words.*\n",
        "3. Final LSTM outputs will go to *Sigmoid output layer.*"
      ]
    },
    {
      "cell_type": "markdown",
      "metadata": {
        "id": "c_tzvqo4DNW-",
        "colab_type": "text"
      },
      "source": [
        "### Load in and visualize the data"
      ]
    },
    {
      "cell_type": "code",
      "metadata": {
        "id": "G5XrlKCf8DaZ",
        "colab_type": "code",
        "colab": {}
      },
      "source": [
        "import numpy as np"
      ],
      "execution_count": 0,
      "outputs": []
    },
    {
      "cell_type": "code",
      "metadata": {
        "id": "z3su6MQD_XnK",
        "colab_type": "code",
        "colab": {}
      },
      "source": [
        "with open('reviews.txt', 'r') as f:\n",
        "  reviews = f.read()\n",
        "with open('labels.txt', 'r') as f:\n",
        "  labels = f.read()"
      ],
      "execution_count": 0,
      "outputs": []
    },
    {
      "cell_type": "code",
      "metadata": {
        "id": "05qiscqd8QtP",
        "colab_type": "code",
        "outputId": "5b9d94f3-b14b-4017-fa1e-949525013e0e",
        "colab": {
          "base_uri": "https://localhost:8080/",
          "height": 238
        }
      },
      "source": [
        "print(reviews[:100])\n",
        "print(labels[:100])"
      ],
      "execution_count": 5,
      "outputs": [
        {
          "output_type": "stream",
          "text": [
            "bromwell high is a cartoon comedy . it ran at the same time as some other programs about school life\n",
            "positive\n",
            "negative\n",
            "positive\n",
            "negative\n",
            "positive\n",
            "negative\n",
            "positive\n",
            "negative\n",
            "positive\n",
            "negative\n",
            "positive\n",
            "n\n"
          ],
          "name": "stdout"
        }
      ]
    },
    {
      "cell_type": "markdown",
      "metadata": {
        "id": "544n_jGTDR1x",
        "colab_type": "text"
      },
      "source": [
        "## Data pre-processing\n",
        "### Getting rid of punctuations \n",
        "1. Get rid of punctuation marks etc.\n",
        "2. Reviews are delimited by \\n. Use \\n as delimiter to split text into each reviews.\n",
        "3. Combine reviews in step-2 into 1 big string."
      ]
    },
    {
      "cell_type": "code",
      "metadata": {
        "id": "9fNcnT1q8vhd",
        "colab_type": "code",
        "colab": {}
      },
      "source": [
        "from string import punctuation\n",
        "\n",
        "# get rid of punctuation\n",
        "reviews = reviews.lower()\n",
        "all_text = ''.join([c for c in reviews if c not in punctuation])\n",
        "\n",
        "# split by new lines and space\n",
        "reviews_split = all_text.split('\\n')\n",
        "all_text = ' '.join(reviews_split)\n",
        "\n",
        "# create a list of words\n",
        "words = all_text.split()"
      ],
      "execution_count": 0,
      "outputs": []
    },
    {
      "cell_type": "code",
      "metadata": {
        "id": "aEn0oPt2Gh-u",
        "colab_type": "code",
        "outputId": "8056bf25-ca27-4b26-81dc-dc4429807c55",
        "colab": {
          "base_uri": "https://localhost:8080/",
          "height": 357
        }
      },
      "source": [
        "words[:20]"
      ],
      "execution_count": 7,
      "outputs": [
        {
          "output_type": "execute_result",
          "data": {
            "text/plain": [
              "['bromwell',\n",
              " 'high',\n",
              " 'is',\n",
              " 'a',\n",
              " 'cartoon',\n",
              " 'comedy',\n",
              " 'it',\n",
              " 'ran',\n",
              " 'at',\n",
              " 'the',\n",
              " 'same',\n",
              " 'time',\n",
              " 'as',\n",
              " 'some',\n",
              " 'other',\n",
              " 'programs',\n",
              " 'about',\n",
              " 'school',\n",
              " 'life',\n",
              " 'such']"
            ]
          },
          "metadata": {
            "tags": []
          },
          "execution_count": 7
        }
      ]
    },
    {
      "cell_type": "markdown",
      "metadata": {
        "id": "7E0G1zu9Rz9y",
        "colab_type": "text"
      },
      "source": [
        "### Encoding reviews\n",
        "Create an array that contains integer encoded version of words in reviews. The word appearing the most should have least integer value. Example if *the* appeared the most in reviews, then assign *'the' : 1*  "
      ]
    },
    {
      "cell_type": "code",
      "metadata": {
        "id": "eAUjWgM5G-z8",
        "colab_type": "code",
        "outputId": "1a7a5595-7490-459a-9a04-62c7626afdcf",
        "colab": {
          "base_uri": "https://localhost:8080/",
          "height": 54
        }
      },
      "source": [
        "from collections import Counter\n",
        "\n",
        "counts = Counter(words)\n",
        "'''\n",
        "counts = Counter({'bromwell': 5,\n",
        "                  'high': 742,\n",
        "                  'is': 39879,\n",
        "                  'a': 60733\n",
        "                  })\n",
        "\n",
        "vocabulary_to_int = {'the': 1,\n",
        "                      'and': 2,\n",
        "                      'a': 3,\n",
        "                      'of': 4,\n",
        "                      'to': 5,\n",
        "                      'is': 6\n",
        "                    }\n",
        "'''\n",
        "vocabulary = sorted(counts, key=counts.get, reverse=True)\n",
        "vocabulary_to_int = {word:ii for ii, word in enumerate(vocabulary, 1)}\n",
        "reviews_int = []\n",
        "for reviews in reviews_split:\n",
        "  reviews_int.append([vocabulary_to_int[word] for word in reviews.split()])\n",
        "print(reviews_int[:1])\n"
      ],
      "execution_count": 8,
      "outputs": [
        {
          "output_type": "stream",
          "text": [
            "[[10402, 311, 6, 3, 1183, 201, 8, 2207, 33, 1, 168, 56, 15, 49, 85, 8223, 43, 425, 122, 142, 15, 3124, 59, 144, 9, 1, 5189, 5902, 455, 72, 5, 261, 12, 10402, 311, 13, 2002, 6, 73, 2756, 5, 696, 76, 6, 3124, 1, 19466, 5, 1691, 6862, 1, 5903, 1692, 36, 52, 68, 210, 143, 63, 1382, 3124, 14748, 1, 19467, 4, 1, 221, 759, 31, 2689, 72, 4, 1, 5904, 10, 723, 2, 63, 1692, 54, 10, 208, 1, 330, 9, 64, 3, 1565, 3893, 728, 5, 2824, 185, 1, 425, 10, 1252, 9175, 33, 311, 3, 380, 320, 5905, 10, 135, 136, 5, 9176, 30, 4, 133, 3124, 1565, 2467, 5, 10402, 311, 10, 535, 12, 113, 1828, 4, 59, 669, 103, 12, 10402, 311, 6, 226, 4074, 48, 3, 2152, 12, 8, 229, 21]]\n"
          ],
          "name": "stdout"
        }
      ]
    },
    {
      "cell_type": "markdown",
      "metadata": {
        "id": "Feb97yciQ0Pv",
        "colab_type": "text"
      },
      "source": [
        "### Encoding labels\n",
        "If review is positive, then corresponding label is 0 else 1."
      ]
    },
    {
      "cell_type": "code",
      "metadata": {
        "id": "ybMDIzm_Q9bc",
        "colab_type": "code",
        "colab": {}
      },
      "source": [
        "labels_split = labels.split('\\n')\n",
        "encoded_labels = np.array([1 if label == 'positive' else 0 for label in labels_split])\n"
      ],
      "execution_count": 0,
      "outputs": []
    },
    {
      "cell_type": "markdown",
      "metadata": {
        "id": "yGkU-3xHSSm_",
        "colab_type": "text"
      },
      "source": [
        "### Removing Outliers\n",
        "This step involves - \n",
        "1. Getting rid of extremely long/short reviews\n",
        "2. Padding/truncating reaining data to maintain constant review length.\n",
        "\n",
        "<img src=\"https://github.com/purvasingh96/Deep-learning-with-neural-networks/blob/master/Deep-learning-with-pytorch/3.%20Recurrent%20Neural%20Networks/images/outliers_padding_ex.png?raw=1\"></img>"
      ]
    },
    {
      "cell_type": "code",
      "metadata": {
        "id": "6-fkalaMSghm",
        "colab_type": "code",
        "colab": {
          "base_uri": "https://localhost:8080/",
          "height": 51
        },
        "outputId": "c9b881e8-5355-4ceb-e9c6-3ed3df75e889"
      },
      "source": [
        "# removing reviews of length 0\n",
        "print('Number of reviews before removing outliers: ', len(reviews_int))\n",
        "non_zero_idx = {ii for ii, review in enumerate(reviews_int) if len(review)!=0}\n",
        "\n",
        "reviews_int = [reviews_int[ii] for ii in non_zero_idx]\n",
        "encoded_labels = [encoded_labels[ii] for ii in encoded_labels]\n",
        "\n",
        "\n",
        "print('Number of reviews after removing outliers: ', len(reviews_int))"
      ],
      "execution_count": 16,
      "outputs": [
        {
          "output_type": "stream",
          "text": [
            "Number of reviews before removing outliers:  3956\n",
            "Number of reviews after removing outliers:  3956\n"
          ],
          "name": "stdout"
        }
      ]
    },
    {
      "cell_type": "code",
      "metadata": {
        "id": "3XQwXNAsgtm4",
        "colab_type": "code",
        "colab": {}
      },
      "source": [
        "def pad_features(reviews_int, seq_length):\n",
        "  for i, row in enumerate(reviews_int):\n",
        "    features[i, -len(row):] = np.array(row)[:seq_length]"
      ],
      "execution_count": 0,
      "outputs": []
    },
    {
      "cell_type": "markdown",
      "metadata": {
        "id": "bzbSDqDBjK5x",
        "colab_type": "text"
      },
      "source": [
        "# Training, Testing and Validating "
      ]
    },
    {
      "cell_type": "code",
      "metadata": {
        "id": "TdAY1Tf8jQWA",
        "colab_type": "code",
        "colab": {}
      },
      "source": [
        ""
      ],
      "execution_count": 0,
      "outputs": []
    }
  ]
}