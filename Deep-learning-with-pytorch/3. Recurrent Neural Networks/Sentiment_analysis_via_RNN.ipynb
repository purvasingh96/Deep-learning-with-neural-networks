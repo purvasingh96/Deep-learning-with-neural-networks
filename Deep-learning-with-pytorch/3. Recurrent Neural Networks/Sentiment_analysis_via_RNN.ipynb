{
  "nbformat": 4,
  "nbformat_minor": 0,
  "metadata": {
    "colab": {
      "name": "Untitled",
      "provenance": [],
      "authorship_tag": "ABX9TyOEkIY9UKvua0x6aG2C/xbb",
      "include_colab_link": true
    },
    "kernelspec": {
      "name": "python3",
      "display_name": "Python 3"
    },
    "accelerator": "GPU"
  },
  "cells": [
    {
      "cell_type": "markdown",
      "metadata": {
        "id": "view-in-github",
        "colab_type": "text"
      },
      "source": [
        "<a href=\"https://colab.research.google.com/github/purvasingh96/Deep-learning-with-neural-networks/blob/master/Deep-learning-with-pytorch/3.%20Recurrent%20Neural%20Networks/Sentiment_analysis_via_RNN.ipynb\" target=\"_parent\"><img src=\"https://colab.research.google.com/assets/colab-badge.svg\" alt=\"Open In Colab\"/></a>"
      ]
    },
    {
      "cell_type": "markdown",
      "metadata": {
        "id": "8lOMXlvC9EXh",
        "colab_type": "text"
      },
      "source": [
        "# Sentiment Analysis with an RNN\n",
        "In this notebook I have implemented a RNN that performs sentiment analysis. <br>\n",
        "Reason for using RNN instead of a strictly feedforward network is that we can also include information about *sequence* of words."
      ]
    },
    {
      "cell_type": "markdown",
      "metadata": {
        "id": "-XLBReg2AH9l",
        "colab_type": "text"
      },
      "source": [
        "### Network Architecture\n",
        "Below would be the architecture diagram for my sentiment analysis model - <br>\n",
        "<img src=\"https://github.com/purvasingh96/Deep-learning-with-neural-networks/blob/master/Deep-learning-with-pytorch/3.%20Recurrent%20Neural%20Networks/images/network_diagram.png?raw=1\" width=40%></img>\n",
        "\n",
        "**Notes -**\n",
        "1. Since we are performing sentiment analysis, we need a more efficient representation of words as compared to one_hot_encoded vectors. Hence, using *embeded layer for dimensionality reduction.*\n",
        "2. The new embeddings will be passed to LSTM cells. LSTM cells will add recurrent connections and add ability to *include information about sequence of words.*\n",
        "3. Final LSTM outputs will go to *Sigmoid output layer.*"
      ]
    },
    {
      "cell_type": "markdown",
      "metadata": {
        "id": "c_tzvqo4DNW-",
        "colab_type": "text"
      },
      "source": [
        "### Load in and visualize the data"
      ]
    },
    {
      "cell_type": "code",
      "metadata": {
        "id": "G5XrlKCf8DaZ",
        "colab_type": "code",
        "colab": {}
      },
      "source": [
        "import numpy as np"
      ],
      "execution_count": 0,
      "outputs": []
    },
    {
      "cell_type": "code",
      "metadata": {
        "id": "z3su6MQD_XnK",
        "colab_type": "code",
        "colab": {}
      },
      "source": [
        "with open('reviews.txt', 'r') as f:\n",
        "  reviews = f.read()\n",
        "with open('labels.txt', 'r') as f:\n",
        "  labels = f.read()"
      ],
      "execution_count": 0,
      "outputs": []
    },
    {
      "cell_type": "code",
      "metadata": {
        "id": "05qiscqd8QtP",
        "colab_type": "code",
        "outputId": "9426e8c4-ae17-4ddd-9408-7eb2c84c0d1b",
        "colab": {
          "base_uri": "https://localhost:8080/",
          "height": 258
        }
      },
      "source": [
        "print(reviews[:100])\n",
        "print(labels[:100])"
      ],
      "execution_count": 0,
      "outputs": [
        {
          "output_type": "stream",
          "text": [
            "bromwell high is a cartoon comedy . it ran at the same time as some other programs about school life\n",
            "positive\n",
            "negative\n",
            "positive\n",
            "negative\n",
            "positive\n",
            "negative\n",
            "positive\n",
            "negative\n",
            "positive\n",
            "negative\n",
            "positive\n",
            "n\n"
          ],
          "name": "stdout"
        }
      ]
    },
    {
      "cell_type": "markdown",
      "metadata": {
        "id": "544n_jGTDR1x",
        "colab_type": "text"
      },
      "source": [
        "### Data pre-processing\n",
        "1. Get rid of punctuation marks etc.\n",
        "2. Reviews are delimited by \\n. Use \\n as delimiter to split text into each reviews.\n",
        "3. Combine reviews in step-2 into 1 big string."
      ]
    },
    {
      "cell_type": "code",
      "metadata": {
        "id": "9fNcnT1q8vhd",
        "colab_type": "code",
        "colab": {}
      },
      "source": [
        "from string import punctuation\n",
        "\n",
        "# get rid of punctuation\n",
        "reviews = reviews.lower()\n",
        "all_text = ''.join([c for c in reviews if c not in punctuation])\n",
        "\n",
        "# split by new lines and space\n",
        "reviews_split = all_text.split('\\n')\n",
        "all_text = ' '.join(reviews_split)\n",
        "\n",
        "# create a list of words\n",
        "words = all_text.split()"
      ],
      "execution_count": 0,
      "outputs": []
    },
    {
      "cell_type": "code",
      "metadata": {
        "id": "aEn0oPt2Gh-u",
        "colab_type": "code",
        "outputId": "4c5823f4-01a5-4f42-cfe7-f47cbc00525d",
        "colab": {
          "base_uri": "https://localhost:8080/",
          "height": 357
        }
      },
      "source": [
        "words[:20]"
      ],
      "execution_count": 0,
      "outputs": [
        {
          "output_type": "execute_result",
          "data": {
            "text/plain": [
              "['bromwell',\n",
              " 'high',\n",
              " 'is',\n",
              " 'a',\n",
              " 'cartoon',\n",
              " 'comedy',\n",
              " 'it',\n",
              " 'ran',\n",
              " 'at',\n",
              " 'the',\n",
              " 'same',\n",
              " 'time',\n",
              " 'as',\n",
              " 'some',\n",
              " 'other',\n",
              " 'programs',\n",
              " 'about',\n",
              " 'school',\n",
              " 'life',\n",
              " 'such']"
            ]
          },
          "metadata": {
            "tags": []
          },
          "execution_count": 12
        }
      ]
    },
    {
      "cell_type": "code",
      "metadata": {
        "id": "eAUjWgM5G-z8",
        "colab_type": "code",
        "outputId": "0d5ee968-e259-45d6-95ec-a19a4ff5eb41",
        "colab": {
          "base_uri": "https://localhost:8080/",
          "height": 1000
        }
      },
      "source": [
        "from collections import Counter\n",
        "\n",
        "counts = Counter(words)\n",
        "'''\n",
        "counts = Counter({'bromwell': 5,\n",
        "                  'high': 742,\n",
        "                  'is': 39879,\n",
        "                  'a': 60733\n",
        "                  })\n",
        "\n",
        "vocabulary_to_int = {'the': 1,\n",
        "                      'and': 2,\n",
        "                      'a': 3,\n",
        "                      'of': 4,\n",
        "                      'to': 5,\n",
        "                      'is': 6\n",
        "                    }\n",
        "'''\n",
        "vocabulary = sorted(counts, key=counts.get, reverse=True)\n",
        "vocabulary_to_int = {word:ii for ii, word in enumerate(vocabulary, 1)}\n",
        "reviews_int = []\n",
        "for reviews in reviews_split:\n",
        "  reviews_int.append([vocabulary_to_int[word] for word in reviews.split()])\n",
        "reviews_int[:1]\n"
      ],
      "execution_count": 19,
      "outputs": [
        {
          "output_type": "execute_result",
          "data": {
            "text/plain": [
              "[[21025,\n",
              "  308,\n",
              "  6,\n",
              "  3,\n",
              "  1050,\n",
              "  207,\n",
              "  8,\n",
              "  2138,\n",
              "  32,\n",
              "  1,\n",
              "  171,\n",
              "  57,\n",
              "  15,\n",
              "  49,\n",
              "  81,\n",
              "  5785,\n",
              "  44,\n",
              "  382,\n",
              "  110,\n",
              "  140,\n",
              "  15,\n",
              "  5194,\n",
              "  60,\n",
              "  154,\n",
              "  9,\n",
              "  1,\n",
              "  4975,\n",
              "  5852,\n",
              "  475,\n",
              "  71,\n",
              "  5,\n",
              "  260,\n",
              "  12,\n",
              "  21025,\n",
              "  308,\n",
              "  13,\n",
              "  1978,\n",
              "  6,\n",
              "  74,\n",
              "  2395,\n",
              "  5,\n",
              "  613,\n",
              "  73,\n",
              "  6,\n",
              "  5194,\n",
              "  1,\n",
              "  24103,\n",
              "  5,\n",
              "  1983,\n",
              "  10166,\n",
              "  1,\n",
              "  5786,\n",
              "  1499,\n",
              "  36,\n",
              "  51,\n",
              "  66,\n",
              "  204,\n",
              "  145,\n",
              "  67,\n",
              "  1199,\n",
              "  5194,\n",
              "  19869,\n",
              "  1,\n",
              "  37442,\n",
              "  4,\n",
              "  1,\n",
              "  221,\n",
              "  883,\n",
              "  31,\n",
              "  2988,\n",
              "  71,\n",
              "  4,\n",
              "  1,\n",
              "  5787,\n",
              "  10,\n",
              "  686,\n",
              "  2,\n",
              "  67,\n",
              "  1499,\n",
              "  54,\n",
              "  10,\n",
              "  216,\n",
              "  1,\n",
              "  383,\n",
              "  9,\n",
              "  62,\n",
              "  3,\n",
              "  1406,\n",
              "  3686,\n",
              "  783,\n",
              "  5,\n",
              "  3483,\n",
              "  180,\n",
              "  1,\n",
              "  382,\n",
              "  10,\n",
              "  1212,\n",
              "  13583,\n",
              "  32,\n",
              "  308,\n",
              "  3,\n",
              "  349,\n",
              "  341,\n",
              "  2913,\n",
              "  10,\n",
              "  143,\n",
              "  127,\n",
              "  5,\n",
              "  7690,\n",
              "  30,\n",
              "  4,\n",
              "  129,\n",
              "  5194,\n",
              "  1406,\n",
              "  2326,\n",
              "  5,\n",
              "  21025,\n",
              "  308,\n",
              "  10,\n",
              "  528,\n",
              "  12,\n",
              "  109,\n",
              "  1448,\n",
              "  4,\n",
              "  60,\n",
              "  543,\n",
              "  102,\n",
              "  12,\n",
              "  21025,\n",
              "  308,\n",
              "  6,\n",
              "  227,\n",
              "  4146,\n",
              "  48,\n",
              "  3,\n",
              "  2211,\n",
              "  12,\n",
              "  8,\n",
              "  215,\n",
              "  23]]"
            ]
          },
          "metadata": {
            "tags": []
          },
          "execution_count": 19
        }
      ]
    },
    {
      "cell_type": "code",
      "metadata": {
        "id": "VrcUGWeBKVa6",
        "colab_type": "code",
        "colab": {}
      },
      "source": [
        "reviews_"
      ],
      "execution_count": 0,
      "outputs": []
    },
    {
      "cell_type": "code",
      "metadata": {
        "id": "04Y89qSWLEuO",
        "colab_type": "code",
        "colab": {}
      },
      "source": [
        "from google.colab import drive\n",
        "drive.mount('/content/drive')"
      ],
      "execution_count": 0,
      "outputs": []
    }
  ]
}