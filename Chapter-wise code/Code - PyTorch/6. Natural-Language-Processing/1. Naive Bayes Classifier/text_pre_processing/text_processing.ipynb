{
 "cells": [
  {
   "cell_type": "markdown",
   "metadata": {},
   "source": [
    "# Text Processing\n",
    "\n",
    "## Capturing Text Data\n",
    "\n",
    "### Plain Text"
   ]
  },
  {
   "cell_type": "code",
   "execution_count": 1,
   "metadata": {},
   "outputs": [
    {
     "name": "stdout",
     "output_type": "stream",
     "text": [
      "Hieroglyphic writing dates from c. 3000 BC, and is composed of hundreds of symbols. A hieroglyph can represent a word, a sound, or a silent determinative; and the same symbol can serve different purposes in different contexts. Hieroglyphs were a formal script, used on stone monuments and in tombs, that could be as detailed as individual works of art.\n",
      "\n"
     ]
    }
   ],
   "source": [
    "import os\n",
    "\n",
    "# Read in a plain text file\n",
    "with open(os.path.join(\"data\", \"hieroglyph.txt\"), \"r\") as f:\n",
    "    text = f.read()\n",
    "    print(text)"
   ]
  },
  {
   "cell_type": "markdown",
   "metadata": {},
   "source": [
    "### Tabular Data"
   ]
  },
  {
   "cell_type": "code",
   "execution_count": 2,
   "metadata": {
    "scrolled": true
   },
   "outputs": [
    {
     "data": {
      "text/html": [
       "<div>\n",
       "<style scoped>\n",
       "    .dataframe tbody tr th:only-of-type {\n",
       "        vertical-align: middle;\n",
       "    }\n",
       "\n",
       "    .dataframe tbody tr th {\n",
       "        vertical-align: top;\n",
       "    }\n",
       "\n",
       "    .dataframe thead th {\n",
       "        text-align: right;\n",
       "    }\n",
       "</style>\n",
       "<table border=\"1\" class=\"dataframe\">\n",
       "  <thead>\n",
       "    <tr style=\"text-align: right;\">\n",
       "      <th></th>\n",
       "      <th>publisher</th>\n",
       "      <th>title</th>\n",
       "    </tr>\n",
       "  </thead>\n",
       "  <tbody>\n",
       "    <tr>\n",
       "      <th>0</th>\n",
       "      <td>Livemint</td>\n",
       "      <td>fed's charles plosser sees high bar for change...</td>\n",
       "    </tr>\n",
       "    <tr>\n",
       "      <th>1</th>\n",
       "      <td>IFA Magazine</td>\n",
       "      <td>us open: stocks fall after fed official hints ...</td>\n",
       "    </tr>\n",
       "    <tr>\n",
       "      <th>2</th>\n",
       "      <td>IFA Magazine</td>\n",
       "      <td>fed risks falling 'behind the curve', charles ...</td>\n",
       "    </tr>\n",
       "    <tr>\n",
       "      <th>3</th>\n",
       "      <td>Moneynews</td>\n",
       "      <td>fed's plosser: nasty weather has curbed job gr...</td>\n",
       "    </tr>\n",
       "    <tr>\n",
       "      <th>4</th>\n",
       "      <td>NASDAQ</td>\n",
       "      <td>plosser: fed may have to accelerate tapering pace</td>\n",
       "    </tr>\n",
       "  </tbody>\n",
       "</table>\n",
       "</div>"
      ],
      "text/plain": [
       "      publisher                                              title\n",
       "0      Livemint  fed's charles plosser sees high bar for change...\n",
       "1  IFA Magazine  us open: stocks fall after fed official hints ...\n",
       "2  IFA Magazine  fed risks falling 'behind the curve', charles ...\n",
       "3     Moneynews  fed's plosser: nasty weather has curbed job gr...\n",
       "4        NASDAQ  plosser: fed may have to accelerate tapering pace"
      ]
     },
     "execution_count": 2,
     "metadata": {},
     "output_type": "execute_result"
    }
   ],
   "source": [
    "import pandas as pd\n",
    "\n",
    "# Extract text column from a dataframe\n",
    "df = pd.read_csv(os.path.join(\"data\", \"news.csv\"))\n",
    "df.head()[['publisher', 'title']]\n",
    "\n",
    "# Convert text column to lowercase\n",
    "df['title'] = df['title'].str.lower()\n",
    "df.head()[['publisher', 'title']]"
   ]
  },
  {
   "cell_type": "markdown",
   "metadata": {},
   "source": [
    "### Online Resource"
   ]
  },
  {
   "cell_type": "code",
   "execution_count": 3,
   "metadata": {
    "scrolled": true
   },
   "outputs": [
    {
     "name": "stdout",
     "output_type": "stream",
     "text": [
      "{\n",
      "    \"success\": {\n",
      "        \"total\": 1\n",
      "    },\n",
      "    \"contents\": {\n",
      "        \"quotes\": [\n",
      "            {\n",
      "                \"quote\": \"There's such a thin line between winning and losing.\",\n",
      "                \"length\": \"52\",\n",
      "                \"author\": \"John R. Tunis\",\n",
      "                \"tags\": {\n",
      "                    \"0\": \"inspire\",\n",
      "                    \"1\": \"losing\",\n",
      "                    \"3\": \"winning\"\n",
      "                },\n",
      "                \"category\": \"inspire\",\n",
      "                \"language\": \"en\",\n",
      "                \"date\": \"2020-07-15\",\n",
      "                \"permalink\": \"https://theysaidso.com/quote/john-r-tunis-theres-such-a-thin-line-between-winning-and-losing\",\n",
      "                \"id\": \"4idFuc8pVqrSmebcJSlRzQeF\",\n",
      "                \"background\": \"https://theysaidso.com/img/qod/qod-inspire.jpg\",\n",
      "                \"title\": \"Inspiring Quote of the day\"\n",
      "            }\n",
      "        ]\n",
      "    },\n",
      "    \"baseurl\": \"https://theysaidso.com\",\n",
      "    \"copyright\": {\n",
      "        \"year\": 2022,\n",
      "        \"url\": \"https://theysaidso.com\"\n",
      "    }\n",
      "}\n",
      "There's such a thin line between winning and losing. \n",
      "-- John R. Tunis\n"
     ]
    }
   ],
   "source": [
    "import requests\n",
    "import json\n",
    "\n",
    "# Fetch data from a REST API\n",
    "r = requests.get(\n",
    "    \"https://quotes.rest/qod.json\")\n",
    "res = r.json()\n",
    "print(json.dumps(res, indent=4))\n",
    "\n",
    "# Extract relevant object and field\n",
    "q = res[\"contents\"][\"quotes\"][0]\n",
    "print(q[\"quote\"], \"\\n--\", q[\"author\"])"
   ]
  },
  {
   "cell_type": "markdown",
   "metadata": {},
   "source": [
    "## Cleaning"
   ]
  },
  {
   "cell_type": "code",
   "execution_count": 4,
   "metadata": {
    "scrolled": true
   },
   "outputs": [
    {
     "name": "stdout",
     "output_type": "stream",
     "text": [
      "<html lang=\"en\" op=\"news\"><head><meta name=\"referrer\" content=\"origin\"><meta name=\"viewport\" content=\"width=device-width, initial-scale=1.0\"><link rel=\"stylesheet\" type=\"text/css\" href=\"news.css?lnFNgtqsY1rsDm5FtTUf\">\n",
      "        <link rel=\"shortcut icon\" href=\"favicon.ico\">\n",
      "          <link rel=\"alternate\" type=\"application/rss+xml\" title=\"RSS\" href=\"rss\">\n",
      "        <title>Hacker News</title></head><body><center><table id=\"hnmain\" border=\"0\" cellpadding=\"0\" cellspacing=\"0\" width=\"85%\" bgcolor=\"#f6f6ef\">\n",
      "        <tr><td bgcolor=\"#ff6600\"><table border=\"0\" cellpadding=\"0\" cellspacing=\"0\" width=\"100%\" style=\"padding:2px\"><tr><td style=\"width:18px;padding-right:4px\"><a href=\"https://news.ycombinator.com\"><img src=\"y18.gif\" width=\"18\" height=\"18\" style=\"border:1px white solid;\"></a></td>\n",
      "                  <td style=\"line-height:12pt; height:10px;\"><span class=\"pagetop\"><b class=\"hnname\"><a href=\"news\">Hacker News</a></b>\n",
      "              <a href=\"newest\">new</a> | <a href=\"front\">past</a> | <a href=\"newcomments\">comments</a> | <a href=\"ask\">ask</a> | <a href=\"show\">show</a> | <a href=\"jobs\">jobs</a> | <a href=\"submit\">submit</a>            </span></td><td style=\"text-align:right;padding-right:4px;\"><span class=\"pagetop\">\n",
      "                              <a href=\"login?goto=news\">login</a>\n",
      "                          </span></td>\n",
      "              </tr></table></td></tr>\n",
      "<tr id=\"pagespace\" title=\"\" style=\"height:10px\"></tr><tr><td><table border=\"0\" cellpadding=\"0\" cellspacing=\"0\" class=\"itemlist\">\n",
      "              <tr class='athing' id='23842179'>\n",
      "      <td align=\"right\" valign=\"top\" class=\"title\"><span class=\"rank\">1.</span></td>      <td valign=\"top\" class=\"votelinks\"><center><a id='up_23842179' href='vote?id=23842179&amp;how=up&amp;goto=news'><div class='votearrow' title='upvote'></div></a></center></td><td class=\"title\"><a href=\"https://element.io/blog/welcome-to-element/\" class=\"storylink\">Riot is now Element</a><span class=\"sitebit comhead\"> (<a href=\"from?site=element.io\"><span class=\"sitestr\">element.io</span></a>)</span></td></tr><tr><td colspan=\"2\"></td><td class=\"subtext\">\n",
      "        <span class=\"score\" id=\"score_23842179\">270 points</span> by <a href=\"user?id=J_tt\" class=\"hnuser\">J_tt</a> <span class=\"age\"><a href=\"item?id=23842179\">4 hours ago</a></span> <span id=\"unv_23842179\"></span> | <a href=\"hide?id=23842179&amp;goto=news\">hide</a> | <a href=\"item?id=23842179\">156&nbsp;comments</a>              </td></tr>\n",
      "      <tr class=\"spacer\" style=\"height:5px\"></tr>\n",
      "                <tr class='athing' id='23841491'>\n",
      "      <td align=\"right\" valign=\"top\" class=\"title\"><span class=\"rank\">2.</span></td>      <td valign=\"top\" class=\"votelinks\"><center><a id='up_23841491' href='vote?id=23841491&amp;how=up&amp;goto=news'><div class='votearrow' title='upvote'></div></a></center></td><td class=\"title\"><a href=\"https://blog.pragmaticengineer.com/data-structures-and-algorithms-i-actually-used-day-to-day/\" class=\"storylink\">Data Structures and Algorithms I Used Working at Tech Companies</a><span class=\"sitebit comhead\"> (<a href=\"from?site=pragmaticengineer.com\"><span class=\"sitestr\">pragmaticengineer.com</span></a>)</span></td></tr><tr><td colspan=\"2\"></td><td class=\"subtext\">\n",
      "        <span class=\"score\" id=\"score_23841491\">319 points</span> by <a href=\"user?id=signa11\" class=\"hnuser\">signa11</a> <span class=\"age\"><a href=\"item?id=23841491\">6 hours ago</a></span> <span id=\"unv_23841491\"></span> | <a href=\"hide?id=23841491&amp;goto=news\">hide</a> | <a href=\"item?id=23841491\">143&nbsp;comments</a>              </td></tr>\n",
      "      <tr class=\"spacer\" style=\"height:5px\"></tr>\n",
      "                <tr class='athing' id='23843530'>\n",
      "      <td align=\"right\" valign=\"top\" class=\"title\"><span class=\"rank\">3.</span></td>      <td valign=\"top\" class=\"votelinks\"><center><a id='up_23843530' href='vote?id=23843530&amp;how=up&amp;goto=news'><div class='votearrow' title='upvote'></div></a></center></td><td class=\"title\"><a href=\"https://sciencenorway.no/diseases-food-and-diet/can-an-extreme-low-carb-diet-be-used-as-medicine/1708291\" class=\"storylink\">Can an extreme low carb diet be used as medicine?</a><span class=\"sitebit comhead\"> (<a href=\"from?site=sciencenorway.no\"><span class=\"sitestr\">sciencenorway.no</span></a>)</span></td></tr><tr><td colspan=\"2\"></td><td class=\"subtext\">\n",
      "        <span class=\"score\" id=\"score_23843530\">16 points</span> by <a href=\"user?id=fraqed\" class=\"hnuser\">fraqed</a> <span class=\"age\"><a href=\"item?id=23843530\">41 minutes ago</a></span> <span id=\"unv_23843530\"></span> | <a href=\"hide?id=23843530&amp;goto=news\">hide</a> | <a href=\"item?id=23843530\">7&nbsp;comments</a>              </td></tr>\n",
      "      <tr class=\"spacer\" style=\"height:5px\"></tr>\n",
      "                <tr class='athing' id='23840364'>\n",
      "      <td align=\"right\" valign=\"top\" class=\"title\"><span class=\"rank\">4.</span></td>      <td valign=\"top\" class=\"votelinks\"><center><a id='up_23840364' href='vote?id=23840364&amp;how=up&amp;goto=news'><div class='votearrow' title='upvote'></div></a></center></td><td class=\"title\"><a href=\"https://www.passbolt.com\" class=\"storylink\">Passbolt: Self hostable, open source, password manager for teams</a><span class=\"sitebit comhead\"> (<a href=\"from?site=passbolt.com\"><span class=\"sitestr\">passbolt.com</span></a>)</span></td></tr><tr><td colspan=\"2\"></td><td class=\"subtext\">\n",
      "        <span class=\"score\" id=\"score_23840364\">153 points</span> by <a href=\"user?id=fosco\" class=\"hnuser\">fosco</a> <span class=\"age\"><a href=\"item?id=23840364\">9 hours ago</a></span> <span id=\"unv_23840364\"></span> | <a href=\"hide?id=23840364&amp;goto=news\">hide</a> | <a href=\"item?id=23840364\">51&nbsp;comments</a>              </td></tr>\n",
      "      <tr class=\"spacer\" style=\"height:5px\"></tr>\n",
      "                <tr class='athing' id='23837824'>\n",
      "      <td align=\"right\" valign=\"top\" class=\"title\"><span class=\"rank\">5.</span></td>      <td valign=\"top\" class=\"votelinks\"><center><a id='up_23837824' href='vote?id=23837824&amp;how=up&amp;goto=news'><div class='votearrow' title='upvote'></div></a></center></td><td class=\"title\"><a href=\"https://fcc.report/FCC-ID/2AWHPR201\" class=\"storylink\">Starlink WiFi Router FCC Approved</a><span class=\"sitebit comhead\"> (<a href=\"from?site=fcc.report\"><span class=\"sitestr\">fcc.report</span></a>)</span></td></tr><tr><td colspan=\"2\"></td><td class=\"subtext\">\n",
      "        <span class=\"score\" id=\"score_23837824\">378 points</span> by <a href=\"user?id=caiobegotti\" class=\"hnuser\">caiobegotti</a> <span class=\"age\"><a href=\"item?id=23837824\">14 hours ago</a></span> <span id=\"unv_23837824\"></span> | <a href=\"hide?id=23837824&amp;goto=news\">hide</a> | <a href=\"item?id=23837824\">277&nbsp;comments</a>              </td></tr>\n",
      "      <tr class=\"spacer\" style=\"height:5px\"></tr>\n",
      "                <tr class='athing' id='23842137'>\n",
      "      <td align=\"right\" valign=\"top\" class=\"title\"><span class=\"rank\">6.</span></td>      <td valign=\"top\" class=\"votelinks\"><center><a id='up_23842137' href='vote?id=23842137&amp;how=up&amp;goto=news'><div class='votearrow' title='upvote'></div></a></center></td><td class=\"title\"><a href=\"https://sifted.eu/articles/element-germany-deal/\" class=\"storylink\">Element wins deal to supply half a million licences for German education system</a><span class=\"sitebit comhead\"> (<a href=\"from?site=sifted.eu\"><span class=\"sitestr\">sifted.eu</span></a>)</span></td></tr><tr><td colspan=\"2\"></td><td class=\"subtext\">\n",
      "        <span class=\"score\" id=\"score_23842137\">124 points</span> by <a href=\"user?id=neiljohnson\" class=\"hnuser\">neiljohnson</a> <span class=\"age\"><a href=\"item?id=23842137\">4 hours ago</a></span> <span id=\"unv_23842137\"></span> | <a href=\"hide?id=23842137&amp;goto=news\">hide</a> | <a href=\"item?id=23842137\">24&nbsp;comments</a>              </td></tr>\n",
      "      <tr class=\"spacer\" style=\"height:5px\"></tr>\n",
      "                <tr class='athing' id='23839271'>\n",
      "      <td align=\"right\" valign=\"top\" class=\"title\"><span class=\"rank\">7.</span></td>      <td valign=\"top\" class=\"votelinks\"><center><a id='up_23839271' href='vote?id=23839271&amp;how=up&amp;goto=news'><div class='votearrow' title='upvote'></div></a></center></td><td class=\"title\"><a href=\"https://bsdimp.blogspot.com/2020/07/211bsd-original-tapes-recreation.html\" class=\"storylink\">In search of 2.11BSD, as originally released</a><span class=\"sitebit comhead\"> (<a href=\"from?site=bsdimp.blogspot.com\"><span class=\"sitestr\">bsdimp.blogspot.com</span></a>)</span></td></tr><tr><td colspan=\"2\"></td><td class=\"subtext\">\n",
      "        <span class=\"score\" id=\"score_23839271\">170 points</span> by <a href=\"user?id=fanf2\" class=\"hnuser\">fanf2</a> <span class=\"age\"><a href=\"item?id=23839271\">12 hours ago</a></span> <span id=\"unv_23839271\"></span> | <a href=\"hide?id=23839271&amp;goto=news\">hide</a> | <a href=\"item?id=23839271\">30&nbsp;comments</a>              </td></tr>\n",
      "      <tr class=\"spacer\" style=\"height:5px\"></tr>\n",
      "                <tr class='athing' id='23837838'>\n",
      "      <td align=\"right\" valign=\"top\" class=\"title\"><span class=\"rank\">8.</span></td>      <td valign=\"top\" class=\"votelinks\"><center><a id='up_23837838' href='vote?id=23837838&amp;how=up&amp;goto=news'><div class='votearrow' title='upvote'></div></a></center></td><td class=\"title\"><a href=\"https://yasoob.me/posts/understanding-and-writing-jpeg-decoder-in-python/\" class=\"storylink\">Understanding and writing a JPEG decoder in Python</a><span class=\"sitebit comhead\"> (<a href=\"from?site=yasoob.me\"><span class=\"sitestr\">yasoob.me</span></a>)</span></td></tr><tr><td colspan=\"2\"></td><td class=\"subtext\">\n",
      "        <span class=\"score\" id=\"score_23837838\">228 points</span> by <a href=\"user?id=sfpoet\" class=\"hnuser\">sfpoet</a> <span class=\"age\"><a href=\"item?id=23837838\">14 hours ago</a></span> <span id=\"unv_23837838\"></span> | <a href=\"hide?id=23837838&amp;goto=news\">hide</a> | <a href=\"item?id=23837838\">32&nbsp;comments</a>              </td></tr>\n",
      "      <tr class=\"spacer\" style=\"height:5px\"></tr>\n",
      "                <tr class='athing' id='23838124'>\n",
      "      <td align=\"right\" valign=\"top\" class=\"title\"><span class=\"rank\">9.</span></td>      <td valign=\"top\" class=\"votelinks\"><center><a id='up_23838124' href='vote?id=23838124&amp;how=up&amp;goto=news'><div class='votearrow' title='upvote'></div></a></center></td><td class=\"title\"><a href=\"https://www.sec.gov/news/press-release/2020-155\" class=\"storylink\">SEC issues $3.8M whistleblower award</a><span class=\"sitebit comhead\"> (<a href=\"from?site=sec.gov\"><span class=\"sitestr\">sec.gov</span></a>)</span></td></tr><tr><td colspan=\"2\"></td><td class=\"subtext\">\n",
      "        <span class=\"score\" id=\"score_23838124\">182 points</span> by <a href=\"user?id=chmaynard\" class=\"hnuser\">chmaynard</a> <span class=\"age\"><a href=\"item?id=23838124\">14 hours ago</a></span> <span id=\"unv_23838124\"></span> | <a href=\"hide?id=23838124&amp;goto=news\">hide</a> | <a href=\"item?id=23838124\">74&nbsp;comments</a>              </td></tr>\n",
      "      <tr class=\"spacer\" style=\"height:5px\"></tr>\n",
      "                <tr class='athing' id='23840670'>\n",
      "      <td align=\"right\" valign=\"top\" class=\"title\"><span class=\"rank\">10.</span></td>      <td valign=\"top\" class=\"votelinks\"><center><a id='up_23840670' href='vote?id=23840670&amp;how=up&amp;goto=news'><div class='votearrow' title='upvote'></div></a></center></td><td class=\"title\"><a href=\"https://www.bbc.com/news/health-53409521\" class=\"storylink\">The global fertility rate is falling</a><span class=\"sitebit comhead\"> (<a href=\"from?site=bbc.com\"><span class=\"sitestr\">bbc.com</span></a>)</span></td></tr><tr><td colspan=\"2\"></td><td class=\"subtext\">\n",
      "        <span class=\"score\" id=\"score_23840670\">313 points</span> by <a href=\"user?id=jelliclesfarm\" class=\"hnuser\">jelliclesfarm</a> <span class=\"age\"><a href=\"item?id=23840670\">8 hours ago</a></span> <span id=\"unv_23840670\"></span> | <a href=\"hide?id=23840670&amp;goto=news\">hide</a> | <a href=\"item?id=23840670\">602&nbsp;comments</a>              </td></tr>\n",
      "      <tr class=\"spacer\" style=\"height:5px\"></tr>\n",
      "                <tr class='athing' id='23831411'>\n",
      "      <td align=\"right\" valign=\"top\" class=\"title\"><span class=\"rank\">11.</span></td>      <td valign=\"top\" class=\"votelinks\"><center><a id='up_23831411' href='vote?id=23831411&amp;how=up&amp;goto=news'><div class='votearrow' title='upvote'></div></a></center></td><td class=\"title\"><a href=\"https://www.nature.com/articles/s41586-020-2448-9\" class=\"storylink\">Potential large-scale CO2 removal via enhanced rock weathering with croplands</a><span class=\"sitebit comhead\"> (<a href=\"from?site=nature.com\"><span class=\"sitestr\">nature.com</span></a>)</span></td></tr><tr><td colspan=\"2\"></td><td class=\"subtext\">\n",
      "        <span class=\"score\" id=\"score_23831411\">53 points</span> by <a href=\"user?id=simonpure\" class=\"hnuser\">simonpure</a> <span class=\"age\"><a href=\"item?id=23831411\">8 hours ago</a></span> <span id=\"unv_23831411\"></span> | <a href=\"hide?id=23831411&amp;goto=news\">hide</a> | <a href=\"item?id=23831411\">25&nbsp;comments</a>              </td></tr>\n",
      "      <tr class=\"spacer\" style=\"height:5px\"></tr>\n",
      "                <tr class='athing' id='23837341'>\n",
      "      <td align=\"right\" valign=\"top\" class=\"title\"><span class=\"rank\">12.</span></td>      <td valign=\"top\" class=\"votelinks\"><center><a id='up_23837341' href='vote?id=23837341&amp;how=up&amp;goto=news'><div class='votearrow' title='upvote'></div></a></center></td><td class=\"title\"><a href=\"https://www.theinformation.com/articles/tiktok-agreed-to-buy-more-than-800-million-in-cloud-services-from-google\" class=\"storylink\">TikTok Agreed to Buy More Than $800M in Cloud Services from Google</a><span class=\"sitebit comhead\"> (<a href=\"from?site=theinformation.com\"><span class=\"sitestr\">theinformation.com</span></a>)</span></td></tr><tr><td colspan=\"2\"></td><td class=\"subtext\">\n",
      "        <span class=\"score\" id=\"score_23837341\">268 points</span> by <a href=\"user?id=jmsflknr\" class=\"hnuser\">jmsflknr</a> <span class=\"age\"><a href=\"item?id=23837341\">15 hours ago</a></span> <span id=\"unv_23837341\"></span> | <a href=\"hide?id=23837341&amp;goto=news\">hide</a> | <a href=\"item?id=23837341\">187&nbsp;comments</a>              </td></tr>\n",
      "      <tr class=\"spacer\" style=\"height:5px\"></tr>\n",
      "                <tr class='athing' id='23833140'>\n",
      "      <td align=\"right\" valign=\"top\" class=\"title\"><span class=\"rank\">13.</span></td>      <td valign=\"top\" class=\"votelinks\"><center><a id='up_23833140' href='vote?id=23833140&amp;how=up&amp;goto=news'><div class='votearrow' title='upvote'></div></a></center></td><td class=\"title\"><a href=\"https://mobile.reuters.com/article/idUSKCN24F1T5\" class=\"storylink\">German court bans Tesla ad statements related to autonomous driving</a><span class=\"sitebit comhead\"> (<a href=\"from?site=reuters.com\"><span class=\"sitestr\">reuters.com</span></a>)</span></td></tr><tr><td colspan=\"2\"></td><td class=\"subtext\">\n",
      "        <span class=\"score\" id=\"score_23833140\">787 points</span> by <a href=\"user?id=camjohnson26\" class=\"hnuser\">camjohnson26</a> <span class=\"age\"><a href=\"item?id=23833140\">20 hours ago</a></span> <span id=\"unv_23833140\"></span> | <a href=\"hide?id=23833140&amp;goto=news\">hide</a> | <a href=\"item?id=23833140\">529&nbsp;comments</a>              </td></tr>\n",
      "      <tr class=\"spacer\" style=\"height:5px\"></tr>\n",
      "                <tr class='athing' id='23826658'>\n",
      "      <td align=\"right\" valign=\"top\" class=\"title\"><span class=\"rank\">14.</span></td>      <td valign=\"top\" class=\"votelinks\"><center><a id='up_23826658' href='vote?id=23826658&amp;how=up&amp;goto=news'><div class='votearrow' title='upvote'></div></a></center></td><td class=\"title\"><a href=\"https://arstechnica.com/science/2020/07/how-small-satellites-are-radically-remaking-space-exploration/\" class=\"storylink\">Small satellites are radically remaking space exploration</a><span class=\"sitebit comhead\"> (<a href=\"from?site=arstechnica.com\"><span class=\"sitestr\">arstechnica.com</span></a>)</span></td></tr><tr><td colspan=\"2\"></td><td class=\"subtext\">\n",
      "        <span class=\"score\" id=\"score_23826658\">74 points</span> by <a href=\"user?id=rbanffy\" class=\"hnuser\">rbanffy</a> <span class=\"age\"><a href=\"item?id=23826658\">11 hours ago</a></span> <span id=\"unv_23826658\"></span> | <a href=\"hide?id=23826658&amp;goto=news\">hide</a> | <a href=\"item?id=23826658\">10&nbsp;comments</a>              </td></tr>\n",
      "      <tr class=\"spacer\" style=\"height:5px\"></tr>\n",
      "                <tr class='athing' id='23835918'>\n",
      "      <td align=\"right\" valign=\"top\" class=\"title\"><span class=\"rank\">15.</span></td>      <td valign=\"top\" class=\"votelinks\"><center><a id='up_23835918' href='vote?id=23835918&amp;how=up&amp;goto=news'><div class='votearrow' title='upvote'></div></a></center></td><td class=\"title\"><a href=\"https://www.mrlacey.com/2020/07/youve-only-added-two-lines-why-did-that.html\" class=\"storylink\">You've only added two lines – why did that take two days?</a><span class=\"sitebit comhead\"> (<a href=\"from?site=mrlacey.com\"><span class=\"sitestr\">mrlacey.com</span></a>)</span></td></tr><tr><td colspan=\"2\"></td><td class=\"subtext\">\n",
      "        <span class=\"score\" id=\"score_23835918\">752 points</span> by <a href=\"user?id=gregdoesit\" class=\"hnuser\">gregdoesit</a> <span class=\"age\"><a href=\"item?id=23835918\">16 hours ago</a></span> <span id=\"unv_23835918\"></span> | <a href=\"hide?id=23835918&amp;goto=news\">hide</a> | <a href=\"item?id=23835918\">436&nbsp;comments</a>              </td></tr>\n",
      "      <tr class=\"spacer\" style=\"height:5px\"></tr>\n",
      "                <tr class='athing' id='23839371'>\n",
      "      <td align=\"right\" valign=\"top\" class=\"title\"><span class=\"rank\">16.</span></td>      <td valign=\"top\" class=\"votelinks\"><center><a id='up_23839371' href='vote?id=23839371&amp;how=up&amp;goto=news'><div class='votearrow' title='upvote'></div></a></center></td><td class=\"title\"><a href=\"https://www.twilio.com/blog/electric-imp-is-now-part-of-twilio\" class=\"storylink\">Twilio Acquires Electric Imp</a><span class=\"sitebit comhead\"> (<a href=\"from?site=twilio.com\"><span class=\"sitestr\">twilio.com</span></a>)</span></td></tr><tr><td colspan=\"2\"></td><td class=\"subtext\">\n",
      "        <span class=\"score\" id=\"score_23839371\">77 points</span> by <a href=\"user?id=dsalzman\" class=\"hnuser\">dsalzman</a> <span class=\"age\"><a href=\"item?id=23839371\">12 hours ago</a></span> <span id=\"unv_23839371\"></span> | <a href=\"hide?id=23839371&amp;goto=news\">hide</a> | <a href=\"item?id=23839371\">38&nbsp;comments</a>              </td></tr>\n",
      "      <tr class=\"spacer\" style=\"height:5px\"></tr>\n",
      "                <tr class='athing' id='23839212'>\n",
      "      <td align=\"right\" valign=\"top\" class=\"title\"><span class=\"rank\">17.</span></td>      <td valign=\"top\" class=\"votelinks\"><center><a id='up_23839212' href='vote?id=23839212&amp;how=up&amp;goto=news'><div class='votearrow' title='upvote'></div></a></center></td><td class=\"title\"><a href=\"https://aws.amazon.com/blogs/containers/introducing-aws-copilot/\" class=\"storylink\">AWS Copilot</a><span class=\"sitebit comhead\"> (<a href=\"from?site=amazon.com\"><span class=\"sitestr\">amazon.com</span></a>)</span></td></tr><tr><td colspan=\"2\"></td><td class=\"subtext\">\n",
      "        <span class=\"score\" id=\"score_23839212\">129 points</span> by <a href=\"user?id=bdcravens\" class=\"hnuser\">bdcravens</a> <span class=\"age\"><a href=\"item?id=23839212\">12 hours ago</a></span> <span id=\"unv_23839212\"></span> | <a href=\"hide?id=23839212&amp;goto=news\">hide</a> | <a href=\"item?id=23839212\">59&nbsp;comments</a>              </td></tr>\n",
      "      <tr class=\"spacer\" style=\"height:5px\"></tr>\n",
      "                <tr class='athing' id='23833362'>\n",
      "      <td align=\"right\" valign=\"top\" class=\"title\"><span class=\"rank\">18.</span></td>      <td valign=\"top\" class=\"votelinks\"><center><a id='up_23833362' href='vote?id=23833362&amp;how=up&amp;goto=news'><div class='votearrow' title='upvote'></div></a></center></td><td class=\"title\"><a href=\"https://www.roguelazer.com/2020/07/etcd-or-why-modern-software-makes-me-sad/\" class=\"storylink\">Etcd, or, why modern software makes me sad</a><span class=\"sitebit comhead\"> (<a href=\"from?site=roguelazer.com\"><span class=\"sitestr\">roguelazer.com</span></a>)</span></td></tr><tr><td colspan=\"2\"></td><td class=\"subtext\">\n",
      "        <span class=\"score\" id=\"score_23833362\">1102 points</span> by <a href=\"user?id=Spellman\" class=\"hnuser\">Spellman</a> <span class=\"age\"><a href=\"item?id=23833362\">19 hours ago</a></span> <span id=\"unv_23833362\"></span> | <a href=\"hide?id=23833362&amp;goto=news\">hide</a> | <a href=\"item?id=23833362\">563&nbsp;comments</a>              </td></tr>\n",
      "      <tr class=\"spacer\" style=\"height:5px\"></tr>\n",
      "                <tr class='athing' id='23841409'>\n",
      "      <td align=\"right\" valign=\"top\" class=\"title\"><span class=\"rank\">19.</span></td>      <td valign=\"top\" class=\"votelinks\"><center><a id='up_23841409' href='vote?id=23841409&amp;how=up&amp;goto=news'><div class='votearrow' title='upvote'></div></a></center></td><td class=\"title\"><a href=\"https://www.mcvuk.com/business-news/new-eu-regulation-strengthens-hand-of-developers-and-publishers-in-dealings-with-storefronts/\" class=\"storylink\">New EU regulation strengthens hand of developers in dealings with storefronts</a><span class=\"sitebit comhead\"> (<a href=\"from?site=mcvuk.com\"><span class=\"sitestr\">mcvuk.com</span></a>)</span></td></tr><tr><td colspan=\"2\"></td><td class=\"subtext\">\n",
      "        <span class=\"score\" id=\"score_23841409\">88 points</span> by <a href=\"user?id=nikki93\" class=\"hnuser\">nikki93</a> <span class=\"age\"><a href=\"item?id=23841409\">6 hours ago</a></span> <span id=\"unv_23841409\"></span> | <a href=\"hide?id=23841409&amp;goto=news\">hide</a> | <a href=\"item?id=23841409\">33&nbsp;comments</a>              </td></tr>\n",
      "      <tr class=\"spacer\" style=\"height:5px\"></tr>\n",
      "                <tr class='athing' id='23839407'>\n",
      "      <td align=\"right\" valign=\"top\" class=\"title\"><span class=\"rank\">20.</span></td>      <td valign=\"top\" class=\"votelinks\"><center><a id='up_23839407' href='vote?id=23839407&amp;how=up&amp;goto=news'><div class='votearrow' title='upvote'></div></a></center></td><td class=\"title\"><a href=\"https://syncedreview.com/2020/07/14/facebook-cmu-introduce-tabert-for-understanding-tabular-data-queries/\" class=\"storylink\">Facebook and CMU Introduce TaBERT for Understanding Tabular Data Queries</a><span class=\"sitebit comhead\"> (<a href=\"from?site=syncedreview.com\"><span class=\"sitestr\">syncedreview.com</span></a>)</span></td></tr><tr><td colspan=\"2\"></td><td class=\"subtext\">\n",
      "        <span class=\"score\" id=\"score_23839407\">67 points</span> by <a href=\"user?id=Yuqing7\" class=\"hnuser\">Yuqing7</a> <span class=\"age\"><a href=\"item?id=23839407\">12 hours ago</a></span> <span id=\"unv_23839407\"></span> | <a href=\"hide?id=23839407&amp;goto=news\">hide</a> | <a href=\"item?id=23839407\">1&nbsp;comment</a>              </td></tr>\n",
      "      <tr class=\"spacer\" style=\"height:5px\"></tr>\n",
      "                <tr class='athing' id='23841049'>\n",
      "      <td align=\"right\" valign=\"top\" class=\"title\"><span class=\"rank\">21.</span></td>      <td valign=\"top\" class=\"votelinks\"><center><a id='up_23841049' href='vote?id=23841049&amp;how=up&amp;goto=news'><div class='votearrow' title='upvote'></div></a></center></td><td class=\"title\"><a href=\"https://blog.sentry.io/2020/02/12/how-we-grew-sentrys-monthly-active-users-by-rethinking-invitations\" class=\"storylink\">How we grew Sentry's monthly active users by rethinking invitations</a><span class=\"sitebit comhead\"> (<a href=\"from?site=sentry.io\"><span class=\"sitestr\">sentry.io</span></a>)</span></td></tr><tr><td colspan=\"2\"></td><td class=\"subtext\">\n",
      "        <span class=\"score\" id=\"score_23841049\">61 points</span> by <a href=\"user?id=bentlegen\" class=\"hnuser\">bentlegen</a> <span class=\"age\"><a href=\"item?id=23841049\">7 hours ago</a></span> <span id=\"unv_23841049\"></span> | <a href=\"hide?id=23841049&amp;goto=news\">hide</a> | <a href=\"item?id=23841049\">2&nbsp;comments</a>              </td></tr>\n",
      "      <tr class=\"spacer\" style=\"height:5px\"></tr>\n",
      "                <tr class='athing' id='23837251'>\n",
      "      <td align=\"right\" valign=\"top\" class=\"title\"><span class=\"rank\">22.</span></td>      <td valign=\"top\" class=\"votelinks\"><center><a id='up_23837251' href='vote?id=23837251&amp;how=up&amp;goto=news'><div class='votearrow' title='upvote'></div></a></center></td><td class=\"title\"><a href=\"https://lwn.net/ml/python-ideas/CAP7+vJKsrT-n4rHjaR4PYPRq09JOZcoR54ZjkboOkZcYhB+7oA@mail.gmail.com/\" class=\"storylink\">Bringing the print statement back</a><span class=\"sitebit comhead\"> (<a href=\"from?site=lwn.net\"><span class=\"sitestr\">lwn.net</span></a>)</span></td></tr><tr><td colspan=\"2\"></td><td class=\"subtext\">\n",
      "        <span class=\"score\" id=\"score_23837251\">140 points</span> by <a href=\"user?id=Myrmornis\" class=\"hnuser\">Myrmornis</a> <span class=\"age\"><a href=\"item?id=23837251\">15 hours ago</a></span> <span id=\"unv_23837251\"></span> | <a href=\"hide?id=23837251&amp;goto=news\">hide</a> | <a href=\"item?id=23837251\">105&nbsp;comments</a>              </td></tr>\n",
      "      <tr class=\"spacer\" style=\"height:5px\"></tr>\n",
      "                <tr class='athing' id='23830474'>\n",
      "      <td align=\"right\" valign=\"top\" class=\"title\"><span class=\"rank\">23.</span></td>      <td valign=\"top\" class=\"votelinks\"><center><a id='up_23830474' href='vote?id=23830474&amp;how=up&amp;goto=news'><div class='votearrow' title='upvote'></div></a></center></td><td class=\"title\"><a href=\"https://aito.ai/blog/could-predictive-database-queries-replace-machine-learning-models\" class=\"storylink\">Could predictive database queries replace machine learning models?</a><span class=\"sitebit comhead\"> (<a href=\"from?site=aito.ai\"><span class=\"sitestr\">aito.ai</span></a>)</span></td></tr><tr><td colspan=\"2\"></td><td class=\"subtext\">\n",
      "        <span class=\"score\" id=\"score_23830474\">74 points</span> by <a href=\"user?id=tlarkworthy\" class=\"hnuser\">tlarkworthy</a> <span class=\"age\"><a href=\"item?id=23830474\">13 hours ago</a></span> <span id=\"unv_23830474\"></span> | <a href=\"hide?id=23830474&amp;goto=news\">hide</a> | <a href=\"item?id=23830474\">37&nbsp;comments</a>              </td></tr>\n",
      "      <tr class=\"spacer\" style=\"height:5px\"></tr>\n",
      "                <tr class='athing' id='23840243'>\n",
      "      <td align=\"right\" valign=\"top\" class=\"title\"><span class=\"rank\">24.</span></td>      <td valign=\"top\" class=\"votelinks\"><center><a id='up_23840243' href='vote?id=23840243&amp;how=up&amp;goto=news'><div class='votearrow' title='upvote'></div></a></center></td><td class=\"title\"><a href=\"https://groups.google.com/forum/#!topic/golang-nuts/7t-Q2vt60J8\" class=\"storylink\">Go generics may use square brackets [] not parenthesis ()</a><span class=\"sitebit comhead\"> (<a href=\"from?site=groups.google.com\"><span class=\"sitestr\">groups.google.com</span></a>)</span></td></tr><tr><td colspan=\"2\"></td><td class=\"subtext\">\n",
      "        <span class=\"score\" id=\"score_23840243\">131 points</span> by <a href=\"user?id=psxuaw\" class=\"hnuser\">psxuaw</a> <span class=\"age\"><a href=\"item?id=23840243\">10 hours ago</a></span> <span id=\"unv_23840243\"></span> | <a href=\"hide?id=23840243&amp;goto=news\">hide</a> | <a href=\"item?id=23840243\">199&nbsp;comments</a>              </td></tr>\n",
      "      <tr class=\"spacer\" style=\"height:5px\"></tr>\n",
      "                <tr class='athing' id='23838264'>\n",
      "      <td align=\"right\" valign=\"top\" class=\"title\"><span class=\"rank\">25.</span></td>      <td valign=\"top\" class=\"votelinks\"><center><a id='up_23838264' href='vote?id=23838264&amp;how=up&amp;goto=news'><div class='votearrow' title='upvote'></div></a></center></td><td class=\"title\"><a href=\"https://github.com/opensatelliteproject\" class=\"storylink\">Open Satellite Project: The Open Source Satellite Project</a><span class=\"sitebit comhead\"> (<a href=\"from?site=github.com\"><span class=\"sitestr\">github.com</span></a>)</span></td></tr><tr><td colspan=\"2\"></td><td class=\"subtext\">\n",
      "        <span class=\"score\" id=\"score_23838264\">76 points</span> by <a href=\"user?id=peter_d_sherman\" class=\"hnuser\">peter_d_sherman</a> <span class=\"age\"><a href=\"item?id=23838264\">14 hours ago</a></span> <span id=\"unv_23838264\"></span> | <a href=\"hide?id=23838264&amp;goto=news\">hide</a> | <a href=\"item?id=23838264\">8&nbsp;comments</a>              </td></tr>\n",
      "      <tr class=\"spacer\" style=\"height:5px\"></tr>\n",
      "                <tr class='athing' id='23830881'>\n",
      "      <td align=\"right\" valign=\"top\" class=\"title\"><span class=\"rank\">26.</span></td>      <td valign=\"top\" class=\"votelinks\"><center><a id='up_23830881' href='vote?id=23830881&amp;how=up&amp;goto=news'><div class='votearrow' title='upvote'></div></a></center></td><td class=\"title\"><a href=\"https://blog.loadzero.com/blog/chopper258/\" class=\"storylink\">Chopper Commando Revisited</a><span class=\"sitebit comhead\"> (<a href=\"from?site=loadzero.com\"><span class=\"sitestr\">loadzero.com</span></a>)</span></td></tr><tr><td colspan=\"2\"></td><td class=\"subtext\">\n",
      "        <span class=\"score\" id=\"score_23830881\">36 points</span> by <a href=\"user?id=loadzero\" class=\"hnuser\">loadzero</a> <span class=\"age\"><a href=\"item?id=23830881\">7 hours ago</a></span> <span id=\"unv_23830881\"></span> | <a href=\"hide?id=23830881&amp;goto=news\">hide</a> | <a href=\"item?id=23830881\">16&nbsp;comments</a>              </td></tr>\n",
      "      <tr class=\"spacer\" style=\"height:5px\"></tr>\n",
      "                <tr class='athing' id='23830246'>\n",
      "      <td align=\"right\" valign=\"top\" class=\"title\"><span class=\"rank\">27.</span></td>      <td valign=\"top\" class=\"votelinks\"><center><a id='up_23830246' href='vote?id=23830246&amp;how=up&amp;goto=news'><div class='votearrow' title='upvote'></div></a></center></td><td class=\"title\"><a href=\"https://phys.org/news/2020-07-special-filters-glasses.html\" class=\"storylink\">Special filters in glasses can help the color blind see colors better</a><span class=\"sitebit comhead\"> (<a href=\"from?site=phys.org\"><span class=\"sitestr\">phys.org</span></a>)</span></td></tr><tr><td colspan=\"2\"></td><td class=\"subtext\">\n",
      "        <span class=\"score\" id=\"score_23830246\">30 points</span> by <a href=\"user?id=pseudolus\" class=\"hnuser\">pseudolus</a> <span class=\"age\"><a href=\"item?id=23830246\">8 hours ago</a></span> <span id=\"unv_23830246\"></span> | <a href=\"hide?id=23830246&amp;goto=news\">hide</a> | <a href=\"item?id=23830246\">26&nbsp;comments</a>              </td></tr>\n",
      "      <tr class=\"spacer\" style=\"height:5px\"></tr>\n",
      "                <tr class='athing' id='23833441'>\n",
      "      <td align=\"right\" valign=\"top\" class=\"title\"><span class=\"rank\">28.</span></td>      <td valign=\"top\" class=\"votelinks\"><center><a id='up_23833441' href='vote?id=23833441&amp;how=up&amp;goto=news'><div class='votearrow' title='upvote'></div></a></center></td><td class=\"title\"><a href=\"item?id=23833441\" class=\"storylink\">Launch HN: Openbase (YC S20) – reviews and insights for open-source packages</a></td></tr><tr><td colspan=\"2\"></td><td class=\"subtext\">\n",
      "        <span class=\"score\" id=\"score_23833441\">131 points</span> by <a href=\"user?id=liorgrossman\" class=\"hnuser\">liorgrossman</a> <span class=\"age\"><a href=\"item?id=23833441\">19 hours ago</a></span> <span id=\"unv_23833441\"></span> | <a href=\"hide?id=23833441&amp;goto=news\">hide</a> | <a href=\"item?id=23833441\">69&nbsp;comments</a>              </td></tr>\n",
      "      <tr class=\"spacer\" style=\"height:5px\"></tr>\n",
      "                <tr class='athing' id='23834153'>\n",
      "      <td align=\"right\" valign=\"top\" class=\"title\"><span class=\"rank\">29.</span></td>      <td valign=\"top\" class=\"votelinks\"><center><a id='up_23834153' href='vote?id=23834153&amp;how=up&amp;goto=news'><div class='votearrow' title='upvote'></div></a></center></td><td class=\"title\"><a href=\"https://jordanlewis.org/posts/twitch-live-coding/\" class=\"storylink\">How to Run a Live Coding Stream on Twitch Using OBS</a><span class=\"sitebit comhead\"> (<a href=\"from?site=jordanlewis.org\"><span class=\"sitestr\">jordanlewis.org</span></a>)</span></td></tr><tr><td colspan=\"2\"></td><td class=\"subtext\">\n",
      "        <span class=\"score\" id=\"score_23834153\">442 points</span> by <a href=\"user?id=jordanlewis\" class=\"hnuser\">jordanlewis</a> <span class=\"age\"><a href=\"item?id=23834153\">19 hours ago</a></span> <span id=\"unv_23834153\"></span> | <a href=\"hide?id=23834153&amp;goto=news\">hide</a> | <a href=\"item?id=23834153\">166&nbsp;comments</a>              </td></tr>\n",
      "      <tr class=\"spacer\" style=\"height:5px\"></tr>\n",
      "                <tr class='athing' id='23842575'>\n",
      "      <td align=\"right\" valign=\"top\" class=\"title\"><span class=\"rank\">30.</span></td>      <td valign=\"top\" class=\"votelinks\"><center><a id='up_23842575' href='vote?id=23842575&amp;how=up&amp;goto=news'><div class='votearrow' title='upvote'></div></a></center></td><td class=\"title\"><a href=\"item?id=23842575\" class=\"storylink\">Ask HN: How to nab and block a creepy user?</a></td></tr><tr><td colspan=\"2\"></td><td class=\"subtext\">\n",
      "        <span class=\"score\" id=\"score_23842575\">24 points</span> by <a href=\"user?id=desaiguddu\" class=\"hnuser\">desaiguddu</a> <span class=\"age\"><a href=\"item?id=23842575\">3 hours ago</a></span> <span id=\"unv_23842575\"></span> | <a href=\"hide?id=23842575&amp;goto=news\">hide</a> | <a href=\"item?id=23842575\">30&nbsp;comments</a>              </td></tr>\n",
      "      <tr class=\"spacer\" style=\"height:5px\"></tr>\n",
      "            <tr class=\"morespace\" style=\"height:10px\"></tr><tr><td colspan=\"2\"></td><td class=\"title\"><a href=\"news?p=2\" class=\"morelink\" rel=\"next\">More</a></td></tr>\n",
      "  </table>\n",
      "</td></tr>\n",
      "<tr><td><img src=\"s.gif\" height=\"10\" width=\"0\"><table width=\"100%\" cellspacing=\"0\" cellpadding=\"1\"><tr><td bgcolor=\"#ff6600\"></td></tr></table><br><center><span class=\"yclinks\"><a href=\"newsguidelines.html\">Guidelines</a>\n",
      "        | <a href=\"newsfaq.html\">FAQ</a>\n",
      "        | <a href=\"mailto:hn@ycombinator.com\">Support</a>\n",
      "        | <a href=\"https://github.com/HackerNews/API\">API</a>\n",
      "        | <a href=\"security.html\">Security</a>\n",
      "        | <a href=\"lists\">Lists</a>\n",
      "        | <a href=\"bookmarklet.html\" rel=\"nofollow\">Bookmarklet</a>\n",
      "        | <a href=\"http://www.ycombinator.com/legal/\">Legal</a>\n",
      "        | <a href=\"http://www.ycombinator.com/apply/\">Apply to YC</a>\n",
      "        | <a href=\"mailto:hn@ycombinator.com\">Contact</a></span><br><br><form method=\"get\" action=\"//hn.algolia.com/\">Search:\n",
      "          <input type=\"text\" name=\"q\" value=\"\" size=\"17\" autocorrect=\"off\" spellcheck=\"false\" autocapitalize=\"off\" autocomplete=\"false\"></form>\n",
      "            </center></td></tr>\n",
      "      </table></center></body><script type='text/javascript' src='hn.js?lnFNgtqsY1rsDm5FtTUf'></script></html>\n",
      "\n"
     ]
    }
   ],
   "source": [
    "import requests\n",
    "\n",
    "# Fetch a web page\n",
    "r = requests.get(\"https://news.ycombinator.com\")\n",
    "print(r.text)"
   ]
  },
  {
   "cell_type": "code",
   "execution_count": 5,
   "metadata": {},
   "outputs": [
    {
     "name": "stdout",
     "output_type": "stream",
     "text": [
      "\n",
      "        \n",
      "          \n",
      "        Hacker News\n",
      "        \n",
      "                  Hacker News\n",
      "              new | past | comments | ask | show | jobs | submit            \n",
      "                              login\n",
      "                          \n",
      "              \n",
      "\n",
      "              \n",
      "      1.      Riot is now Element (element.io)\n",
      "        270 points by J_tt 4 hours ago  | hide | 156&nbsp;comments              \n",
      "      \n",
      "                \n",
      "      2.      Data Structures and Algorithms I Used Working at Tech Companies (pragmaticengineer.com)\n",
      "        319 points by signa11 6 hours ago  | hide | 143&nbsp;comments              \n",
      "      \n",
      "                \n",
      "      3.      Can an extreme low carb diet be used as medicine? (sciencenorway.no)\n",
      "        16 points by fraqed 41 minutes ago  | hide | 7&nbsp;comments              \n",
      "      \n",
      "                \n",
      "      4.      Passbolt: Self hostable, open source, password manager for teams (passbolt.com)\n",
      "        153 points by fosco 9 hours ago  | hide | 51&nbsp;comments              \n",
      "      \n",
      "                \n",
      "      5.      Starlink WiFi Router FCC Approved (fcc.report)\n",
      "        378 points by caiobegotti 14 hours ago  | hide | 277&nbsp;comments              \n",
      "      \n",
      "                \n",
      "      6.      Element wins deal to supply half a million licences for German education system (sifted.eu)\n",
      "        124 points by neiljohnson 4 hours ago  | hide | 24&nbsp;comments              \n",
      "      \n",
      "                \n",
      "      7.      In search of 2.11BSD, as originally released (bsdimp.blogspot.com)\n",
      "        170 points by fanf2 12 hours ago  | hide | 30&nbsp;comments              \n",
      "      \n",
      "                \n",
      "      8.      Understanding and writing a JPEG decoder in Python (yasoob.me)\n",
      "        228 points by sfpoet 14 hours ago  | hide | 32&nbsp;comments              \n",
      "      \n",
      "                \n",
      "      9.      SEC issues $3.8M whistleblower award (sec.gov)\n",
      "        182 points by chmaynard 14 hours ago  | hide | 74&nbsp;comments              \n",
      "      \n",
      "                \n",
      "      10.      The global fertility rate is falling (bbc.com)\n",
      "        313 points by jelliclesfarm 8 hours ago  | hide | 602&nbsp;comments              \n",
      "      \n",
      "                \n",
      "      11.      Potential large-scale CO2 removal via enhanced rock weathering with croplands (nature.com)\n",
      "        53 points by simonpure 8 hours ago  | hide | 25&nbsp;comments              \n",
      "      \n",
      "                \n",
      "      12.      TikTok Agreed to Buy More Than $800M in Cloud Services from Google (theinformation.com)\n",
      "        268 points by jmsflknr 15 hours ago  | hide | 187&nbsp;comments              \n",
      "      \n",
      "                \n",
      "      13.      German court bans Tesla ad statements related to autonomous driving (reuters.com)\n",
      "        787 points by camjohnson26 20 hours ago  | hide | 529&nbsp;comments              \n",
      "      \n",
      "                \n",
      "      14.      Small satellites are radically remaking space exploration (arstechnica.com)\n",
      "        74 points by rbanffy 11 hours ago  | hide | 10&nbsp;comments              \n",
      "      \n",
      "                \n",
      "      15.      You've only added two lines – why did that take two days? (mrlacey.com)\n",
      "        752 points by gregdoesit 16 hours ago  | hide | 436&nbsp;comments              \n",
      "      \n",
      "                \n",
      "      16.      Twilio Acquires Electric Imp (twilio.com)\n",
      "        77 points by dsalzman 12 hours ago  | hide | 38&nbsp;comments              \n",
      "      \n",
      "                \n",
      "      17.      AWS Copilot (amazon.com)\n",
      "        129 points by bdcravens 12 hours ago  | hide | 59&nbsp;comments              \n",
      "      \n",
      "                \n",
      "      18.      Etcd, or, why modern software makes me sad (roguelazer.com)\n",
      "        1102 points by Spellman 19 hours ago  | hide | 563&nbsp;comments              \n",
      "      \n",
      "                \n",
      "      19.      New EU regulation strengthens hand of developers in dealings with storefronts (mcvuk.com)\n",
      "        88 points by nikki93 6 hours ago  | hide | 33&nbsp;comments              \n",
      "      \n",
      "                \n",
      "      20.      Facebook and CMU Introduce TaBERT for Understanding Tabular Data Queries (syncedreview.com)\n",
      "        67 points by Yuqing7 12 hours ago  | hide | 1&nbsp;comment              \n",
      "      \n",
      "                \n",
      "      21.      How we grew Sentry's monthly active users by rethinking invitations (sentry.io)\n",
      "        61 points by bentlegen 7 hours ago  | hide | 2&nbsp;comments              \n",
      "      \n",
      "                \n",
      "      22.      Bringing the print statement back (lwn.net)\n",
      "        140 points by Myrmornis 15 hours ago  | hide | 105&nbsp;comments              \n",
      "      \n",
      "                \n",
      "      23.      Could predictive database queries replace machine learning models? (aito.ai)\n",
      "        74 points by tlarkworthy 13 hours ago  | hide | 37&nbsp;comments              \n",
      "      \n",
      "                \n",
      "      24.      Go generics may use square brackets [] not parenthesis () (groups.google.com)\n",
      "        131 points by psxuaw 10 hours ago  | hide | 199&nbsp;comments              \n",
      "      \n",
      "                \n",
      "      25.      Open Satellite Project: The Open Source Satellite Project (github.com)\n",
      "        76 points by peter_d_sherman 14 hours ago  | hide | 8&nbsp;comments              \n",
      "      \n",
      "                \n",
      "      26.      Chopper Commando Revisited (loadzero.com)\n",
      "        36 points by loadzero 7 hours ago  | hide | 16&nbsp;comments              \n",
      "      \n",
      "                \n",
      "      27.      Special filters in glasses can help the color blind see colors better (phys.org)\n",
      "        30 points by pseudolus 8 hours ago  | hide | 26&nbsp;comments              \n",
      "      \n",
      "                \n",
      "      28.      Launch HN: Openbase (YC S20) – reviews and insights for open-source packages\n",
      "        131 points by liorgrossman 19 hours ago  | hide | 69&nbsp;comments              \n",
      "      \n",
      "                \n",
      "      29.      How to Run a Live Coding Stream on Twitch Using OBS (jordanlewis.org)\n",
      "        442 points by jordanlewis 19 hours ago  | hide | 166&nbsp;comments              \n",
      "      \n",
      "                \n",
      "      30.      Ask HN: How to nab and block a creepy user?\n",
      "        24 points by desaiguddu 3 hours ago  | hide | 30&nbsp;comments              \n",
      "      \n",
      "            More\n",
      "  \n",
      "\n",
      "Guidelines\n",
      "        | FAQ\n",
      "        | Support\n",
      "        | API\n",
      "        | Security\n",
      "        | Lists\n",
      "        | Bookmarklet\n",
      "        | Legal\n",
      "        | Apply to YC\n",
      "        | ContactSearch:\n",
      "          \n",
      "            \n",
      "      \n",
      "\n"
     ]
    }
   ],
   "source": [
    "import re\n",
    "\n",
    "# Remove HTML tags using RegEx\n",
    "pattern = re.compile(r'<.*?>')  # tags look like <...>\n",
    "print(pattern.sub('', r.text))  # replace them with blank"
   ]
  },
  {
   "cell_type": "code",
   "execution_count": 6,
   "metadata": {},
   "outputs": [
    {
     "name": "stdout",
     "output_type": "stream",
     "text": [
      "\n",
      "        \n",
      "          \n",
      "        Hacker News\n",
      "        \n",
      "                  Hacker News\n",
      "              new | past | comments | ask | show | jobs | submit            \n",
      "                              login\n",
      "                          \n",
      "              \n",
      "\n",
      "              \n",
      "      1.      Riot is now Element (element.io)\n",
      "        270 points by J_tt 4 hours ago  | hide | 156 comments              \n",
      "      \n",
      "                \n",
      "      2.      Data Structures and Algorithms I Used Working at Tech Companies (pragmaticengineer.com)\n",
      "        319 points by signa11 6 hours ago  | hide | 143 comments              \n",
      "      \n",
      "                \n",
      "      3.      Can an extreme low carb diet be used as medicine? (sciencenorway.no)\n",
      "        16 points by fraqed 41 minutes ago  | hide | 7 comments              \n",
      "      \n",
      "                \n",
      "      4.      Passbolt: Self hostable, open source, password manager for teams (passbolt.com)\n",
      "        153 points by fosco 9 hours ago  | hide | 51 comments              \n",
      "      \n",
      "                \n",
      "      5.      Starlink WiFi Router FCC Approved (fcc.report)\n",
      "        378 points by caiobegotti 14 hours ago  | hide | 277 comments              \n",
      "      \n",
      "                \n",
      "      6.      Element wins deal to supply half a million licences for German education system (sifted.eu)\n",
      "        124 points by neiljohnson 4 hours ago  | hide | 24 comments              \n",
      "      \n",
      "                \n",
      "      7.      In search of 2.11BSD, as originally released (bsdimp.blogspot.com)\n",
      "        170 points by fanf2 12 hours ago  | hide | 30 comments              \n",
      "      \n",
      "                \n",
      "      8.      Understanding and writing a JPEG decoder in Python (yasoob.me)\n",
      "        228 points by sfpoet 14 hours ago  | hide | 32 comments              \n",
      "      \n",
      "                \n",
      "      9.      SEC issues $3.8M whistleblower award (sec.gov)\n",
      "        182 points by chmaynard 14 hours ago  | hide | 74 comments              \n",
      "      \n",
      "                \n",
      "      10.      The global fertility rate is falling (bbc.com)\n",
      "        313 points by jelliclesfarm 8 hours ago  | hide | 602 comments              \n",
      "      \n",
      "                \n",
      "      11.      Potential large-scale CO2 removal via enhanced rock weathering with croplands (nature.com)\n",
      "        53 points by simonpure 8 hours ago  | hide | 25 comments              \n",
      "      \n",
      "                \n",
      "      12.      TikTok Agreed to Buy More Than $800M in Cloud Services from Google (theinformation.com)\n",
      "        268 points by jmsflknr 15 hours ago  | hide | 187 comments              \n",
      "      \n",
      "                \n",
      "      13.      German court bans Tesla ad statements related to autonomous driving (reuters.com)\n",
      "        787 points by camjohnson26 20 hours ago  | hide | 529 comments              \n",
      "      \n",
      "                \n",
      "      14.      Small satellites are radically remaking space exploration (arstechnica.com)\n",
      "        74 points by rbanffy 11 hours ago  | hide | 10 comments              \n",
      "      \n",
      "                \n",
      "      15.      You've only added two lines – why did that take two days? (mrlacey.com)\n",
      "        752 points by gregdoesit 16 hours ago  | hide | 436 comments              \n",
      "      \n",
      "                \n",
      "      16.      Twilio Acquires Electric Imp (twilio.com)\n",
      "        77 points by dsalzman 12 hours ago  | hide | 38 comments              \n",
      "      \n",
      "                \n",
      "      17.      AWS Copilot (amazon.com)\n",
      "        129 points by bdcravens 12 hours ago  | hide | 59 comments              \n",
      "      \n",
      "                \n",
      "      18.      Etcd, or, why modern software makes me sad (roguelazer.com)\n",
      "        1102 points by Spellman 19 hours ago  | hide | 563 comments              \n",
      "      \n",
      "                \n",
      "      19.      New EU regulation strengthens hand of developers in dealings with storefronts (mcvuk.com)\n",
      "        88 points by nikki93 6 hours ago  | hide | 33 comments              \n",
      "      \n",
      "                \n",
      "      20.      Facebook and CMU Introduce TaBERT for Understanding Tabular Data Queries (syncedreview.com)\n",
      "        67 points by Yuqing7 12 hours ago  | hide | 1 comment              \n",
      "      \n",
      "                \n",
      "      21.      How we grew Sentry's monthly active users by rethinking invitations (sentry.io)\n",
      "        61 points by bentlegen 7 hours ago  | hide | 2 comments              \n",
      "      \n",
      "                \n",
      "      22.      Bringing the print statement back (lwn.net)\n",
      "        140 points by Myrmornis 15 hours ago  | hide | 105 comments              \n",
      "      \n",
      "                \n",
      "      23.      Could predictive database queries replace machine learning models? (aito.ai)\n",
      "        74 points by tlarkworthy 13 hours ago  | hide | 37 comments              \n",
      "      \n",
      "                \n",
      "      24.      Go generics may use square brackets [] not parenthesis () (groups.google.com)\n",
      "        131 points by psxuaw 10 hours ago  | hide | 199 comments              \n",
      "      \n",
      "                \n",
      "      25.      Open Satellite Project: The Open Source Satellite Project (github.com)\n",
      "        76 points by peter_d_sherman 14 hours ago  | hide | 8 comments              \n",
      "      \n",
      "                \n",
      "      26.      Chopper Commando Revisited (loadzero.com)\n",
      "        36 points by loadzero 7 hours ago  | hide | 16 comments              \n",
      "      \n",
      "                \n",
      "      27.      Special filters in glasses can help the color blind see colors better (phys.org)\n",
      "        30 points by pseudolus 8 hours ago  | hide | 26 comments              \n",
      "      \n",
      "                \n",
      "      28.      Launch HN: Openbase (YC S20) – reviews and insights for open-source packages\n",
      "        131 points by liorgrossman 19 hours ago  | hide | 69 comments              \n",
      "      \n",
      "                \n",
      "      29.      How to Run a Live Coding Stream on Twitch Using OBS (jordanlewis.org)\n",
      "        442 points by jordanlewis 19 hours ago  | hide | 166 comments              \n",
      "      \n",
      "                \n",
      "      30.      Ask HN: How to nab and block a creepy user?\n",
      "        24 points by desaiguddu 3 hours ago  | hide | 30 comments              \n",
      "      \n",
      "            More\n",
      "  \n",
      "\n",
      "Guidelines\n",
      "        | FAQ\n",
      "        | Support\n",
      "        | API\n",
      "        | Security\n",
      "        | Lists\n",
      "        | Bookmarklet\n",
      "        | Legal\n",
      "        | Apply to YC\n",
      "        | ContactSearch:\n",
      "          \n",
      "            \n",
      "      \n",
      "\n"
     ]
    }
   ],
   "source": [
    "from bs4 import BeautifulSoup\n",
    "\n",
    "# Remove HTML tags using Beautiful Soup library\n",
    "soup = BeautifulSoup(r.text, \"html5lib\")\n",
    "print(soup.get_text())"
   ]
  },
  {
   "cell_type": "code",
   "execution_count": 7,
   "metadata": {
    "scrolled": true
   },
   "outputs": [
    {
     "data": {
      "text/plain": [
       "<tr class=\"athing\" id=\"23842179\">\n",
       "      <td align=\"right\" class=\"title\" valign=\"top\"><span class=\"rank\">1.</span></td>      <td class=\"votelinks\" valign=\"top\"><center><a href=\"vote?id=23842179&amp;how=up&amp;goto=news\" id=\"up_23842179\"><div class=\"votearrow\" title=\"upvote\"></div></a></center></td><td class=\"title\"><a class=\"storylink\" href=\"https://element.io/blog/welcome-to-element/\">Riot is now Element</a><span class=\"sitebit comhead\"> (<a href=\"from?site=element.io\"><span class=\"sitestr\">element.io</span></a>)</span></td></tr>"
      ]
     },
     "execution_count": 7,
     "metadata": {},
     "output_type": "execute_result"
    }
   ],
   "source": [
    "# Find all articles\n",
    "summaries = soup.find_all(\"tr\", class_=\"athing\")\n",
    "summaries[0]"
   ]
  },
  {
   "cell_type": "code",
   "execution_count": 8,
   "metadata": {},
   "outputs": [
    {
     "data": {
      "text/plain": [
       "'Riot is now Element'"
      ]
     },
     "execution_count": 8,
     "metadata": {},
     "output_type": "execute_result"
    }
   ],
   "source": [
    "# Extract title\n",
    "summaries[0].find(\"a\", class_=\"storylink\").get_text().strip()"
   ]
  },
  {
   "cell_type": "code",
   "execution_count": 9,
   "metadata": {},
   "outputs": [
    {
     "name": "stdout",
     "output_type": "stream",
     "text": [
      "30 Article summaries found. Sample:\n",
      "Riot is now Element\n"
     ]
    }
   ],
   "source": [
    "# Find all articles, extract titles\n",
    "articles = []\n",
    "summaries = soup.find_all(\"tr\", class_=\"athing\")\n",
    "for summary in summaries:\n",
    "    title = summary.find(\"a\", class_=\"storylink\").get_text().strip()\n",
    "    articles.append((title))\n",
    "\n",
    "print(len(articles), \"Article summaries found. Sample:\")\n",
    "print(articles[0])"
   ]
  },
  {
   "cell_type": "markdown",
   "metadata": {
    "collapsed": true
   },
   "source": [
    "## Normalization"
   ]
  },
  {
   "cell_type": "markdown",
   "metadata": {},
   "source": [
    "### Case Normalization"
   ]
  },
  {
   "cell_type": "code",
   "execution_count": 10,
   "metadata": {},
   "outputs": [
    {
     "name": "stdout",
     "output_type": "stream",
     "text": [
      "The first time you see The Second Renaissance it may look boring. Look at it at least twice and definitely watch part 2. It will change your view of the matrix. Are the human people the ones who started the war ? Is AI a bad thing ?\n"
     ]
    }
   ],
   "source": [
    "# Sample text\n",
    "text = \"The first time you see The Second Renaissance it may look boring. Look at it at least twice and definitely watch part 2. It will change your view of the matrix. Are the human people the ones who started the war ? Is AI a bad thing ?\"\n",
    "print(text)"
   ]
  },
  {
   "cell_type": "code",
   "execution_count": 11,
   "metadata": {},
   "outputs": [
    {
     "name": "stdout",
     "output_type": "stream",
     "text": [
      "the first time you see the second renaissance it may look boring. look at it at least twice and definitely watch part 2. it will change your view of the matrix. are the human people the ones who started the war ? is ai a bad thing ?\n"
     ]
    }
   ],
   "source": [
    "# Convert to lowercase\n",
    "text = text.lower() \n",
    "print(text)"
   ]
  },
  {
   "cell_type": "markdown",
   "metadata": {},
   "source": [
    "### Punctuation Removal"
   ]
  },
  {
   "cell_type": "code",
   "execution_count": 12,
   "metadata": {},
   "outputs": [
    {
     "name": "stdout",
     "output_type": "stream",
     "text": [
      "the first time you see the second renaissance it may look boring  look at it at least twice and definitely watch part 2  it will change your view of the matrix  are the human people the ones who started the war   is ai a bad thing  \n"
     ]
    }
   ],
   "source": [
    "import re\n",
    "\n",
    "# Remove punctuation characters\n",
    "text = re.sub(r\"[^a-zA-Z0-9]\", \" \", text) \n",
    "print(text)"
   ]
  },
  {
   "cell_type": "markdown",
   "metadata": {},
   "source": [
    "## Tokenization"
   ]
  },
  {
   "cell_type": "code",
   "execution_count": 13,
   "metadata": {},
   "outputs": [
    {
     "name": "stdout",
     "output_type": "stream",
     "text": [
      "['the', 'first', 'time', 'you', 'see', 'the', 'second', 'renaissance', 'it', 'may', 'look', 'boring', 'look', 'at', 'it', 'at', 'least', 'twice', 'and', 'definitely', 'watch', 'part', '2', 'it', 'will', 'change', 'your', 'view', 'of', 'the', 'matrix', 'are', 'the', 'human', 'people', 'the', 'ones', 'who', 'started', 'the', 'war', 'is', 'ai', 'a', 'bad', 'thing']\n"
     ]
    }
   ],
   "source": [
    "# Split text into tokens (words)\n",
    "words = text.split()\n",
    "print(words)"
   ]
  },
  {
   "cell_type": "markdown",
   "metadata": {},
   "source": [
    "### NLTK: Natural Language ToolKit"
   ]
  },
  {
   "cell_type": "code",
   "execution_count": 14,
   "metadata": {},
   "outputs": [],
   "source": [
    "import os\n",
    "import nltk\n",
    "nltk.data.path.append(os.path.join(os.getcwd(), \"nltk_data\"))"
   ]
  },
  {
   "cell_type": "code",
   "execution_count": 15,
   "metadata": {},
   "outputs": [
    {
     "name": "stdout",
     "output_type": "stream",
     "text": [
      "Dr. Smith graduated from the University of Washington. He later started an analytics firm called Lux, which catered to enterprise customers.\n"
     ]
    }
   ],
   "source": [
    "# Another sample text\n",
    "text = \"Dr. Smith graduated from the University of Washington. He later started an analytics firm called Lux, which catered to enterprise customers.\"\n",
    "print(text)"
   ]
  },
  {
   "cell_type": "code",
   "execution_count": 16,
   "metadata": {},
   "outputs": [
    {
     "name": "stdout",
     "output_type": "stream",
     "text": [
      "['Dr.', 'Smith', 'graduated', 'from', 'the', 'University', 'of', 'Washington', '.', 'He', 'later', 'started', 'an', 'analytics', 'firm', 'called', 'Lux', ',', 'which', 'catered', 'to', 'enterprise', 'customers', '.']\n"
     ]
    }
   ],
   "source": [
    "from nltk.tokenize import word_tokenize\n",
    "\n",
    "# Split text into words using NLTK\n",
    "words = word_tokenize(text)\n",
    "print(words)"
   ]
  },
  {
   "cell_type": "code",
   "execution_count": 17,
   "metadata": {},
   "outputs": [
    {
     "name": "stdout",
     "output_type": "stream",
     "text": [
      "['Dr. Smith graduated from the University of Washington.', 'He later started an analytics firm called Lux, which catered to enterprise customers.']\n"
     ]
    }
   ],
   "source": [
    "from nltk.tokenize import sent_tokenize\n",
    "\n",
    "# Split text into sentences\n",
    "sentences = sent_tokenize(text)\n",
    "print(sentences)"
   ]
  },
  {
   "cell_type": "code",
   "execution_count": 18,
   "metadata": {},
   "outputs": [
    {
     "name": "stdout",
     "output_type": "stream",
     "text": [
      "['i', 'me', 'my', 'myself', 'we', 'our', 'ours', 'ourselves', 'you', \"you're\", \"you've\", \"you'll\", \"you'd\", 'your', 'yours', 'yourself', 'yourselves', 'he', 'him', 'his', 'himself', 'she', \"she's\", 'her', 'hers', 'herself', 'it', \"it's\", 'its', 'itself', 'they', 'them', 'their', 'theirs', 'themselves', 'what', 'which', 'who', 'whom', 'this', 'that', \"that'll\", 'these', 'those', 'am', 'is', 'are', 'was', 'were', 'be', 'been', 'being', 'have', 'has', 'had', 'having', 'do', 'does', 'did', 'doing', 'a', 'an', 'the', 'and', 'but', 'if', 'or', 'because', 'as', 'until', 'while', 'of', 'at', 'by', 'for', 'with', 'about', 'against', 'between', 'into', 'through', 'during', 'before', 'after', 'above', 'below', 'to', 'from', 'up', 'down', 'in', 'out', 'on', 'off', 'over', 'under', 'again', 'further', 'then', 'once', 'here', 'there', 'when', 'where', 'why', 'how', 'all', 'any', 'both', 'each', 'few', 'more', 'most', 'other', 'some', 'such', 'no', 'nor', 'not', 'only', 'own', 'same', 'so', 'than', 'too', 'very', 's', 't', 'can', 'will', 'just', 'don', \"don't\", 'should', \"should've\", 'now', 'd', 'll', 'm', 'o', 're', 've', 'y', 'ain', 'aren', \"aren't\", 'couldn', \"couldn't\", 'didn', \"didn't\", 'doesn', \"doesn't\", 'hadn', \"hadn't\", 'hasn', \"hasn't\", 'haven', \"haven't\", 'isn', \"isn't\", 'ma', 'mightn', \"mightn't\", 'mustn', \"mustn't\", 'needn', \"needn't\", 'shan', \"shan't\", 'shouldn', \"shouldn't\", 'wasn', \"wasn't\", 'weren', \"weren't\", 'won', \"won't\", 'wouldn', \"wouldn't\"]\n"
     ]
    }
   ],
   "source": [
    "# List stop words\n",
    "from nltk.corpus import stopwords\n",
    "print(stopwords.words(\"english\"))"
   ]
  },
  {
   "cell_type": "code",
   "execution_count": 19,
   "metadata": {},
   "outputs": [
    {
     "name": "stdout",
     "output_type": "stream",
     "text": [
      "['the', 'first', 'time', 'you', 'see', 'the', 'second', 'renaissance', 'it', 'may', 'look', 'boring', 'look', 'at', 'it', 'at', 'least', 'twice', 'and', 'definitely', 'watch', 'part', '2', 'it', 'will', 'change', 'your', 'view', 'of', 'the', 'matrix', 'are', 'the', 'human', 'people', 'the', 'ones', 'who', 'started', 'the', 'war', 'is', 'ai', 'a', 'bad', 'thing']\n"
     ]
    }
   ],
   "source": [
    "# Reset text\n",
    "text = \"The first time you see The Second Renaissance it may look boring. Look at it at least twice and definitely watch part 2. It will change your view of the matrix. Are the human people the ones who started the war ? Is AI a bad thing ?\"\n",
    "\n",
    "# Normalize it\n",
    "text = re.sub(r\"[^a-zA-Z0-9]\", \" \", text.lower())\n",
    "\n",
    "# Tokenize it\n",
    "words = text.split()\n",
    "print(words)"
   ]
  },
  {
   "cell_type": "code",
   "execution_count": 20,
   "metadata": {},
   "outputs": [
    {
     "name": "stdout",
     "output_type": "stream",
     "text": [
      "['first', 'time', 'see', 'second', 'renaissance', 'may', 'look', 'boring', 'look', 'least', 'twice', 'definitely', 'watch', 'part', '2', 'change', 'view', 'matrix', 'human', 'people', 'ones', 'started', 'war', 'ai', 'bad', 'thing']\n"
     ]
    }
   ],
   "source": [
    "# Remove stop words\n",
    "words = [w for w in words if w not in stopwords.words(\"english\")]\n",
    "print(words)"
   ]
  },
  {
   "cell_type": "markdown",
   "metadata": {},
   "source": [
    "### Sentence Parsing"
   ]
  },
  {
   "cell_type": "code",
   "execution_count": 21,
   "metadata": {},
   "outputs": [
    {
     "name": "stdout",
     "output_type": "stream",
     "text": [
      "(S\n",
      "  (NP I)\n",
      "  (VP\n",
      "    (VP (V shot) (NP (Det an) (N elephant)))\n",
      "    (PP (P in) (NP (Det my) (N pajamas)))))\n",
      "(S\n",
      "  (NP I)\n",
      "  (VP\n",
      "    (V shot)\n",
      "    (NP (Det an) (N elephant) (PP (P in) (NP (Det my) (N pajamas))))))\n"
     ]
    }
   ],
   "source": [
    "import nltk\n",
    "\n",
    "# Define a custom grammar\n",
    "my_grammar = nltk.CFG.fromstring(\"\"\"\n",
    "S -> NP VP\n",
    "PP -> P NP\n",
    "NP -> Det N | Det N PP | 'I'\n",
    "VP -> V NP | VP PP\n",
    "Det -> 'an' | 'my'\n",
    "N -> 'elephant' | 'pajamas'\n",
    "V -> 'shot'\n",
    "P -> 'in'\n",
    "\"\"\")\n",
    "parser = nltk.ChartParser(my_grammar)\n",
    "\n",
    "# Parse a sentence\n",
    "sentence = word_tokenize(\"I shot an elephant in my pajamas\")\n",
    "for tree in parser.parse(sentence):\n",
    "    print(tree)"
   ]
  },
  {
   "cell_type": "markdown",
   "metadata": {},
   "source": [
    "## Stemming & Lemmatization\n",
    "\n",
    "### Stemming"
   ]
  },
  {
   "cell_type": "code",
   "execution_count": 22,
   "metadata": {},
   "outputs": [
    {
     "name": "stdout",
     "output_type": "stream",
     "text": [
      "['first', 'time', 'see', 'second', 'renaiss', 'may', 'look', 'bore', 'look', 'least', 'twice', 'definit', 'watch', 'part', '2', 'chang', 'view', 'matrix', 'human', 'peopl', 'one', 'start', 'war', 'ai', 'bad', 'thing']\n"
     ]
    }
   ],
   "source": [
    "from nltk.stem.porter import PorterStemmer\n",
    "\n",
    "# Reduce words to their stems\n",
    "stemmed = [PorterStemmer().stem(w) for w in words]\n",
    "print(stemmed)"
   ]
  },
  {
   "cell_type": "markdown",
   "metadata": {},
   "source": [
    "### Lemmatization"
   ]
  },
  {
   "cell_type": "code",
   "execution_count": 23,
   "metadata": {},
   "outputs": [
    {
     "name": "stdout",
     "output_type": "stream",
     "text": [
      "['first', 'time', 'see', 'second', 'renaissance', 'may', 'look', 'boring', 'look', 'least', 'twice', 'definitely', 'watch', 'part', '2', 'change', 'view', 'matrix', 'human', 'people', 'one', 'started', 'war', 'ai', 'bad', 'thing']\n"
     ]
    }
   ],
   "source": [
    "from nltk.stem.wordnet import WordNetLemmatizer\n",
    "\n",
    "# Reduce words to their root form\n",
    "lemmed = [WordNetLemmatizer().lemmatize(w) for w in words]\n",
    "print(lemmed)"
   ]
  },
  {
   "cell_type": "code",
   "execution_count": 24,
   "metadata": {},
   "outputs": [
    {
     "name": "stdout",
     "output_type": "stream",
     "text": [
      "['first', 'time', 'see', 'second', 'renaissance', 'may', 'look', 'bore', 'look', 'least', 'twice', 'definitely', 'watch', 'part', '2', 'change', 'view', 'matrix', 'human', 'people', 'one', 'start', 'war', 'ai', 'bad', 'thing']\n"
     ]
    }
   ],
   "source": [
    "# Lemmatize verbs by specifying pos\n",
    "lemmed = [WordNetLemmatizer().lemmatize(w, pos='v') for w in lemmed]\n",
    "print(lemmed)"
   ]
  },
  {
   "cell_type": "code",
   "execution_count": null,
   "metadata": {},
   "outputs": [],
   "source": []
  }
 ],
 "metadata": {
  "kernelspec": {
   "display_name": "Python 3",
   "language": "python",
   "name": "python3"
  },
  "language_info": {
   "codemirror_mode": {
    "name": "ipython",
    "version": 3
   },
   "file_extension": ".py",
   "mimetype": "text/x-python",
   "name": "python",
   "nbconvert_exporter": "python",
   "pygments_lexer": "ipython3",
   "version": "3.6.3"
  }
 },
 "nbformat": 4,
 "nbformat_minor": 2
}
