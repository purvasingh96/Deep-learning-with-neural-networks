{
 "cells": [
  {
   "cell_type": "markdown",
   "execution_count": null,
   "metadata": {
    "papermill": {
     "duration": 0.020399,
     "end_time": "2020-08-07T04:44:49.226291",
     "exception": false,
     "start_time": "2020-08-07T04:44:49.205892",
     "status": "completed"
    },
    "tags": []
   },
   "source": [
    "# Predicting DJIA Movement with BERT\n",
    "\n",
    "In this notebook, I have tried to perform NLP on daily financial news using BERT. Few things to note:<br>\n",
    "1. Due to computational restriction, I couldnot combine all the news columns while working with BERT. \n",
    "2. Also, BERT can process only 512 tokens at a time, so even if the kernel was computationally strong, I couldnot have used all news articles column. If I combined all news articles, final number of tokens generated was 618. Hence the code was breaking. \n"
   ]
  },
  {
   "cell_type": "code",
   "execution_count": 1,
   "metadata": {
    "_cell_guid": "b1076dfc-b9ad-4769-8c92-a6c4dae69d19",
    "_uuid": "8f2839f25d086af736a60e9eeb907d3b93b6e0e5",
    "execution": {
     "iopub.execute_input": "2020-08-07T04:44:49.274001Z",
     "iopub.status.busy": "2020-08-07T04:44:49.272900Z",
     "iopub.status.idle": "2020-08-07T04:44:49.280014Z",
     "shell.execute_reply": "2020-08-07T04:44:49.280861Z"
    },
    "papermill": {
     "duration": 0.035453,
     "end_time": "2020-08-07T04:44:49.281171",
     "exception": false,
     "start_time": "2020-08-07T04:44:49.245718",
     "status": "completed"
    },
    "tags": []
   },
   "outputs": [
    {
     "name": "stdout",
     "output_type": "stream",
     "text": [
      "/kaggle/input/stocknews/RedditNews.csv\n",
      "/kaggle/input/stocknews/upload_DJIA_table.csv\n",
      "/kaggle/input/stocknews/Combined_News_DJIA.csv\n"
     ]
    }
   ],
   "source": [
    "# This Python 3 environment comes with many helpful analytics libraries installed\n",
    "# It is defined by the kaggle/python Docker image: https://github.com/kaggle/docker-python\n",
    "# For example, here's several helpful packages to load\n",
    "\n",
    "import numpy as np # linear algebra\n",
    "import pandas as pd # data processing, CSV file I/O (e.g. pd.read_csv)\n",
    "\n",
    "# Input data files are available in the read-only \"../input/\" directory\n",
    "# For example, running this (by clicking run or pressing Shift+Enter) will list all files under the input directory\n",
    "\n",
    "import os\n",
    "for dirname, _, filenames in os.walk('/kaggle/input'):\n",
    "    for filename in filenames:\n",
    "        print(os.path.join(dirname, filename))\n",
    "\n",
    "# You can write up to 5GB to the current directory (/kaggle/working/) that gets preserved as output when you create a version using \"Save & Run All\" \n",
    "# You can also write temporary files to /kaggle/temp/, but they won't be saved outside of the current session"
   ]
  },
  {
   "cell_type": "markdown",
   "execution_count": null,
   "metadata": {
    "papermill": {
     "duration": 0.018258,
     "end_time": "2020-08-07T04:44:49.318851",
     "exception": false,
     "start_time": "2020-08-07T04:44:49.300593",
     "status": "completed"
    },
    "tags": []
   },
   "source": [
    "# Reading CSV file\n",
    "\n",
    "In this csv file, Top1 to Top25 are the news articles in decreasing order of their priority.<br>\n",
    "\n",
    "Label \"1\" is when DJIA Adj Close value rose or stayed as the same.<br>\n",
    "Label \"0\" is when DJIA Adj Close value decreased.\n",
    "                                                                                             "
   ]
  },
  {
   "cell_type": "code",
   "execution_count": 2,
   "metadata": {
    "_cell_guid": "79c7e3d0-c299-4dcb-8224-4455121ee9b0",
    "_uuid": "d629ff2d2480ee46fbb7e2d37f6b5fab8052498a",
    "execution": {
     "iopub.execute_input": "2020-08-07T04:44:49.364284Z",
     "iopub.status.busy": "2020-08-07T04:44:49.363389Z",
     "iopub.status.idle": "2020-08-07T04:44:49.475207Z",
     "shell.execute_reply": "2020-08-07T04:44:49.474292Z"
    },
    "papermill": {
     "duration": 0.137771,
     "end_time": "2020-08-07T04:44:49.475395",
     "exception": false,
     "start_time": "2020-08-07T04:44:49.337624",
     "status": "completed"
    },
    "tags": []
   },
   "outputs": [],
   "source": [
    "import pandas as pd\n",
    " \n",
    "# Here we are interested in Combined_News_DJIA.csv file\n",
    "df = pd.read_csv('/kaggle/input/stocknews/Combined_News_DJIA.csv')"
   ]
  },
  {
   "cell_type": "code",
   "execution_count": 3,
   "metadata": {
    "execution": {
     "iopub.execute_input": "2020-08-07T04:44:49.545833Z",
     "iopub.status.busy": "2020-08-07T04:44:49.526793Z",
     "iopub.status.idle": "2020-08-07T04:44:49.566922Z",
     "shell.execute_reply": "2020-08-07T04:44:49.567571Z"
    },
    "papermill": {
     "duration": 0.072867,
     "end_time": "2020-08-07T04:44:49.567782",
     "exception": false,
     "start_time": "2020-08-07T04:44:49.494915",
     "status": "completed"
    },
    "tags": []
   },
   "outputs": [
    {
     "data": {
      "text/html": [
       "<div>\n",
       "<style scoped>\n",
       "    .dataframe tbody tr th:only-of-type {\n",
       "        vertical-align: middle;\n",
       "    }\n",
       "\n",
       "    .dataframe tbody tr th {\n",
       "        vertical-align: top;\n",
       "    }\n",
       "\n",
       "    .dataframe thead th {\n",
       "        text-align: right;\n",
       "    }\n",
       "</style>\n",
       "<table border=\"1\" class=\"dataframe\">\n",
       "  <thead>\n",
       "    <tr style=\"text-align: right;\">\n",
       "      <th></th>\n",
       "      <th>Date</th>\n",
       "      <th>Label</th>\n",
       "      <th>Top1</th>\n",
       "      <th>Top2</th>\n",
       "      <th>Top3</th>\n",
       "      <th>Top4</th>\n",
       "      <th>Top5</th>\n",
       "      <th>Top6</th>\n",
       "      <th>Top7</th>\n",
       "      <th>Top8</th>\n",
       "      <th>...</th>\n",
       "      <th>Top16</th>\n",
       "      <th>Top17</th>\n",
       "      <th>Top18</th>\n",
       "      <th>Top19</th>\n",
       "      <th>Top20</th>\n",
       "      <th>Top21</th>\n",
       "      <th>Top22</th>\n",
       "      <th>Top23</th>\n",
       "      <th>Top24</th>\n",
       "      <th>Top25</th>\n",
       "    </tr>\n",
       "  </thead>\n",
       "  <tbody>\n",
       "    <tr>\n",
       "      <th>0</th>\n",
       "      <td>2008-08-08</td>\n",
       "      <td>0</td>\n",
       "      <td>b\"Georgia 'downs two Russian warplanes' as cou...</td>\n",
       "      <td>b'BREAKING: Musharraf to be impeached.'</td>\n",
       "      <td>b'Russia Today: Columns of troops roll into So...</td>\n",
       "      <td>b'Russian tanks are moving towards the capital...</td>\n",
       "      <td>b\"Afghan children raped with 'impunity,' U.N. ...</td>\n",
       "      <td>b'150 Russian tanks have entered South Ossetia...</td>\n",
       "      <td>b\"Breaking: Georgia invades South Ossetia, Rus...</td>\n",
       "      <td>b\"The 'enemy combatent' trials are nothing but...</td>\n",
       "      <td>...</td>\n",
       "      <td>b'Georgia Invades South Ossetia - if Russia ge...</td>\n",
       "      <td>b'Al-Qaeda Faces Islamist Backlash'</td>\n",
       "      <td>b'Condoleezza Rice: \"The US would not act to p...</td>\n",
       "      <td>b'This is a busy day:  The European Union has ...</td>\n",
       "      <td>b\"Georgia will withdraw 1,000 soldiers from Ir...</td>\n",
       "      <td>b'Why the Pentagon Thinks Attacking Iran is a ...</td>\n",
       "      <td>b'Caucasus in crisis: Georgia invades South Os...</td>\n",
       "      <td>b'Indian shoe manufactory  - And again in a se...</td>\n",
       "      <td>b'Visitors Suffering from Mental Illnesses Ban...</td>\n",
       "      <td>b\"No Help for Mexico's Kidnapping Surge\"</td>\n",
       "    </tr>\n",
       "    <tr>\n",
       "      <th>1</th>\n",
       "      <td>2008-08-11</td>\n",
       "      <td>1</td>\n",
       "      <td>b'Why wont America and Nato help us? If they w...</td>\n",
       "      <td>b'Bush puts foot down on Georgian conflict'</td>\n",
       "      <td>b\"Jewish Georgian minister: Thanks to Israeli ...</td>\n",
       "      <td>b'Georgian army flees in disarray as Russians ...</td>\n",
       "      <td>b\"Olympic opening ceremony fireworks 'faked'\"</td>\n",
       "      <td>b'What were the Mossad with fraudulent New Zea...</td>\n",
       "      <td>b'Russia angered by Israeli military sale to G...</td>\n",
       "      <td>b'An American citizen living in S.Ossetia blam...</td>\n",
       "      <td>...</td>\n",
       "      <td>b'Israel and the US behind the Georgian aggres...</td>\n",
       "      <td>b'\"Do not believe TV, neither Russian nor Geor...</td>\n",
       "      <td>b'Riots are still going on in Montreal (Canada...</td>\n",
       "      <td>b'China to overtake US as largest manufacturer'</td>\n",
       "      <td>b'War in South Ossetia [PICS]'</td>\n",
       "      <td>b'Israeli Physicians Group Condemns State Tort...</td>\n",
       "      <td>b' Russia has just beaten the United States ov...</td>\n",
       "      <td>b'Perhaps *the* question about the Georgia - R...</td>\n",
       "      <td>b'Russia is so much better at war'</td>\n",
       "      <td>b\"So this is what it's come to: trading sex fo...</td>\n",
       "    </tr>\n",
       "    <tr>\n",
       "      <th>2</th>\n",
       "      <td>2008-08-12</td>\n",
       "      <td>0</td>\n",
       "      <td>b'Remember that adorable 9-year-old who sang a...</td>\n",
       "      <td>b\"Russia 'ends Georgia operation'\"</td>\n",
       "      <td>b'\"If we had no sexual harassment we would hav...</td>\n",
       "      <td>b\"Al-Qa'eda is losing support in Iraq because ...</td>\n",
       "      <td>b'Ceasefire in Georgia: Putin Outmaneuvers the...</td>\n",
       "      <td>b'Why Microsoft and Intel tried to kill the XO...</td>\n",
       "      <td>b'Stratfor: The Russo-Georgian War and the Bal...</td>\n",
       "      <td>b\"I'm Trying to Get a Sense of This Whole Geor...</td>\n",
       "      <td>...</td>\n",
       "      <td>b'U.S. troops still in Georgia (did you know t...</td>\n",
       "      <td>b'Why Russias response to Georgia was right'</td>\n",
       "      <td>b'Gorbachev accuses U.S. of making a \"serious ...</td>\n",
       "      <td>b'Russia, Georgia, and NATO: Cold War Two'</td>\n",
       "      <td>b'Remember that adorable 62-year-old who led y...</td>\n",
       "      <td>b'War in Georgia: The Israeli connection'</td>\n",
       "      <td>b'All signs point to the US encouraging Georgi...</td>\n",
       "      <td>b'Christopher King argues that the US and NATO...</td>\n",
       "      <td>b'America: The New Mexico?'</td>\n",
       "      <td>b\"BBC NEWS | Asia-Pacific | Extinction 'by man...</td>\n",
       "    </tr>\n",
       "    <tr>\n",
       "      <th>3</th>\n",
       "      <td>2008-08-13</td>\n",
       "      <td>0</td>\n",
       "      <td>b' U.S. refuses Israel weapons to attack Iran:...</td>\n",
       "      <td>b\"When the president ordered to attack Tskhinv...</td>\n",
       "      <td>b' Israel clears troops who killed Reuters cam...</td>\n",
       "      <td>b'Britain\\'s policy of being tough on drugs is...</td>\n",
       "      <td>b'Body of 14 year old found in trunk; Latest (...</td>\n",
       "      <td>b'China has moved 10 *million* quake survivors...</td>\n",
       "      <td>b\"Bush announces Operation Get All Up In Russi...</td>\n",
       "      <td>b'Russian forces sink Georgian ships '</td>\n",
       "      <td>...</td>\n",
       "      <td>b'Elephants extinct by 2020?'</td>\n",
       "      <td>b'US humanitarian missions soon in Georgia - i...</td>\n",
       "      <td>b\"Georgia's DDOS came from US sources\"</td>\n",
       "      <td>b'Russian convoy heads into Georgia, violating...</td>\n",
       "      <td>b'Israeli defence minister: US against strike ...</td>\n",
       "      <td>b'Gorbachev: We Had No Choice'</td>\n",
       "      <td>b'Witness: Russian forces head towards Tbilisi...</td>\n",
       "      <td>b' Quarter of Russians blame U.S. for conflict...</td>\n",
       "      <td>b'Georgian president  says US military will ta...</td>\n",
       "      <td>b'2006: Nobel laureate Aleksander Solzhenitsyn...</td>\n",
       "    </tr>\n",
       "    <tr>\n",
       "      <th>4</th>\n",
       "      <td>2008-08-14</td>\n",
       "      <td>1</td>\n",
       "      <td>b'All the experts admit that we should legalis...</td>\n",
       "      <td>b'War in South Osetia - 89 pictures made by a ...</td>\n",
       "      <td>b'Swedish wrestler Ara Abrahamian throws away ...</td>\n",
       "      <td>b'Russia exaggerated the death toll in South O...</td>\n",
       "      <td>b'Missile That Killed 9 Inside Pakistan May Ha...</td>\n",
       "      <td>b\"Rushdie Condemns Random House's Refusal to P...</td>\n",
       "      <td>b'Poland and US agree to missle defense deal. ...</td>\n",
       "      <td>b'Will the Russians conquer Tblisi? Bet on it,...</td>\n",
       "      <td>...</td>\n",
       "      <td>b'Bank analyst forecast Georgian crisis 2 days...</td>\n",
       "      <td>b\"Georgia confict could set back Russia's US r...</td>\n",
       "      <td>b'War in the Caucasus is as much the product o...</td>\n",
       "      <td>b'\"Non-media\" photos of South Ossetia/Georgia ...</td>\n",
       "      <td>b'Georgian TV reporter shot by Russian sniper ...</td>\n",
       "      <td>b'Saudi Arabia: Mother moves to block child ma...</td>\n",
       "      <td>b'Taliban wages war on humanitarian aid workers'</td>\n",
       "      <td>b'Russia: World  \"can forget about\" Georgia\\'s...</td>\n",
       "      <td>b'Darfur rebels accuse Sudan of mounting major...</td>\n",
       "      <td>b'Philippines : Peace Advocate say Muslims nee...</td>\n",
       "    </tr>\n",
       "  </tbody>\n",
       "</table>\n",
       "<p>5 rows × 27 columns</p>\n",
       "</div>"
      ],
      "text/plain": [
       "         Date  Label                                               Top1  \\\n",
       "0  2008-08-08      0  b\"Georgia 'downs two Russian warplanes' as cou...   \n",
       "1  2008-08-11      1  b'Why wont America and Nato help us? If they w...   \n",
       "2  2008-08-12      0  b'Remember that adorable 9-year-old who sang a...   \n",
       "3  2008-08-13      0  b' U.S. refuses Israel weapons to attack Iran:...   \n",
       "4  2008-08-14      1  b'All the experts admit that we should legalis...   \n",
       "\n",
       "                                                Top2  \\\n",
       "0            b'BREAKING: Musharraf to be impeached.'   \n",
       "1        b'Bush puts foot down on Georgian conflict'   \n",
       "2                 b\"Russia 'ends Georgia operation'\"   \n",
       "3  b\"When the president ordered to attack Tskhinv...   \n",
       "4  b'War in South Osetia - 89 pictures made by a ...   \n",
       "\n",
       "                                                Top3  \\\n",
       "0  b'Russia Today: Columns of troops roll into So...   \n",
       "1  b\"Jewish Georgian minister: Thanks to Israeli ...   \n",
       "2  b'\"If we had no sexual harassment we would hav...   \n",
       "3  b' Israel clears troops who killed Reuters cam...   \n",
       "4  b'Swedish wrestler Ara Abrahamian throws away ...   \n",
       "\n",
       "                                                Top4  \\\n",
       "0  b'Russian tanks are moving towards the capital...   \n",
       "1  b'Georgian army flees in disarray as Russians ...   \n",
       "2  b\"Al-Qa'eda is losing support in Iraq because ...   \n",
       "3  b'Britain\\'s policy of being tough on drugs is...   \n",
       "4  b'Russia exaggerated the death toll in South O...   \n",
       "\n",
       "                                                Top5  \\\n",
       "0  b\"Afghan children raped with 'impunity,' U.N. ...   \n",
       "1      b\"Olympic opening ceremony fireworks 'faked'\"   \n",
       "2  b'Ceasefire in Georgia: Putin Outmaneuvers the...   \n",
       "3  b'Body of 14 year old found in trunk; Latest (...   \n",
       "4  b'Missile That Killed 9 Inside Pakistan May Ha...   \n",
       "\n",
       "                                                Top6  \\\n",
       "0  b'150 Russian tanks have entered South Ossetia...   \n",
       "1  b'What were the Mossad with fraudulent New Zea...   \n",
       "2  b'Why Microsoft and Intel tried to kill the XO...   \n",
       "3  b'China has moved 10 *million* quake survivors...   \n",
       "4  b\"Rushdie Condemns Random House's Refusal to P...   \n",
       "\n",
       "                                                Top7  \\\n",
       "0  b\"Breaking: Georgia invades South Ossetia, Rus...   \n",
       "1  b'Russia angered by Israeli military sale to G...   \n",
       "2  b'Stratfor: The Russo-Georgian War and the Bal...   \n",
       "3  b\"Bush announces Operation Get All Up In Russi...   \n",
       "4  b'Poland and US agree to missle defense deal. ...   \n",
       "\n",
       "                                                Top8  ...  \\\n",
       "0  b\"The 'enemy combatent' trials are nothing but...  ...   \n",
       "1  b'An American citizen living in S.Ossetia blam...  ...   \n",
       "2  b\"I'm Trying to Get a Sense of This Whole Geor...  ...   \n",
       "3             b'Russian forces sink Georgian ships '  ...   \n",
       "4  b'Will the Russians conquer Tblisi? Bet on it,...  ...   \n",
       "\n",
       "                                               Top16  \\\n",
       "0  b'Georgia Invades South Ossetia - if Russia ge...   \n",
       "1  b'Israel and the US behind the Georgian aggres...   \n",
       "2  b'U.S. troops still in Georgia (did you know t...   \n",
       "3                      b'Elephants extinct by 2020?'   \n",
       "4  b'Bank analyst forecast Georgian crisis 2 days...   \n",
       "\n",
       "                                               Top17  \\\n",
       "0                b'Al-Qaeda Faces Islamist Backlash'   \n",
       "1  b'\"Do not believe TV, neither Russian nor Geor...   \n",
       "2       b'Why Russias response to Georgia was right'   \n",
       "3  b'US humanitarian missions soon in Georgia - i...   \n",
       "4  b\"Georgia confict could set back Russia's US r...   \n",
       "\n",
       "                                               Top18  \\\n",
       "0  b'Condoleezza Rice: \"The US would not act to p...   \n",
       "1  b'Riots are still going on in Montreal (Canada...   \n",
       "2  b'Gorbachev accuses U.S. of making a \"serious ...   \n",
       "3             b\"Georgia's DDOS came from US sources\"   \n",
       "4  b'War in the Caucasus is as much the product o...   \n",
       "\n",
       "                                               Top19  \\\n",
       "0  b'This is a busy day:  The European Union has ...   \n",
       "1    b'China to overtake US as largest manufacturer'   \n",
       "2         b'Russia, Georgia, and NATO: Cold War Two'   \n",
       "3  b'Russian convoy heads into Georgia, violating...   \n",
       "4  b'\"Non-media\" photos of South Ossetia/Georgia ...   \n",
       "\n",
       "                                               Top20  \\\n",
       "0  b\"Georgia will withdraw 1,000 soldiers from Ir...   \n",
       "1                     b'War in South Ossetia [PICS]'   \n",
       "2  b'Remember that adorable 62-year-old who led y...   \n",
       "3  b'Israeli defence minister: US against strike ...   \n",
       "4  b'Georgian TV reporter shot by Russian sniper ...   \n",
       "\n",
       "                                               Top21  \\\n",
       "0  b'Why the Pentagon Thinks Attacking Iran is a ...   \n",
       "1  b'Israeli Physicians Group Condemns State Tort...   \n",
       "2          b'War in Georgia: The Israeli connection'   \n",
       "3                     b'Gorbachev: We Had No Choice'   \n",
       "4  b'Saudi Arabia: Mother moves to block child ma...   \n",
       "\n",
       "                                               Top22  \\\n",
       "0  b'Caucasus in crisis: Georgia invades South Os...   \n",
       "1  b' Russia has just beaten the United States ov...   \n",
       "2  b'All signs point to the US encouraging Georgi...   \n",
       "3  b'Witness: Russian forces head towards Tbilisi...   \n",
       "4   b'Taliban wages war on humanitarian aid workers'   \n",
       "\n",
       "                                               Top23  \\\n",
       "0  b'Indian shoe manufactory  - And again in a se...   \n",
       "1  b'Perhaps *the* question about the Georgia - R...   \n",
       "2  b'Christopher King argues that the US and NATO...   \n",
       "3  b' Quarter of Russians blame U.S. for conflict...   \n",
       "4  b'Russia: World  \"can forget about\" Georgia\\'s...   \n",
       "\n",
       "                                               Top24  \\\n",
       "0  b'Visitors Suffering from Mental Illnesses Ban...   \n",
       "1                 b'Russia is so much better at war'   \n",
       "2                        b'America: The New Mexico?'   \n",
       "3  b'Georgian president  says US military will ta...   \n",
       "4  b'Darfur rebels accuse Sudan of mounting major...   \n",
       "\n",
       "                                               Top25  \n",
       "0           b\"No Help for Mexico's Kidnapping Surge\"  \n",
       "1  b\"So this is what it's come to: trading sex fo...  \n",
       "2  b\"BBC NEWS | Asia-Pacific | Extinction 'by man...  \n",
       "3  b'2006: Nobel laureate Aleksander Solzhenitsyn...  \n",
       "4  b'Philippines : Peace Advocate say Muslims nee...  \n",
       "\n",
       "[5 rows x 27 columns]"
      ]
     },
     "execution_count": 3,
     "metadata": {},
     "output_type": "execute_result"
    }
   ],
   "source": [
    "df.head()"
   ]
  },
  {
   "cell_type": "code",
   "execution_count": 4,
   "metadata": {
    "execution": {
     "iopub.execute_input": "2020-08-07T04:44:49.642865Z",
     "iopub.status.busy": "2020-08-07T04:44:49.641991Z",
     "iopub.status.idle": "2020-08-07T04:44:49.648043Z",
     "shell.execute_reply": "2020-08-07T04:44:49.647231Z"
    },
    "papermill": {
     "duration": 0.060837,
     "end_time": "2020-08-07T04:44:49.648202",
     "exception": false,
     "start_time": "2020-08-07T04:44:49.587365",
     "status": "completed"
    },
    "tags": []
   },
   "outputs": [
    {
     "data": {
      "text/html": [
       "<div>\n",
       "<style scoped>\n",
       "    .dataframe tbody tr th:only-of-type {\n",
       "        vertical-align: middle;\n",
       "    }\n",
       "\n",
       "    .dataframe tbody tr th {\n",
       "        vertical-align: top;\n",
       "    }\n",
       "\n",
       "    .dataframe thead th {\n",
       "        text-align: right;\n",
       "    }\n",
       "</style>\n",
       "<table border=\"1\" class=\"dataframe\">\n",
       "  <thead>\n",
       "    <tr style=\"text-align: right;\">\n",
       "      <th></th>\n",
       "      <th>Date</th>\n",
       "      <th>Label</th>\n",
       "      <th>Top1</th>\n",
       "      <th>Top2</th>\n",
       "      <th>Top3</th>\n",
       "      <th>Top4</th>\n",
       "      <th>Top5</th>\n",
       "      <th>Top6</th>\n",
       "      <th>Top7</th>\n",
       "      <th>Top8</th>\n",
       "      <th>...</th>\n",
       "      <th>Top16</th>\n",
       "      <th>Top17</th>\n",
       "      <th>Top18</th>\n",
       "      <th>Top19</th>\n",
       "      <th>Top20</th>\n",
       "      <th>Top21</th>\n",
       "      <th>Top22</th>\n",
       "      <th>Top23</th>\n",
       "      <th>Top24</th>\n",
       "      <th>Top25</th>\n",
       "    </tr>\n",
       "  </thead>\n",
       "  <tbody>\n",
       "    <tr>\n",
       "      <th>1984</th>\n",
       "      <td>2016-06-27</td>\n",
       "      <td>0</td>\n",
       "      <td>Barclays and RBS shares suspended from trading...</td>\n",
       "      <td>Pope says Church should ask forgiveness from g...</td>\n",
       "      <td>Poland 'shocked' by xenophobic abuse of Poles ...</td>\n",
       "      <td>There will be no second referendum, cabinet ag...</td>\n",
       "      <td>Scotland welcome to join EU, Merkel ally says</td>\n",
       "      <td>Sterling dips below Friday's 31-year low amid ...</td>\n",
       "      <td>No negative news about South African President...</td>\n",
       "      <td>Surge in Hate Crimes in the U.K. Following U.K...</td>\n",
       "      <td>...</td>\n",
       "      <td>German lawyers to probe Erdogan over alleged w...</td>\n",
       "      <td>Boris Johnson says the UK will continue to \"in...</td>\n",
       "      <td>Richard Branson is calling on the UK governmen...</td>\n",
       "      <td>Turkey 'sorry for downing Russian jet'</td>\n",
       "      <td>Edward Snowden lawyer vows new push for pardon...</td>\n",
       "      <td>Brexit opinion poll reveals majority don't wan...</td>\n",
       "      <td>Conservative MP Leave Campaigner: \"The leave c...</td>\n",
       "      <td>Economists predict UK recession, further weake...</td>\n",
       "      <td>New EU 'superstate plan by France, Germany: Cr...</td>\n",
       "      <td>Pakistani clerics declare transgender marriage...</td>\n",
       "    </tr>\n",
       "    <tr>\n",
       "      <th>1985</th>\n",
       "      <td>2016-06-28</td>\n",
       "      <td>1</td>\n",
       "      <td>2,500 Scientists To Australia: If You Want To ...</td>\n",
       "      <td>The personal details of 112,000 French police ...</td>\n",
       "      <td>S&amp;amp;P cuts United Kingdom sovereign credit r...</td>\n",
       "      <td>Huge helium deposit found in Africa</td>\n",
       "      <td>CEO of the South African state broadcaster qui...</td>\n",
       "      <td>Brexit cost investors $2 trillion, the worst o...</td>\n",
       "      <td>Hong Kong democracy activists call for return ...</td>\n",
       "      <td>Brexit: Iceland president says UK can join 'tr...</td>\n",
       "      <td>...</td>\n",
       "      <td>US, Canada and Mexico pledge 50% of power from...</td>\n",
       "      <td>There is increasing evidence that Australia is...</td>\n",
       "      <td>Richard Branson, the founder of Virgin Group, ...</td>\n",
       "      <td>37,000-yr-old skull from Borneo reveals surpri...</td>\n",
       "      <td>Palestinians stone Western Wall worshipers; po...</td>\n",
       "      <td>Jean-Claude Juncker asks Farage: Why are you h...</td>\n",
       "      <td>\"Romanians for Remainians\" offering a new home...</td>\n",
       "      <td>Brexit: Gibraltar in talks with Scotland to st...</td>\n",
       "      <td>8 Suicide Bombers Strike Lebanon</td>\n",
       "      <td>Mexico's security forces routinely use 'sexual...</td>\n",
       "    </tr>\n",
       "    <tr>\n",
       "      <th>1986</th>\n",
       "      <td>2016-06-29</td>\n",
       "      <td>1</td>\n",
       "      <td>Explosion At Airport In Istanbul</td>\n",
       "      <td>Yemeni former president: Terrorism is the offs...</td>\n",
       "      <td>UK must accept freedom of movement to access E...</td>\n",
       "      <td>Devastated: scientists too late to captive bre...</td>\n",
       "      <td>British Labor Party leader Jeremy Corbyn loses...</td>\n",
       "      <td>A Muslim Shop in the UK Was Just Firebombed Wh...</td>\n",
       "      <td>Mexican Authorities Sexually Torture Women in ...</td>\n",
       "      <td>UK shares and pound continue to recover</td>\n",
       "      <td>...</td>\n",
       "      <td>Escape Tunnel, Dug by Hand, Is Found at Holoca...</td>\n",
       "      <td>The land under Beijing is sinking by as much a...</td>\n",
       "      <td>Car bomb and Anti-Islamic attack on Mosque in ...</td>\n",
       "      <td>Emaciated lions in Taiz Zoo are trapped in blo...</td>\n",
       "      <td>Rupert Murdoch describes Brexit as 'wonderful'...</td>\n",
       "      <td>More than 40 killed in Yemen suicide attacks</td>\n",
       "      <td>Google Found Disastrous Symantec and Norton Vu...</td>\n",
       "      <td>Extremist violence on the rise in Germany: Dom...</td>\n",
       "      <td>BBC News: Labour MPs pass Corbyn no-confidence...</td>\n",
       "      <td>Tiny New Zealand town with 'too many jobs' lau...</td>\n",
       "    </tr>\n",
       "    <tr>\n",
       "      <th>1987</th>\n",
       "      <td>2016-06-30</td>\n",
       "      <td>1</td>\n",
       "      <td>Jamaica proposes marijuana dispensers for tour...</td>\n",
       "      <td>Stephen Hawking says pollution and 'stupidity'...</td>\n",
       "      <td>Boris Johnson says he will not run for Tory pa...</td>\n",
       "      <td>Six gay men in Ivory Coast were abused and for...</td>\n",
       "      <td>Switzerland denies citizenship to Muslim immig...</td>\n",
       "      <td>Palestinian terrorist stabs israeli teen girl ...</td>\n",
       "      <td>Puerto Rico will default on $1 billion of debt...</td>\n",
       "      <td>Republic of Ireland fans to be awarded medal f...</td>\n",
       "      <td>...</td>\n",
       "      <td>Googles free wifi at Indian railway stations i...</td>\n",
       "      <td>Mounting evidence suggests 'hobbits' were wipe...</td>\n",
       "      <td>The men who carried out Tuesday's terror attac...</td>\n",
       "      <td>Calls to suspend Saudi Arabia from UN Human Ri...</td>\n",
       "      <td>More Than 100 Nobel Laureates Call Out Greenpe...</td>\n",
       "      <td>British pedophile sentenced to 85 years in US ...</td>\n",
       "      <td>US permitted 1,200 offshore fracks in Gulf of ...</td>\n",
       "      <td>We will be swimming in ridicule - French beach...</td>\n",
       "      <td>UEFA says no minutes of silence for Istanbul v...</td>\n",
       "      <td>Law Enforcement Sources: Gun Used in Paris Ter...</td>\n",
       "    </tr>\n",
       "    <tr>\n",
       "      <th>1988</th>\n",
       "      <td>2016-07-01</td>\n",
       "      <td>1</td>\n",
       "      <td>A 117-year-old woman in Mexico City finally re...</td>\n",
       "      <td>IMF chief backs Athens as permanent Olympic host</td>\n",
       "      <td>The president of France says if Brexit won, so...</td>\n",
       "      <td>British Man Who Must Give Police 24 Hours' Not...</td>\n",
       "      <td>100+ Nobel laureates urge Greenpeace to stop o...</td>\n",
       "      <td>Brazil: Huge spike in number of police killing...</td>\n",
       "      <td>Austria's highest court annuls presidential el...</td>\n",
       "      <td>Facebook wins privacy case, can track any Belg...</td>\n",
       "      <td>...</td>\n",
       "      <td>The United States has placed Myanmar, Uzbekist...</td>\n",
       "      <td>S&amp;amp;P revises European Union credit rating t...</td>\n",
       "      <td>India gets $1 billion loan from World Bank for...</td>\n",
       "      <td>U.S. sailors detained by Iran spoke too much u...</td>\n",
       "      <td>Mass fish kill in Vietnam solved as Taiwan ste...</td>\n",
       "      <td>Philippines president Rodrigo Duterte urges pe...</td>\n",
       "      <td>Spain arrests three Pakistanis accused of prom...</td>\n",
       "      <td>Venezuela, where anger over food shortages is ...</td>\n",
       "      <td>A Hindu temple worker has been killed by three...</td>\n",
       "      <td>Ozone layer hole seems to be healing - US &amp;amp...</td>\n",
       "    </tr>\n",
       "  </tbody>\n",
       "</table>\n",
       "<p>5 rows × 27 columns</p>\n",
       "</div>"
      ],
      "text/plain": [
       "            Date  Label                                               Top1  \\\n",
       "1984  2016-06-27      0  Barclays and RBS shares suspended from trading...   \n",
       "1985  2016-06-28      1  2,500 Scientists To Australia: If You Want To ...   \n",
       "1986  2016-06-29      1                   Explosion At Airport In Istanbul   \n",
       "1987  2016-06-30      1  Jamaica proposes marijuana dispensers for tour...   \n",
       "1988  2016-07-01      1  A 117-year-old woman in Mexico City finally re...   \n",
       "\n",
       "                                                   Top2  \\\n",
       "1984  Pope says Church should ask forgiveness from g...   \n",
       "1985  The personal details of 112,000 French police ...   \n",
       "1986  Yemeni former president: Terrorism is the offs...   \n",
       "1987  Stephen Hawking says pollution and 'stupidity'...   \n",
       "1988   IMF chief backs Athens as permanent Olympic host   \n",
       "\n",
       "                                                   Top3  \\\n",
       "1984  Poland 'shocked' by xenophobic abuse of Poles ...   \n",
       "1985  S&amp;P cuts United Kingdom sovereign credit r...   \n",
       "1986  UK must accept freedom of movement to access E...   \n",
       "1987  Boris Johnson says he will not run for Tory pa...   \n",
       "1988  The president of France says if Brexit won, so...   \n",
       "\n",
       "                                                   Top4  \\\n",
       "1984  There will be no second referendum, cabinet ag...   \n",
       "1985                Huge helium deposit found in Africa   \n",
       "1986  Devastated: scientists too late to captive bre...   \n",
       "1987  Six gay men in Ivory Coast were abused and for...   \n",
       "1988  British Man Who Must Give Police 24 Hours' Not...   \n",
       "\n",
       "                                                   Top5  \\\n",
       "1984      Scotland welcome to join EU, Merkel ally says   \n",
       "1985  CEO of the South African state broadcaster qui...   \n",
       "1986  British Labor Party leader Jeremy Corbyn loses...   \n",
       "1987  Switzerland denies citizenship to Muslim immig...   \n",
       "1988  100+ Nobel laureates urge Greenpeace to stop o...   \n",
       "\n",
       "                                                   Top6  \\\n",
       "1984  Sterling dips below Friday's 31-year low amid ...   \n",
       "1985  Brexit cost investors $2 trillion, the worst o...   \n",
       "1986  A Muslim Shop in the UK Was Just Firebombed Wh...   \n",
       "1987  Palestinian terrorist stabs israeli teen girl ...   \n",
       "1988  Brazil: Huge spike in number of police killing...   \n",
       "\n",
       "                                                   Top7  \\\n",
       "1984  No negative news about South African President...   \n",
       "1985  Hong Kong democracy activists call for return ...   \n",
       "1986  Mexican Authorities Sexually Torture Women in ...   \n",
       "1987  Puerto Rico will default on $1 billion of debt...   \n",
       "1988  Austria's highest court annuls presidential el...   \n",
       "\n",
       "                                                   Top8  ...  \\\n",
       "1984  Surge in Hate Crimes in the U.K. Following U.K...  ...   \n",
       "1985  Brexit: Iceland president says UK can join 'tr...  ...   \n",
       "1986            UK shares and pound continue to recover  ...   \n",
       "1987  Republic of Ireland fans to be awarded medal f...  ...   \n",
       "1988  Facebook wins privacy case, can track any Belg...  ...   \n",
       "\n",
       "                                                  Top16  \\\n",
       "1984  German lawyers to probe Erdogan over alleged w...   \n",
       "1985  US, Canada and Mexico pledge 50% of power from...   \n",
       "1986  Escape Tunnel, Dug by Hand, Is Found at Holoca...   \n",
       "1987  Googles free wifi at Indian railway stations i...   \n",
       "1988  The United States has placed Myanmar, Uzbekist...   \n",
       "\n",
       "                                                  Top17  \\\n",
       "1984  Boris Johnson says the UK will continue to \"in...   \n",
       "1985  There is increasing evidence that Australia is...   \n",
       "1986  The land under Beijing is sinking by as much a...   \n",
       "1987  Mounting evidence suggests 'hobbits' were wipe...   \n",
       "1988  S&amp;P revises European Union credit rating t...   \n",
       "\n",
       "                                                  Top18  \\\n",
       "1984  Richard Branson is calling on the UK governmen...   \n",
       "1985  Richard Branson, the founder of Virgin Group, ...   \n",
       "1986  Car bomb and Anti-Islamic attack on Mosque in ...   \n",
       "1987  The men who carried out Tuesday's terror attac...   \n",
       "1988  India gets $1 billion loan from World Bank for...   \n",
       "\n",
       "                                                  Top19  \\\n",
       "1984             Turkey 'sorry for downing Russian jet'   \n",
       "1985  37,000-yr-old skull from Borneo reveals surpri...   \n",
       "1986  Emaciated lions in Taiz Zoo are trapped in blo...   \n",
       "1987  Calls to suspend Saudi Arabia from UN Human Ri...   \n",
       "1988  U.S. sailors detained by Iran spoke too much u...   \n",
       "\n",
       "                                                  Top20  \\\n",
       "1984  Edward Snowden lawyer vows new push for pardon...   \n",
       "1985  Palestinians stone Western Wall worshipers; po...   \n",
       "1986  Rupert Murdoch describes Brexit as 'wonderful'...   \n",
       "1987  More Than 100 Nobel Laureates Call Out Greenpe...   \n",
       "1988  Mass fish kill in Vietnam solved as Taiwan ste...   \n",
       "\n",
       "                                                  Top21  \\\n",
       "1984  Brexit opinion poll reveals majority don't wan...   \n",
       "1985  Jean-Claude Juncker asks Farage: Why are you h...   \n",
       "1986       More than 40 killed in Yemen suicide attacks   \n",
       "1987  British pedophile sentenced to 85 years in US ...   \n",
       "1988  Philippines president Rodrigo Duterte urges pe...   \n",
       "\n",
       "                                                  Top22  \\\n",
       "1984  Conservative MP Leave Campaigner: \"The leave c...   \n",
       "1985  \"Romanians for Remainians\" offering a new home...   \n",
       "1986  Google Found Disastrous Symantec and Norton Vu...   \n",
       "1987  US permitted 1,200 offshore fracks in Gulf of ...   \n",
       "1988  Spain arrests three Pakistanis accused of prom...   \n",
       "\n",
       "                                                  Top23  \\\n",
       "1984  Economists predict UK recession, further weake...   \n",
       "1985  Brexit: Gibraltar in talks with Scotland to st...   \n",
       "1986  Extremist violence on the rise in Germany: Dom...   \n",
       "1987  We will be swimming in ridicule - French beach...   \n",
       "1988  Venezuela, where anger over food shortages is ...   \n",
       "\n",
       "                                                  Top24  \\\n",
       "1984  New EU 'superstate plan by France, Germany: Cr...   \n",
       "1985                   8 Suicide Bombers Strike Lebanon   \n",
       "1986  BBC News: Labour MPs pass Corbyn no-confidence...   \n",
       "1987  UEFA says no minutes of silence for Istanbul v...   \n",
       "1988  A Hindu temple worker has been killed by three...   \n",
       "\n",
       "                                                  Top25  \n",
       "1984  Pakistani clerics declare transgender marriage...  \n",
       "1985  Mexico's security forces routinely use 'sexual...  \n",
       "1986  Tiny New Zealand town with 'too many jobs' lau...  \n",
       "1987  Law Enforcement Sources: Gun Used in Paris Ter...  \n",
       "1988  Ozone layer hole seems to be healing - US &amp...  \n",
       "\n",
       "[5 rows x 27 columns]"
      ]
     },
     "execution_count": 4,
     "metadata": {},
     "output_type": "execute_result"
    }
   ],
   "source": [
    "df.tail()"
   ]
  },
  {
   "cell_type": "code",
   "execution_count": 5,
   "metadata": {
    "execution": {
     "iopub.execute_input": "2020-08-07T04:44:49.703482Z",
     "iopub.status.busy": "2020-08-07T04:44:49.702385Z",
     "iopub.status.idle": "2020-08-07T04:44:49.724706Z",
     "shell.execute_reply": "2020-08-07T04:44:49.725547Z"
    },
    "papermill": {
     "duration": 0.057152,
     "end_time": "2020-08-07T04:44:49.725788",
     "exception": false,
     "start_time": "2020-08-07T04:44:49.668636",
     "status": "completed"
    },
    "tags": []
   },
   "outputs": [
    {
     "name": "stdout",
     "output_type": "stream",
     "text": [
      "<class 'pandas.core.frame.DataFrame'>\n",
      "RangeIndex: 1989 entries, 0 to 1988\n",
      "Data columns (total 27 columns):\n",
      " #   Column  Non-Null Count  Dtype \n",
      "---  ------  --------------  ----- \n",
      " 0   Date    1989 non-null   object\n",
      " 1   Label   1989 non-null   int64 \n",
      " 2   Top1    1989 non-null   object\n",
      " 3   Top2    1989 non-null   object\n",
      " 4   Top3    1989 non-null   object\n",
      " 5   Top4    1989 non-null   object\n",
      " 6   Top5    1989 non-null   object\n",
      " 7   Top6    1989 non-null   object\n",
      " 8   Top7    1989 non-null   object\n",
      " 9   Top8    1989 non-null   object\n",
      " 10  Top9    1989 non-null   object\n",
      " 11  Top10   1989 non-null   object\n",
      " 12  Top11   1989 non-null   object\n",
      " 13  Top12   1989 non-null   object\n",
      " 14  Top13   1989 non-null   object\n",
      " 15  Top14   1989 non-null   object\n",
      " 16  Top15   1989 non-null   object\n",
      " 17  Top16   1989 non-null   object\n",
      " 18  Top17   1989 non-null   object\n",
      " 19  Top18   1989 non-null   object\n",
      " 20  Top19   1989 non-null   object\n",
      " 21  Top20   1989 non-null   object\n",
      " 22  Top21   1989 non-null   object\n",
      " 23  Top22   1989 non-null   object\n",
      " 24  Top23   1988 non-null   object\n",
      " 25  Top24   1986 non-null   object\n",
      " 26  Top25   1986 non-null   object\n",
      "dtypes: int64(1), object(26)\n",
      "memory usage: 419.7+ KB\n"
     ]
    }
   ],
   "source": [
    "df.info()"
   ]
  },
  {
   "cell_type": "code",
   "execution_count": 6,
   "metadata": {
    "execution": {
     "iopub.execute_input": "2020-08-07T04:44:49.782193Z",
     "iopub.status.busy": "2020-08-07T04:44:49.781156Z",
     "iopub.status.idle": "2020-08-07T04:44:49.801520Z",
     "shell.execute_reply": "2020-08-07T04:44:49.800707Z"
    },
    "papermill": {
     "duration": 0.055508,
     "end_time": "2020-08-07T04:44:49.801693",
     "exception": false,
     "start_time": "2020-08-07T04:44:49.746185",
     "status": "completed"
    },
    "tags": []
   },
   "outputs": [
    {
     "data": {
      "text/html": [
       "<div>\n",
       "<style scoped>\n",
       "    .dataframe tbody tr th:only-of-type {\n",
       "        vertical-align: middle;\n",
       "    }\n",
       "\n",
       "    .dataframe tbody tr th {\n",
       "        vertical-align: top;\n",
       "    }\n",
       "\n",
       "    .dataframe thead th {\n",
       "        text-align: right;\n",
       "    }\n",
       "</style>\n",
       "<table border=\"1\" class=\"dataframe\">\n",
       "  <thead>\n",
       "    <tr style=\"text-align: right;\">\n",
       "      <th></th>\n",
       "      <th>count</th>\n",
       "      <th>mean</th>\n",
       "      <th>std</th>\n",
       "      <th>min</th>\n",
       "      <th>25%</th>\n",
       "      <th>50%</th>\n",
       "      <th>75%</th>\n",
       "      <th>max</th>\n",
       "    </tr>\n",
       "  </thead>\n",
       "  <tbody>\n",
       "    <tr>\n",
       "      <th>Label</th>\n",
       "      <td>1989.0</td>\n",
       "      <td>0.535445</td>\n",
       "      <td>0.498867</td>\n",
       "      <td>0.0</td>\n",
       "      <td>0.0</td>\n",
       "      <td>1.0</td>\n",
       "      <td>1.0</td>\n",
       "      <td>1.0</td>\n",
       "    </tr>\n",
       "  </tbody>\n",
       "</table>\n",
       "</div>"
      ],
      "text/plain": [
       "        count      mean       std  min  25%  50%  75%  max\n",
       "Label  1989.0  0.535445  0.498867  0.0  0.0  1.0  1.0  1.0"
      ]
     },
     "execution_count": 6,
     "metadata": {},
     "output_type": "execute_result"
    }
   ],
   "source": [
    "df.describe().T"
   ]
  },
  {
   "cell_type": "markdown",
   "execution_count": null,
   "metadata": {
    "papermill": {
     "duration": 0.020324,
     "end_time": "2020-08-07T04:44:49.842856",
     "exception": false,
     "start_time": "2020-08-07T04:44:49.822532",
     "status": "completed"
    },
    "tags": []
   },
   "source": [
    "# Observation\n",
    "\n",
    "Here, after looking at the data, I feel we donot require date column and we can combine all the top 25 news into one single column. Hence, we can drop date column and merge the headline columns together. Also, since I would be using BERT for final classification and BERT allows only 512 tokens at a time, hence I would be taking combination of top 10 news only. "
   ]
  },
  {
   "cell_type": "code",
   "execution_count": 7,
   "metadata": {
    "execution": {
     "iopub.execute_input": "2020-08-07T04:44:49.924141Z",
     "iopub.status.busy": "2020-08-07T04:44:49.922916Z",
     "iopub.status.idle": "2020-08-07T04:44:49.929821Z",
     "shell.execute_reply": "2020-08-07T04:44:49.929041Z"
    },
    "papermill": {
     "duration": 0.066182,
     "end_time": "2020-08-07T04:44:49.929988",
     "exception": false,
     "start_time": "2020-08-07T04:44:49.863806",
     "status": "completed"
    },
    "tags": []
   },
   "outputs": [
    {
     "data": {
      "text/html": [
       "<div>\n",
       "<style scoped>\n",
       "    .dataframe tbody tr th:only-of-type {\n",
       "        vertical-align: middle;\n",
       "    }\n",
       "\n",
       "    .dataframe tbody tr th {\n",
       "        vertical-align: top;\n",
       "    }\n",
       "\n",
       "    .dataframe thead th {\n",
       "        text-align: right;\n",
       "    }\n",
       "</style>\n",
       "<table border=\"1\" class=\"dataframe\">\n",
       "  <thead>\n",
       "    <tr style=\"text-align: right;\">\n",
       "      <th></th>\n",
       "      <th>Label</th>\n",
       "      <th>Top1</th>\n",
       "      <th>Top2</th>\n",
       "      <th>Top3</th>\n",
       "      <th>Top4</th>\n",
       "      <th>Top5</th>\n",
       "      <th>Top6</th>\n",
       "      <th>Top7</th>\n",
       "      <th>Top8</th>\n",
       "      <th>Top9</th>\n",
       "      <th>...</th>\n",
       "      <th>Top16</th>\n",
       "      <th>Top17</th>\n",
       "      <th>Top18</th>\n",
       "      <th>Top19</th>\n",
       "      <th>Top20</th>\n",
       "      <th>Top21</th>\n",
       "      <th>Top22</th>\n",
       "      <th>Top23</th>\n",
       "      <th>Top24</th>\n",
       "      <th>Top25</th>\n",
       "    </tr>\n",
       "  </thead>\n",
       "  <tbody>\n",
       "    <tr>\n",
       "      <th>0</th>\n",
       "      <td>0</td>\n",
       "      <td>b\"Georgia 'downs two Russian warplanes' as cou...</td>\n",
       "      <td>b'BREAKING: Musharraf to be impeached.'</td>\n",
       "      <td>b'Russia Today: Columns of troops roll into So...</td>\n",
       "      <td>b'Russian tanks are moving towards the capital...</td>\n",
       "      <td>b\"Afghan children raped with 'impunity,' U.N. ...</td>\n",
       "      <td>b'150 Russian tanks have entered South Ossetia...</td>\n",
       "      <td>b\"Breaking: Georgia invades South Ossetia, Rus...</td>\n",
       "      <td>b\"The 'enemy combatent' trials are nothing but...</td>\n",
       "      <td>b'Georgian troops retreat from S. Osettain cap...</td>\n",
       "      <td>...</td>\n",
       "      <td>b'Georgia Invades South Ossetia - if Russia ge...</td>\n",
       "      <td>b'Al-Qaeda Faces Islamist Backlash'</td>\n",
       "      <td>b'Condoleezza Rice: \"The US would not act to p...</td>\n",
       "      <td>b'This is a busy day:  The European Union has ...</td>\n",
       "      <td>b\"Georgia will withdraw 1,000 soldiers from Ir...</td>\n",
       "      <td>b'Why the Pentagon Thinks Attacking Iran is a ...</td>\n",
       "      <td>b'Caucasus in crisis: Georgia invades South Os...</td>\n",
       "      <td>b'Indian shoe manufactory  - And again in a se...</td>\n",
       "      <td>b'Visitors Suffering from Mental Illnesses Ban...</td>\n",
       "      <td>b\"No Help for Mexico's Kidnapping Surge\"</td>\n",
       "    </tr>\n",
       "    <tr>\n",
       "      <th>1</th>\n",
       "      <td>1</td>\n",
       "      <td>b'Why wont America and Nato help us? If they w...</td>\n",
       "      <td>b'Bush puts foot down on Georgian conflict'</td>\n",
       "      <td>b\"Jewish Georgian minister: Thanks to Israeli ...</td>\n",
       "      <td>b'Georgian army flees in disarray as Russians ...</td>\n",
       "      <td>b\"Olympic opening ceremony fireworks 'faked'\"</td>\n",
       "      <td>b'What were the Mossad with fraudulent New Zea...</td>\n",
       "      <td>b'Russia angered by Israeli military sale to G...</td>\n",
       "      <td>b'An American citizen living in S.Ossetia blam...</td>\n",
       "      <td>b'Welcome To World War IV! Now In High Definit...</td>\n",
       "      <td>...</td>\n",
       "      <td>b'Israel and the US behind the Georgian aggres...</td>\n",
       "      <td>b'\"Do not believe TV, neither Russian nor Geor...</td>\n",
       "      <td>b'Riots are still going on in Montreal (Canada...</td>\n",
       "      <td>b'China to overtake US as largest manufacturer'</td>\n",
       "      <td>b'War in South Ossetia [PICS]'</td>\n",
       "      <td>b'Israeli Physicians Group Condemns State Tort...</td>\n",
       "      <td>b' Russia has just beaten the United States ov...</td>\n",
       "      <td>b'Perhaps *the* question about the Georgia - R...</td>\n",
       "      <td>b'Russia is so much better at war'</td>\n",
       "      <td>b\"So this is what it's come to: trading sex fo...</td>\n",
       "    </tr>\n",
       "    <tr>\n",
       "      <th>2</th>\n",
       "      <td>0</td>\n",
       "      <td>b'Remember that adorable 9-year-old who sang a...</td>\n",
       "      <td>b\"Russia 'ends Georgia operation'\"</td>\n",
       "      <td>b'\"If we had no sexual harassment we would hav...</td>\n",
       "      <td>b\"Al-Qa'eda is losing support in Iraq because ...</td>\n",
       "      <td>b'Ceasefire in Georgia: Putin Outmaneuvers the...</td>\n",
       "      <td>b'Why Microsoft and Intel tried to kill the XO...</td>\n",
       "      <td>b'Stratfor: The Russo-Georgian War and the Bal...</td>\n",
       "      <td>b\"I'm Trying to Get a Sense of This Whole Geor...</td>\n",
       "      <td>b\"The US military was surprised by the timing ...</td>\n",
       "      <td>...</td>\n",
       "      <td>b'U.S. troops still in Georgia (did you know t...</td>\n",
       "      <td>b'Why Russias response to Georgia was right'</td>\n",
       "      <td>b'Gorbachev accuses U.S. of making a \"serious ...</td>\n",
       "      <td>b'Russia, Georgia, and NATO: Cold War Two'</td>\n",
       "      <td>b'Remember that adorable 62-year-old who led y...</td>\n",
       "      <td>b'War in Georgia: The Israeli connection'</td>\n",
       "      <td>b'All signs point to the US encouraging Georgi...</td>\n",
       "      <td>b'Christopher King argues that the US and NATO...</td>\n",
       "      <td>b'America: The New Mexico?'</td>\n",
       "      <td>b\"BBC NEWS | Asia-Pacific | Extinction 'by man...</td>\n",
       "    </tr>\n",
       "    <tr>\n",
       "      <th>3</th>\n",
       "      <td>0</td>\n",
       "      <td>b' U.S. refuses Israel weapons to attack Iran:...</td>\n",
       "      <td>b\"When the president ordered to attack Tskhinv...</td>\n",
       "      <td>b' Israel clears troops who killed Reuters cam...</td>\n",
       "      <td>b'Britain\\'s policy of being tough on drugs is...</td>\n",
       "      <td>b'Body of 14 year old found in trunk; Latest (...</td>\n",
       "      <td>b'China has moved 10 *million* quake survivors...</td>\n",
       "      <td>b\"Bush announces Operation Get All Up In Russi...</td>\n",
       "      <td>b'Russian forces sink Georgian ships '</td>\n",
       "      <td>b\"The commander of a Navy air reconnaissance s...</td>\n",
       "      <td>...</td>\n",
       "      <td>b'Elephants extinct by 2020?'</td>\n",
       "      <td>b'US humanitarian missions soon in Georgia - i...</td>\n",
       "      <td>b\"Georgia's DDOS came from US sources\"</td>\n",
       "      <td>b'Russian convoy heads into Georgia, violating...</td>\n",
       "      <td>b'Israeli defence minister: US against strike ...</td>\n",
       "      <td>b'Gorbachev: We Had No Choice'</td>\n",
       "      <td>b'Witness: Russian forces head towards Tbilisi...</td>\n",
       "      <td>b' Quarter of Russians blame U.S. for conflict...</td>\n",
       "      <td>b'Georgian president  says US military will ta...</td>\n",
       "      <td>b'2006: Nobel laureate Aleksander Solzhenitsyn...</td>\n",
       "    </tr>\n",
       "    <tr>\n",
       "      <th>4</th>\n",
       "      <td>1</td>\n",
       "      <td>b'All the experts admit that we should legalis...</td>\n",
       "      <td>b'War in South Osetia - 89 pictures made by a ...</td>\n",
       "      <td>b'Swedish wrestler Ara Abrahamian throws away ...</td>\n",
       "      <td>b'Russia exaggerated the death toll in South O...</td>\n",
       "      <td>b'Missile That Killed 9 Inside Pakistan May Ha...</td>\n",
       "      <td>b\"Rushdie Condemns Random House's Refusal to P...</td>\n",
       "      <td>b'Poland and US agree to missle defense deal. ...</td>\n",
       "      <td>b'Will the Russians conquer Tblisi? Bet on it,...</td>\n",
       "      <td>b'Russia exaggerating South Ossetian death tol...</td>\n",
       "      <td>...</td>\n",
       "      <td>b'Bank analyst forecast Georgian crisis 2 days...</td>\n",
       "      <td>b\"Georgia confict could set back Russia's US r...</td>\n",
       "      <td>b'War in the Caucasus is as much the product o...</td>\n",
       "      <td>b'\"Non-media\" photos of South Ossetia/Georgia ...</td>\n",
       "      <td>b'Georgian TV reporter shot by Russian sniper ...</td>\n",
       "      <td>b'Saudi Arabia: Mother moves to block child ma...</td>\n",
       "      <td>b'Taliban wages war on humanitarian aid workers'</td>\n",
       "      <td>b'Russia: World  \"can forget about\" Georgia\\'s...</td>\n",
       "      <td>b'Darfur rebels accuse Sudan of mounting major...</td>\n",
       "      <td>b'Philippines : Peace Advocate say Muslims nee...</td>\n",
       "    </tr>\n",
       "  </tbody>\n",
       "</table>\n",
       "<p>5 rows × 26 columns</p>\n",
       "</div>"
      ],
      "text/plain": [
       "   Label                                               Top1  \\\n",
       "0      0  b\"Georgia 'downs two Russian warplanes' as cou...   \n",
       "1      1  b'Why wont America and Nato help us? If they w...   \n",
       "2      0  b'Remember that adorable 9-year-old who sang a...   \n",
       "3      0  b' U.S. refuses Israel weapons to attack Iran:...   \n",
       "4      1  b'All the experts admit that we should legalis...   \n",
       "\n",
       "                                                Top2  \\\n",
       "0            b'BREAKING: Musharraf to be impeached.'   \n",
       "1        b'Bush puts foot down on Georgian conflict'   \n",
       "2                 b\"Russia 'ends Georgia operation'\"   \n",
       "3  b\"When the president ordered to attack Tskhinv...   \n",
       "4  b'War in South Osetia - 89 pictures made by a ...   \n",
       "\n",
       "                                                Top3  \\\n",
       "0  b'Russia Today: Columns of troops roll into So...   \n",
       "1  b\"Jewish Georgian minister: Thanks to Israeli ...   \n",
       "2  b'\"If we had no sexual harassment we would hav...   \n",
       "3  b' Israel clears troops who killed Reuters cam...   \n",
       "4  b'Swedish wrestler Ara Abrahamian throws away ...   \n",
       "\n",
       "                                                Top4  \\\n",
       "0  b'Russian tanks are moving towards the capital...   \n",
       "1  b'Georgian army flees in disarray as Russians ...   \n",
       "2  b\"Al-Qa'eda is losing support in Iraq because ...   \n",
       "3  b'Britain\\'s policy of being tough on drugs is...   \n",
       "4  b'Russia exaggerated the death toll in South O...   \n",
       "\n",
       "                                                Top5  \\\n",
       "0  b\"Afghan children raped with 'impunity,' U.N. ...   \n",
       "1      b\"Olympic opening ceremony fireworks 'faked'\"   \n",
       "2  b'Ceasefire in Georgia: Putin Outmaneuvers the...   \n",
       "3  b'Body of 14 year old found in trunk; Latest (...   \n",
       "4  b'Missile That Killed 9 Inside Pakistan May Ha...   \n",
       "\n",
       "                                                Top6  \\\n",
       "0  b'150 Russian tanks have entered South Ossetia...   \n",
       "1  b'What were the Mossad with fraudulent New Zea...   \n",
       "2  b'Why Microsoft and Intel tried to kill the XO...   \n",
       "3  b'China has moved 10 *million* quake survivors...   \n",
       "4  b\"Rushdie Condemns Random House's Refusal to P...   \n",
       "\n",
       "                                                Top7  \\\n",
       "0  b\"Breaking: Georgia invades South Ossetia, Rus...   \n",
       "1  b'Russia angered by Israeli military sale to G...   \n",
       "2  b'Stratfor: The Russo-Georgian War and the Bal...   \n",
       "3  b\"Bush announces Operation Get All Up In Russi...   \n",
       "4  b'Poland and US agree to missle defense deal. ...   \n",
       "\n",
       "                                                Top8  \\\n",
       "0  b\"The 'enemy combatent' trials are nothing but...   \n",
       "1  b'An American citizen living in S.Ossetia blam...   \n",
       "2  b\"I'm Trying to Get a Sense of This Whole Geor...   \n",
       "3             b'Russian forces sink Georgian ships '   \n",
       "4  b'Will the Russians conquer Tblisi? Bet on it,...   \n",
       "\n",
       "                                                Top9  ...  \\\n",
       "0  b'Georgian troops retreat from S. Osettain cap...  ...   \n",
       "1  b'Welcome To World War IV! Now In High Definit...  ...   \n",
       "2  b\"The US military was surprised by the timing ...  ...   \n",
       "3  b\"The commander of a Navy air reconnaissance s...  ...   \n",
       "4  b'Russia exaggerating South Ossetian death tol...  ...   \n",
       "\n",
       "                                               Top16  \\\n",
       "0  b'Georgia Invades South Ossetia - if Russia ge...   \n",
       "1  b'Israel and the US behind the Georgian aggres...   \n",
       "2  b'U.S. troops still in Georgia (did you know t...   \n",
       "3                      b'Elephants extinct by 2020?'   \n",
       "4  b'Bank analyst forecast Georgian crisis 2 days...   \n",
       "\n",
       "                                               Top17  \\\n",
       "0                b'Al-Qaeda Faces Islamist Backlash'   \n",
       "1  b'\"Do not believe TV, neither Russian nor Geor...   \n",
       "2       b'Why Russias response to Georgia was right'   \n",
       "3  b'US humanitarian missions soon in Georgia - i...   \n",
       "4  b\"Georgia confict could set back Russia's US r...   \n",
       "\n",
       "                                               Top18  \\\n",
       "0  b'Condoleezza Rice: \"The US would not act to p...   \n",
       "1  b'Riots are still going on in Montreal (Canada...   \n",
       "2  b'Gorbachev accuses U.S. of making a \"serious ...   \n",
       "3             b\"Georgia's DDOS came from US sources\"   \n",
       "4  b'War in the Caucasus is as much the product o...   \n",
       "\n",
       "                                               Top19  \\\n",
       "0  b'This is a busy day:  The European Union has ...   \n",
       "1    b'China to overtake US as largest manufacturer'   \n",
       "2         b'Russia, Georgia, and NATO: Cold War Two'   \n",
       "3  b'Russian convoy heads into Georgia, violating...   \n",
       "4  b'\"Non-media\" photos of South Ossetia/Georgia ...   \n",
       "\n",
       "                                               Top20  \\\n",
       "0  b\"Georgia will withdraw 1,000 soldiers from Ir...   \n",
       "1                     b'War in South Ossetia [PICS]'   \n",
       "2  b'Remember that adorable 62-year-old who led y...   \n",
       "3  b'Israeli defence minister: US against strike ...   \n",
       "4  b'Georgian TV reporter shot by Russian sniper ...   \n",
       "\n",
       "                                               Top21  \\\n",
       "0  b'Why the Pentagon Thinks Attacking Iran is a ...   \n",
       "1  b'Israeli Physicians Group Condemns State Tort...   \n",
       "2          b'War in Georgia: The Israeli connection'   \n",
       "3                     b'Gorbachev: We Had No Choice'   \n",
       "4  b'Saudi Arabia: Mother moves to block child ma...   \n",
       "\n",
       "                                               Top22  \\\n",
       "0  b'Caucasus in crisis: Georgia invades South Os...   \n",
       "1  b' Russia has just beaten the United States ov...   \n",
       "2  b'All signs point to the US encouraging Georgi...   \n",
       "3  b'Witness: Russian forces head towards Tbilisi...   \n",
       "4   b'Taliban wages war on humanitarian aid workers'   \n",
       "\n",
       "                                               Top23  \\\n",
       "0  b'Indian shoe manufactory  - And again in a se...   \n",
       "1  b'Perhaps *the* question about the Georgia - R...   \n",
       "2  b'Christopher King argues that the US and NATO...   \n",
       "3  b' Quarter of Russians blame U.S. for conflict...   \n",
       "4  b'Russia: World  \"can forget about\" Georgia\\'s...   \n",
       "\n",
       "                                               Top24  \\\n",
       "0  b'Visitors Suffering from Mental Illnesses Ban...   \n",
       "1                 b'Russia is so much better at war'   \n",
       "2                        b'America: The New Mexico?'   \n",
       "3  b'Georgian president  says US military will ta...   \n",
       "4  b'Darfur rebels accuse Sudan of mounting major...   \n",
       "\n",
       "                                               Top25  \n",
       "0           b\"No Help for Mexico's Kidnapping Surge\"  \n",
       "1  b\"So this is what it's come to: trading sex fo...  \n",
       "2  b\"BBC NEWS | Asia-Pacific | Extinction 'by man...  \n",
       "3  b'2006: Nobel laureate Aleksander Solzhenitsyn...  \n",
       "4  b'Philippines : Peace Advocate say Muslims nee...  \n",
       "\n",
       "[5 rows x 26 columns]"
      ]
     },
     "execution_count": 7,
     "metadata": {},
     "output_type": "execute_result"
    }
   ],
   "source": [
    "df = df.drop(['Date'], axis=1)\n",
    "df.head()"
   ]
  },
  {
   "cell_type": "code",
   "execution_count": 8,
   "metadata": {
    "execution": {
     "iopub.execute_input": "2020-08-07T04:44:49.982031Z",
     "iopub.status.busy": "2020-08-07T04:44:49.980690Z",
     "iopub.status.idle": "2020-08-07T04:44:49.984994Z",
     "shell.execute_reply": "2020-08-07T04:44:49.985630Z"
    },
    "papermill": {
     "duration": 0.03346,
     "end_time": "2020-08-07T04:44:49.985856",
     "exception": false,
     "start_time": "2020-08-07T04:44:49.952396",
     "status": "completed"
    },
    "tags": []
   },
   "outputs": [
    {
     "name": "stdout",
     "output_type": "stream",
     "text": [
      "Index(['Label', 'Top1', 'Top2', 'Top3', 'Top4', 'Top5', 'Top6', 'Top7', 'Top8',\n",
      "       'Top9', 'Top10', 'Top11', 'Top12', 'Top13', 'Top14', 'Top15', 'Top16',\n",
      "       'Top17', 'Top18', 'Top19', 'Top20', 'Top21', 'Top22', 'Top23', 'Top24',\n",
      "       'Top25'],\n",
      "      dtype='object')\n"
     ]
    }
   ],
   "source": [
    "df_columns = df.columns\n",
    "print(df_columns)"
   ]
  },
  {
   "cell_type": "code",
   "execution_count": 9,
   "metadata": {
    "execution": {
     "iopub.execute_input": "2020-08-07T04:44:50.036594Z",
     "iopub.status.busy": "2020-08-07T04:44:50.035294Z",
     "iopub.status.idle": "2020-08-07T04:44:50.038738Z",
     "shell.execute_reply": "2020-08-07T04:44:50.037883Z"
    },
    "papermill": {
     "duration": 0.031657,
     "end_time": "2020-08-07T04:44:50.038911",
     "exception": false,
     "start_time": "2020-08-07T04:44:50.007254",
     "status": "completed"
    },
    "tags": []
   },
   "outputs": [],
   "source": [
    "columns = ['Top1']"
   ]
  },
  {
   "cell_type": "code",
   "execution_count": 10,
   "metadata": {
    "execution": {
     "iopub.execute_input": "2020-08-07T04:44:50.092284Z",
     "iopub.status.busy": "2020-08-07T04:44:50.091367Z",
     "iopub.status.idle": "2020-08-07T04:44:50.128303Z",
     "shell.execute_reply": "2020-08-07T04:44:50.127490Z"
    },
    "papermill": {
     "duration": 0.067672,
     "end_time": "2020-08-07T04:44:50.128486",
     "exception": false,
     "start_time": "2020-08-07T04:44:50.060814",
     "status": "completed"
    },
    "tags": []
   },
   "outputs": [],
   "source": [
    "df['combined_news'] = df[columns].apply(lambda row:'.'.join(row.values.astype(str)), axis=1)"
   ]
  },
  {
   "cell_type": "code",
   "execution_count": 11,
   "metadata": {
    "execution": {
     "iopub.execute_input": "2020-08-07T04:44:50.181761Z",
     "iopub.status.busy": "2020-08-07T04:44:50.180668Z",
     "iopub.status.idle": "2020-08-07T04:44:50.191752Z",
     "shell.execute_reply": "2020-08-07T04:44:50.190743Z"
    },
    "papermill": {
     "duration": 0.04135,
     "end_time": "2020-08-07T04:44:50.191922",
     "exception": false,
     "start_time": "2020-08-07T04:44:50.150572",
     "status": "completed"
    },
    "tags": []
   },
   "outputs": [],
   "source": [
    "df = df.drop(columns, axis=1)"
   ]
  },
  {
   "cell_type": "code",
   "execution_count": 12,
   "metadata": {
    "execution": {
     "iopub.execute_input": "2020-08-07T04:44:50.275512Z",
     "iopub.status.busy": "2020-08-07T04:44:50.274241Z",
     "iopub.status.idle": "2020-08-07T04:44:50.280773Z",
     "shell.execute_reply": "2020-08-07T04:44:50.280045Z"
    },
    "papermill": {
     "duration": 0.066063,
     "end_time": "2020-08-07T04:44:50.280964",
     "exception": false,
     "start_time": "2020-08-07T04:44:50.214901",
     "status": "completed"
    },
    "tags": []
   },
   "outputs": [
    {
     "data": {
      "text/html": [
       "<div>\n",
       "<style scoped>\n",
       "    .dataframe tbody tr th:only-of-type {\n",
       "        vertical-align: middle;\n",
       "    }\n",
       "\n",
       "    .dataframe tbody tr th {\n",
       "        vertical-align: top;\n",
       "    }\n",
       "\n",
       "    .dataframe thead th {\n",
       "        text-align: right;\n",
       "    }\n",
       "</style>\n",
       "<table border=\"1\" class=\"dataframe\">\n",
       "  <thead>\n",
       "    <tr style=\"text-align: right;\">\n",
       "      <th></th>\n",
       "      <th>Label</th>\n",
       "      <th>Top2</th>\n",
       "      <th>Top3</th>\n",
       "      <th>Top4</th>\n",
       "      <th>Top5</th>\n",
       "      <th>Top6</th>\n",
       "      <th>Top7</th>\n",
       "      <th>Top8</th>\n",
       "      <th>Top9</th>\n",
       "      <th>Top10</th>\n",
       "      <th>...</th>\n",
       "      <th>Top17</th>\n",
       "      <th>Top18</th>\n",
       "      <th>Top19</th>\n",
       "      <th>Top20</th>\n",
       "      <th>Top21</th>\n",
       "      <th>Top22</th>\n",
       "      <th>Top23</th>\n",
       "      <th>Top24</th>\n",
       "      <th>Top25</th>\n",
       "      <th>combined_news</th>\n",
       "    </tr>\n",
       "  </thead>\n",
       "  <tbody>\n",
       "    <tr>\n",
       "      <th>0</th>\n",
       "      <td>0</td>\n",
       "      <td>b'BREAKING: Musharraf to be impeached.'</td>\n",
       "      <td>b'Russia Today: Columns of troops roll into So...</td>\n",
       "      <td>b'Russian tanks are moving towards the capital...</td>\n",
       "      <td>b\"Afghan children raped with 'impunity,' U.N. ...</td>\n",
       "      <td>b'150 Russian tanks have entered South Ossetia...</td>\n",
       "      <td>b\"Breaking: Georgia invades South Ossetia, Rus...</td>\n",
       "      <td>b\"The 'enemy combatent' trials are nothing but...</td>\n",
       "      <td>b'Georgian troops retreat from S. Osettain cap...</td>\n",
       "      <td>b'Did the U.S. Prep Georgia for War with Russia?'</td>\n",
       "      <td>...</td>\n",
       "      <td>b'Al-Qaeda Faces Islamist Backlash'</td>\n",
       "      <td>b'Condoleezza Rice: \"The US would not act to p...</td>\n",
       "      <td>b'This is a busy day:  The European Union has ...</td>\n",
       "      <td>b\"Georgia will withdraw 1,000 soldiers from Ir...</td>\n",
       "      <td>b'Why the Pentagon Thinks Attacking Iran is a ...</td>\n",
       "      <td>b'Caucasus in crisis: Georgia invades South Os...</td>\n",
       "      <td>b'Indian shoe manufactory  - And again in a se...</td>\n",
       "      <td>b'Visitors Suffering from Mental Illnesses Ban...</td>\n",
       "      <td>b\"No Help for Mexico's Kidnapping Surge\"</td>\n",
       "      <td>b\"Georgia 'downs two Russian warplanes' as cou...</td>\n",
       "    </tr>\n",
       "    <tr>\n",
       "      <th>1</th>\n",
       "      <td>1</td>\n",
       "      <td>b'Bush puts foot down on Georgian conflict'</td>\n",
       "      <td>b\"Jewish Georgian minister: Thanks to Israeli ...</td>\n",
       "      <td>b'Georgian army flees in disarray as Russians ...</td>\n",
       "      <td>b\"Olympic opening ceremony fireworks 'faked'\"</td>\n",
       "      <td>b'What were the Mossad with fraudulent New Zea...</td>\n",
       "      <td>b'Russia angered by Israeli military sale to G...</td>\n",
       "      <td>b'An American citizen living in S.Ossetia blam...</td>\n",
       "      <td>b'Welcome To World War IV! Now In High Definit...</td>\n",
       "      <td>b\"Georgia's move, a mistake of monumental prop...</td>\n",
       "      <td>...</td>\n",
       "      <td>b'\"Do not believe TV, neither Russian nor Geor...</td>\n",
       "      <td>b'Riots are still going on in Montreal (Canada...</td>\n",
       "      <td>b'China to overtake US as largest manufacturer'</td>\n",
       "      <td>b'War in South Ossetia [PICS]'</td>\n",
       "      <td>b'Israeli Physicians Group Condemns State Tort...</td>\n",
       "      <td>b' Russia has just beaten the United States ov...</td>\n",
       "      <td>b'Perhaps *the* question about the Georgia - R...</td>\n",
       "      <td>b'Russia is so much better at war'</td>\n",
       "      <td>b\"So this is what it's come to: trading sex fo...</td>\n",
       "      <td>b'Why wont America and Nato help us? If they w...</td>\n",
       "    </tr>\n",
       "    <tr>\n",
       "      <th>2</th>\n",
       "      <td>0</td>\n",
       "      <td>b\"Russia 'ends Georgia operation'\"</td>\n",
       "      <td>b'\"If we had no sexual harassment we would hav...</td>\n",
       "      <td>b\"Al-Qa'eda is losing support in Iraq because ...</td>\n",
       "      <td>b'Ceasefire in Georgia: Putin Outmaneuvers the...</td>\n",
       "      <td>b'Why Microsoft and Intel tried to kill the XO...</td>\n",
       "      <td>b'Stratfor: The Russo-Georgian War and the Bal...</td>\n",
       "      <td>b\"I'm Trying to Get a Sense of This Whole Geor...</td>\n",
       "      <td>b\"The US military was surprised by the timing ...</td>\n",
       "      <td>b'U.S. Beats War Drum as Iran Dumps the Dollar'</td>\n",
       "      <td>...</td>\n",
       "      <td>b'Why Russias response to Georgia was right'</td>\n",
       "      <td>b'Gorbachev accuses U.S. of making a \"serious ...</td>\n",
       "      <td>b'Russia, Georgia, and NATO: Cold War Two'</td>\n",
       "      <td>b'Remember that adorable 62-year-old who led y...</td>\n",
       "      <td>b'War in Georgia: The Israeli connection'</td>\n",
       "      <td>b'All signs point to the US encouraging Georgi...</td>\n",
       "      <td>b'Christopher King argues that the US and NATO...</td>\n",
       "      <td>b'America: The New Mexico?'</td>\n",
       "      <td>b\"BBC NEWS | Asia-Pacific | Extinction 'by man...</td>\n",
       "      <td>b'Remember that adorable 9-year-old who sang a...</td>\n",
       "    </tr>\n",
       "    <tr>\n",
       "      <th>3</th>\n",
       "      <td>0</td>\n",
       "      <td>b\"When the president ordered to attack Tskhinv...</td>\n",
       "      <td>b' Israel clears troops who killed Reuters cam...</td>\n",
       "      <td>b'Britain\\'s policy of being tough on drugs is...</td>\n",
       "      <td>b'Body of 14 year old found in trunk; Latest (...</td>\n",
       "      <td>b'China has moved 10 *million* quake survivors...</td>\n",
       "      <td>b\"Bush announces Operation Get All Up In Russi...</td>\n",
       "      <td>b'Russian forces sink Georgian ships '</td>\n",
       "      <td>b\"The commander of a Navy air reconnaissance s...</td>\n",
       "      <td>b\"92% of CNN readers: Russia's actions in Geor...</td>\n",
       "      <td>...</td>\n",
       "      <td>b'US humanitarian missions soon in Georgia - i...</td>\n",
       "      <td>b\"Georgia's DDOS came from US sources\"</td>\n",
       "      <td>b'Russian convoy heads into Georgia, violating...</td>\n",
       "      <td>b'Israeli defence minister: US against strike ...</td>\n",
       "      <td>b'Gorbachev: We Had No Choice'</td>\n",
       "      <td>b'Witness: Russian forces head towards Tbilisi...</td>\n",
       "      <td>b' Quarter of Russians blame U.S. for conflict...</td>\n",
       "      <td>b'Georgian president  says US military will ta...</td>\n",
       "      <td>b'2006: Nobel laureate Aleksander Solzhenitsyn...</td>\n",
       "      <td>b' U.S. refuses Israel weapons to attack Iran:...</td>\n",
       "    </tr>\n",
       "    <tr>\n",
       "      <th>4</th>\n",
       "      <td>1</td>\n",
       "      <td>b'War in South Osetia - 89 pictures made by a ...</td>\n",
       "      <td>b'Swedish wrestler Ara Abrahamian throws away ...</td>\n",
       "      <td>b'Russia exaggerated the death toll in South O...</td>\n",
       "      <td>b'Missile That Killed 9 Inside Pakistan May Ha...</td>\n",
       "      <td>b\"Rushdie Condemns Random House's Refusal to P...</td>\n",
       "      <td>b'Poland and US agree to missle defense deal. ...</td>\n",
       "      <td>b'Will the Russians conquer Tblisi? Bet on it,...</td>\n",
       "      <td>b'Russia exaggerating South Ossetian death tol...</td>\n",
       "      <td>b' Musharraf expected to resign rather than fa...</td>\n",
       "      <td>...</td>\n",
       "      <td>b\"Georgia confict could set back Russia's US r...</td>\n",
       "      <td>b'War in the Caucasus is as much the product o...</td>\n",
       "      <td>b'\"Non-media\" photos of South Ossetia/Georgia ...</td>\n",
       "      <td>b'Georgian TV reporter shot by Russian sniper ...</td>\n",
       "      <td>b'Saudi Arabia: Mother moves to block child ma...</td>\n",
       "      <td>b'Taliban wages war on humanitarian aid workers'</td>\n",
       "      <td>b'Russia: World  \"can forget about\" Georgia\\'s...</td>\n",
       "      <td>b'Darfur rebels accuse Sudan of mounting major...</td>\n",
       "      <td>b'Philippines : Peace Advocate say Muslims nee...</td>\n",
       "      <td>b'All the experts admit that we should legalis...</td>\n",
       "    </tr>\n",
       "  </tbody>\n",
       "</table>\n",
       "<p>5 rows × 26 columns</p>\n",
       "</div>"
      ],
      "text/plain": [
       "   Label                                               Top2  \\\n",
       "0      0            b'BREAKING: Musharraf to be impeached.'   \n",
       "1      1        b'Bush puts foot down on Georgian conflict'   \n",
       "2      0                 b\"Russia 'ends Georgia operation'\"   \n",
       "3      0  b\"When the president ordered to attack Tskhinv...   \n",
       "4      1  b'War in South Osetia - 89 pictures made by a ...   \n",
       "\n",
       "                                                Top3  \\\n",
       "0  b'Russia Today: Columns of troops roll into So...   \n",
       "1  b\"Jewish Georgian minister: Thanks to Israeli ...   \n",
       "2  b'\"If we had no sexual harassment we would hav...   \n",
       "3  b' Israel clears troops who killed Reuters cam...   \n",
       "4  b'Swedish wrestler Ara Abrahamian throws away ...   \n",
       "\n",
       "                                                Top4  \\\n",
       "0  b'Russian tanks are moving towards the capital...   \n",
       "1  b'Georgian army flees in disarray as Russians ...   \n",
       "2  b\"Al-Qa'eda is losing support in Iraq because ...   \n",
       "3  b'Britain\\'s policy of being tough on drugs is...   \n",
       "4  b'Russia exaggerated the death toll in South O...   \n",
       "\n",
       "                                                Top5  \\\n",
       "0  b\"Afghan children raped with 'impunity,' U.N. ...   \n",
       "1      b\"Olympic opening ceremony fireworks 'faked'\"   \n",
       "2  b'Ceasefire in Georgia: Putin Outmaneuvers the...   \n",
       "3  b'Body of 14 year old found in trunk; Latest (...   \n",
       "4  b'Missile That Killed 9 Inside Pakistan May Ha...   \n",
       "\n",
       "                                                Top6  \\\n",
       "0  b'150 Russian tanks have entered South Ossetia...   \n",
       "1  b'What were the Mossad with fraudulent New Zea...   \n",
       "2  b'Why Microsoft and Intel tried to kill the XO...   \n",
       "3  b'China has moved 10 *million* quake survivors...   \n",
       "4  b\"Rushdie Condemns Random House's Refusal to P...   \n",
       "\n",
       "                                                Top7  \\\n",
       "0  b\"Breaking: Georgia invades South Ossetia, Rus...   \n",
       "1  b'Russia angered by Israeli military sale to G...   \n",
       "2  b'Stratfor: The Russo-Georgian War and the Bal...   \n",
       "3  b\"Bush announces Operation Get All Up In Russi...   \n",
       "4  b'Poland and US agree to missle defense deal. ...   \n",
       "\n",
       "                                                Top8  \\\n",
       "0  b\"The 'enemy combatent' trials are nothing but...   \n",
       "1  b'An American citizen living in S.Ossetia blam...   \n",
       "2  b\"I'm Trying to Get a Sense of This Whole Geor...   \n",
       "3             b'Russian forces sink Georgian ships '   \n",
       "4  b'Will the Russians conquer Tblisi? Bet on it,...   \n",
       "\n",
       "                                                Top9  \\\n",
       "0  b'Georgian troops retreat from S. Osettain cap...   \n",
       "1  b'Welcome To World War IV! Now In High Definit...   \n",
       "2  b\"The US military was surprised by the timing ...   \n",
       "3  b\"The commander of a Navy air reconnaissance s...   \n",
       "4  b'Russia exaggerating South Ossetian death tol...   \n",
       "\n",
       "                                               Top10  ...  \\\n",
       "0  b'Did the U.S. Prep Georgia for War with Russia?'  ...   \n",
       "1  b\"Georgia's move, a mistake of monumental prop...  ...   \n",
       "2    b'U.S. Beats War Drum as Iran Dumps the Dollar'  ...   \n",
       "3  b\"92% of CNN readers: Russia's actions in Geor...  ...   \n",
       "4  b' Musharraf expected to resign rather than fa...  ...   \n",
       "\n",
       "                                               Top17  \\\n",
       "0                b'Al-Qaeda Faces Islamist Backlash'   \n",
       "1  b'\"Do not believe TV, neither Russian nor Geor...   \n",
       "2       b'Why Russias response to Georgia was right'   \n",
       "3  b'US humanitarian missions soon in Georgia - i...   \n",
       "4  b\"Georgia confict could set back Russia's US r...   \n",
       "\n",
       "                                               Top18  \\\n",
       "0  b'Condoleezza Rice: \"The US would not act to p...   \n",
       "1  b'Riots are still going on in Montreal (Canada...   \n",
       "2  b'Gorbachev accuses U.S. of making a \"serious ...   \n",
       "3             b\"Georgia's DDOS came from US sources\"   \n",
       "4  b'War in the Caucasus is as much the product o...   \n",
       "\n",
       "                                               Top19  \\\n",
       "0  b'This is a busy day:  The European Union has ...   \n",
       "1    b'China to overtake US as largest manufacturer'   \n",
       "2         b'Russia, Georgia, and NATO: Cold War Two'   \n",
       "3  b'Russian convoy heads into Georgia, violating...   \n",
       "4  b'\"Non-media\" photos of South Ossetia/Georgia ...   \n",
       "\n",
       "                                               Top20  \\\n",
       "0  b\"Georgia will withdraw 1,000 soldiers from Ir...   \n",
       "1                     b'War in South Ossetia [PICS]'   \n",
       "2  b'Remember that adorable 62-year-old who led y...   \n",
       "3  b'Israeli defence minister: US against strike ...   \n",
       "4  b'Georgian TV reporter shot by Russian sniper ...   \n",
       "\n",
       "                                               Top21  \\\n",
       "0  b'Why the Pentagon Thinks Attacking Iran is a ...   \n",
       "1  b'Israeli Physicians Group Condemns State Tort...   \n",
       "2          b'War in Georgia: The Israeli connection'   \n",
       "3                     b'Gorbachev: We Had No Choice'   \n",
       "4  b'Saudi Arabia: Mother moves to block child ma...   \n",
       "\n",
       "                                               Top22  \\\n",
       "0  b'Caucasus in crisis: Georgia invades South Os...   \n",
       "1  b' Russia has just beaten the United States ov...   \n",
       "2  b'All signs point to the US encouraging Georgi...   \n",
       "3  b'Witness: Russian forces head towards Tbilisi...   \n",
       "4   b'Taliban wages war on humanitarian aid workers'   \n",
       "\n",
       "                                               Top23  \\\n",
       "0  b'Indian shoe manufactory  - And again in a se...   \n",
       "1  b'Perhaps *the* question about the Georgia - R...   \n",
       "2  b'Christopher King argues that the US and NATO...   \n",
       "3  b' Quarter of Russians blame U.S. for conflict...   \n",
       "4  b'Russia: World  \"can forget about\" Georgia\\'s...   \n",
       "\n",
       "                                               Top24  \\\n",
       "0  b'Visitors Suffering from Mental Illnesses Ban...   \n",
       "1                 b'Russia is so much better at war'   \n",
       "2                        b'America: The New Mexico?'   \n",
       "3  b'Georgian president  says US military will ta...   \n",
       "4  b'Darfur rebels accuse Sudan of mounting major...   \n",
       "\n",
       "                                               Top25  \\\n",
       "0           b\"No Help for Mexico's Kidnapping Surge\"   \n",
       "1  b\"So this is what it's come to: trading sex fo...   \n",
       "2  b\"BBC NEWS | Asia-Pacific | Extinction 'by man...   \n",
       "3  b'2006: Nobel laureate Aleksander Solzhenitsyn...   \n",
       "4  b'Philippines : Peace Advocate say Muslims nee...   \n",
       "\n",
       "                                       combined_news  \n",
       "0  b\"Georgia 'downs two Russian warplanes' as cou...  \n",
       "1  b'Why wont America and Nato help us? If they w...  \n",
       "2  b'Remember that adorable 9-year-old who sang a...  \n",
       "3  b' U.S. refuses Israel weapons to attack Iran:...  \n",
       "4  b'All the experts admit that we should legalis...  \n",
       "\n",
       "[5 rows x 26 columns]"
      ]
     },
     "execution_count": 12,
     "metadata": {},
     "output_type": "execute_result"
    }
   ],
   "source": [
    "df.head()"
   ]
  },
  {
   "cell_type": "code",
   "execution_count": 13,
   "metadata": {
    "execution": {
     "iopub.execute_input": "2020-08-07T04:44:50.337182Z",
     "iopub.status.busy": "2020-08-07T04:44:50.336039Z",
     "iopub.status.idle": "2020-08-07T04:44:50.339451Z",
     "shell.execute_reply": "2020-08-07T04:44:50.338804Z"
    },
    "papermill": {
     "duration": 0.035959,
     "end_time": "2020-08-07T04:44:50.339617",
     "exception": false,
     "start_time": "2020-08-07T04:44:50.303658",
     "status": "completed"
    },
    "tags": []
   },
   "outputs": [],
   "source": [
    "columns_2 = ['Top2','Top3', 'Top4', 'Top5','Top6', 'Top7', 'Top8', 'Top9', 'Top10', 'Top11', 'Top12', 'Top13', 'Top14', 'Top15', 'Top16', 'Top17', 'Top18', 'Top19', 'Top20', 'Top21', 'Top22', 'Top23','Top24', 'Top25']\n",
    "df = df.drop(columns_2, axis=1)"
   ]
  },
  {
   "cell_type": "code",
   "execution_count": 14,
   "metadata": {
    "execution": {
     "iopub.execute_input": "2020-08-07T04:44:50.398323Z",
     "iopub.status.busy": "2020-08-07T04:44:50.396969Z",
     "iopub.status.idle": "2020-08-07T04:44:50.402561Z",
     "shell.execute_reply": "2020-08-07T04:44:50.401884Z"
    },
    "papermill": {
     "duration": 0.040648,
     "end_time": "2020-08-07T04:44:50.402712",
     "exception": false,
     "start_time": "2020-08-07T04:44:50.362064",
     "status": "completed"
    },
    "tags": []
   },
   "outputs": [
    {
     "data": {
      "text/html": [
       "<div>\n",
       "<style scoped>\n",
       "    .dataframe tbody tr th:only-of-type {\n",
       "        vertical-align: middle;\n",
       "    }\n",
       "\n",
       "    .dataframe tbody tr th {\n",
       "        vertical-align: top;\n",
       "    }\n",
       "\n",
       "    .dataframe thead th {\n",
       "        text-align: right;\n",
       "    }\n",
       "</style>\n",
       "<table border=\"1\" class=\"dataframe\">\n",
       "  <thead>\n",
       "    <tr style=\"text-align: right;\">\n",
       "      <th></th>\n",
       "      <th>Label</th>\n",
       "      <th>combined_news</th>\n",
       "    </tr>\n",
       "  </thead>\n",
       "  <tbody>\n",
       "    <tr>\n",
       "      <th>0</th>\n",
       "      <td>0</td>\n",
       "      <td>b\"Georgia 'downs two Russian warplanes' as cou...</td>\n",
       "    </tr>\n",
       "    <tr>\n",
       "      <th>1</th>\n",
       "      <td>1</td>\n",
       "      <td>b'Why wont America and Nato help us? If they w...</td>\n",
       "    </tr>\n",
       "    <tr>\n",
       "      <th>2</th>\n",
       "      <td>0</td>\n",
       "      <td>b'Remember that adorable 9-year-old who sang a...</td>\n",
       "    </tr>\n",
       "    <tr>\n",
       "      <th>3</th>\n",
       "      <td>0</td>\n",
       "      <td>b' U.S. refuses Israel weapons to attack Iran:...</td>\n",
       "    </tr>\n",
       "    <tr>\n",
       "      <th>4</th>\n",
       "      <td>1</td>\n",
       "      <td>b'All the experts admit that we should legalis...</td>\n",
       "    </tr>\n",
       "  </tbody>\n",
       "</table>\n",
       "</div>"
      ],
      "text/plain": [
       "   Label                                      combined_news\n",
       "0      0  b\"Georgia 'downs two Russian warplanes' as cou...\n",
       "1      1  b'Why wont America and Nato help us? If they w...\n",
       "2      0  b'Remember that adorable 9-year-old who sang a...\n",
       "3      0  b' U.S. refuses Israel weapons to attack Iran:...\n",
       "4      1  b'All the experts admit that we should legalis..."
      ]
     },
     "execution_count": 14,
     "metadata": {},
     "output_type": "execute_result"
    }
   ],
   "source": [
    "df.head()"
   ]
  },
  {
   "cell_type": "markdown",
   "execution_count": null,
   "metadata": {
    "papermill": {
     "duration": 0.022757,
     "end_time": "2020-08-07T04:44:50.448549",
     "exception": false,
     "start_time": "2020-08-07T04:44:50.425792",
     "status": "completed"
    },
    "tags": []
   },
   "source": [
    "As we can clearly see, there are many html tags which should be removed to avoid any biases. "
   ]
  },
  {
   "cell_type": "code",
   "execution_count": 15,
   "metadata": {
    "execution": {
     "iopub.execute_input": "2020-08-07T04:44:50.517562Z",
     "iopub.status.busy": "2020-08-07T04:44:50.514841Z",
     "iopub.status.idle": "2020-08-07T04:44:50.522744Z",
     "shell.execute_reply": "2020-08-07T04:44:50.521788Z"
    },
    "papermill": {
     "duration": 0.051784,
     "end_time": "2020-08-07T04:44:50.523018",
     "exception": false,
     "start_time": "2020-08-07T04:44:50.471234",
     "status": "completed"
    },
    "tags": []
   },
   "outputs": [
    {
     "data": {
      "text/html": [
       "<div>\n",
       "<style scoped>\n",
       "    .dataframe tbody tr th:only-of-type {\n",
       "        vertical-align: middle;\n",
       "    }\n",
       "\n",
       "    .dataframe tbody tr th {\n",
       "        vertical-align: top;\n",
       "    }\n",
       "\n",
       "    .dataframe thead th {\n",
       "        text-align: right;\n",
       "    }\n",
       "</style>\n",
       "<table border=\"1\" class=\"dataframe\">\n",
       "  <thead>\n",
       "    <tr style=\"text-align: right;\">\n",
       "      <th></th>\n",
       "      <th>Label</th>\n",
       "      <th>combined_news</th>\n",
       "    </tr>\n",
       "  </thead>\n",
       "  <tbody>\n",
       "    <tr>\n",
       "      <th>0</th>\n",
       "      <td>0</td>\n",
       "      <td>Georgia 'downs two Russian warplanes' as count...</td>\n",
       "    </tr>\n",
       "    <tr>\n",
       "      <th>1</th>\n",
       "      <td>1</td>\n",
       "      <td>Why wont America and Nato help us? If they won...</td>\n",
       "    </tr>\n",
       "  </tbody>\n",
       "</table>\n",
       "</div>"
      ],
      "text/plain": [
       "   Label                                      combined_news\n",
       "0      0  Georgia 'downs two Russian warplanes' as count...\n",
       "1      1  Why wont America and Nato help us? If they won..."
      ]
     },
     "execution_count": 15,
     "metadata": {},
     "output_type": "execute_result"
    }
   ],
   "source": [
    "df = df.replace('b\\\"|b\\'|\\\\\\\\|\\\\\\\"', '', regex=True)\n",
    "df.head(2)"
   ]
  },
  {
   "cell_type": "markdown",
   "execution_count": null,
   "metadata": {
    "papermill": {
     "duration": 0.022741,
     "end_time": "2020-08-07T04:44:50.569692",
     "exception": false,
     "start_time": "2020-08-07T04:44:50.546951",
     "status": "completed"
    },
    "tags": []
   },
   "source": [
    "# EDA on final dataframe\n",
    "\n",
    "## Counting Labels\n",
    "\n",
    "Here, I am visualizing the number of times DJIA remanined the same/went up and number of times it went down."
   ]
  },
  {
   "cell_type": "code",
   "execution_count": 16,
   "metadata": {
    "execution": {
     "iopub.execute_input": "2020-08-07T04:44:50.631896Z",
     "iopub.status.busy": "2020-08-07T04:44:50.630613Z",
     "iopub.status.idle": "2020-08-07T04:44:51.931372Z",
     "shell.execute_reply": "2020-08-07T04:44:51.930404Z"
    },
    "papermill": {
     "duration": 1.338858,
     "end_time": "2020-08-07T04:44:51.931576",
     "exception": false,
     "start_time": "2020-08-07T04:44:50.592718",
     "status": "completed"
    },
    "tags": []
   },
   "outputs": [
    {
     "data": {
      "image/png": "[encoded data removed]",
      "text/plain": [
       "<Figure size 432x288 with 1 Axes>"
      ]
     },
     "metadata": {},
     "output_type": "display_data"
    }
   ],
   "source": [
    "import matplotlib.pyplot as plt\n",
    "plt.style.use('classic')\n",
    "%matplotlib inline\n",
    "import seaborn as sns\n",
    "sns.set()\n",
    "\n",
    "ax = sns.countplot(x='Label', hue='Label', data=df)"
   ]
  },
  {
   "cell_type": "markdown",
   "execution_count": null,
   "metadata": {
    "papermill": {
     "duration": 0.02385,
     "end_time": "2020-08-07T04:44:51.980059",
     "exception": false,
     "start_time": "2020-08-07T04:44:51.956209",
     "status": "completed"
    },
    "tags": []
   },
   "source": [
    "Now, lets visualize the most common terms that occur when DJIA remains the same or goes up."
   ]
  },
  {
   "cell_type": "code",
   "execution_count": 17,
   "metadata": {
    "execution": {
     "iopub.execute_input": "2020-08-07T04:44:52.040537Z",
     "iopub.status.busy": "2020-08-07T04:44:52.039435Z",
     "iopub.status.idle": "2020-08-07T04:44:52.044420Z",
     "shell.execute_reply": "2020-08-07T04:44:52.043565Z"
    },
    "papermill": {
     "duration": 0.040722,
     "end_time": "2020-08-07T04:44:52.044606",
     "exception": false,
     "start_time": "2020-08-07T04:44:52.003884",
     "status": "completed"
    },
    "tags": []
   },
   "outputs": [],
   "source": [
    "from collections import Counter\n",
    "\n",
    "# Copy df enteries in 2 separate lists based on labels\n",
    "\n",
    "data_djia_up = df[df['Label']==1].copy()\n",
    "data_djia_down = df[df['Label']==0].copy()"
   ]
  },
  {
   "cell_type": "code",
   "execution_count": 18,
   "metadata": {
    "execution": {
     "iopub.execute_input": "2020-08-07T04:44:52.102852Z",
     "iopub.status.busy": "2020-08-07T04:44:52.101583Z",
     "iopub.status.idle": "2020-08-07T04:44:52.105776Z",
     "shell.execute_reply": "2020-08-07T04:44:52.106396Z"
    },
    "papermill": {
     "duration": 0.038391,
     "end_time": "2020-08-07T04:44:52.106621",
     "exception": false,
     "start_time": "2020-08-07T04:44:52.068230",
     "status": "completed"
    },
    "tags": []
   },
   "outputs": [
    {
     "name": "stdout",
     "output_type": "stream",
     "text": [
      "   Label                                      combined_news\n",
      "1      1  Why wont America and Nato help us? If they won...\n",
      "4      1  All the experts admit that we should legalise ...\n"
     ]
    }
   ],
   "source": [
    "print(data_djia_up[:2])"
   ]
  },
  {
   "cell_type": "code",
   "execution_count": 19,
   "metadata": {
    "execution": {
     "iopub.execute_input": "2020-08-07T04:44:52.164912Z",
     "iopub.status.busy": "2020-08-07T04:44:52.163995Z",
     "iopub.status.idle": "2020-08-07T04:44:52.169697Z",
     "shell.execute_reply": "2020-08-07T04:44:52.169003Z"
    },
    "papermill": {
     "duration": 0.039749,
     "end_time": "2020-08-07T04:44:52.169868",
     "exception": false,
     "start_time": "2020-08-07T04:44:52.130119",
     "status": "completed"
    },
    "tags": []
   },
   "outputs": [
    {
     "name": "stdout",
     "output_type": "stream",
     "text": [
      "   Label                                      combined_news\n",
      "0      0  Georgia 'downs two Russian warplanes' as count...\n",
      "2      0  Remember that adorable 9-year-old who sang at ...\n"
     ]
    }
   ],
   "source": [
    "print(data_djia_down[:2])"
   ]
  },
  {
   "cell_type": "markdown",
   "execution_count": null,
   "metadata": {
    "papermill": {
     "duration": 0.023278,
     "end_time": "2020-08-07T04:44:52.217557",
     "exception": false,
     "start_time": "2020-08-07T04:44:52.194279",
     "status": "completed"
    },
    "tags": []
   },
   "source": [
    "# Data pre-processing\n",
    "\n",
    "Now that we have separated the contents of dataframe based on their labels, we need to pre-process the `combined_news` coloumn. This will involve the following steps -<br>\n",
    "1. Punctuation removal\n",
    "2. Stopwords removal\n",
    "\n",
    "## Punctuations"
   ]
  },
  {
   "cell_type": "code",
   "execution_count": 20,
   "metadata": {
    "execution": {
     "iopub.execute_input": "2020-08-07T04:44:52.272093Z",
     "iopub.status.busy": "2020-08-07T04:44:52.270929Z",
     "iopub.status.idle": "2020-08-07T04:44:52.274682Z",
     "shell.execute_reply": "2020-08-07T04:44:52.275488Z"
    },
    "papermill": {
     "duration": 0.034504,
     "end_time": "2020-08-07T04:44:52.275738",
     "exception": false,
     "start_time": "2020-08-07T04:44:52.241234",
     "status": "completed"
    },
    "tags": []
   },
   "outputs": [
    {
     "name": "stdout",
     "output_type": "stream",
     "text": [
      "!\"#$%&'()*+,-./:;<=>?@[\\]^_`{|}~\n"
     ]
    }
   ],
   "source": [
    "import string\n",
    "print(string.punctuation)"
   ]
  },
  {
   "cell_type": "markdown",
   "execution_count": null,
   "metadata": {
    "papermill": {
     "duration": 0.023667,
     "end_time": "2020-08-07T04:44:52.324849",
     "exception": false,
     "start_time": "2020-08-07T04:44:52.301182",
     "status": "completed"
    },
    "tags": []
   },
   "source": [
    "## Stopwords\n",
    "Stop words are words like “and”, “the”, “him”, which are presumed to be uninformative in representing the content of a text, and which may be removed to avoid them being construed as signal for prediction."
   ]
  },
  {
   "cell_type": "code",
   "execution_count": 21,
   "metadata": {
    "execution": {
     "iopub.execute_input": "2020-08-07T04:44:52.380016Z",
     "iopub.status.busy": "2020-08-07T04:44:52.379139Z",
     "iopub.status.idle": "2020-08-07T04:44:53.381804Z",
     "shell.execute_reply": "2020-08-07T04:44:53.380777Z"
    },
    "papermill": {
     "duration": 1.033333,
     "end_time": "2020-08-07T04:44:53.381995",
     "exception": false,
     "start_time": "2020-08-07T04:44:52.348662",
     "status": "completed"
    },
    "tags": []
   },
   "outputs": [
    {
     "name": "stdout",
     "output_type": "stream",
     "text": [
      "[\"you've\", \"you'll\", \"you'd\", 'your', 'yours']\n"
     ]
    }
   ],
   "source": [
    "from nltk.corpus import stopwords\n",
    "print(stopwords.words('english')[10:15])"
   ]
  },
  {
   "cell_type": "code",
   "execution_count": 22,
   "metadata": {
    "execution": {
     "iopub.execute_input": "2020-08-07T04:44:53.445760Z",
     "iopub.status.busy": "2020-08-07T04:44:53.440612Z",
     "iopub.status.idle": "2020-08-07T04:44:53.451425Z",
     "shell.execute_reply": "2020-08-07T04:44:53.450549Z"
    },
    "papermill": {
     "duration": 0.045235,
     "end_time": "2020-08-07T04:44:53.451601",
     "exception": false,
     "start_time": "2020-08-07T04:44:53.406366",
     "status": "completed"
    },
    "tags": []
   },
   "outputs": [],
   "source": [
    "def punctuation_stopwords_removal(news_article):\n",
    "    # filters charecter-by-charecter : ['h', 'e', 'e', 'l', 'o', 'o', ' ', 'm', 'y', ' ', 'n', 'a', 'm', 'e', ' ', 'i', 's', ' ', 'p', 'u', 'r', 'v', 'a']\n",
    "    remove_punctuation = [ch for ch in news_article if ch not in string.punctuation]\n",
    "    # convert them back to sentences and split into words\n",
    "    remove_punctuation = \"\".join(remove_punctuation).split()\n",
    "    filtered_news_article = [word.lower() for word in remove_punctuation if word.lower() not in stopwords.words('english')]\n",
    "    return filtered_news_article"
   ]
  },
  {
   "cell_type": "code",
   "execution_count": 23,
   "metadata": {
    "execution": {
     "iopub.execute_input": "2020-08-07T04:44:53.509131Z",
     "iopub.status.busy": "2020-08-07T04:44:53.508152Z",
     "iopub.status.idle": "2020-08-07T04:44:56.655211Z",
     "shell.execute_reply": "2020-08-07T04:44:56.654526Z"
    },
    "papermill": {
     "duration": 3.178672,
     "end_time": "2020-08-07T04:44:56.655395",
     "exception": false,
     "start_time": "2020-08-07T04:44:53.476723",
     "status": "completed"
    },
    "tags": []
   },
   "outputs": [
    {
     "name": "stdout",
     "output_type": "stream",
     "text": [
      "   Label                                      combined_news\n",
      "1      1  [wont, america, nato, help, us, wont, help, us...\n"
     ]
    }
   ],
   "source": [
    "data_djia_up.loc[:, 'combined_news'] = data_djia_up['combined_news'].apply(punctuation_stopwords_removal)\n",
    "print(data_djia_up[:1])"
   ]
  },
  {
   "cell_type": "code",
   "execution_count": 24,
   "metadata": {
    "execution": {
     "iopub.execute_input": "2020-08-07T04:44:56.712917Z",
     "iopub.status.busy": "2020-08-07T04:44:56.711654Z",
     "iopub.status.idle": "2020-08-07T04:44:56.715233Z",
     "shell.execute_reply": "2020-08-07T04:44:56.714517Z"
    },
    "papermill": {
     "duration": 0.034944,
     "end_time": "2020-08-07T04:44:56.715402",
     "exception": false,
     "start_time": "2020-08-07T04:44:56.680458",
     "status": "completed"
    },
    "tags": []
   },
   "outputs": [],
   "source": [
    "words_djia_up = data_djia_up['combined_news'].tolist()"
   ]
  },
  {
   "cell_type": "code",
   "execution_count": 25,
   "metadata": {
    "execution": {
     "iopub.execute_input": "2020-08-07T04:44:56.773436Z",
     "iopub.status.busy": "2020-08-07T04:44:56.772401Z",
     "iopub.status.idle": "2020-08-07T04:44:56.777841Z",
     "shell.execute_reply": "2020-08-07T04:44:56.777179Z"
    },
    "papermill": {
     "duration": 0.037754,
     "end_time": "2020-08-07T04:44:56.777999",
     "exception": false,
     "start_time": "2020-08-07T04:44:56.740245",
     "status": "completed"
    },
    "tags": []
   },
   "outputs": [
    {
     "data": {
      "text/plain": [
       "[['wont',\n",
       "  'america',\n",
       "  'nato',\n",
       "  'help',\n",
       "  'us',\n",
       "  'wont',\n",
       "  'help',\n",
       "  'us',\n",
       "  'help',\n",
       "  'iraq'],\n",
       " ['experts', 'admit', 'legalise', 'drugs'],\n",
       " ['mom',\n",
       "  'missing',\n",
       "  'gay',\n",
       "  'man',\n",
       "  'bad',\n",
       "  'hes',\n",
       "  '21yearold',\n",
       "  'cheerleader',\n",
       "  'theyd',\n",
       "  'still',\n",
       "  'looking']]"
      ]
     },
     "execution_count": 25,
     "metadata": {},
     "output_type": "execute_result"
    }
   ],
   "source": [
    "words_djia_up[:3]"
   ]
  },
  {
   "cell_type": "code",
   "execution_count": 26,
   "metadata": {
    "execution": {
     "iopub.execute_input": "2020-08-07T04:44:56.836952Z",
     "iopub.status.busy": "2020-08-07T04:44:56.836000Z",
     "iopub.status.idle": "2020-08-07T04:44:59.627726Z",
     "shell.execute_reply": "2020-08-07T04:44:59.626883Z"
    },
    "papermill": {
     "duration": 2.824896,
     "end_time": "2020-08-07T04:44:59.627882",
     "exception": false,
     "start_time": "2020-08-07T04:44:56.802986",
     "status": "completed"
    },
    "tags": []
   },
   "outputs": [
    {
     "name": "stdout",
     "output_type": "stream",
     "text": [
      "[['georgia', 'downs', 'two', 'russian', 'warplanes', 'countries', 'move', 'brink', 'war'], ['remember', 'adorable', '9yearold', 'sang', 'opening', 'ceremonies', 'fake']]\n"
     ]
    }
   ],
   "source": [
    "data_djia_down.loc[:, 'combined_news'] = data_djia_down['combined_news'].apply(punctuation_stopwords_removal)\n",
    "words_djia_down = data_djia_down['combined_news'].tolist()\n",
    "print(words_djia_down[:2])"
   ]
  },
  {
   "cell_type": "code",
   "execution_count": 27,
   "metadata": {
    "execution": {
     "iopub.execute_input": "2020-08-07T04:44:59.691903Z",
     "iopub.status.busy": "2020-08-07T04:44:59.690850Z",
     "iopub.status.idle": "2020-08-07T04:44:59.695163Z",
     "shell.execute_reply": "2020-08-07T04:44:59.694336Z"
    },
    "papermill": {
     "duration": 0.042776,
     "end_time": "2020-08-07T04:44:59.695317",
     "exception": false,
     "start_time": "2020-08-07T04:44:59.652541",
     "status": "completed"
    },
    "tags": []
   },
   "outputs": [],
   "source": [
    "djia_up_list = []\n",
    "for sublist in words_djia_up:\n",
    "    for words in sublist:\n",
    "        djia_up_list.append(words)\n",
    "\n",
    "djia_down_list = []\n",
    "for sublist in words_djia_down:\n",
    "    for words in sublist:\n",
    "        djia_down_list.append(words)\n",
    "        "
   ]
  },
  {
   "cell_type": "code",
   "execution_count": 28,
   "metadata": {
    "execution": {
     "iopub.execute_input": "2020-08-07T04:44:59.752123Z",
     "iopub.status.busy": "2020-08-07T04:44:59.751251Z",
     "iopub.status.idle": "2020-08-07T04:44:59.754732Z",
     "shell.execute_reply": "2020-08-07T04:44:59.755322Z"
    },
    "papermill": {
     "duration": 0.035378,
     "end_time": "2020-08-07T04:44:59.755555",
     "exception": false,
     "start_time": "2020-08-07T04:44:59.720177",
     "status": "completed"
    },
    "tags": []
   },
   "outputs": [
    {
     "name": "stdout",
     "output_type": "stream",
     "text": [
      "DJIA up list : 13443\n",
      "DJIA down list : 11955\n"
     ]
    }
   ],
   "source": [
    "print('DJIA up list : {}'.format(len(djia_up_list)))\n",
    "print('DJIA down list : {}'.format(len(djia_down_list)))"
   ]
  },
  {
   "cell_type": "code",
   "execution_count": 29,
   "metadata": {
    "execution": {
     "iopub.execute_input": "2020-08-07T04:44:59.901726Z",
     "iopub.status.busy": "2020-08-07T04:44:59.900431Z",
     "iopub.status.idle": "2020-08-07T04:44:59.904058Z",
     "shell.execute_reply": "2020-08-07T04:44:59.903368Z"
    },
    "papermill": {
     "duration": 0.124018,
     "end_time": "2020-08-07T04:44:59.904212",
     "exception": false,
     "start_time": "2020-08-07T04:44:59.780194",
     "status": "completed"
    },
    "tags": []
   },
   "outputs": [],
   "source": [
    "djia_up_counter = Counter(djia_up_list)\n",
    "djia_down_counter = Counter(djia_down_list)\n",
    "\n",
    "djia_up_top_30_words = pd.DataFrame(djia_up_counter.most_common(30), columns=['word', 'count'])\n",
    "djia_down_top_30_words = pd.DataFrame(djia_down_counter.most_common(30), columns=['word', 'count'])"
   ]
  },
  {
   "cell_type": "code",
   "execution_count": 30,
   "metadata": {
    "execution": {
     "iopub.execute_input": "2020-08-07T04:44:59.978125Z",
     "iopub.status.busy": "2020-08-07T04:44:59.976841Z",
     "iopub.status.idle": "2020-08-07T04:45:00.565804Z",
     "shell.execute_reply": "2020-08-07T04:45:00.564834Z"
    },
    "papermill": {
     "duration": 0.636928,
     "end_time": "2020-08-07T04:45:00.565983",
     "exception": false,
     "start_time": "2020-08-07T04:44:59.929055",
     "status": "completed"
    },
    "tags": []
   },
   "outputs": [
    {
     "data": {
      "text/plain": [
       "(array([ 0,  1,  2,  3,  4,  5,  6,  7,  8,  9, 10, 11, 12, 13, 14, 15, 16,\n",
       "        17, 18, 19, 20, 21, 22, 23, 24, 25, 26, 27, 28, 29]),\n",
       " <a list of 30 Text major ticklabel objects>)"
      ]
     },
     "execution_count": 30,
     "metadata": {},
     "output_type": "execute_result"
    },
    {
     "data": {
      "image/png": "[encoded data removed]",
      "text/plain": [
       "<Figure size 720x432 with 1 Axes>"
      ]
     },
     "metadata": {
      "needs_background": "light"
     },
     "output_type": "display_data"
    }
   ],
   "source": [
    "import matplotlib.pyplot as plt\n",
    "import seaborn as sns\n",
    "%matplotlib inline\n",
    "\n",
    "fig, ax = plt.subplots(figsize=(10, 6))\n",
    "sns.barplot(x='word', y='count', data=djia_up_top_30_words, ax=ax)\n",
    "plt.title('Top 30 words when DJIA goes up')\n",
    "plt.xticks(rotation='vertical')"
   ]
  },
  {
   "cell_type": "code",
   "execution_count": 31,
   "metadata": {
    "execution": {
     "iopub.execute_input": "2020-08-07T04:45:00.640585Z",
     "iopub.status.busy": "2020-08-07T04:45:00.634257Z",
     "iopub.status.idle": "2020-08-07T04:45:01.222827Z",
     "shell.execute_reply": "2020-08-07T04:45:01.221793Z"
    },
    "papermill": {
     "duration": 0.630886,
     "end_time": "2020-08-07T04:45:01.223009",
     "exception": false,
     "start_time": "2020-08-07T04:45:00.592123",
     "status": "completed"
    },
    "tags": []
   },
   "outputs": [
    {
     "data": {
      "text/plain": [
       "(array([ 0,  1,  2,  3,  4,  5,  6,  7,  8,  9, 10, 11, 12, 13, 14, 15, 16,\n",
       "        17, 18, 19, 20, 21, 22, 23, 24, 25, 26, 27, 28, 29]),\n",
       " <a list of 30 Text major ticklabel objects>)"
      ]
     },
     "execution_count": 31,
     "metadata": {},
     "output_type": "execute_result"
    },
    {
     "data": {
      "image/png": "[encoded data removed]",
      "text/plain": [
       "<Figure size 720x432 with 1 Axes>"
      ]
     },
     "metadata": {
      "needs_background": "light"
     },
     "output_type": "display_data"
    }
   ],
   "source": [
    "import matplotlib.pyplot as plt\n",
    "import seaborn as sns\n",
    "%matplotlib inline\n",
    "\n",
    "fig, ax = plt.subplots(figsize=(10, 6))\n",
    "sns.barplot(x='word', y='count', data=djia_down_top_30_words, ax=ax)\n",
    "plt.title('Top 30 words when DJIA goes down')\n",
    "plt.xticks(rotation='vertical')"
   ]
  },
  {
   "cell_type": "markdown",
   "execution_count": null,
   "metadata": {
    "papermill": {
     "duration": 0.02709,
     "end_time": "2020-08-07T04:45:01.277791",
     "exception": false,
     "start_time": "2020-08-07T04:45:01.250701",
     "status": "completed"
    },
    "tags": []
   },
   "source": [
    "# Using DistilBERT for DJIA movement prediction\n",
    "\n",
    "Here, we would be using DistilBert for predicting the movement of DJIA. <br>\n",
    "You can also view Jalammar's notebook on [using BERT for the first time](https://github.com/jalammar/jalammar.github.io/blob/master/notebooks/bert/A_Visual_Notebook_to_Using_BERT_for_the_First_Time.ipynb)<br>\n",
    "Let's have a look at our pre-processed dataset :"
   ]
  },
  {
   "cell_type": "code",
   "execution_count": 32,
   "metadata": {
    "execution": {
     "iopub.execute_input": "2020-08-07T04:45:01.346987Z",
     "iopub.status.busy": "2020-08-07T04:45:01.345949Z",
     "iopub.status.idle": "2020-08-07T04:45:01.351912Z",
     "shell.execute_reply": "2020-08-07T04:45:01.351182Z"
    },
    "papermill": {
     "duration": 0.045809,
     "end_time": "2020-08-07T04:45:01.352070",
     "exception": false,
     "start_time": "2020-08-07T04:45:01.306261",
     "status": "completed"
    },
    "tags": []
   },
   "outputs": [
    {
     "data": {
      "text/html": [
       "<div>\n",
       "<style scoped>\n",
       "    .dataframe tbody tr th:only-of-type {\n",
       "        vertical-align: middle;\n",
       "    }\n",
       "\n",
       "    .dataframe tbody tr th {\n",
       "        vertical-align: top;\n",
       "    }\n",
       "\n",
       "    .dataframe thead th {\n",
       "        text-align: right;\n",
       "    }\n",
       "</style>\n",
       "<table border=\"1\" class=\"dataframe\">\n",
       "  <thead>\n",
       "    <tr style=\"text-align: right;\">\n",
       "      <th></th>\n",
       "      <th>Label</th>\n",
       "      <th>combined_news</th>\n",
       "    </tr>\n",
       "  </thead>\n",
       "  <tbody>\n",
       "    <tr>\n",
       "      <th>0</th>\n",
       "      <td>0</td>\n",
       "      <td>Georgia 'downs two Russian warplanes' as count...</td>\n",
       "    </tr>\n",
       "    <tr>\n",
       "      <th>1</th>\n",
       "      <td>1</td>\n",
       "      <td>Why wont America and Nato help us? If they won...</td>\n",
       "    </tr>\n",
       "    <tr>\n",
       "      <th>2</th>\n",
       "      <td>0</td>\n",
       "      <td>Remember that adorable 9-year-old who sang at ...</td>\n",
       "    </tr>\n",
       "    <tr>\n",
       "      <th>3</th>\n",
       "      <td>0</td>\n",
       "      <td>U.S. refuses Israel weapons to attack Iran: r...</td>\n",
       "    </tr>\n",
       "    <tr>\n",
       "      <th>4</th>\n",
       "      <td>1</td>\n",
       "      <td>All the experts admit that we should legalise ...</td>\n",
       "    </tr>\n",
       "  </tbody>\n",
       "</table>\n",
       "</div>"
      ],
      "text/plain": [
       "   Label                                      combined_news\n",
       "0      0  Georgia 'downs two Russian warplanes' as count...\n",
       "1      1  Why wont America and Nato help us? If they won...\n",
       "2      0  Remember that adorable 9-year-old who sang at ...\n",
       "3      0   U.S. refuses Israel weapons to attack Iran: r...\n",
       "4      1  All the experts admit that we should legalise ..."
      ]
     },
     "execution_count": 32,
     "metadata": {},
     "output_type": "execute_result"
    }
   ],
   "source": [
    "df.head()"
   ]
  },
  {
   "cell_type": "code",
   "execution_count": 33,
   "metadata": {
    "execution": {
     "iopub.execute_input": "2020-08-07T04:45:01.412934Z",
     "iopub.status.busy": "2020-08-07T04:45:01.411910Z",
     "iopub.status.idle": "2020-08-07T04:45:11.315596Z",
     "shell.execute_reply": "2020-08-07T04:45:11.314635Z"
    },
    "papermill": {
     "duration": 9.937248,
     "end_time": "2020-08-07T04:45:11.315764",
     "exception": false,
     "start_time": "2020-08-07T04:45:01.378516",
     "status": "completed"
    },
    "tags": []
   },
   "outputs": [
    {
     "name": "stdout",
     "output_type": "stream",
     "text": [
      "Requirement already satisfied: transformers in /opt/conda/lib/python3.7/site-packages (2.11.0)\r\n",
      "Requirement already satisfied: sentencepiece in /opt/conda/lib/python3.7/site-packages (from transformers) (0.1.91)\r\n",
      "Requirement already satisfied: regex!=2019.12.17 in /opt/conda/lib/python3.7/site-packages (from transformers) (2020.4.4)\r\n",
      "Requirement already satisfied: tqdm>=4.27 in /opt/conda/lib/python3.7/site-packages (from transformers) (4.45.0)\r\n",
      "Requirement already satisfied: sacremoses in /opt/conda/lib/python3.7/site-packages (from transformers) (0.0.43)\r\n",
      "Requirement already satisfied: packaging in /opt/conda/lib/python3.7/site-packages (from transformers) (20.1)\r\n",
      "Requirement already satisfied: tokenizers==0.7.0 in /opt/conda/lib/python3.7/site-packages (from transformers) (0.7.0)\r\n",
      "Requirement already satisfied: filelock in /opt/conda/lib/python3.7/site-packages (from transformers) (3.0.10)\r\n",
      "Requirement already satisfied: numpy in /opt/conda/lib/python3.7/site-packages (from transformers) (1.18.5)\r\n",
      "Requirement already satisfied: requests in /opt/conda/lib/python3.7/site-packages (from transformers) (2.23.0)\r\n",
      "Requirement already satisfied: six in /opt/conda/lib/python3.7/site-packages (from sacremoses->transformers) (1.14.0)\r\n",
      "Requirement already satisfied: click in /opt/conda/lib/python3.7/site-packages (from sacremoses->transformers) (7.1.1)\r\n",
      "Requirement already satisfied: joblib in /opt/conda/lib/python3.7/site-packages (from sacremoses->transformers) (0.14.1)\r\n",
      "Requirement already satisfied: pyparsing>=2.0.2 in /opt/conda/lib/python3.7/site-packages (from packaging->transformers) (2.4.7)\r\n",
      "Requirement already satisfied: chardet<4,>=3.0.2 in /opt/conda/lib/python3.7/site-packages (from requests->transformers) (3.0.4)\r\n",
      "Requirement already satisfied: certifi>=2017.4.17 in /opt/conda/lib/python3.7/site-packages (from requests->transformers) (2020.6.20)\r\n",
      "Requirement already satisfied: idna<3,>=2.5 in /opt/conda/lib/python3.7/site-packages (from requests->transformers) (2.9)\r\n",
      "Requirement already satisfied: urllib3!=1.25.0,!=1.25.1,<1.26,>=1.21.1 in /opt/conda/lib/python3.7/site-packages (from requests->transformers) (1.24.3)\r\n",
      "\u001b[33mWARNING: You are using pip version 20.1.1; however, version 20.2.1 is available.\r\n",
      "You should consider upgrading via the '/opt/conda/bin/python3.7 -m pip install --upgrade pip' command.\u001b[0m\r\n"
     ]
    }
   ],
   "source": [
    "!pip install transformers"
   ]
  },
  {
   "cell_type": "code",
   "execution_count": 34,
   "metadata": {
    "execution": {
     "iopub.execute_input": "2020-08-07T04:45:11.379636Z",
     "iopub.status.busy": "2020-08-07T04:45:11.378684Z",
     "iopub.status.idle": "2020-08-07T04:45:19.986758Z",
     "shell.execute_reply": "2020-08-07T04:45:19.985908Z"
    },
    "papermill": {
     "duration": 8.643747,
     "end_time": "2020-08-07T04:45:19.986950",
     "exception": false,
     "start_time": "2020-08-07T04:45:11.343203",
     "status": "completed"
    },
    "tags": []
   },
   "outputs": [
    {
     "name": "stderr",
     "output_type": "stream",
     "text": [
      "\u001b[34m\u001b[1mwandb\u001b[0m: \u001b[33mWARNING\u001b[0m W&B installed but not logged in.  Run `wandb login` or set the WANDB_API_KEY env variable.\n"
     ]
    }
   ],
   "source": [
    "from sklearn.model_selection import train_test_split\n",
    "from sklearn.linear_model import LogisticRegression\n",
    "from sklearn.model_selection import GridSearchCV\n",
    "from sklearn.model_selection import cross_val_score\n",
    "import torch\n",
    "import transformers as ppb\n",
    "import warnings\n",
    "warnings.filterwarnings('ignore')"
   ]
  },
  {
   "cell_type": "markdown",
   "execution_count": null,
   "metadata": {
    "papermill": {
     "duration": 0.027309,
     "end_time": "2020-08-07T04:45:20.043402",
     "exception": false,
     "start_time": "2020-08-07T04:45:20.016093",
     "status": "completed"
    },
    "tags": []
   },
   "source": [
    "## Load pre-trained DistilBERT model\n"
   ]
  },
  {
   "cell_type": "code",
   "execution_count": 35,
   "metadata": {
    "execution": {
     "iopub.execute_input": "2020-08-07T04:45:20.106368Z",
     "iopub.status.busy": "2020-08-07T04:45:20.105306Z",
     "iopub.status.idle": "2020-08-07T04:45:41.320130Z",
     "shell.execute_reply": "2020-08-07T04:45:41.319271Z"
    },
    "papermill": {
     "duration": 21.249869,
     "end_time": "2020-08-07T04:45:41.320320",
     "exception": false,
     "start_time": "2020-08-07T04:45:20.070451",
     "status": "completed"
    },
    "tags": []
   },
   "outputs": [
    {
     "data": {
      "application/vnd.jupyter.widget-view+json": {
       "model_id": "96cc8b0e9bac48a3b0566b290bc352a9",
       "version_major": 2,
       "version_minor": 0
      },
      "text/plain": [
       "HBox(children=(FloatProgress(value=0.0, description='Downloading', max=231508.0, style=ProgressStyle(descripti…"
      ]
     },
     "metadata": {},
     "output_type": "display_data"
    },
    {
     "name": "stdout",
     "output_type": "stream",
     "text": [
      "\n"
     ]
    },
    {
     "data": {
      "application/vnd.jupyter.widget-view+json": {
       "model_id": "bea62a5d76f9468f8a6e639ef00fb2ca",
       "version_major": 2,
       "version_minor": 0
      },
      "text/plain": [
       "HBox(children=(FloatProgress(value=0.0, description='Downloading', max=442.0, style=ProgressStyle(description_…"
      ]
     },
     "metadata": {},
     "output_type": "display_data"
    },
    {
     "name": "stdout",
     "output_type": "stream",
     "text": [
      "\n"
     ]
    },
    {
     "data": {
      "application/vnd.jupyter.widget-view+json": {
       "model_id": "db1d2a9ba497421cb2267b317b7b8cfd",
       "version_major": 2,
       "version_minor": 0
      },
      "text/plain": [
       "HBox(children=(FloatProgress(value=0.0, description='Downloading', max=267967963.0, style=ProgressStyle(descri…"
      ]
     },
     "metadata": {},
     "output_type": "display_data"
    },
    {
     "name": "stdout",
     "output_type": "stream",
     "text": [
      "\n"
     ]
    }
   ],
   "source": [
    "# For DistilBERT\n",
    "model_class, tokenizer_class, pretrained_weights = (ppb.DistilBertModel, ppb.DistilBertTokenizer, 'distilbert-base-uncased')\n",
    "\n",
    "# load pre-trained model/tokenizer\n",
    "tokenizer = tokenizer_class.from_pretrained(pretrained_weights)\n",
    "model = model_class.from_pretrained(pretrained_weights)"
   ]
  },
  {
   "cell_type": "markdown",
   "execution_count": null,
   "metadata": {
    "papermill": {
     "duration": 0.02714,
     "end_time": "2020-08-07T04:45:41.375842",
     "exception": false,
     "start_time": "2020-08-07T04:45:41.348702",
     "status": "completed"
    },
    "tags": []
   },
   "source": [
    "## Model 1 : Preparing dataset\n",
    "Before we can hand our sentences to BERT, we need to so some minimal processing to put them in the format it requires.\n",
    "### Tokenization\n",
    "Our first step is to tokenize the sentences -- break them up into word and subwords in the format BERT is comfortable with"
   ]
  },
  {
   "cell_type": "code",
   "execution_count": 36,
   "metadata": {
    "execution": {
     "iopub.execute_input": "2020-08-07T04:45:41.460948Z",
     "iopub.status.busy": "2020-08-07T04:45:41.450526Z",
     "iopub.status.idle": "2020-08-07T04:45:43.478977Z",
     "shell.execute_reply": "2020-08-07T04:45:43.479683Z"
    },
    "papermill": {
     "duration": 2.07667,
     "end_time": "2020-08-07T04:45:43.479901",
     "exception": false,
     "start_time": "2020-08-07T04:45:41.403231",
     "status": "completed"
    },
    "tags": []
   },
   "outputs": [],
   "source": [
    "tokenized = df['combined_news'].apply((lambda x: tokenizer.encode(x, add_special_token=True)))"
   ]
  },
  {
   "cell_type": "code",
   "execution_count": 37,
   "metadata": {
    "execution": {
     "iopub.execute_input": "2020-08-07T04:45:43.542785Z",
     "iopub.status.busy": "2020-08-07T04:45:43.541731Z",
     "iopub.status.idle": "2020-08-07T04:45:43.546816Z",
     "shell.execute_reply": "2020-08-07T04:45:43.545759Z"
    },
    "papermill": {
     "duration": 0.039092,
     "end_time": "2020-08-07T04:45:43.546978",
     "exception": false,
     "start_time": "2020-08-07T04:45:43.507886",
     "status": "completed"
    },
    "tags": []
   },
   "outputs": [
    {
     "name": "stdout",
     "output_type": "stream",
     "text": [
      "(1989,)\n"
     ]
    }
   ],
   "source": [
    "print(tokenized.shape)"
   ]
  },
  {
   "cell_type": "code",
   "execution_count": 38,
   "metadata": {
    "execution": {
     "iopub.execute_input": "2020-08-07T04:45:43.612834Z",
     "iopub.status.busy": "2020-08-07T04:45:43.611807Z",
     "iopub.status.idle": "2020-08-07T04:45:43.616300Z",
     "shell.execute_reply": "2020-08-07T04:45:43.616932Z"
    },
    "papermill": {
     "duration": 0.042472,
     "end_time": "2020-08-07T04:45:43.617140",
     "exception": false,
     "start_time": "2020-08-07T04:45:43.574668",
     "status": "completed"
    },
    "tags": []
   },
   "outputs": [
    {
     "data": {
      "text/plain": [
       "0    [101, 4108, 1005, 12482, 2048, 2845, 24136, 20...\n",
       "Name: combined_news, dtype: object"
      ]
     },
     "execution_count": 38,
     "metadata": {},
     "output_type": "execute_result"
    }
   ],
   "source": [
    "tokenized[:1]"
   ]
  },
  {
   "cell_type": "markdown",
   "execution_count": null,
   "metadata": {
    "papermill": {
     "duration": 0.027295,
     "end_time": "2020-08-07T04:45:43.672248",
     "exception": false,
     "start_time": "2020-08-07T04:45:43.644953",
     "status": "completed"
    },
    "tags": []
   },
   "source": [
    "### Padding\n",
    "After tokenization, tokenized is a list of sentences -- each sentences is represented as a list of tokens. We want BERT to process our examples all at once (as one batch). It's just faster that way. For that reason, we need to pad all lists to the same size, so we can represent the input as one 2-d array, rather than a list of lists (of different lengths)"
   ]
  },
  {
   "cell_type": "code",
   "execution_count": 39,
   "metadata": {
    "execution": {
     "iopub.execute_input": "2020-08-07T04:45:43.780781Z",
     "iopub.status.busy": "2020-08-07T04:45:43.779839Z",
     "iopub.status.idle": "2020-08-07T04:45:43.785227Z",
     "shell.execute_reply": "2020-08-07T04:45:43.784587Z"
    },
    "papermill": {
     "duration": 0.085401,
     "end_time": "2020-08-07T04:45:43.785384",
     "exception": false,
     "start_time": "2020-08-07T04:45:43.699983",
     "status": "completed"
    },
    "tags": []
   },
   "outputs": [
    {
     "name": "stdout",
     "output_type": "stream",
     "text": [
      "78\n"
     ]
    }
   ],
   "source": [
    "max_len = 0\n",
    "for i in tokenized.values:\n",
    "    if len(i)>max_len:\n",
    "        max_len = len(i)\n",
    "print(max_len)\n",
    "padded = np.array([i + [0]*(max_len - len(i)) for i in tokenized.values])"
   ]
  },
  {
   "cell_type": "markdown",
   "execution_count": null,
   "metadata": {
    "papermill": {
     "duration": 0.027467,
     "end_time": "2020-08-07T04:45:43.841601",
     "exception": false,
     "start_time": "2020-08-07T04:45:43.814134",
     "status": "completed"
    },
    "tags": []
   },
   "source": [
    "One thing to note is that BERT model takes only 512 tokens at a time. So in this case, max length exceeded 512 (628 to be exact.) For this purpose, I will be taking top 10 news only. Due to compuational capacity restriction, I cannot use more than one column for training the model. Hence, I will be taking only top1 news into account. "
   ]
  },
  {
   "cell_type": "code",
   "execution_count": 40,
   "metadata": {
    "execution": {
     "iopub.execute_input": "2020-08-07T04:45:43.903914Z",
     "iopub.status.busy": "2020-08-07T04:45:43.903014Z",
     "iopub.status.idle": "2020-08-07T04:45:43.912116Z",
     "shell.execute_reply": "2020-08-07T04:45:43.911424Z"
    },
    "papermill": {
     "duration": 0.042764,
     "end_time": "2020-08-07T04:45:43.912273",
     "exception": false,
     "start_time": "2020-08-07T04:45:43.869509",
     "status": "completed"
    },
    "tags": []
   },
   "outputs": [
    {
     "data": {
      "text/plain": [
       "(1989, 78)"
      ]
     },
     "execution_count": 40,
     "metadata": {},
     "output_type": "execute_result"
    }
   ],
   "source": [
    "np.array(padded).shape"
   ]
  },
  {
   "cell_type": "markdown",
   "execution_count": null,
   "metadata": {
    "papermill": {
     "duration": 0.027856,
     "end_time": "2020-08-07T04:45:43.968808",
     "exception": false,
     "start_time": "2020-08-07T04:45:43.940952",
     "status": "completed"
    },
    "tags": []
   },
   "source": [
    "### Masking\n",
    "If we directly send padded to BERT, that would slightly confuse it. We need to create another variable to tell it to ignore (mask) the padding we've added when it's processing its input. That's what attention_mask is:"
   ]
  },
  {
   "cell_type": "code",
   "execution_count": 41,
   "metadata": {
    "execution": {
     "iopub.execute_input": "2020-08-07T04:45:44.034753Z",
     "iopub.status.busy": "2020-08-07T04:45:44.033819Z",
     "iopub.status.idle": "2020-08-07T04:45:44.040354Z",
     "shell.execute_reply": "2020-08-07T04:45:44.039671Z"
    },
    "papermill": {
     "duration": 0.041512,
     "end_time": "2020-08-07T04:45:44.040548",
     "exception": false,
     "start_time": "2020-08-07T04:45:43.999036",
     "status": "completed"
    },
    "tags": []
   },
   "outputs": [
    {
     "data": {
      "text/plain": [
       "(1989, 78)"
      ]
     },
     "execution_count": 41,
     "metadata": {},
     "output_type": "execute_result"
    }
   ],
   "source": [
    "attention_mask = np.where(padded != 0, 1, 0)\n",
    "attention_mask.shape"
   ]
  },
  {
   "cell_type": "markdown",
   "execution_count": null,
   "metadata": {
    "papermill": {
     "duration": 0.02762,
     "end_time": "2020-08-07T04:45:44.096404",
     "exception": false,
     "start_time": "2020-08-07T04:45:44.068784",
     "status": "completed"
    },
    "tags": []
   },
   "source": [
    "## Model #1: And Now, Deep Learning!\n",
    "Now that we have our model and inputs ready, let's run our model!<br>\n",
    "The `model()` function runs our sentences through BERT. The results of the processing will be returned into last_hidden_states."
   ]
  },
  {
   "cell_type": "code",
   "execution_count": 42,
   "metadata": {
    "execution": {
     "iopub.execute_input": "2020-08-07T04:45:44.161356Z",
     "iopub.status.busy": "2020-08-07T04:45:44.159977Z",
     "iopub.status.idle": "2020-08-07T04:48:34.761703Z",
     "shell.execute_reply": "2020-08-07T04:48:34.762421Z"
    },
    "papermill": {
     "duration": 170.638061,
     "end_time": "2020-08-07T04:48:34.762713",
     "exception": false,
     "start_time": "2020-08-07T04:45:44.124652",
     "status": "completed"
    },
    "tags": []
   },
   "outputs": [],
   "source": [
    "input_ids = torch.tensor(padded)\n",
    "attention_mask = torch.tensor(attention_mask)\n",
    "with torch.no_grad():\n",
    "    last_hidden_states = model(input_ids, attention_mask=attention_mask)"
   ]
  },
  {
   "cell_type": "code",
   "execution_count": 43,
   "metadata": {
    "execution": {
     "iopub.execute_input": "2020-08-07T04:48:34.828944Z",
     "iopub.status.busy": "2020-08-07T04:48:34.827689Z",
     "iopub.status.idle": "2020-08-07T04:48:34.832285Z",
     "shell.execute_reply": "2020-08-07T04:48:34.831277Z"
    },
    "papermill": {
     "duration": 0.041092,
     "end_time": "2020-08-07T04:48:34.832502",
     "exception": false,
     "start_time": "2020-08-07T04:48:34.791410",
     "status": "completed"
    },
    "tags": []
   },
   "outputs": [],
   "source": [
    "features = last_hidden_states[0][:, 0, :].numpy()\n",
    "labels = df['Label']"
   ]
  },
  {
   "cell_type": "code",
   "execution_count": 44,
   "metadata": {
    "execution": {
     "iopub.execute_input": "2020-08-07T04:48:34.899102Z",
     "iopub.status.busy": "2020-08-07T04:48:34.898035Z",
     "iopub.status.idle": "2020-08-07T04:48:34.903126Z",
     "shell.execute_reply": "2020-08-07T04:48:34.902160Z"
    },
    "papermill": {
     "duration": 0.042034,
     "end_time": "2020-08-07T04:48:34.903392",
     "exception": false,
     "start_time": "2020-08-07T04:48:34.861358",
     "status": "completed"
    },
    "tags": []
   },
   "outputs": [
    {
     "name": "stdout",
     "output_type": "stream",
     "text": [
      "[[-0.36086106 -0.16207744 -0.2084857  ... -0.30507     0.34105778\n",
      "   0.08085383]\n",
      " [ 0.30954662  0.20850469 -0.29937974 ...  0.1224136   0.4723484\n",
      "   0.26783004]\n",
      " [ 0.29998276  0.04621707 -0.04180933 ...  0.08885639  0.3317783\n",
      "   0.3698523 ]\n",
      " ...\n",
      " [-0.19172376 -0.41772428  0.05932816 ... -0.45935822  0.3520215\n",
      "   0.02621031]\n",
      " [ 0.2486663  -0.02985957 -0.1605662  ...  0.04126985  0.18912628\n",
      "   0.28713652]\n",
      " [-0.37453964 -0.14715368 -0.26433668 ... -0.48020387  0.17097425\n",
      "   0.1307473 ]]\n"
     ]
    }
   ],
   "source": [
    "print(features[:10])"
   ]
  },
  {
   "cell_type": "code",
   "execution_count": 45,
   "metadata": {
    "execution": {
     "iopub.execute_input": "2020-08-07T04:48:34.973195Z",
     "iopub.status.busy": "2020-08-07T04:48:34.971093Z",
     "iopub.status.idle": "2020-08-07T04:48:34.983656Z",
     "shell.execute_reply": "2020-08-07T04:48:34.982828Z"
    },
    "papermill": {
     "duration": 0.050779,
     "end_time": "2020-08-07T04:48:34.983833",
     "exception": false,
     "start_time": "2020-08-07T04:48:34.933054",
     "status": "completed"
    },
    "tags": []
   },
   "outputs": [],
   "source": [
    "from sklearn.model_selection import train_test_split\n",
    "from sklearn.linear_model import LogisticRegression\n",
    "from sklearn.model_selection import GridSearchCV\n",
    "from sklearn.model_selection import cross_val_score\n",
    "\n",
    "train_features, test_features, train_labels, test_labels = train_test_split(features, labels)"
   ]
  },
  {
   "cell_type": "code",
   "execution_count": 46,
   "metadata": {
    "execution": {
     "iopub.execute_input": "2020-08-07T04:48:35.049432Z",
     "iopub.status.busy": "2020-08-07T04:48:35.048548Z",
     "iopub.status.idle": "2020-08-07T04:48:35.212927Z",
     "shell.execute_reply": "2020-08-07T04:48:35.211647Z"
    },
    "papermill": {
     "duration": 0.199856,
     "end_time": "2020-08-07T04:48:35.213106",
     "exception": false,
     "start_time": "2020-08-07T04:48:35.013250",
     "status": "completed"
    },
    "tags": []
   },
   "outputs": [
    {
     "data": {
      "text/plain": [
       "LogisticRegression()"
      ]
     },
     "execution_count": 46,
     "metadata": {},
     "output_type": "execute_result"
    }
   ],
   "source": [
    "lr_clf = LogisticRegression()\n",
    "lr_clf.fit(train_features, train_labels)"
   ]
  },
  {
   "cell_type": "code",
   "execution_count": 47,
   "metadata": {
    "execution": {
     "iopub.execute_input": "2020-08-07T04:48:35.282315Z",
     "iopub.status.busy": "2020-08-07T04:48:35.281373Z",
     "iopub.status.idle": "2020-08-07T04:48:35.290853Z",
     "shell.execute_reply": "2020-08-07T04:48:35.289946Z"
    },
    "papermill": {
     "duration": 0.048446,
     "end_time": "2020-08-07T04:48:35.291028",
     "exception": false,
     "start_time": "2020-08-07T04:48:35.242582",
     "status": "completed"
    },
    "tags": []
   },
   "outputs": [
    {
     "data": {
      "text/plain": [
       "0.4759036144578313"
      ]
     },
     "execution_count": 47,
     "metadata": {},
     "output_type": "execute_result"
    }
   ],
   "source": [
    "lr_clf.score(test_features, test_labels)"
   ]
  },
  {
   "cell_type": "code",
   "execution_count": 48,
   "metadata": {
    "execution": {
     "iopub.execute_input": "2020-08-07T04:48:35.365602Z",
     "iopub.status.busy": "2020-08-07T04:48:35.364693Z",
     "iopub.status.idle": "2020-08-07T04:48:35.708298Z",
     "shell.execute_reply": "2020-08-07T04:48:35.707411Z"
    },
    "papermill": {
     "duration": 0.387808,
     "end_time": "2020-08-07T04:48:35.708456",
     "exception": false,
     "start_time": "2020-08-07T04:48:35.320648",
     "status": "completed"
    },
    "tags": []
   },
   "outputs": [
    {
     "data": {
      "image/png": "[encoded data removed]",
      "text/plain": [
       "<Figure size 432x288 with 1 Axes>"
      ]
     },
     "metadata": {
      "needs_background": "light"
     },
     "output_type": "display_data"
    }
   ],
   "source": [
    "from sklearn.metrics import roc_auc_score\n",
    "from sklearn.metrics import roc_curve\n",
    "import matplotlib.pyplot as plt\n",
    "logit_roc_auc = roc_auc_score(test_labels, lr_clf.predict(test_features))\n",
    "fpr, tpr, thresholds = roc_curve(test_labels, lr_clf.predict_proba(test_features)[:,1])\n",
    "plt.figure()\n",
    "plt.plot(fpr, tpr, label='Logistic Regression (area = %0.2f)' % logit_roc_auc)\n",
    "plt.plot([0, 1], [0, 1],'r--')\n",
    "plt.xlim([0.0, 1.0])\n",
    "plt.ylim([0.0, 1.05])\n",
    "plt.xlabel('False Positive Rate')\n",
    "plt.ylabel('True Positive Rate')\n",
    "plt.title('Receiver operating characteristic')\n",
    "plt.legend(loc=\"lower right\")\n",
    "plt.savefig('Log_ROC')\n",
    "plt.show()"
   ]
  },
  {
   "cell_type": "markdown",
   "execution_count": null,
   "metadata": {
    "papermill": {
     "duration": 0.029153,
     "end_time": "2020-08-07T04:48:35.767128",
     "exception": false,
     "start_time": "2020-08-07T04:48:35.737975",
     "status": "completed"
    },
    "tags": []
   },
   "source": [
    "# TFIDF (optional)\n",
    "\n",
    "This part of kernel is optional. I wanted to explore how tf-idf would work on predicting the movement of DJIA."
   ]
  },
  {
   "cell_type": "code",
   "execution_count": 49,
   "metadata": {
    "execution": {
     "iopub.execute_input": "2020-08-07T04:48:35.833410Z",
     "iopub.status.busy": "2020-08-07T04:48:35.832227Z",
     "iopub.status.idle": "2020-08-07T04:48:35.836039Z",
     "shell.execute_reply": "2020-08-07T04:48:35.835172Z"
    },
    "papermill": {
     "duration": 0.039524,
     "end_time": "2020-08-07T04:48:35.836197",
     "exception": false,
     "start_time": "2020-08-07T04:48:35.796673",
     "status": "completed"
    },
    "tags": []
   },
   "outputs": [],
   "source": [
    "from sklearn.feature_extraction.text import CountVectorizer"
   ]
  },
  {
   "cell_type": "code",
   "execution_count": 50,
   "metadata": {
    "execution": {
     "iopub.execute_input": "2020-08-07T04:48:35.906716Z",
     "iopub.status.busy": "2020-08-07T04:48:35.905313Z",
     "iopub.status.idle": "2020-08-07T04:48:36.006121Z",
     "shell.execute_reply": "2020-08-07T04:48:36.005214Z"
    },
    "papermill": {
     "duration": 0.140244,
     "end_time": "2020-08-07T04:48:36.006288",
     "exception": false,
     "start_time": "2020-08-07T04:48:35.866044",
     "status": "completed"
    },
    "tags": []
   },
   "outputs": [],
   "source": [
    "df = pd.read_csv('/kaggle/input/stocknews/Combined_News_DJIA.csv')"
   ]
  },
  {
   "cell_type": "code",
   "execution_count": 51,
   "metadata": {
    "execution": {
     "iopub.execute_input": "2020-08-07T04:48:36.080287Z",
     "iopub.status.busy": "2020-08-07T04:48:36.077544Z",
     "iopub.status.idle": "2020-08-07T04:48:36.223420Z",
     "shell.execute_reply": "2020-08-07T04:48:36.222547Z"
    },
    "papermill": {
     "duration": 0.186357,
     "end_time": "2020-08-07T04:48:36.223603",
     "exception": false,
     "start_time": "2020-08-07T04:48:36.037246",
     "status": "completed"
    },
    "tags": []
   },
   "outputs": [],
   "source": [
    "columns = ['Top1', 'Top2','Top3', 'Top4', 'Top5','Top6', 'Top7', 'Top8', 'Top9', 'Top10', 'Top11', 'Top12', 'Top13', 'Top14', 'Top15', 'Top16', 'Top17', 'Top18', 'Top19', 'Top20', 'Top21', 'Top22', 'Top23','Top24', 'Top25']\n",
    "df['combined_news'] = df[columns].apply(lambda row:'.'.join(row.values.astype(str)), axis=1)"
   ]
  },
  {
   "cell_type": "code",
   "execution_count": 52,
   "metadata": {
    "execution": {
     "iopub.execute_input": "2020-08-07T04:48:36.310950Z",
     "iopub.status.busy": "2020-08-07T04:48:36.292555Z",
     "iopub.status.idle": "2020-08-07T04:48:36.315040Z",
     "shell.execute_reply": "2020-08-07T04:48:36.314123Z"
    },
    "papermill": {
     "duration": 0.060837,
     "end_time": "2020-08-07T04:48:36.315205",
     "exception": false,
     "start_time": "2020-08-07T04:48:36.254368",
     "status": "completed"
    },
    "tags": []
   },
   "outputs": [],
   "source": [
    "df = df.drop(columns, axis=1)"
   ]
  },
  {
   "cell_type": "code",
   "execution_count": 53,
   "metadata": {
    "execution": {
     "iopub.execute_input": "2020-08-07T04:48:36.384678Z",
     "iopub.status.busy": "2020-08-07T04:48:36.383448Z",
     "iopub.status.idle": "2020-08-07T04:48:36.756508Z",
     "shell.execute_reply": "2020-08-07T04:48:36.755671Z"
    },
    "papermill": {
     "duration": 0.411078,
     "end_time": "2020-08-07T04:48:36.756665",
     "exception": false,
     "start_time": "2020-08-07T04:48:36.345587",
     "status": "completed"
    },
    "tags": []
   },
   "outputs": [
    {
     "data": {
      "text/html": [
       "<div>\n",
       "<style scoped>\n",
       "    .dataframe tbody tr th:only-of-type {\n",
       "        vertical-align: middle;\n",
       "    }\n",
       "\n",
       "    .dataframe tbody tr th {\n",
       "        vertical-align: top;\n",
       "    }\n",
       "\n",
       "    .dataframe thead th {\n",
       "        text-align: right;\n",
       "    }\n",
       "</style>\n",
       "<table border=\"1\" class=\"dataframe\">\n",
       "  <thead>\n",
       "    <tr style=\"text-align: right;\">\n",
       "      <th></th>\n",
       "      <th>Date</th>\n",
       "      <th>Label</th>\n",
       "      <th>combined_news</th>\n",
       "    </tr>\n",
       "  </thead>\n",
       "  <tbody>\n",
       "    <tr>\n",
       "      <th>0</th>\n",
       "      <td>2008-08-08</td>\n",
       "      <td>0</td>\n",
       "      <td>Georgia 'downs two Russian warplanes' as count...</td>\n",
       "    </tr>\n",
       "    <tr>\n",
       "      <th>1</th>\n",
       "      <td>2008-08-11</td>\n",
       "      <td>1</td>\n",
       "      <td>Why wont America and Nato help us? If they won...</td>\n",
       "    </tr>\n",
       "    <tr>\n",
       "      <th>2</th>\n",
       "      <td>2008-08-12</td>\n",
       "      <td>0</td>\n",
       "      <td>Remember that adorable 9-year-old who sang at ...</td>\n",
       "    </tr>\n",
       "    <tr>\n",
       "      <th>3</th>\n",
       "      <td>2008-08-13</td>\n",
       "      <td>0</td>\n",
       "      <td>U.S. refuses Israel weapons to attack Iran: r...</td>\n",
       "    </tr>\n",
       "    <tr>\n",
       "      <th>4</th>\n",
       "      <td>2008-08-14</td>\n",
       "      <td>1</td>\n",
       "      <td>All the experts admit that we should legalise ...</td>\n",
       "    </tr>\n",
       "  </tbody>\n",
       "</table>\n",
       "</div>"
      ],
      "text/plain": [
       "         Date  Label                                      combined_news\n",
       "0  2008-08-08      0  Georgia 'downs two Russian warplanes' as count...\n",
       "1  2008-08-11      1  Why wont America and Nato help us? If they won...\n",
       "2  2008-08-12      0  Remember that adorable 9-year-old who sang at ...\n",
       "3  2008-08-13      0   U.S. refuses Israel weapons to attack Iran: r...\n",
       "4  2008-08-14      1  All the experts admit that we should legalise ..."
      ]
     },
     "execution_count": 53,
     "metadata": {},
     "output_type": "execute_result"
    }
   ],
   "source": [
    "from bs4 import BeautifulSoup\n",
    "\n",
    "df= df.replace('b\\\"|b\\'|\\\\\\\\|\\\\\\\"', '', regex=True)\n",
    "df.head()"
   ]
  },
  {
   "cell_type": "code",
   "execution_count": 54,
   "metadata": {
    "execution": {
     "iopub.execute_input": "2020-08-07T04:48:36.825583Z",
     "iopub.status.busy": "2020-08-07T04:48:36.824671Z",
     "iopub.status.idle": "2020-08-07T04:50:47.234193Z",
     "shell.execute_reply": "2020-08-07T04:50:47.233185Z"
    },
    "papermill": {
     "duration": 130.447601,
     "end_time": "2020-08-07T04:50:47.234393",
     "exception": false,
     "start_time": "2020-08-07T04:48:36.786792",
     "status": "completed"
    },
    "tags": []
   },
   "outputs": [],
   "source": [
    "bow_transformer = CountVectorizer(analyzer=punctuation_stopwords_removal).fit(df['combined_news'])"
   ]
  },
  {
   "cell_type": "code",
   "execution_count": 55,
   "metadata": {
    "execution": {
     "iopub.execute_input": "2020-08-07T04:50:47.303011Z",
     "iopub.status.busy": "2020-08-07T04:50:47.302035Z",
     "iopub.status.idle": "2020-08-07T04:50:47.306781Z",
     "shell.execute_reply": "2020-08-07T04:50:47.307428Z"
    },
    "papermill": {
     "duration": 0.042453,
     "end_time": "2020-08-07T04:50:47.307669",
     "exception": false,
     "start_time": "2020-08-07T04:50:47.265216",
     "status": "completed"
    },
    "tags": []
   },
   "outputs": [
    {
     "data": {
      "text/plain": [
       "79203"
      ]
     },
     "execution_count": 55,
     "metadata": {},
     "output_type": "execute_result"
    }
   ],
   "source": [
    "len(bow_transformer.vocabulary_)"
   ]
  },
  {
   "cell_type": "code",
   "execution_count": 56,
   "metadata": {
    "collapsed": true,
    "execution": {
     "iopub.execute_input": "2020-08-07T04:50:47.379098Z",
     "iopub.status.busy": "2020-08-07T04:50:47.377836Z",
     "iopub.status.idle": "2020-08-07T04:50:47.440350Z",
     "shell.execute_reply": "2020-08-07T04:50:47.441121Z"
    },
    "papermill": {
     "duration": 0.103046,
     "end_time": "2020-08-07T04:50:47.441338",
     "exception": false,
     "start_time": "2020-08-07T04:50:47.338292",
     "status": "completed"
    },
    "tags": []
   },
   "outputs": [
    {
     "name": "stdout",
     "output_type": "stream",
     "text": [
      "Georgia 'downs two Russian warplanes' as countries move to brink of war.BREAKING: Musharraf to be impeached.'.Russia Today: Columns of troops roll into South Ossetia; footage from fighting (YouTube)'.Russian tanks are moving towards the capital of South Ossetia, which has reportedly been completely destroyed by Georgian artillery fire'.Afghan children raped with 'impunity,' U.N. official says - this is sick, a three year old was raped and they do nothing.150 Russian tanks have entered South Ossetia whilst Georgia shoots down two Russian jets.'.Breaking: Georgia invades South Ossetia, Russia warned it would intervene on SO's side.The 'enemy combatent' trials are nothing but a sham: Salim Haman has been sentenced to 5 1/2 years, but will be kept longer anyway just because they feel like it..Georgian troops retreat from S. Osettain capital, presumably leaving several hundred people killed. [VIDEO]'.Did the U.S. Prep Georgia for War with Russia?'.Rice Gives Green Light for Israel to Attack Iran: Says U.S. has no veto over Israeli military ops'.Announcing:Class Action Lawsuit on Behalf of American Public Against the FBI'.So---Russia and Georgia are at war and the NYT's top story is opening ceremonies of the Olympics?  What a fucking disgrace and yet further proof of the decline of journalism..China tells Bush to stay out of other countries' affairs.Did World War III start today?'.Georgia Invades South Ossetia - if Russia gets involved, will NATO absorb Georgia and unleash a full scale war?'.Al-Qaeda Faces Islamist Backlash'.Condoleezza Rice: The US would not act to prevent an Israeli strike on Iran. Israeli Defense Minister Ehud Barak: Israel is prepared for uncompromising victory in the case of military hostilities.'.This is a busy day:  The European Union has approved new sanctions against Iran in protest at its nuclear programme.'.Georgia will withdraw 1,000 soldiers from Iraq to help fight off Russian forces in Georgia's breakaway region of South Ossetia.Why the Pentagon Thinks Attacking Iran is a Bad Idea - US News &amp; World Report'.Caucasus in crisis: Georgia invades South Ossetia'.Indian shoe manufactory  - And again in a series of you do not like your work?'.Visitors Suffering from Mental Illnesses Banned from Olympics'.No Help for Mexico's Kidnapping Surge\n",
      "=====\n",
      "  (0, 53)\t1\n",
      "  (0, 280)\t1\n",
      "  (0, 2388)\t1\n",
      "  (0, 3454)\t1\n",
      "  (0, 3801)\t1\n",
      "  (0, 3825)\t1\n",
      "  (0, 4236)\t1\n",
      "  (0, 5755)\t1\n",
      "  (0, 5863)\t1\n",
      "  (0, 6543)\t1\n",
      "  (0, 6751)\t1\n",
      "  (0, 7285)\t1\n",
      "  (0, 7757)\t1\n",
      "  (0, 7835)\t1\n",
      "  (0, 8576)\t1\n",
      "  (0, 8623)\t1\n",
      "  (0, 9046)\t1\n",
      "  (0, 9094)\t1\n",
      "  (0, 9672)\t1\n",
      "  (0, 11628)\t1\n",
      "  (0, 11775)\t1\n",
      "  (0, 12311)\t1\n",
      "  (0, 12394)\t1\n",
      "  (0, 13050)\t2\n",
      "  (0, 13388)\t1\n",
      "  :\t:\n",
      "  (0, 71906)\t1\n",
      "  (0, 72044)\t2\n",
      "  (0, 72589)\t2\n",
      "  (0, 72970)\t1\n",
      "  (0, 73067)\t1\n",
      "  (0, 73370)\t1\n",
      "  (0, 73516)\t1\n",
      "  (0, 73978)\t4\n",
      "  (0, 74716)\t1\n",
      "  (0, 74816)\t1\n",
      "  (0, 74865)\t1\n",
      "  (0, 75697)\t3\n",
      "  (0, 75706)\t1\n",
      "  (0, 75719)\t1\n",
      "  (0, 75858)\t1\n",
      "  (0, 75958)\t1\n",
      "  (0, 76921)\t1\n",
      "  (0, 77351)\t1\n",
      "  (0, 77708)\t1\n",
      "  (0, 77714)\t2\n",
      "  (0, 77977)\t2\n",
      "  (0, 78299)\t1\n",
      "  (0, 78397)\t1\n",
      "  (0, 78740)\t1\n",
      "  (0, 78879)\t1\n"
     ]
    }
   ],
   "source": [
    "sample_djia_down = df['combined_news'][0]\n",
    "bow_sample_djia_down = bow_transformer.transform([sample_djia_down])\n",
    "print(sample_djia_down)\n",
    "print('=====')\n",
    "print(bow_sample_djia_down)"
   ]
  },
  {
   "cell_type": "code",
   "execution_count": 57,
   "metadata": {
    "collapsed": true,
    "execution": {
     "iopub.execute_input": "2020-08-07T04:50:47.575095Z",
     "iopub.status.busy": "2020-08-07T04:50:47.570020Z",
     "iopub.status.idle": "2020-08-07T04:51:07.336905Z",
     "shell.execute_reply": "2020-08-07T04:51:07.336004Z"
    },
    "papermill": {
     "duration": 19.864941,
     "end_time": "2020-08-07T04:51:07.337075",
     "exception": false,
     "start_time": "2020-08-07T04:50:47.472134",
     "status": "completed"
    },
    "tags": []
   },
   "outputs": [
    {
     "name": "stdout",
     "output_type": "stream",
     "text": [
      "Printing bag-of-words for sample 1 (DJIA goes down) :\n",
      "1000\n",
      "12\n",
      "5\n",
      "absorb\n",
      "act\n",
      "action\n",
      "affairsdid\n",
      "american\n",
      "amp\n",
      "anyway\n",
      "approved\n",
      "artillery\n",
      "attack\n",
      "attacking\n",
      "backlashcondoleezza\n",
      "bad\n",
      "banned\n",
      "barak\n",
      "behalf\n",
      "breakaway\n",
      "brink\n",
      "bush\n",
      "busy\n",
      "capital\n",
      "case\n",
      "ceremonies\n",
      "children\n",
      "columns\n",
      "combatent\n",
      "completely\n",
      "countries\n",
      "crisis\n",
      "day\n",
      "decline\n",
      "defense\n",
      "destroyed\n",
      "disgrace\n",
      "downs\n",
      "ehud\n",
      "enemy\n",
      "entered\n",
      "european\n",
      "faces\n",
      "fbisorussia\n",
      "feel\n",
      "fight\n",
      "fighting\n",
      "fireafghan\n",
      "footage\n",
      "forces\n",
      "fucking\n",
      "full\n",
      "georgia\n",
      "georgian\n",
      "georgias\n",
      "gets\n",
      "gives\n",
      "green\n",
      "haman\n",
      "help\n",
      "hostilitiesthis\n",
      "hundred\n",
      "idea\n",
      "iii\n",
      "illnesses\n",
      "impeachedrussia\n",
      "impunity\n",
      "intervene\n",
      "invades\n",
      "involved\n",
      "iran\n",
      "iraq\n",
      "islamist\n",
      "israel\n",
      "israeli\n",
      "itgeorgian\n",
      "jetsbreaking\n",
      "journalismchina\n",
      "kept\n",
      "kidnapping\n",
      "killed\n",
      "lawsuit\n",
      "leaving\n",
      "light\n",
      "like\n",
      "longer\n",
      "manufactory\n",
      "mental\n",
      "mexicos\n",
      "military\n",
      "minister\n",
      "move\n",
      "moving\n",
      "musharraf\n",
      "nato\n",
      "new\n",
      "news\n",
      "nothing\n",
      "nothing150\n",
      "nuclear\n",
      "nyts\n",
      "official\n",
      "old\n",
      "olympics\n",
      "olympicsno\n",
      "opening\n",
      "opsannouncingclass\n",
      "osettain\n",
      "ossetia\n",
      "ossetiaindian\n",
      "ossetiawhy\n",
      "pentagon\n",
      "people\n",
      "prep\n",
      "prepared\n",
      "presumably\n",
      "prevent\n",
      "programmegeorgia\n",
      "proof\n",
      "protest\n",
      "public\n",
      "raped\n",
      "region\n",
      "reportcaucasus\n",
      "reportedly\n",
      "retreat\n",
      "rice\n",
      "roll\n",
      "russia\n",
      "russian\n",
      "russiarice\n",
      "salim\n",
      "sanctions\n",
      "says\n",
      "scale\n",
      "sentenced\n",
      "series\n",
      "several\n",
      "sham\n",
      "shoe\n",
      "shoots\n",
      "sick\n",
      "sidethe\n",
      "soldiers\n",
      "sos\n",
      "south\n",
      "start\n",
      "stay\n",
      "story\n",
      "strike\n",
      "suffering\n",
      "surge\n",
      "tanks\n",
      "tells\n",
      "thinks\n",
      "three\n",
      "today\n",
      "todaygeorgia\n",
      "top\n",
      "towards\n",
      "trials\n",
      "troops\n",
      "two\n",
      "un\n",
      "uncompromising\n",
      "union\n",
      "unleash\n",
      "us\n",
      "veto\n",
      "victory\n",
      "videodid\n",
      "war\n",
      "waralqaeda\n",
      "warbreaking\n",
      "warned\n",
      "warplanes\n",
      "whilst\n",
      "withdraw\n",
      "workvisitors\n",
      "world\n",
      "would\n",
      "year\n",
      "years\n",
      "yet\n",
      "youtuberussian\n"
     ]
    }
   ],
   "source": [
    "print('Printing bag-of-words for sample 1 (DJIA goes down) :')\n",
    "row, cols = bow_sample_djia_down.nonzero()\n",
    "for col in cols:\n",
    "    print(bow_transformer.get_feature_names()[col])"
   ]
  },
  {
   "cell_type": "code",
   "execution_count": 58,
   "metadata": {
    "execution": {
     "iopub.execute_input": "2020-08-07T04:51:07.437328Z",
     "iopub.status.busy": "2020-08-07T04:51:07.436008Z",
     "iopub.status.idle": "2020-08-07T04:51:07.440298Z",
     "shell.execute_reply": "2020-08-07T04:51:07.441195Z"
    },
    "papermill": {
     "duration": 0.06228,
     "end_time": "2020-08-07T04:51:07.441495",
     "exception": false,
     "start_time": "2020-08-07T04:51:07.379215",
     "status": "completed"
    },
    "tags": []
   },
   "outputs": [
    {
     "name": "stdout",
     "output_type": "stream",
     "text": [
      "(1, 79203)\n"
     ]
    }
   ],
   "source": [
    "print(np.shape(bow_sample_djia_down))"
   ]
  },
  {
   "cell_type": "code",
   "execution_count": 59,
   "metadata": {
    "collapsed": true,
    "execution": {
     "iopub.execute_input": "2020-08-07T04:51:07.530623Z",
     "iopub.status.busy": "2020-08-07T04:51:07.529523Z",
     "iopub.status.idle": "2020-08-07T04:51:07.577275Z",
     "shell.execute_reply": "2020-08-07T04:51:07.576120Z"
    },
    "papermill": {
     "duration": 0.092055,
     "end_time": "2020-08-07T04:51:07.577455",
     "exception": false,
     "start_time": "2020-08-07T04:51:07.485400",
     "status": "completed"
    },
    "tags": []
   },
   "outputs": [
    {
     "name": "stdout",
     "output_type": "stream",
     "text": [
      "Printing bag-of-words for sample 2 (DJIA goes up/remains the same :)\n",
      "Why wont America and Nato help us? If they wont help us now, why did we help them in Iraq?'.Bush puts foot down on Georgian conflict'.Jewish Georgian minister: Thanks to Israeli training, we're fending off Russia .Georgian army flees in disarray as Russians advance - Gori abandoned to Russia without a shot fired'.Olympic opening ceremony fireworks 'faked'.What were the Mossad with fraudulent New Zealand Passports doing in Iraq?'.Russia angered by Israeli military sale to Georgia'.An American citizen living in S.Ossetia blames U.S. and Georgian leaders for the genocide of innocent people'.Welcome To World War IV! Now In High Definition!'.Georgia's move, a mistake of monumental proportions .Russia presses deeper into Georgia; U.S. says regime change is goal'.Abhinav Bindra wins first ever Individual Olympic Gold Medal for India'. U.S. ship heads for Arctic to define territory'.Drivers in a Jerusalem taxi station threaten to quit rather than work for their new boss - an Ara.The French Team is Stunned by Phelps and the 4x100m Relay Team'.Israel and the US behind the Georgian aggression?'.Do not believe TV, neither Russian nor Georgian. There are much more victims'.Riots are still going on in Montreal (Canada) because police murdered a boy on Saturday.'.China to overtake US as largest manufacturer'.War in South Ossetia [PICS]'.Israeli Physicians Group Condemns State Torture'. Russia has just beaten the United States over the head with Peak Oil'.Perhaps *the* question about the Georgia - Russia conflict '.Russia is so much better at war'.So this is what it's come to: trading sex for food.\n",
      "======\n",
      "  (0, 2382)\t1\n",
      "  (0, 3265)\t1\n",
      "  (0, 4146)\t1\n",
      "  (0, 4711)\t1\n",
      "  (0, 5741)\t1\n",
      "  (0, 5755)\t1\n",
      "  (0, 5995)\t1\n",
      "  (0, 6862)\t1\n",
      "  (0, 6911)\t1\n",
      "  (0, 7089)\t1\n",
      "  (0, 9523)\t1\n",
      "  (0, 9718)\t1\n",
      "  (0, 9822)\t1\n",
      "  (0, 10025)\t1\n",
      "  (0, 10291)\t1\n",
      "  (0, 10505)\t1\n",
      "  (0, 11338)\t1\n",
      "  (0, 11445)\t1\n",
      "  (0, 12811)\t1\n",
      "  (0, 13902)\t1\n",
      "  (0, 14020)\t1\n",
      "  (0, 15075)\t1\n",
      "  (0, 16194)\t1\n",
      "  (0, 16794)\t1\n",
      "  (0, 16950)\t1\n",
      "  :\t:\n",
      "  (0, 66458)\t1\n",
      "  (0, 66532)\t1\n",
      "  (0, 66733)\t1\n",
      "  (0, 67359)\t1\n",
      "  (0, 69174)\t1\n",
      "  (0, 69232)\t1\n",
      "  (0, 69242)\t1\n",
      "  (0, 69644)\t1\n",
      "  (0, 69895)\t1\n",
      "  (0, 70354)\t1\n",
      "  (0, 71204)\t1\n",
      "  (0, 71474)\t1\n",
      "  (0, 71555)\t1\n",
      "  (0, 72508)\t1\n",
      "  (0, 73430)\t1\n",
      "  (0, 73978)\t7\n",
      "  (0, 74798)\t1\n",
      "  (0, 75697)\t1\n",
      "  (0, 76026)\t1\n",
      "  (0, 77273)\t1\n",
      "  (0, 77376)\t1\n",
      "  (0, 77546)\t2\n",
      "  (0, 77590)\t1\n",
      "  (0, 77714)\t1\n",
      "  (0, 78979)\t1\n"
     ]
    }
   ],
   "source": [
    "print('Printing bag-of-words for sample 2 (DJIA goes up/remains the same :)')\n",
    "sample_djia_up = df['combined_news'][1]\n",
    "bow_sample_djia_up = bow_transformer.transform([sample_djia_up])\n",
    "print(sample_djia_up)\n",
    "print('======')\n",
    "print(bow_sample_djia_up)"
   ]
  },
  {
   "cell_type": "code",
   "execution_count": 60,
   "metadata": {
    "collapsed": true,
    "execution": {
     "iopub.execute_input": "2020-08-07T04:51:07.661850Z",
     "iopub.status.busy": "2020-08-07T04:51:07.660895Z",
     "iopub.status.idle": "2020-08-07T04:53:17.615185Z",
     "shell.execute_reply": "2020-08-07T04:53:17.616291Z"
    },
    "papermill": {
     "duration": 130.001145,
     "end_time": "2020-08-07T04:53:17.617210",
     "exception": false,
     "start_time": "2020-08-07T04:51:07.616065",
     "status": "completed"
    },
    "tags": []
   },
   "outputs": [
    {
     "name": "stdout",
     "output_type": "stream",
     "text": [
      "  (0, 53)\t1\n",
      "  (0, 280)\t1\n",
      "  (0, 2388)\t1\n",
      "  (0, 3454)\t1\n",
      "  (0, 3801)\t1\n",
      "  (0, 3825)\t1\n",
      "  (0, 4236)\t1\n",
      "  (0, 5755)\t1\n",
      "  (0, 5863)\t1\n",
      "  (0, 6543)\t1\n",
      "  (0, 6751)\t1\n",
      "  (0, 7285)\t1\n",
      "  (0, 7757)\t1\n",
      "  (0, 7835)\t1\n",
      "  (0, 8576)\t1\n",
      "  (0, 8623)\t1\n",
      "  (0, 9046)\t1\n",
      "  (0, 9094)\t1\n",
      "  (0, 9672)\t1\n",
      "  (0, 11628)\t1\n",
      "  (0, 11775)\t1\n",
      "  (0, 12311)\t1\n",
      "  (0, 12394)\t1\n",
      "  (0, 13050)\t2\n",
      "  (0, 13388)\t1\n",
      "  :\t:\n",
      "  (0, 71906)\t1\n",
      "  (0, 72044)\t2\n",
      "  (0, 72589)\t2\n",
      "  (0, 72970)\t1\n",
      "  (0, 73067)\t1\n",
      "  (0, 73370)\t1\n",
      "  (0, 73516)\t1\n",
      "  (0, 73978)\t4\n",
      "  (0, 74716)\t1\n",
      "  (0, 74816)\t1\n",
      "  (0, 74865)\t1\n",
      "  (0, 75697)\t3\n",
      "  (0, 75706)\t1\n",
      "  (0, 75719)\t1\n",
      "  (0, 75858)\t1\n",
      "  (0, 75958)\t1\n",
      "  (0, 76921)\t1\n",
      "  (0, 77351)\t1\n",
      "  (0, 77708)\t1\n",
      "  (0, 77714)\t2\n",
      "  (0, 77977)\t2\n",
      "  (0, 78299)\t1\n",
      "  (0, 78397)\t1\n",
      "  (0, 78740)\t1\n",
      "  (0, 78879)\t1\n"
     ]
    }
   ],
   "source": [
    "from sklearn.feature_extraction.text import TfidfTransformer\n",
    "\n",
    "bow_data = bow_transformer.transform(df['combined_news'])\n",
    "print(bow_data[:1])\n",
    "tfidf_transformer = TfidfTransformer().fit(bow_data)"
   ]
  },
  {
   "cell_type": "code",
   "execution_count": 61,
   "metadata": {
    "collapsed": true,
    "execution": {
     "iopub.execute_input": "2020-08-07T04:53:17.701776Z",
     "iopub.status.busy": "2020-08-07T04:53:17.700765Z",
     "iopub.status.idle": "2020-08-07T04:53:17.762128Z",
     "shell.execute_reply": "2020-08-07T04:53:17.761058Z"
    },
    "papermill": {
     "duration": 0.105053,
     "end_time": "2020-08-07T04:53:17.762314",
     "exception": false,
     "start_time": "2020-08-07T04:53:17.657261",
     "status": "completed"
    },
    "tags": []
   },
   "outputs": [
    {
     "name": "stdout",
     "output_type": "stream",
     "text": [
      "  (0, 78879)\t0.08992988241047055\n",
      "  (0, 78740)\t0.0440219238356948\n",
      "  (0, 78397)\t0.0206391174376636\n",
      "  (0, 78299)\t0.02523380293229986\n",
      "  (0, 77977)\t0.04847120580388957\n",
      "  (0, 77714)\t0.038810753861782794\n",
      "  (0, 77708)\t0.08992988241047055\n",
      "  (0, 77351)\t0.053764968941441754\n",
      "  (0, 76921)\t0.0756739676993348\n",
      "  (0, 75958)\t0.0555587199071744\n",
      "  (0, 75858)\t0.040064265740091545\n",
      "  (0, 75719)\t0.08992988241047055\n",
      "  (0, 75706)\t0.08992988241047055\n",
      "  (0, 75697)\t0.06157076318476815\n",
      "  (0, 74865)\t0.08992988241047055\n",
      "  (0, 74816)\t0.047951988586972076\n",
      "  (0, 74716)\t0.06557683121864555\n",
      "  (0, 73978)\t0.05712795928743642\n",
      "  (0, 73516)\t0.07281411540057674\n",
      "  (0, 73370)\t0.03659664027396496\n",
      "  (0, 73067)\t0.08531586032896392\n",
      "  (0, 72970)\t0.025080281836451345\n",
      "  (0, 72589)\t0.046408460721043036\n",
      "  (0, 72044)\t0.05956080909074401\n",
      "  (0, 71906)\t0.05703866970681566\n",
      "  :\t:\n",
      "  (1988, 5636)\t0.08791748270130299\n",
      "  (1988, 4860)\t0.03916773041098513\n",
      "  (1988, 4460)\t0.03489117605344331\n",
      "  (1988, 3986)\t0.06074653580674998\n",
      "  (1988, 3880)\t0.036089635935201904\n",
      "  (1988, 3801)\t0.04003504732885746\n",
      "  (1988, 3725)\t0.02996229879134474\n",
      "  (1988, 3656)\t0.032027148993727085\n",
      "  (1988, 3612)\t0.05378559965480081\n",
      "  (1988, 3590)\t0.05576229082971022\n",
      "  (1988, 3558)\t0.06287201249651986\n",
      "  (1988, 3253)\t0.08791748270130299\n",
      "  (1988, 3244)\t0.0834067105790539\n",
      "  (1988, 2789)\t0.06287201249651986\n",
      "  (1988, 2157)\t0.0374329662056969\n",
      "  (1988, 1858)\t0.03447307091359384\n",
      "  (1988, 1612)\t0.04385370194783875\n",
      "  (1988, 1242)\t0.05256184707626112\n",
      "  (1988, 993)\t0.04284164701922489\n",
      "  (1988, 698)\t0.08791748270130299\n",
      "  (1988, 457)\t0.06124105868277477\n",
      "  (1988, 401)\t0.06347350670540843\n",
      "  (1988, 280)\t0.035624954019551486\n",
      "  (1988, 250)\t0.08791748270130299\n",
      "  (1988, 50)\t0.032361479316171435\n"
     ]
    }
   ],
   "source": [
    "final_tfidf = tfidf_transformer.transform(bow_data)\n",
    "print(final_tfidf)"
   ]
  },
  {
   "cell_type": "code",
   "execution_count": 62,
   "metadata": {
    "execution": {
     "iopub.execute_input": "2020-08-07T04:53:17.846432Z",
     "iopub.status.busy": "2020-08-07T04:53:17.844911Z",
     "iopub.status.idle": "2020-08-07T04:53:17.856229Z",
     "shell.execute_reply": "2020-08-07T04:53:17.855325Z"
    },
    "papermill": {
     "duration": 0.057646,
     "end_time": "2020-08-07T04:53:17.856389",
     "exception": false,
     "start_time": "2020-08-07T04:53:17.798743",
     "status": "completed"
    },
    "tags": []
   },
   "outputs": [],
   "source": [
    "from sklearn.model_selection import train_test_split\n",
    "\n",
    "features_train, features_test, labels_train, labels_test = train_test_split(final_tfidf, df['Label'], test_size=0.3, random_state=5)"
   ]
  },
  {
   "cell_type": "code",
   "execution_count": 63,
   "metadata": {
    "execution": {
     "iopub.execute_input": "2020-08-07T04:53:17.936043Z",
     "iopub.status.busy": "2020-08-07T04:53:17.935057Z",
     "iopub.status.idle": "2020-08-07T04:53:19.310612Z",
     "shell.execute_reply": "2020-08-07T04:53:19.311357Z"
    },
    "papermill": {
     "duration": 1.419074,
     "end_time": "2020-08-07T04:53:19.311607",
     "exception": false,
     "start_time": "2020-08-07T04:53:17.892533",
     "status": "completed"
    },
    "tags": []
   },
   "outputs": [],
   "source": [
    "features_train = features_train.A\n",
    "features_test = features_test.A"
   ]
  },
  {
   "cell_type": "code",
   "execution_count": 64,
   "metadata": {
    "execution": {
     "iopub.execute_input": "2020-08-07T04:53:19.394042Z",
     "iopub.status.busy": "2020-08-07T04:53:19.393142Z",
     "iopub.status.idle": "2020-08-07T04:53:19.933621Z",
     "shell.execute_reply": "2020-08-07T04:53:19.934624Z"
    },
    "papermill": {
     "duration": 0.587091,
     "end_time": "2020-08-07T04:53:19.934891",
     "exception": false,
     "start_time": "2020-08-07T04:53:19.347800",
     "status": "completed"
    },
    "tags": []
   },
   "outputs": [
    {
     "name": "stdout",
     "output_type": "stream",
     "text": [
      "0.5293132328308208\n"
     ]
    }
   ],
   "source": [
    "from sklearn.naive_bayes import MultinomialNB\n",
    "from sklearn.metrics import classification_report, confusion_matrix, accuracy_score\n",
    "\n",
    "djia_movement_detect_model_MNB = MultinomialNB()\n",
    "djia_movement_detect_model_MNB.fit(features_train, np.asarray(labels_train, dtype=\"float64\"))\n",
    "pred_test_MNB = djia_movement_detect_model_MNB.predict(features_test)\n",
    "\n",
    "acc_MNB = accuracy_score(np.asarray(labels_test, dtype=\"float64\"), pred_test_MNB)\n",
    "print(acc_MNB)"
   ]
  },
  {
   "cell_type": "code",
   "execution_count": 65,
   "metadata": {
    "execution": {
     "iopub.execute_input": "2020-08-07T04:53:20.031027Z",
     "iopub.status.busy": "2020-08-07T04:53:20.029980Z",
     "iopub.status.idle": "2020-08-07T04:53:20.354153Z",
     "shell.execute_reply": "2020-08-07T04:53:20.353324Z"
    },
    "papermill": {
     "duration": 0.375322,
     "end_time": "2020-08-07T04:53:20.354309",
     "exception": false,
     "start_time": "2020-08-07T04:53:19.978987",
     "status": "completed"
    },
    "tags": []
   },
   "outputs": [
    {
     "data": {
      "image/png": "[encoded data removed]",
      "text/plain": [
       "<Figure size 360x360 with 1 Axes>"
      ]
     },
     "metadata": {
      "needs_background": "light"
     },
     "output_type": "display_data"
    }
   ],
   "source": [
    "from sklearn.metrics import roc_curve, auc\n",
    "\n",
    "fpr, tpr, thr = roc_curve(np.asarray(labels_test, dtype=\"float64\"), djia_movement_detect_model_MNB.predict_proba(features_test)[:,1])\n",
    "plt.figure(figsize=(5, 5))\n",
    "plt.plot(fpr, tpr)\n",
    "plt.xlabel('False Positive Rate')\n",
    "plt.ylabel('True Positive Rate')\n",
    "plt.title('Receiver Operating Characteristic Plot')\n",
    "auc_knn4 = auc(fpr, tpr) * 100\n",
    "plt.legend([\"AUC {0:.3f}\".format(auc_knn4)]);"
   ]
  },
  {
   "cell_type": "code",
   "execution_count": null,
   "metadata": {
    "papermill": {
     "duration": 0.036611,
     "end_time": "2020-08-07T04:53:20.427762",
     "exception": false,
     "start_time": "2020-08-07T04:53:20.391151",
     "status": "completed"
    },
    "tags": []
   },
   "outputs": [],
   "source": []
  }
 ],
 "metadata": {
  "kernelspec": {
   "display_name": "Python 3",
   "language": "python",
   "name": "python3"
  },
  "language_info": {
   "codemirror_mode": {
    "name": "ipython",
    "version": 3
   },
   "file_extension": ".py",
   "mimetype": "text/x-python",
   "name": "python",
   "nbconvert_exporter": "python",
   "pygments_lexer": "ipython3",
   "version": "3.7.6"
  },
  "papermill": {
   "duration": 516.692689,
   "end_time": "2020-08-07T04:53:20.678868",
   "environment_variables": {},
   "exception": null,
   "input_path": "__notebook__.ipynb",
   "output_path": "__notebook__.ipynb",
   "parameters": {},
   "start_time": "2020-08-07T04:44:43.986179",
   "version": "2.1.0"
  },
  "widgets": {
   "application/vnd.jupyter.widget-state+json": {
    "state": {
     "08c712ccba324989960094911ff3b69b": {
      "model_module": "@jupyter-widgets/controls",
      "model_module_version": "1.5.0",
      "model_name": "ProgressStyleModel",
      "state": {
       "_model_module": "@jupyter-widgets/controls",
       "_model_module_version": "1.5.0",
       "_model_name": "ProgressStyleModel",
       "_view_count": null,
       "_view_module": "@jupyter-widgets/base",
       "_view_module_version": "1.2.0",
       "_view_name": "StyleView",
       "bar_color": null,
       "description_width": "initial"
      }
     },
     "14e18380daec4b9581fe37f7d915101a": {
      "model_module": "@jupyter-widgets/base",
      "model_module_version": "1.2.0",
      "model_name": "LayoutModel",
      "state": {
       "_model_module": "@jupyter-widgets/base",
       "_model_module_version": "1.2.0",
       "_model_name": "LayoutModel",
       "_view_count": null,
       "_view_module": "@jupyter-widgets/base",
       "_view_module_version": "1.2.0",
       "_view_name": "LayoutView",
       "align_content": null,
       "align_items": null,
       "align_self": null,
       "border": null,
       "bottom": null,
       "display": null,
       "flex": null,
       "flex_flow": null,
       "grid_area": null,
       "grid_auto_columns": null,
       "grid_auto_flow": null,
       "grid_auto_rows": null,
       "grid_column": null,
       "grid_gap": null,
       "grid_row": null,
       "grid_template_areas": null,
       "grid_template_columns": null,
       "grid_template_rows": null,
       "height": null,
       "justify_content": null,
       "justify_items": null,
       "left": null,
       "margin": null,
       "max_height": null,
       "max_width": null,
       "min_height": null,
       "min_width": null,
       "object_fit": null,
       "object_position": null,
       "order": null,
       "overflow": null,
       "overflow_x": null,
       "overflow_y": null,
       "padding": null,
       "right": null,
       "top": null,
       "visibility": null,
       "width": null
      }
     },
     "1531f3e738f44ceb8e2824b9b1499dfd": {
      "model_module": "@jupyter-widgets/base",
      "model_module_version": "1.2.0",
      "model_name": "LayoutModel",
      "state": {
       "_model_module": "@jupyter-widgets/base",
       "_model_module_version": "1.2.0",
       "_model_name": "LayoutModel",
       "_view_count": null,
       "_view_module": "@jupyter-widgets/base",
       "_view_module_version": "1.2.0",
       "_view_name": "LayoutView",
       "align_content": null,
       "align_items": null,
       "align_self": null,
       "border": null,
       "bottom": null,
       "display": null,
       "flex": null,
       "flex_flow": null,
       "grid_area": null,
       "grid_auto_columns": null,
       "grid_auto_flow": null,
       "grid_auto_rows": null,
       "grid_column": null,
       "grid_gap": null,
       "grid_row": null,
       "grid_template_areas": null,
       "grid_template_columns": null,
       "grid_template_rows": null,
       "height": null,
       "justify_content": null,
       "justify_items": null,
       "left": null,
       "margin": null,
       "max_height": null,
       "max_width": null,
       "min_height": null,
       "min_width": null,
       "object_fit": null,
       "object_position": null,
       "order": null,
       "overflow": null,
       "overflow_x": null,
       "overflow_y": null,
       "padding": null,
       "right": null,
       "top": null,
       "visibility": null,
       "width": null
      }
     },
     "173f25b1ba434795ba6a530ca9488fcb": {
      "model_module": "@jupyter-widgets/base",
      "model_module_version": "1.2.0",
      "model_name": "LayoutModel",
      "state": {
       "_model_module": "@jupyter-widgets/base",
       "_model_module_version": "1.2.0",
       "_model_name": "LayoutModel",
       "_view_count": null,
       "_view_module": "@jupyter-widgets/base",
       "_view_module_version": "1.2.0",
       "_view_name": "LayoutView",
       "align_content": null,
       "align_items": null,
       "align_self": null,
       "border": null,
       "bottom": null,
       "display": null,
       "flex": null,
       "flex_flow": null,
       "grid_area": null,
       "grid_auto_columns": null,
       "grid_auto_flow": null,
       "grid_auto_rows": null,
       "grid_column": null,
       "grid_gap": null,
       "grid_row": null,
       "grid_template_areas": null,
       "grid_template_columns": null,
       "grid_template_rows": null,
       "height": null,
       "justify_content": null,
       "justify_items": null,
       "left": null,
       "margin": null,
       "max_height": null,
       "max_width": null,
       "min_height": null,
       "min_width": null,
       "object_fit": null,
       "object_position": null,
       "order": null,
       "overflow": null,
       "overflow_x": null,
       "overflow_y": null,
       "padding": null,
       "right": null,
       "top": null,
       "visibility": null,
       "width": null
      }
     },
     "197cec13dd234875bcffcb032b372bd2": {
      "model_module": "@jupyter-widgets/base",
      "model_module_version": "1.2.0",
      "model_name": "LayoutModel",
      "state": {
       "_model_module": "@jupyter-widgets/base",
       "_model_module_version": "1.2.0",
       "_model_name": "LayoutModel",
       "_view_count": null,
       "_view_module": "@jupyter-widgets/base",
       "_view_module_version": "1.2.0",
       "_view_name": "LayoutView",
       "align_content": null,
       "align_items": null,
       "align_self": null,
       "border": null,
       "bottom": null,
       "display": null,
       "flex": null,
       "flex_flow": null,
       "grid_area": null,
       "grid_auto_columns": null,
       "grid_auto_flow": null,
       "grid_auto_rows": null,
       "grid_column": null,
       "grid_gap": null,
       "grid_row": null,
       "grid_template_areas": null,
       "grid_template_columns": null,
       "grid_template_rows": null,
       "height": null,
       "justify_content": null,
       "justify_items": null,
       "left": null,
       "margin": null,
       "max_height": null,
       "max_width": null,
       "min_height": null,
       "min_width": null,
       "object_fit": null,
       "object_position": null,
       "order": null,
       "overflow": null,
       "overflow_x": null,
       "overflow_y": null,
       "padding": null,
       "right": null,
       "top": null,
       "visibility": null,
       "width": null
      }
     },
     "207c78f0351b48afa46af1910d85a401": {
      "model_module": "@jupyter-widgets/controls",
      "model_module_version": "1.5.0",
      "model_name": "DescriptionStyleModel",
      "state": {
       "_model_module": "@jupyter-widgets/controls",
       "_model_module_version": "1.5.0",
       "_model_name": "DescriptionStyleModel",
       "_view_count": null,
       "_view_module": "@jupyter-widgets/base",
       "_view_module_version": "1.2.0",
       "_view_name": "StyleView",
       "description_width": ""
      }
     },
     "248c2d0ba7fc43938ecc92e010238710": {
      "model_module": "@jupyter-widgets/controls",
      "model_module_version": "1.5.0",
      "model_name": "FloatProgressModel",
      "state": {
       "_dom_classes": [],
       "_model_module": "@jupyter-widgets/controls",
       "_model_module_version": "1.5.0",
       "_model_name": "FloatProgressModel",
       "_view_count": null,
       "_view_module": "@jupyter-widgets/controls",
       "_view_module_version": "1.5.0",
       "_view_name": "ProgressView",
       "bar_style": "success",
       "description": "Downloading: 100%",
       "description_tooltip": null,
       "layout": "IPY_MODEL_29e9f077056b486ba2d1fdd02f1caa22",
       "max": 442.0,
       "min": 0.0,
       "orientation": "horizontal",
       "style": "IPY_MODEL_e567afe5512d497c9be1c366246c9381",
       "value": 442.0
      }
     },
     "29e9f077056b486ba2d1fdd02f1caa22": {
      "model_module": "@jupyter-widgets/base",
      "model_module_version": "1.2.0",
      "model_name": "LayoutModel",
      "state": {
       "_model_module": "@jupyter-widgets/base",
       "_model_module_version": "1.2.0",
       "_model_name": "LayoutModel",
       "_view_count": null,
       "_view_module": "@jupyter-widgets/base",
       "_view_module_version": "1.2.0",
       "_view_name": "LayoutView",
       "align_content": null,
       "align_items": null,
       "align_self": null,
       "border": null,
       "bottom": null,
       "display": null,
       "flex": null,
       "flex_flow": null,
       "grid_area": null,
       "grid_auto_columns": null,
       "grid_auto_flow": null,
       "grid_auto_rows": null,
       "grid_column": null,
       "grid_gap": null,
       "grid_row": null,
       "grid_template_areas": null,
       "grid_template_columns": null,
       "grid_template_rows": null,
       "height": null,
       "justify_content": null,
       "justify_items": null,
       "left": null,
       "margin": null,
       "max_height": null,
       "max_width": null,
       "min_height": null,
       "min_width": null,
       "object_fit": null,
       "object_position": null,
       "order": null,
       "overflow": null,
       "overflow_x": null,
       "overflow_y": null,
       "padding": null,
       "right": null,
       "top": null,
       "visibility": null,
       "width": null
      }
     },
     "2c2277a9e0f844878664f1f7b1be63cb": {
      "model_module": "@jupyter-widgets/controls",
      "model_module_version": "1.5.0",
      "model_name": "DescriptionStyleModel",
      "state": {
       "_model_module": "@jupyter-widgets/controls",
       "_model_module_version": "1.5.0",
       "_model_name": "DescriptionStyleModel",
       "_view_count": null,
       "_view_module": "@jupyter-widgets/base",
       "_view_module_version": "1.2.0",
       "_view_name": "StyleView",
       "description_width": ""
      }
     },
     "2e65558064cf4ad48e85a62ddfc53fff": {
      "model_module": "@jupyter-widgets/controls",
      "model_module_version": "1.5.0",
      "model_name": "HTMLModel",
      "state": {
       "_dom_classes": [],
       "_model_module": "@jupyter-widgets/controls",
       "_model_module_version": "1.5.0",
       "_model_name": "HTMLModel",
       "_view_count": null,
       "_view_module": "@jupyter-widgets/controls",
       "_view_module_version": "1.5.0",
       "_view_name": "HTMLView",
       "description": "",
       "description_tooltip": null,
       "layout": "IPY_MODEL_97289cb6e43940ff90da96711b324386",
       "placeholder": "​",
       "style": "IPY_MODEL_bc2c117ded184e149b4469425c298ca6",
       "value": " 232k/232k [00:00&lt;00:00, 656kB/s]"
      }
     },
     "48e855ab70914f32a6d9c704ca75af3b": {
      "model_module": "@jupyter-widgets/base",
      "model_module_version": "1.2.0",
      "model_name": "LayoutModel",
      "state": {
       "_model_module": "@jupyter-widgets/base",
       "_model_module_version": "1.2.0",
       "_model_name": "LayoutModel",
       "_view_count": null,
       "_view_module": "@jupyter-widgets/base",
       "_view_module_version": "1.2.0",
       "_view_name": "LayoutView",
       "align_content": null,
       "align_items": null,
       "align_self": null,
       "border": null,
       "bottom": null,
       "display": null,
       "flex": null,
       "flex_flow": null,
       "grid_area": null,
       "grid_auto_columns": null,
       "grid_auto_flow": null,
       "grid_auto_rows": null,
       "grid_column": null,
       "grid_gap": null,
       "grid_row": null,
       "grid_template_areas": null,
       "grid_template_columns": null,
       "grid_template_rows": null,
       "height": null,
       "justify_content": null,
       "justify_items": null,
       "left": null,
       "margin": null,
       "max_height": null,
       "max_width": null,
       "min_height": null,
       "min_width": null,
       "object_fit": null,
       "object_position": null,
       "order": null,
       "overflow": null,
       "overflow_x": null,
       "overflow_y": null,
       "padding": null,
       "right": null,
       "top": null,
       "visibility": null,
       "width": null
      }
     },
     "61c70158d930473696c9bf26689f0efd": {
      "model_module": "@jupyter-widgets/controls",
      "model_module_version": "1.5.0",
      "model_name": "FloatProgressModel",
      "state": {
       "_dom_classes": [],
       "_model_module": "@jupyter-widgets/controls",
       "_model_module_version": "1.5.0",
       "_model_name": "FloatProgressModel",
       "_view_count": null,
       "_view_module": "@jupyter-widgets/controls",
       "_view_module_version": "1.5.0",
       "_view_name": "ProgressView",
       "bar_style": "success",
       "description": "Downloading: 100%",
       "description_tooltip": null,
       "layout": "IPY_MODEL_173f25b1ba434795ba6a530ca9488fcb",
       "max": 267967963.0,
       "min": 0.0,
       "orientation": "horizontal",
       "style": "IPY_MODEL_08c712ccba324989960094911ff3b69b",
       "value": 267967963.0
      }
     },
     "70607a78c4c744c8bf4be0ac7c0c4265": {
      "model_module": "@jupyter-widgets/controls",
      "model_module_version": "1.5.0",
      "model_name": "HTMLModel",
      "state": {
       "_dom_classes": [],
       "_model_module": "@jupyter-widgets/controls",
       "_model_module_version": "1.5.0",
       "_model_name": "HTMLModel",
       "_view_count": null,
       "_view_module": "@jupyter-widgets/controls",
       "_view_module_version": "1.5.0",
       "_view_name": "HTMLView",
       "description": "",
       "description_tooltip": null,
       "layout": "IPY_MODEL_197cec13dd234875bcffcb032b372bd2",
       "placeholder": "​",
       "style": "IPY_MODEL_207c78f0351b48afa46af1910d85a401",
       "value": " 268M/268M [00:18&lt;00:00, 14.8MB/s]"
      }
     },
     "77c99bff83854cfdbe56e1a57591556f": {
      "model_module": "@jupyter-widgets/controls",
      "model_module_version": "1.5.0",
      "model_name": "FloatProgressModel",
      "state": {
       "_dom_classes": [],
       "_model_module": "@jupyter-widgets/controls",
       "_model_module_version": "1.5.0",
       "_model_name": "FloatProgressModel",
       "_view_count": null,
       "_view_module": "@jupyter-widgets/controls",
       "_view_module_version": "1.5.0",
       "_view_name": "ProgressView",
       "bar_style": "success",
       "description": "Downloading: 100%",
       "description_tooltip": null,
       "layout": "IPY_MODEL_1531f3e738f44ceb8e2824b9b1499dfd",
       "max": 231508.0,
       "min": 0.0,
       "orientation": "horizontal",
       "style": "IPY_MODEL_788c05d8a1924c899673be9520f3fab8",
       "value": 231508.0
      }
     },
     "788c05d8a1924c899673be9520f3fab8": {
      "model_module": "@jupyter-widgets/controls",
      "model_module_version": "1.5.0",
      "model_name": "ProgressStyleModel",
      "state": {
       "_model_module": "@jupyter-widgets/controls",
       "_model_module_version": "1.5.0",
       "_model_name": "ProgressStyleModel",
       "_view_count": null,
       "_view_module": "@jupyter-widgets/base",
       "_view_module_version": "1.2.0",
       "_view_name": "StyleView",
       "bar_color": null,
       "description_width": "initial"
      }
     },
     "96cc8b0e9bac48a3b0566b290bc352a9": {
      "model_module": "@jupyter-widgets/controls",
      "model_module_version": "1.5.0",
      "model_name": "HBoxModel",
      "state": {
       "_dom_classes": [],
       "_model_module": "@jupyter-widgets/controls",
       "_model_module_version": "1.5.0",
       "_model_name": "HBoxModel",
       "_view_count": null,
       "_view_module": "@jupyter-widgets/controls",
       "_view_module_version": "1.5.0",
       "_view_name": "HBoxView",
       "box_style": "",
       "children": [
        "IPY_MODEL_77c99bff83854cfdbe56e1a57591556f",
        "IPY_MODEL_2e65558064cf4ad48e85a62ddfc53fff"
       ],
       "layout": "IPY_MODEL_48e855ab70914f32a6d9c704ca75af3b"
      }
     },
     "97289cb6e43940ff90da96711b324386": {
      "model_module": "@jupyter-widgets/base",
      "model_module_version": "1.2.0",
      "model_name": "LayoutModel",
      "state": {
       "_model_module": "@jupyter-widgets/base",
       "_model_module_version": "1.2.0",
       "_model_name": "LayoutModel",
       "_view_count": null,
       "_view_module": "@jupyter-widgets/base",
       "_view_module_version": "1.2.0",
       "_view_name": "LayoutView",
       "align_content": null,
       "align_items": null,
       "align_self": null,
       "border": null,
       "bottom": null,
       "display": null,
       "flex": null,
       "flex_flow": null,
       "grid_area": null,
       "grid_auto_columns": null,
       "grid_auto_flow": null,
       "grid_auto_rows": null,
       "grid_column": null,
       "grid_gap": null,
       "grid_row": null,
       "grid_template_areas": null,
       "grid_template_columns": null,
       "grid_template_rows": null,
       "height": null,
       "justify_content": null,
       "justify_items": null,
       "left": null,
       "margin": null,
       "max_height": null,
       "max_width": null,
       "min_height": null,
       "min_width": null,
       "object_fit": null,
       "object_position": null,
       "order": null,
       "overflow": null,
       "overflow_x": null,
       "overflow_y": null,
       "padding": null,
       "right": null,
       "top": null,
       "visibility": null,
       "width": null
      }
     },
     "bc0eeb798a024015822bc0c5ed0e3e76": {
      "model_module": "@jupyter-widgets/base",
      "model_module_version": "1.2.0",
      "model_name": "LayoutModel",
      "state": {
       "_model_module": "@jupyter-widgets/base",
       "_model_module_version": "1.2.0",
       "_model_name": "LayoutModel",
       "_view_count": null,
       "_view_module": "@jupyter-widgets/base",
       "_view_module_version": "1.2.0",
       "_view_name": "LayoutView",
       "align_content": null,
       "align_items": null,
       "align_self": null,
       "border": null,
       "bottom": null,
       "display": null,
       "flex": null,
       "flex_flow": null,
       "grid_area": null,
       "grid_auto_columns": null,
       "grid_auto_flow": null,
       "grid_auto_rows": null,
       "grid_column": null,
       "grid_gap": null,
       "grid_row": null,
       "grid_template_areas": null,
       "grid_template_columns": null,
       "grid_template_rows": null,
       "height": null,
       "justify_content": null,
       "justify_items": null,
       "left": null,
       "margin": null,
       "max_height": null,
       "max_width": null,
       "min_height": null,
       "min_width": null,
       "object_fit": null,
       "object_position": null,
       "order": null,
       "overflow": null,
       "overflow_x": null,
       "overflow_y": null,
       "padding": null,
       "right": null,
       "top": null,
       "visibility": null,
       "width": null
      }
     },
     "bc2c117ded184e149b4469425c298ca6": {
      "model_module": "@jupyter-widgets/controls",
      "model_module_version": "1.5.0",
      "model_name": "DescriptionStyleModel",
      "state": {
       "_model_module": "@jupyter-widgets/controls",
       "_model_module_version": "1.5.0",
       "_model_name": "DescriptionStyleModel",
       "_view_count": null,
       "_view_module": "@jupyter-widgets/base",
       "_view_module_version": "1.2.0",
       "_view_name": "StyleView",
       "description_width": ""
      }
     },
     "bea62a5d76f9468f8a6e639ef00fb2ca": {
      "model_module": "@jupyter-widgets/controls",
      "model_module_version": "1.5.0",
      "model_name": "HBoxModel",
      "state": {
       "_dom_classes": [],
       "_model_module": "@jupyter-widgets/controls",
       "_model_module_version": "1.5.0",
       "_model_name": "HBoxModel",
       "_view_count": null,
       "_view_module": "@jupyter-widgets/controls",
       "_view_module_version": "1.5.0",
       "_view_name": "HBoxView",
       "box_style": "",
       "children": [
        "IPY_MODEL_248c2d0ba7fc43938ecc92e010238710",
        "IPY_MODEL_f103d1bc647f48b5943560c053dfdfaf"
       ],
       "layout": "IPY_MODEL_14e18380daec4b9581fe37f7d915101a"
      }
     },
     "db1d2a9ba497421cb2267b317b7b8cfd": {
      "model_module": "@jupyter-widgets/controls",
      "model_module_version": "1.5.0",
      "model_name": "HBoxModel",
      "state": {
       "_dom_classes": [],
       "_model_module": "@jupyter-widgets/controls",
       "_model_module_version": "1.5.0",
       "_model_name": "HBoxModel",
       "_view_count": null,
       "_view_module": "@jupyter-widgets/controls",
       "_view_module_version": "1.5.0",
       "_view_name": "HBoxView",
       "box_style": "",
       "children": [
        "IPY_MODEL_61c70158d930473696c9bf26689f0efd",
        "IPY_MODEL_70607a78c4c744c8bf4be0ac7c0c4265"
       ],
       "layout": "IPY_MODEL_e7cb3ee34f6c4117b6ccec7544e3a6b4"
      }
     },
     "e567afe5512d497c9be1c366246c9381": {
      "model_module": "@jupyter-widgets/controls",
      "model_module_version": "1.5.0",
      "model_name": "ProgressStyleModel",
      "state": {
       "_model_module": "@jupyter-widgets/controls",
       "_model_module_version": "1.5.0",
       "_model_name": "ProgressStyleModel",
       "_view_count": null,
       "_view_module": "@jupyter-widgets/base",
       "_view_module_version": "1.2.0",
       "_view_name": "StyleView",
       "bar_color": null,
       "description_width": "initial"
      }
     },
     "e7cb3ee34f6c4117b6ccec7544e3a6b4": {
      "model_module": "@jupyter-widgets/base",
      "model_module_version": "1.2.0",
      "model_name": "LayoutModel",
      "state": {
       "_model_module": "@jupyter-widgets/base",
       "_model_module_version": "1.2.0",
       "_model_name": "LayoutModel",
       "_view_count": null,
       "_view_module": "@jupyter-widgets/base",
       "_view_module_version": "1.2.0",
       "_view_name": "LayoutView",
       "align_content": null,
       "align_items": null,
       "align_self": null,
       "border": null,
       "bottom": null,
       "display": null,
       "flex": null,
       "flex_flow": null,
       "grid_area": null,
       "grid_auto_columns": null,
       "grid_auto_flow": null,
       "grid_auto_rows": null,
       "grid_column": null,
       "grid_gap": null,
       "grid_row": null,
       "grid_template_areas": null,
       "grid_template_columns": null,
       "grid_template_rows": null,
       "height": null,
       "justify_content": null,
       "justify_items": null,
       "left": null,
       "margin": null,
       "max_height": null,
       "max_width": null,
       "min_height": null,
       "min_width": null,
       "object_fit": null,
       "object_position": null,
       "order": null,
       "overflow": null,
       "overflow_x": null,
       "overflow_y": null,
       "padding": null,
       "right": null,
       "top": null,
       "visibility": null,
       "width": null
      }
     },
     "f103d1bc647f48b5943560c053dfdfaf": {
      "model_module": "@jupyter-widgets/controls",
      "model_module_version": "1.5.0",
      "model_name": "HTMLModel",
      "state": {
       "_dom_classes": [],
       "_model_module": "@jupyter-widgets/controls",
       "_model_module_version": "1.5.0",
       "_model_name": "HTMLModel",
       "_view_count": null,
       "_view_module": "@jupyter-widgets/controls",
       "_view_module_version": "1.5.0",
       "_view_name": "HTMLView",
       "description": "",
       "description_tooltip": null,
       "layout": "IPY_MODEL_bc0eeb798a024015822bc0c5ed0e3e76",
       "placeholder": "​",
       "style": "IPY_MODEL_2c2277a9e0f844878664f1f7b1be63cb",
       "value": " 442/442 [00:00&lt;00:00, 615B/s]"
      }
     }
    },
    "version_major": 2,
    "version_minor": 0
   }
  }
 },
 "nbformat": 4,
 "nbformat_minor": 4
}
