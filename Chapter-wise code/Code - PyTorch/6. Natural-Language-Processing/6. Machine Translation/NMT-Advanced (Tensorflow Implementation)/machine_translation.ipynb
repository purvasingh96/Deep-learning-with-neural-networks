{
 "cells": [
  {
   "cell_type": "markdown",
   "metadata": {
    "collapsed": true
   },
   "source": [
    "# Artificial Intelligence Nanodegree\n",
    "## Machine Translation Project\n",
    "In this notebook, sections that end with **'(IMPLEMENTATION)'** in the header indicate that the following blocks of code will require additional functionality which you must provide. Please be sure to read the instructions carefully!\n",
    "\n",
    "## Introduction\n",
    "In this notebook, you will build a deep neural network that functions as part of an end-to-end machine translation pipeline. Your completed pipeline will accept English text as input and return the French translation.\n",
    "\n",
    "- **Preprocess** - You'll convert text to sequence of integers.\n",
    "- **Models** Create models which accepts a sequence of integers as input and returns a probability distribution over possible translations. After learning about the basic types of neural networks that are often used for machine translation, you will engage in your own investigations, to design your own model!\n",
    "- **Prediction** Run the model on English text."
   ]
  },
  {
   "cell_type": "code",
   "execution_count": 20,
   "metadata": {},
   "outputs": [
    {
     "name": "stdout",
     "output_type": "stream",
     "text": [
      "The autoreload extension is already loaded. To reload it, use:\n",
      "  %reload_ext autoreload\n"
     ]
    }
   ],
   "source": [
    "%load_ext autoreload\n",
    "%aimport helper, tests\n",
    "%autoreload 1"
   ]
  },
  {
   "cell_type": "code",
   "execution_count": 21,
   "metadata": {},
   "outputs": [],
   "source": [
    "import collections\n",
    "\n",
    "import helper\n",
    "import numpy as np\n",
    "import project_tests as tests\n",
    "\n",
    "from keras.preprocessing.text import Tokenizer\n",
    "from keras.preprocessing.sequence import pad_sequences\n",
    "from keras.models import Model\n",
    "from keras.layers import GRU, Input, Dense, TimeDistributed, Activation, RepeatVector, Bidirectional\n",
    "from keras.layers.embeddings import Embedding\n",
    "from keras.optimizers import Adam\n",
    "from keras.losses import sparse_categorical_crossentropy"
   ]
  },
  {
   "cell_type": "markdown",
   "metadata": {},
   "source": [
    "### Verify access to the GPU\n",
    "The following test applies only if you expect to be using a GPU, e.g., while running in a Udacity Workspace or using an AWS instance with GPU support. Run the next cell, and verify that the device_type is \"GPU\".\n",
    "- If the device is not GPU & you are running from a Udacity Workspace, then save your workspace with the icon at the top, then click \"enable\" at the bottom of the workspace.\n",
    "- If the device is not GPU & you are running from an AWS instance, then refer to the cloud computing instructions in the classroom to verify your setup steps."
   ]
  },
  {
   "cell_type": "code",
   "execution_count": 22,
   "metadata": {},
   "outputs": [
    {
     "name": "stdout",
     "output_type": "stream",
     "text": [
      "[name: \"/cpu:0\"\n",
      "device_type: \"CPU\"\n",
      "memory_limit: 268435456\n",
      "locality {\n",
      "}\n",
      "incarnation: 6380198625562586328\n",
      ", name: \"/gpu:0\"\n",
      "device_type: \"GPU\"\n",
      "memory_limit: 313393152\n",
      "locality {\n",
      "  bus_id: 1\n",
      "}\n",
      "incarnation: 12367030543839956175\n",
      "physical_device_desc: \"device: 0, name: Tesla K80, pci bus id: 0000:00:04.0\"\n",
      "]\n"
     ]
    }
   ],
   "source": [
    "from tensorflow.python.client import device_lib\n",
    "print(device_lib.list_local_devices())"
   ]
  },
  {
   "cell_type": "markdown",
   "metadata": {},
   "source": [
    "## Dataset\n",
    "We begin by investigating the dataset that will be used to train and evaluate your pipeline.  The most common datasets used for machine translation are from [WMT](http://www.statmt.org/).  However, that will take a long time to train a neural network on.  We'll be using a dataset we created for this project that contains a small vocabulary.  You'll be able to train your model in a reasonable time with this dataset.\n",
    "### Load Data\n",
    "The data is located in `data/small_vocab_en` and `data/small_vocab_fr`. The `small_vocab_en` file contains English sentences with their French translations in the `small_vocab_fr` file. Load the English and French data from these files from running the cell below."
   ]
  },
  {
   "cell_type": "code",
   "execution_count": 23,
   "metadata": {},
   "outputs": [
    {
     "name": "stdout",
     "output_type": "stream",
     "text": [
      "Dataset Loaded\n"
     ]
    }
   ],
   "source": [
    "# Load English data\n",
    "english_sentences = helper.load_data('data/small_vocab_en')\n",
    "# Load French data\n",
    "french_sentences = helper.load_data('data/small_vocab_fr')\n",
    "\n",
    "print('Dataset Loaded')"
   ]
  },
  {
   "cell_type": "markdown",
   "metadata": {},
   "source": [
    "### Files\n",
    "Each line in `small_vocab_en` contains an English sentence with the respective translation in each line of `small_vocab_fr`.  View the first two lines from each file."
   ]
  },
  {
   "cell_type": "code",
   "execution_count": 24,
   "metadata": {},
   "outputs": [
    {
     "name": "stdout",
     "output_type": "stream",
     "text": [
      "small_vocab_en Line 1:  new jersey is sometimes quiet during autumn , and it is snowy in april .\n",
      "small_vocab_fr Line 1:  new jersey est parfois calme pendant l' automne , et il est neigeux en avril .\n",
      "small_vocab_en Line 2:  the united states is usually chilly during july , and it is usually freezing in november .\n",
      "small_vocab_fr Line 2:  les états-unis est généralement froid en juillet , et il gèle habituellement en novembre .\n"
     ]
    }
   ],
   "source": [
    "for sample_i in range(2):\n",
    "    print('small_vocab_en Line {}:  {}'.format(sample_i + 1, english_sentences[sample_i]))\n",
    "    print('small_vocab_fr Line {}:  {}'.format(sample_i + 1, french_sentences[sample_i]))"
   ]
  },
  {
   "cell_type": "markdown",
   "metadata": {},
   "source": [
    "From looking at the sentences, you can see they have been preprocessed already.  The puncuations have been delimited using spaces. All the text have been converted to lowercase.  This should save you some time, but the text requires more preprocessing.\n",
    "### Vocabulary\n",
    "The complexity of the problem is determined by the complexity of the vocabulary.  A more complex vocabulary is a more complex problem.  Let's look at the complexity of the dataset we'll be working with."
   ]
  },
  {
   "cell_type": "code",
   "execution_count": 25,
   "metadata": {},
   "outputs": [
    {
     "name": "stdout",
     "output_type": "stream",
     "text": [
      "1823250 English words.\n",
      "227 unique English words.\n",
      "10 Most common words in the English dataset:\n",
      "\"is\" \",\" \".\" \"in\" \"it\" \"during\" \"the\" \"but\" \"and\" \"sometimes\"\n",
      "\n",
      "1961295 French words.\n",
      "355 unique French words.\n",
      "10 Most common words in the French dataset:\n",
      "\"est\" \".\" \",\" \"en\" \"il\" \"les\" \"mais\" \"et\" \"la\" \"parfois\"\n"
     ]
    }
   ],
   "source": [
    "english_words_counter = collections.Counter([word for sentence in english_sentences for word in sentence.split()])\n",
    "french_words_counter = collections.Counter([word for sentence in french_sentences for word in sentence.split()])\n",
    "\n",
    "print('{} English words.'.format(len([word for sentence in english_sentences for word in sentence.split()])))\n",
    "print('{} unique English words.'.format(len(english_words_counter)))\n",
    "print('10 Most common words in the English dataset:')\n",
    "print('\"' + '\" \"'.join(list(zip(*english_words_counter.most_common(10)))[0]) + '\"')\n",
    "print()\n",
    "print('{} French words.'.format(len([word for sentence in french_sentences for word in sentence.split()])))\n",
    "print('{} unique French words.'.format(len(french_words_counter)))\n",
    "print('10 Most common words in the French dataset:')\n",
    "print('\"' + '\" \"'.join(list(zip(*french_words_counter.most_common(10)))[0]) + '\"')"
   ]
  },
  {
   "cell_type": "markdown",
   "metadata": {},
   "source": [
    "For comparison, _Alice's Adventures in Wonderland_ contains 2,766 unique words of a total of 15,500 words.\n",
    "## Preprocess\n",
    "For this project, you won't use text data as input to your model. Instead, you'll convert the text into sequences of integers using the following preprocess methods:\n",
    "1. Tokenize the words into ids\n",
    "2. Add padding to make all the sequences the same length.\n",
    "\n",
    "Time to start preprocessing the data...\n",
    "### Tokenize (IMPLEMENTATION)\n",
    "For a neural network to predict on text data, it first has to be turned into data it can understand. Text data like \"dog\" is a sequence of ASCII character encodings.  Since a neural network is a series of multiplication and addition operations, the input data needs to be number(s).\n",
    "\n",
    "We can turn each character into a number or each word into a number.  These are called character and word ids, respectively.  Character ids are used for character level models that generate text predictions for each character.  A word level model uses word ids that generate text predictions for each word.  Word level models tend to learn better, since they are lower in complexity, so we'll use those.\n",
    "\n",
    "Turn each sentence into a sequence of words ids using Keras's [`Tokenizer`](https://keras.io/preprocessing/text/#tokenizer) function. Use this function to tokenize `english_sentences` and `french_sentences` in the cell below.\n",
    "\n",
    "Running the cell will run `tokenize` on sample data and show output for debugging."
   ]
  },
  {
   "cell_type": "code",
   "execution_count": 26,
   "metadata": {},
   "outputs": [
    {
     "name": "stdout",
     "output_type": "stream",
     "text": [
      "{'the': 1, 'quick': 2, 'a': 3, 'brown': 4, 'fox': 5, 'jumps': 6, 'over': 7, 'lazy': 8, 'dog': 9, 'by': 10, 'jove': 11, 'my': 12, 'study': 13, 'of': 14, 'lexicography': 15, 'won': 16, 'prize': 17, 'this': 18, 'is': 19, 'short': 20, 'sentence': 21}\n",
      "\n",
      "Sequence 1 in x\n",
      "  Input:  The quick brown fox jumps over the lazy dog .\n",
      "  Output: [1, 2, 4, 5, 6, 7, 1, 8, 9]\n",
      "Sequence 2 in x\n",
      "  Input:  By Jove , my quick study of lexicography won a prize .\n",
      "  Output: [10, 11, 12, 2, 13, 14, 15, 16, 3, 17]\n",
      "Sequence 3 in x\n",
      "  Input:  This is a short sentence .\n",
      "  Output: [18, 19, 3, 20, 21]\n"
     ]
    }
   ],
   "source": [
    "def tokenize(x):\n",
    "    \"\"\"\n",
    "    Tokenize x\n",
    "    :param x: List of sentences/strings to be tokenized\n",
    "    :return: Tuple of (tokenized x data, tokenizer used to tokenize x)\n",
    "    \"\"\"\n",
    "    # TODO: Implement\n",
    "    tok = Tokenizer()\n",
    "    tok.fit_on_texts(x)\n",
    "    return tok.texts_to_sequences(x), tok\n",
    "\n",
    "tests.test_tokenize(tokenize)\n",
    "\n",
    "# Tokenize Example output\n",
    "text_sentences = [\n",
    "    'The quick brown fox jumps over the lazy dog .',\n",
    "    'By Jove , my quick study of lexicography won a prize .',\n",
    "    'This is a short sentence .']\n",
    "text_tokenized, text_tokenizer = tokenize(text_sentences)\n",
    "print(text_tokenizer.word_index)\n",
    "print()\n",
    "for sample_i, (sent, token_sent) in enumerate(zip(text_sentences, text_tokenized)):\n",
    "    print('Sequence {} in x'.format(sample_i + 1))\n",
    "    print('  Input:  {}'.format(sent))\n",
    "    print('  Output: {}'.format(token_sent))"
   ]
  },
  {
   "cell_type": "markdown",
   "metadata": {},
   "source": [
    "### Padding (IMPLEMENTATION)\n",
    "When batching the sequence of word ids together, each sequence needs to be the same length.  Since sentences are dynamic in length, we can add padding to the end of the sequences to make them the same length.\n",
    "\n",
    "Make sure all the English sequences have the same length and all the French sequences have the same length by adding padding to the **end** of each sequence using Keras's [`pad_sequences`](https://keras.io/preprocessing/sequence/#pad_sequences) function."
   ]
  },
  {
   "cell_type": "code",
   "execution_count": 27,
   "metadata": {},
   "outputs": [],
   "source": [
    "def max_len(x):\n",
    "    maxl=0\n",
    "    for y in x:\n",
    "        if len(y)>maxl:\n",
    "            maxl=len(y)\n",
    "    \n",
    "    return maxl\n",
    "        "
   ]
  },
  {
   "cell_type": "code",
   "execution_count": 28,
   "metadata": {},
   "outputs": [
    {
     "name": "stdout",
     "output_type": "stream",
     "text": [
      "Sequence 1 in x\n",
      "  Input:  [1 2 4 5 6 7 1 8 9]\n",
      "  Output: [1 2 4 5 6 7 1 8 9 0]\n",
      "Sequence 2 in x\n",
      "  Input:  [10 11 12  2 13 14 15 16  3 17]\n",
      "  Output: [10 11 12  2 13 14 15 16  3 17]\n",
      "Sequence 3 in x\n",
      "  Input:  [18 19  3 20 21]\n",
      "  Output: [18 19  3 20 21  0  0  0  0  0]\n"
     ]
    }
   ],
   "source": [
    "def pad(x, length=None):\n",
    "    \"\"\"\n",
    "    Pad x\n",
    "    :param x: List of sequences.\n",
    "    :param length: Length to pad the sequence to.  If None, use length of longest sequence in x.\n",
    "    :return: Padded numpy array of sequences\n",
    "    \"\"\"\n",
    "    # TODO: Implement\n",
    "    if length==None:\n",
    "        length = max_len(x)\n",
    "    pad_seq = pad_sequences(sequences=x, maxlen=length, padding='post',value=0.0)\n",
    "    return pad_seq\n",
    "\n",
    "tests.test_pad(pad)\n",
    "\n",
    "# Pad Tokenized output\n",
    "test_pad = pad(text_tokenized)\n",
    "for sample_i, (token_sent, pad_sent) in enumerate(zip(text_tokenized, test_pad)):\n",
    "    print('Sequence {} in x'.format(sample_i + 1))\n",
    "    print('  Input:  {}'.format(np.array(token_sent)))\n",
    "    print('  Output: {}'.format(pad_sent))"
   ]
  },
  {
   "cell_type": "markdown",
   "metadata": {},
   "source": [
    "### Preprocess Pipeline\n",
    "Your focus for this project is to build neural network architecture, so we won't ask you to create a preprocess pipeline.  Instead, we've provided you with the implementation of the `preprocess` function."
   ]
  },
  {
   "cell_type": "code",
   "execution_count": 29,
   "metadata": {},
   "outputs": [
    {
     "name": "stdout",
     "output_type": "stream",
     "text": [
      "Data Preprocessed\n",
      "Max English sentence length: 15\n",
      "Max French sentence length: 21\n",
      "English vocabulary size: 199\n",
      "French vocabulary size: 344\n"
     ]
    }
   ],
   "source": [
    "def preprocess(x, y):\n",
    "    \"\"\"\n",
    "    Preprocess x and y\n",
    "    :param x: Feature List of sentences\n",
    "    :param y: Label List of sentences\n",
    "    :return: Tuple of (Preprocessed x, Preprocessed y, x tokenizer, y tokenizer)\n",
    "    \"\"\"\n",
    "    preprocess_x, x_tk = tokenize(x)\n",
    "    preprocess_y, y_tk = tokenize(y)\n",
    "\n",
    "    preprocess_x = pad(preprocess_x)\n",
    "    preprocess_y = pad(preprocess_y)\n",
    "\n",
    "    # Keras's sparse_categorical_crossentropy function requires the labels to be in 3 dimensions\n",
    "    preprocess_y = preprocess_y.reshape(*preprocess_y.shape, 1)\n",
    "\n",
    "    return preprocess_x, preprocess_y, x_tk, y_tk\n",
    "\n",
    "preproc_english_sentences, preproc_french_sentences, english_tokenizer, french_tokenizer =\\\n",
    "    preprocess(english_sentences, french_sentences)\n",
    "    \n",
    "max_english_sequence_length = preproc_english_sentences.shape[1]\n",
    "max_french_sequence_length = preproc_french_sentences.shape[1]\n",
    "english_vocab_size = len(english_tokenizer.word_index)\n",
    "french_vocab_size = len(french_tokenizer.word_index)\n",
    "\n",
    "print('Data Preprocessed')\n",
    "print(\"Max English sentence length:\", max_english_sequence_length)\n",
    "print(\"Max French sentence length:\", max_french_sequence_length)\n",
    "print(\"English vocabulary size:\", english_vocab_size)\n",
    "print(\"French vocabulary size:\", french_vocab_size)"
   ]
  },
  {
   "cell_type": "markdown",
   "metadata": {},
   "source": [
    "## Models\n",
    "In this section, you will experiment with various neural network architectures.\n",
    "You will begin by training four relatively simple architectures.\n",
    "- Model 1 is a simple RNN\n",
    "- Model 2 is a RNN with Embedding\n",
    "- Model 3 is a Bidirectional RNN\n",
    "- Model 4 is an optional Encoder-Decoder RNN\n",
    "\n",
    "After experimenting with the four simple architectures, you will construct a deeper architecture that is designed to outperform all four models.\n",
    "### Ids Back to Text\n",
    "The neural network will be translating the input to words ids, which isn't the final form we want.  We want the French translation.  The function `logits_to_text` will bridge the gab between the logits from the neural network to the French translation.  You'll be using this function to better understand the output of the neural network."
   ]
  },
  {
   "cell_type": "code",
   "execution_count": 30,
   "metadata": {},
   "outputs": [
    {
     "name": "stdout",
     "output_type": "stream",
     "text": [
      "`logits_to_text` function loaded.\n"
     ]
    }
   ],
   "source": [
    "def logits_to_text(logits, tokenizer):\n",
    "    \"\"\"\n",
    "    Turn logits from a neural network into text using the tokenizer\n",
    "    :param logits: Logits from a neural network\n",
    "    :param tokenizer: Keras Tokenizer fit on the labels\n",
    "    :return: String that represents the text of the logits\n",
    "    \"\"\"\n",
    "    index_to_words = {id: word for word, id in tokenizer.word_index.items()}\n",
    "    index_to_words[0] = '<PAD>'\n",
    "\n",
    "    return ' '.join([index_to_words[prediction] for prediction in np.argmax(logits, 1)])\n",
    "\n",
    "print('`logits_to_text` function loaded.')"
   ]
  },
  {
   "cell_type": "code",
   "execution_count": null,
   "metadata": {},
   "outputs": [],
   "source": []
  },
  {
   "cell_type": "markdown",
   "metadata": {},
   "source": [
    "### Model 1: RNN (IMPLEMENTATION)\n",
    "![RNN](images/rnn.png)\n",
    "A basic RNN model is a good baseline for sequence data.  In this model, you'll build a RNN that translates English to French."
   ]
  },
  {
   "cell_type": "code",
   "execution_count": 31,
   "metadata": {},
   "outputs": [
    {
     "name": "stdout",
     "output_type": "stream",
     "text": [
      "Train on 110288 samples, validate on 27573 samples\n",
      "Epoch 1/10\n",
      "110288/110288 [==============================] - 11s 98us/step - loss: 2.7230 - acc: 0.4582 - val_loss: 2.0730 - val_acc: 0.5237\n",
      "Epoch 2/10\n",
      "110288/110288 [==============================] - 10s 91us/step - loss: 1.7988 - acc: 0.5632 - val_loss: 1.6134 - val_acc: 0.5914\n",
      "Epoch 3/10\n",
      "110288/110288 [==============================] - 10s 92us/step - loss: 1.5219 - acc: 0.6009 - val_loss: 1.4455 - val_acc: 0.6127\n",
      "Epoch 4/10\n",
      "110288/110288 [==============================] - 10s 92us/step - loss: 1.3907 - acc: 0.6194 - val_loss: 1.3394 - val_acc: 0.6298\n",
      "Epoch 5/10\n",
      "110288/110288 [==============================] - 10s 91us/step - loss: 1.2964 - acc: 0.6353 - val_loss: 1.2535 - val_acc: 0.6460\n",
      "Epoch 6/10\n",
      "110288/110288 [==============================] - 10s 92us/step - loss: 1.2204 - acc: 0.6485 - val_loss: 1.1889 - val_acc: 0.6555\n",
      "Epoch 7/10\n",
      "110288/110288 [==============================] - 10s 92us/step - loss: 1.1640 - acc: 0.6580 - val_loss: 1.1406 - val_acc: 0.6608\n",
      "Epoch 8/10\n",
      "110288/110288 [==============================] - 10s 91us/step - loss: 1.1231 - acc: 0.6638 - val_loss: 1.1080 - val_acc: 0.6630\n",
      "Epoch 9/10\n",
      "110288/110288 [==============================] - 10s 92us/step - loss: 1.0915 - acc: 0.6675 - val_loss: 1.0751 - val_acc: 0.6690\n",
      "Epoch 10/10\n",
      "110288/110288 [==============================] - 10s 92us/step - loss: 1.0644 - acc: 0.6714 - val_loss: 1.0527 - val_acc: 0.6779\n",
      "new jersey est parfois calme en mois de mai et il est en en <PAD> <PAD> <PAD> <PAD> <PAD> <PAD> <PAD>\n"
     ]
    }
   ],
   "source": [
    "def simple_model(input_shape, output_sequence_length, english_vocab_size, french_vocab_size):\n",
    "    \"\"\"\n",
    "    Build and train a basic RNN on x and y\n",
    "    :param input_shape: Tuple of input shape\n",
    "    :param output_sequence_length: Length of output sequence\n",
    "    :param english_vocab_size: Number of unique English words in the dataset\n",
    "    :param french_vocab_size: Number of unique French words in the dataset\n",
    "    :return: Keras model built, but not trained\n",
    "    \"\"\"\n",
    "    # TODO: Build the layers\n",
    "    \n",
    "    input_seq = Input(shape=input_shape[1:])\n",
    "    rnn = GRU(units=english_vocab_size, return_sequences=True)(input_seq)\n",
    "    logits = TimeDistributed(Dense(units=french_vocab_size))(rnn) \n",
    "                             \n",
    "    model = Model(input_seq, Activation('softmax')(logits))\n",
    "\n",
    "    model.compile(loss=sparse_categorical_crossentropy,\n",
    "                  optimizer=Adam(lr=1e-3),\n",
    "                  metrics=['accuracy'])\n",
    "    return model\n",
    "\n",
    "tests.test_simple_model(simple_model)\n",
    "\n",
    "# Pad and Reshape the input to work with a basic RNN\n",
    "tmp_x = pad(preproc_english_sentences, max_french_sequence_length)\n",
    "tmp_x = tmp_x.reshape((-1, preproc_french_sentences.shape[-2], 1))\n",
    "# tmp_x shape = (-1, 21, 1)\n",
    "\n",
    "# Train the neural network\n",
    "simple_rnn_model = simple_model(\n",
    "    tmp_x.shape,\n",
    "    max_french_sequence_length,\n",
    "    english_vocab_size+1,\n",
    "    french_vocab_size+1)\n",
    "\n",
    "simple_rnn_model.fit(tmp_x, preproc_french_sentences, batch_size=1024, epochs=10, validation_split=0.2)\n",
    "\n",
    "# Print prediction(s)\n",
    "print(logits_to_text(simple_rnn_model.predict(tmp_x[:1])[0], french_tokenizer))"
   ]
  },
  {
   "cell_type": "code",
   "execution_count": null,
   "metadata": {},
   "outputs": [],
   "source": [
    "print(tmp_x.shape[1:][0])\n",
    "print('english_vocab_size : {}'.format(english_vocab_size))\n",
    "print('french_vocab_size : {}'.format(french_vocab_size))"
   ]
  },
  {
   "cell_type": "markdown",
   "metadata": {},
   "source": [
    "### Model 2: Embedding (IMPLEMENTATION)\n",
    "![RNN](images/embedding.png)\n",
    "You've turned the words into ids, but there's a better representation of a word.  This is called word embeddings.  An embedding is a vector representation of the word that is close to similar words in n-dimensional space, where the n represents the size of the embedding vectors.\n",
    "\n",
    "In this model, you'll create a RNN model using embedding."
   ]
  },
  {
   "cell_type": "code",
   "execution_count": 32,
   "metadata": {},
   "outputs": [
    {
     "name": "stdout",
     "output_type": "stream",
     "text": [
      "_________________________________________________________________\n",
      "Layer (type)                 Output Shape              Param #   \n",
      "=================================================================\n",
      "embedding_3 (Embedding)      (None, 21, 128)           25472     \n",
      "_________________________________________________________________\n",
      "gru_11 (GRU)                 (None, 21, 200)           197400    \n",
      "_________________________________________________________________\n",
      "dense_11 (Dense)             (None, 21, 344)           69144     \n",
      "=================================================================\n",
      "Total params: 292,016\n",
      "Trainable params: 292,016\n",
      "Non-trainable params: 0\n",
      "_________________________________________________________________\n",
      "None\n",
      "tmp_x shape : (137861, 21)\n",
      "_________________________________________________________________\n",
      "Layer (type)                 Output Shape              Param #   \n",
      "=================================================================\n",
      "embedding_4 (Embedding)      (None, 21, 128)           25600     \n",
      "_________________________________________________________________\n",
      "gru_12 (GRU)                 (None, 21, 200)           197400    \n",
      "_________________________________________________________________\n",
      "dense_12 (Dense)             (None, 21, 345)           69345     \n",
      "=================================================================\n",
      "Total params: 292,345\n",
      "Trainable params: 292,345\n",
      "Non-trainable params: 0\n",
      "_________________________________________________________________\n",
      "None\n",
      "Train on 110288 samples, validate on 27573 samples\n",
      "Epoch 1/10\n",
      "110288/110288 [==============================] - 13s 116us/step - loss: 3.2285 - acc: 0.4254 - val_loss: 2.4915 - val_acc: 0.4845\n",
      "Epoch 2/10\n",
      "110288/110288 [==============================] - 12s 107us/step - loss: 2.0121 - acc: 0.5531 - val_loss: 1.5327 - val_acc: 0.6364\n",
      "Epoch 3/10\n",
      "110288/110288 [==============================] - 12s 108us/step - loss: 1.3084 - acc: 0.6850 - val_loss: 1.0975 - val_acc: 0.7392\n",
      "Epoch 4/10\n",
      "110288/110288 [==============================] - 12s 108us/step - loss: 0.9649 - acc: 0.7612 - val_loss: 0.8100 - val_acc: 0.7922\n",
      "Epoch 5/10\n",
      "110288/110288 [==============================] - 12s 108us/step - loss: 0.7288 - acc: 0.8045 - val_loss: 0.6227 - val_acc: 0.8266\n",
      "Epoch 6/10\n",
      "110288/110288 [==============================] - 12s 108us/step - loss: 0.5861 - acc: 0.8323 - val_loss: 0.5152 - val_acc: 0.8509\n",
      "Epoch 7/10\n",
      "110288/110288 [==============================] - 12s 108us/step - loss: 0.5001 - acc: 0.8526 - val_loss: 0.4458 - val_acc: 0.8679\n",
      "Epoch 8/10\n",
      "110288/110288 [==============================] - 12s 108us/step - loss: 0.4387 - acc: 0.8687 - val_loss: 0.3925 - val_acc: 0.8834\n",
      "Epoch 9/10\n",
      "110288/110288 [==============================] - 12s 108us/step - loss: 0.3949 - acc: 0.8798 - val_loss: 0.3603 - val_acc: 0.8908\n",
      "Epoch 10/10\n",
      "110288/110288 [==============================] - 12s 108us/step - loss: 0.3584 - acc: 0.8895 - val_loss: 0.3264 - val_acc: 0.8992\n"
     ]
    },
    {
     "data": {
      "text/plain": [
       "<keras.callbacks.History at 0x7f70b69a4c88>"
      ]
     },
     "execution_count": 32,
     "metadata": {},
     "output_type": "execute_result"
    }
   ],
   "source": [
    "def embed_model(input_shape, output_sequence_length, english_vocab_size, french_vocab_size):\n",
    "    \"\"\"\n",
    "    Build and train a RNN model using word embedding on x and y\n",
    "    :param input_shape: Tuple of input shape\n",
    "    :param output_sequence_length: Length of output sequence\n",
    "    :param english_vocab_size: Number of unique English words in the dataset\n",
    "    :param french_vocab_size: Number of unique French words in the dataset\n",
    "    :return: Keras model built, but not trained\n",
    "    \"\"\"\n",
    "    # TODO: Implement\n",
    "    \n",
    "#     print(\"input_shape =\" , input_shape, \"  Input length=\", input_shape[1:][0])\n",
    "#     print(\"output_sequence_length =\" , output_sequence_length) \n",
    "#     print(\"english_vocab_size =\" , english_vocab_size)\n",
    "#     print(\"french_vocab_size =\" , french_vocab_size)\n",
    "    \n",
    "    embedding_size = 128\n",
    "    rnn_cells = 200\n",
    "    dropout = 0.2\n",
    "    learning_rate = 1e-3\n",
    "    \n",
    "    from keras.models import Sequential\n",
    "    \n",
    "    model = Sequential()\n",
    "    model.add(Embedding(input_dim=english_vocab_size, output_dim=embedding_size, input_length=input_shape[1:][0]))\n",
    "    # return_sequences returns the hidden state output for each input time step\n",
    "    \n",
    "    model.add(GRU(units=rnn_cells, dropout=dropout, return_sequences=True))\n",
    "    \n",
    "    # Dense layer is the regular deeply connected neural network layer. \n",
    "    # It is most common and frequently used layer. \n",
    "    # Dense layer does the below operation on the input and return the output.\n",
    "    # output = activation(dot(input, kernel) + bias)\n",
    "    \n",
    "    model.add(Dense(french_vocab_size, activation='softmax'))\n",
    "    \n",
    "    print(model.summary())\n",
    "    \n",
    "    model.compile(loss=sparse_categorical_crossentropy,\n",
    "                  optimizer=Adam(lr=learning_rate),\n",
    "                  metrics=['accuracy'])\n",
    "    \n",
    "    return model\n",
    "\n",
    "tests.test_embed_model(embed_model)\n",
    "\n",
    "\n",
    "# TODO: Reshape the input\n",
    "# Pad input to work with embedding layer\n",
    "tmp_x = pad(preproc_english_sentences, max_french_sequence_length)\n",
    "print('tmp_x shape : {}'.format(tmp_x.shape))\n",
    "\n",
    "# TODO: Train the neural network\n",
    "embed_rnn_model = embed_model(input_shape = tmp_x.shape,\n",
    "                              output_sequence_length = max_french_sequence_length,\n",
    "                              english_vocab_size = english_vocab_size+1,\n",
    "                              french_vocab_size =  french_vocab_size+1\n",
    "                             )\n",
    "embed_rnn_model.fit(tmp_x, preproc_french_sentences, batch_size=1024, epochs=10, validation_split=0.2)\n"
   ]
  },
  {
   "cell_type": "code",
   "execution_count": 33,
   "metadata": {},
   "outputs": [
    {
     "name": "stdout",
     "output_type": "stream",
     "text": [
      "new jersey est parfois calme en cours et il automne neigeux en avril <PAD> <PAD> <PAD> <PAD> <PAD> <PAD> <PAD> <PAD>\n"
     ]
    }
   ],
   "source": [
    "\n",
    "# Print prediction(s)\n",
    "print(logits_to_text(embed_rnn_model.predict(tmp_x[:1])[0], french_tokenizer))"
   ]
  },
  {
   "cell_type": "markdown",
   "metadata": {},
   "source": [
    "### Model 3: Bidirectional RNNs (IMPLEMENTATION)\n",
    "![RNN](images/bidirectional.png)\n",
    "One restriction of a RNN is that it can't see the future input, only the past.  This is where bidirectional recurrent neural networks come in.  They are able to see the future data."
   ]
  },
  {
   "cell_type": "code",
   "execution_count": 34,
   "metadata": {},
   "outputs": [
    {
     "name": "stdout",
     "output_type": "stream",
     "text": [
      "Train on 110288 samples, validate on 27573 samples\n",
      "Epoch 1/10\n",
      "110288/110288 [==============================] - 17s 152us/step - loss: 2.3178 - acc: 0.5339 - val_loss: 1.5785 - val_acc: 0.5997\n",
      "Epoch 2/10\n",
      "110288/110288 [==============================] - 16s 142us/step - loss: 1.4431 - acc: 0.6164 - val_loss: 1.3448 - val_acc: 0.6322\n",
      "Epoch 3/10\n",
      "110288/110288 [==============================] - 16s 143us/step - loss: 1.2826 - acc: 0.6420 - val_loss: 1.2304 - val_acc: 0.6512\n",
      "Epoch 4/10\n",
      "110288/110288 [==============================] - 16s 143us/step - loss: 1.1888 - acc: 0.6609 - val_loss: 1.1512 - val_acc: 0.6696\n",
      "Epoch 5/10\n",
      "110288/110288 [==============================] - 16s 143us/step - loss: 1.1196 - acc: 0.6745 - val_loss: 1.0887 - val_acc: 0.6798\n",
      "Epoch 6/10\n",
      "110288/110288 [==============================] - 16s 143us/step - loss: 1.0636 - acc: 0.6839 - val_loss: 1.0373 - val_acc: 0.6899\n",
      "Epoch 7/10\n",
      "110288/110288 [==============================] - 16s 143us/step - loss: 1.0160 - acc: 0.6917 - val_loss: 0.9941 - val_acc: 0.6946\n",
      "Epoch 8/10\n",
      "110288/110288 [==============================] - 16s 144us/step - loss: 0.9754 - acc: 0.6983 - val_loss: 0.9572 - val_acc: 0.6996\n",
      "Epoch 9/10\n",
      "110288/110288 [==============================] - 16s 144us/step - loss: 0.9423 - acc: 0.7035 - val_loss: 0.9300 - val_acc: 0.7045\n",
      "Epoch 10/10\n",
      "110288/110288 [==============================] - 16s 144us/step - loss: 0.9148 - acc: 0.7078 - val_loss: 0.9032 - val_acc: 0.7095\n"
     ]
    },
    {
     "data": {
      "text/plain": [
       "<keras.callbacks.History at 0x7f7091208400>"
      ]
     },
     "execution_count": 34,
     "metadata": {},
     "output_type": "execute_result"
    }
   ],
   "source": [
    "def bd_model(input_shape, output_sequence_length, english_vocab_size, french_vocab_size):\n",
    "    \"\"\"\n",
    "    Build and train a bidirectional RNN model on x and y\n",
    "    :param input_shape: Tuple of input shape\n",
    "    :param output_sequence_length: Length of output sequence\n",
    "    :param english_vocab_size: Number of unique English words in the dataset\n",
    "    :param french_vocab_size: Number of unique French words in the dataset\n",
    "    :return: Keras model built, but not trained\n",
    "    \"\"\"\n",
    "    # TODO: Implement\n",
    "    # input_shape[1:] = (21, 1)\n",
    "    drop_out = 0.2\n",
    "    learning_rate = 1e-3\n",
    "    input_seq = Input(input_shape[1:])\n",
    "    bidirectional_rnn = Bidirectional(GRU(units=english_vocab_size, return_sequences=True), merge_mode='sum')(input_seq)\n",
    "    logits = TimeDistributed(Dense(units=french_vocab_size))(bidirectional_rnn)\n",
    "    \n",
    "    model = Model(input_seq, Activation('softmax')(logits))\n",
    "    model.compile(loss=sparse_categorical_crossentropy,\n",
    "                  optimizer=Adam(lr=learning_rate),\n",
    "                  metrics=['accuracy'])\n",
    "    return model\n",
    "\n",
    "tests.test_bd_model(bd_model)\n",
    "\n",
    "\n",
    "# TODO: Train and Print prediction(s)\n",
    "# Pad and Reshape the input to work with a RNN without an Embedding layer\n",
    "tmp_x = pad(preproc_english_sentences, max_french_sequence_length)\n",
    "tmp_x = tmp_x.reshape((-1, preproc_french_sentences.shape[-2], 1))\n",
    "\n",
    "bidirectional_model = bd_model(tmp_x.shape,\n",
    "                               output_sequence_length=max_french_sequence_length, \n",
    "                               english_vocab_size = english_vocab_size+1,\n",
    "                           french_vocab_size = french_vocab_size+1)\n",
    "bidirectional_model.fit(tmp_x, preproc_french_sentences, batch_size=1024, epochs=10, validation_split=0.2)"
   ]
  },
  {
   "cell_type": "code",
   "execution_count": 36,
   "metadata": {},
   "outputs": [
    {
     "name": "stdout",
     "output_type": "stream",
     "text": [
      "new jersey est parfois calme en mois et il est il est en en <PAD> <PAD> <PAD> <PAD> <PAD> <PAD> <PAD>\n"
     ]
    }
   ],
   "source": [
    "print(logits_to_text(bidirectional_model.predict(tmp_x[:1])[0], french_tokenizer))"
   ]
  },
  {
   "cell_type": "markdown",
   "metadata": {},
   "source": [
    "### Model 4: Encoder-Decoder (OPTIONAL)\n",
    "Time to look at encoder-decoder models.  This model is made up of an encoder and decoder. The encoder creates a matrix representation of the sentence.  The decoder takes this matrix as input and predicts the translation as output.\n",
    "\n",
    "Create an encoder-decoder model in the cell below."
   ]
  },
  {
   "cell_type": "code",
   "execution_count": 37,
   "metadata": {},
   "outputs": [
    {
     "data": {
      "text/plain": [
       "(21, 1)"
      ]
     },
     "execution_count": 37,
     "metadata": {},
     "output_type": "execute_result"
    }
   ],
   "source": [
    "tmp_x.shape[1:]"
   ]
  },
  {
   "cell_type": "code",
   "execution_count": 38,
   "metadata": {},
   "outputs": [
    {
     "name": "stdout",
     "output_type": "stream",
     "text": [
      "Train on 110288 samples, validate on 27573 samples\n",
      "Epoch 1/10\n",
      "110288/110288 [==============================] - 19s 171us/step - loss: 2.8748 - acc: 0.4580 - val_loss: 2.2275 - val_acc: 0.5071\n",
      "Epoch 2/10\n",
      "110288/110288 [==============================] - 18s 161us/step - loss: 2.0301 - acc: 0.5321 - val_loss: 1.7786 - val_acc: 0.5563\n",
      "Epoch 3/10\n",
      "110288/110288 [==============================] - 18s 161us/step - loss: 1.6649 - acc: 0.5669 - val_loss: 1.5805 - val_acc: 0.5799\n",
      "Epoch 4/10\n",
      "110288/110288 [==============================] - 18s 161us/step - loss: 1.5178 - acc: 0.5906 - val_loss: 1.4564 - val_acc: 0.6037\n",
      "Epoch 5/10\n",
      "110288/110288 [==============================] - 18s 161us/step - loss: 1.4100 - acc: 0.6121 - val_loss: 1.3620 - val_acc: 0.6215\n",
      "Epoch 6/10\n",
      "110288/110288 [==============================] - 18s 161us/step - loss: 1.3272 - acc: 0.6276 - val_loss: 1.2893 - val_acc: 0.6358\n",
      "Epoch 7/10\n",
      "110288/110288 [==============================] - 18s 161us/step - loss: 1.2820 - acc: 0.6335 - val_loss: 1.2429 - val_acc: 0.6411\n",
      "Epoch 8/10\n",
      "110288/110288 [==============================] - 18s 161us/step - loss: 1.2299 - acc: 0.6417 - val_loss: 1.2134 - val_acc: 0.6415\n",
      "Epoch 9/10\n",
      "110288/110288 [==============================] - 18s 161us/step - loss: 1.1971 - acc: 0.6460 - val_loss: 1.1819 - val_acc: 0.6475\n",
      "Epoch 10/10\n",
      "110288/110288 [==============================] - 18s 161us/step - loss: 1.1866 - acc: 0.6463 - val_loss: 1.1545 - val_acc: 0.6533\n",
      "new jersey est parfois chaud en l' et il est est en en <PAD> <PAD> <PAD> <PAD> <PAD> <PAD> <PAD> <PAD>\n"
     ]
    }
   ],
   "source": [
    "def encdec_model(input_shape, output_sequence_length, english_vocab_size, french_vocab_size):\n",
    "    \"\"\"\n",
    "    Build and train an encoder-decoder model on x and y\n",
    "    :param input_shape: Tuple of input shape\n",
    "    :param output_sequence_length: Length of output sequence\n",
    "    :param english_vocab_size: Number of unique English words in the dataset\n",
    "    :param french_vocab_size: Number of unique French words in the dataset\n",
    "    :return: Keras model built, but not trained\n",
    "    \"\"\"\n",
    "    # OPTIONAL: Implement\n",
    "    \n",
    "    #print(\"Debug input_shape =\" , input_shape, \"  input_shape[1:] =\", input_shape[1:], \"  Input length=\", input_shape[1:][0])\n",
    "    #print(\"Debug output_sequence_length =\" , output_sequence_length) \n",
    "    #print(\"Debug english_vocab_size =\" , english_vocab_size)\n",
    "    #print(\"Debug french_vocab_size =\" , french_vocab_size)\n",
    "    \n",
    "    # Hyperparameters\n",
    "    embedding_size = 128\n",
    "    rnn_cells = 200\n",
    "    dropout = 0.0\n",
    "    learning_rate = 1e-3\n",
    "    \n",
    "    from keras.layers import LSTM\n",
    "    \n",
    "    # Input\n",
    "    encoder_input_seq = Input(shape=input_shape[1:], name=\"enc_input\")\n",
    " \n",
    "    # Encoder (Return the internal states of the RNN -> 1 hidden state for GRU cells, 2 hidden states for LSTM cells))\n",
    "    encoder_output, state_t = GRU(units=rnn_cells, \n",
    "                                  dropout=dropout,\n",
    "                                  return_sequences=False,\n",
    "                                  return_state=True,\n",
    "                                  name=\"enc_rnn\")(encoder_input_seq)\n",
    "          #or for LSTM cells: encoder_output, state_h, state_c = LSTM(...)\n",
    "        \n",
    "    # Decoder Input   \n",
    "    decoder_input_seq = RepeatVector(output_sequence_length)(encoder_output)\n",
    "\n",
    "    # Decoder RNN (Take the encoder returned states as initial states)\n",
    "    decoder_out = GRU(units=rnn_cells,\n",
    "                      dropout=dropout,\n",
    "                      return_sequences=True,\n",
    "                      return_state=False)(decoder_input_seq, initial_state=state_t)\n",
    "                                         #or for LSTM cells: (decoder_input_seq, initial_state=[state_h, state_c])\n",
    "    \n",
    "    # Decoder output \n",
    "    logits = TimeDistributed(Dense(units=french_vocab_size))(decoder_out) \n",
    "    \n",
    "    # Model\n",
    "    model = Model(encoder_input_seq, Activation('softmax')(logits))\n",
    "    model.compile(loss=sparse_categorical_crossentropy,\n",
    "                  optimizer=Adam(lr=learning_rate),\n",
    "                  metrics=['accuracy'])\n",
    "     \n",
    "    return model    \n",
    "    \n",
    "# Unitary tests\n",
    "tests.test_encdec_model(encdec_model)\n",
    "\n",
    "\n",
    "# OPTIONAL: Train and Print prediction(s)\n",
    "\n",
    "# Pad and Reshape the input to work with the Embedding layer\n",
    "tmp_x = pad(preproc_english_sentences, max_french_sequence_length)\n",
    "tmp_x = tmp_x.reshape((-1, preproc_french_sentences.shape[-2], 1))\n",
    "#print(\"Debug tmp_x shape=\", tmp_x.shape )\n",
    "\n",
    "# Train the neural network \n",
    "encdec_rnn_model = encdec_model(input_shape = tmp_x.shape,\n",
    "                                output_sequence_length = max_french_sequence_length,\n",
    "                                english_vocab_size = english_vocab_size+1,\n",
    "                                french_vocab_size = french_vocab_size+1)\n",
    "    \n",
    "#print(encdec_rnn_model.summary())\n",
    "\n",
    "encdec_rnn_model.fit(tmp_x, preproc_french_sentences, batch_size=1024, epochs=10, validation_split=0.2) # callbacks=[tensorboard]\n",
    "\n",
    "# Print prediction(s)\n",
    "print(logits_to_text(encdec_rnn_model.predict(tmp_x[:1])[0], french_tokenizer))\n"
   ]
  },
  {
   "cell_type": "markdown",
   "metadata": {},
   "source": [
    "### Model 5: Custom (IMPLEMENTATION)\n",
    "Use everything you learned from the previous models to create a model that incorporates embedding and a bidirectional rnn into one model."
   ]
  },
  {
   "cell_type": "code",
   "execution_count": 71,
   "metadata": {},
   "outputs": [
    {
     "name": "stdout",
     "output_type": "stream",
     "text": [
      "(15,)\n",
      "Final Model Loaded\n",
      "\n",
      "Debug tmp_x shape= (137861, 21)\n",
      "(21,)\n",
      "_____________________________________________________________________________________________________________________________\n",
      "Layer (type)                             Output Shape               Param #        Connected to                              \n",
      "=============================================================================================================================\n",
      "input_42 (InputLayer)                    (None, 21)                 0                                                        \n",
      "_____________________________________________________________________________________________________________________________\n",
      "embedding_36 (Embedding)                 (None, 21, 128)            25600          input_42[0][0]                            \n",
      "_____________________________________________________________________________________________________________________________\n",
      "lstm_84 (LSTM)                           [(None, 300), (None, 300), 514800         embedding_36[0][0]                        \n",
      "_____________________________________________________________________________________________________________________________\n",
      "lstm_85 (LSTM)                           [(None, 300), (None, 300), 514800         embedding_36[0][0]                        \n",
      "_____________________________________________________________________________________________________________________________\n",
      "concatenate_84 (Concatenate)             (None, 600)                0              lstm_84[0][0]                             \n",
      "                                                                                   lstm_85[0][0]                             \n",
      "_____________________________________________________________________________________________________________________________\n",
      "repeat_vector_28 (RepeatVector)          (None, 21, 600)            0              concatenate_84[0][0]                      \n",
      "_____________________________________________________________________________________________________________________________\n",
      "lstm_86 (LSTM)                           (None, 21, 600)            2882400        repeat_vector_28[0][0]                    \n",
      "_____________________________________________________________________________________________________________________________\n",
      "time_distributed_19 (TimeDistributed)    (None, 21, 345)            207345         lstm_86[0][0]                             \n",
      "_____________________________________________________________________________________________________________________________\n",
      "activation_16 (Activation)               (None, 21, 345)            0              time_distributed_19[0][0]                 \n",
      "=============================================================================================================================\n",
      "Total params: 4,144,945\n",
      "Trainable params: 4,144,945\n",
      "Non-trainable params: 0\n",
      "_____________________________________________________________________________________________________________________________\n",
      "None\n",
      "Train on 110288 samples, validate on 27573 samples\n",
      "Epoch 1/10\n",
      "110288/110288 [==============================] - 69s 629us/step - loss: 2.8123 - acc: 0.4573 - val_loss: 2.1367 - val_acc: 0.5091\n",
      "Epoch 2/10\n",
      "110288/110288 [==============================] - 66s 596us/step - loss: 1.6694 - acc: 0.5721 - val_loss: 1.4271 - val_acc: 0.6118\n",
      "Epoch 3/10\n",
      "110288/110288 [==============================] - 66s 594us/step - loss: 1.3027 - acc: 0.6424 - val_loss: 1.1561 - val_acc: 0.6799\n",
      "Epoch 4/10\n",
      "110288/110288 [==============================] - 65s 592us/step - loss: 1.0669 - acc: 0.6952 - val_loss: 0.9497 - val_acc: 0.7230\n",
      "Epoch 5/10\n",
      "110288/110288 [==============================] - 65s 592us/step - loss: 0.9027 - acc: 0.7313 - val_loss: 0.8529 - val_acc: 0.7427\n",
      "Epoch 6/10\n",
      "110288/110288 [==============================] - 65s 593us/step - loss: 0.8265 - acc: 0.7502 - val_loss: 0.7252 - val_acc: 0.7788\n",
      "Epoch 7/10\n",
      "110288/110288 [==============================] - 65s 592us/step - loss: 0.6998 - acc: 0.7863 - val_loss: 0.6264 - val_acc: 0.8073\n",
      "Epoch 8/10\n",
      "110288/110288 [==============================] - 65s 592us/step - loss: 0.6034 - acc: 0.8138 - val_loss: 0.5360 - val_acc: 0.8349\n",
      "Epoch 9/10\n",
      "110288/110288 [==============================] - 65s 587us/step - loss: 0.5207 - acc: 0.8389 - val_loss: 0.4475 - val_acc: 0.8637\n",
      "Epoch 10/10\n",
      "110288/110288 [==============================] - 65s 593us/step - loss: 0.4381 - acc: 0.8647 - val_loss: 0.3773 - val_acc: 0.8873\n",
      "new jersey est parfois calme à l'automne et il est et en avril <PAD> <PAD> <PAD> <PAD> <PAD> <PAD> <PAD> <PAD>\n"
     ]
    }
   ],
   "source": [
    "def model_final(input_shape, output_sequence_length, english_vocab_size, french_vocab_size):\n",
    "    \"\"\"\n",
    "    Build and train a model that incorporates embedding, encoder-decoder, and bidirectional RNN on x and y\n",
    "    :param input_shape: Tuple of input shape\n",
    "    :param output_sequence_length: Length of output sequence\n",
    "    :param english_vocab_size: Number of unique English words in the dataset\n",
    "    :param french_vocab_size: Number of unique French words in the dataset\n",
    "    :return: Keras model built, but not trained\n",
    "    \"\"\"\n",
    "    \n",
    "    # TODO: Train the final model\n",
    "    #print(\"Debug input_shape =\" , input_shape, \"  input_shape[1:] =\", input_shape[1:], \"  Input length=\", input_shape[1:][0])\n",
    "    #print(\"Debug output_sequence_length =\" , output_sequence_length) \n",
    "    #print(\"Debug english_vocab_size =\" , english_vocab_size)\n",
    "    #print(\"Debug french_vocab_size =\" , french_vocab_size)\n",
    "    \n",
    "    \n",
    "    ## Model_final is a seq2seq model (encoder-decoder) using embedding and bidirectional LSTM\n",
    "    \n",
    "    # Hyperparameters\n",
    "    embedding_size = 128\n",
    "    rnn_cells = 300\n",
    "    dropout = 0.2\n",
    "    learning_rate = 1e-3\n",
    "    \n",
    "    from keras.layers import LSTM, concatenate\n",
    "    \n",
    "    # Input and embedding\n",
    "    print(input_shape[1:])\n",
    "    encoder_input_seq = Input(shape=input_shape[1:]) \n",
    "    embedded_input_seq = Embedding(input_dim = english_vocab_size,\n",
    "                                   output_dim = embedding_size,\n",
    "                                   input_length=input_shape[1:][0])(encoder_input_seq)\n",
    "    \n",
    "    ## Note Bidirectional LSTM is used on the encoder side (see https://arxiv.org/pdf/1609.08144.pdf )\n",
    "    ## Alternate version : Encoder RNN Bidirectional layer (Using the Keras Bidirectional layer wrappers)\n",
    "    #encoder_output, forward_state_h, forward_state_c, backward_state_h, backward_state_c = Bidirectional(LSTM(units=rnn_cells,\n",
    "    #                                                                                                          dropout=dropout,\n",
    "    #                                                                                                          return_sequences=False,\n",
    "    #                                                                                                          return_state=True))(embedded_input_seq)\n",
    "    \n",
    "    # Encoder Forward RNN layer\n",
    "    encoder_forward_output, forward_state_h, forward_state_c = LSTM(units=rnn_cells,\n",
    "                                                                    dropout=dropout,\n",
    "                                                                    return_sequences=False,\n",
    "                                                                    return_state=True,\n",
    "                                                                    go_backwards=False)(embedded_input_seq)\n",
    "    \n",
    "    # Encoder backward RNN layer\n",
    "    encoder_backward_output, backward_state_h, backward_state_c = LSTM(units=rnn_cells,\n",
    "                                                                       dropout=dropout,\n",
    "                                                                       return_sequences=False,\n",
    "                                                                       return_state=True,\n",
    "                                                                       go_backwards=True)(embedded_input_seq)\n",
    "    \n",
    "    # Encoder output and states : Merge the LSTM Forward and Backward ouputs (using 'concatenate' method) \n",
    "    state_h = concatenate([forward_state_h, backward_state_h]) \n",
    "    state_c = concatenate([forward_state_c, backward_state_c])    \n",
    "    encoder_output = concatenate([encoder_forward_output, encoder_backward_output])        \n",
    "         \n",
    "    # Decoder Input   \n",
    "    decoder_input_seq = RepeatVector(output_sequence_length)(encoder_output)\n",
    "    \n",
    "    # Decoder RNN layer\n",
    "    # Note : we need twice more LSTM cells as we have concatenated backward and forward LSTM layers in encoder\n",
    "    decoder_output = LSTM(units=rnn_cells*2,\n",
    "                                  dropout=dropout,\n",
    "                                  return_sequences=True,\n",
    "                                  return_state=False,\n",
    "                                  go_backwards=False)(decoder_input_seq) #initial_state=[state_h:state_c])\n",
    "    \n",
    "    # Decoder output\n",
    "    logits = TimeDistributed(Dense(units=french_vocab_size))(decoder_output) \n",
    "    \n",
    "    # Model\n",
    "    model = Model(encoder_input_seq, Activation('softmax')(logits))\n",
    "    model.compile(loss=sparse_categorical_crossentropy,\n",
    "                  optimizer=Adam(lr=learning_rate),\n",
    "                  metrics=['accuracy'])\n",
    "    \n",
    "    return model    \n",
    "       \n",
    "tests.test_model_final(model_final)\n",
    "print('Final Model Loaded\\n')\n",
    "\n",
    "# Train and Print prediction(s)\n",
    "\n",
    "# Pad the input to work with the Embedding layer\n",
    "tmp_x = pad(preproc_english_sentences, max_french_sequence_length)\n",
    "print(\"Debug tmp_x shape=\", tmp_x.shape )\n",
    "\n",
    "\n",
    "# Train the neural network \n",
    "final_rnn_model = model_final(input_shape = tmp_x.shape,\n",
    "                              output_sequence_length = max_french_sequence_length,\n",
    "                              english_vocab_size = english_vocab_size+1,\n",
    "                              french_vocab_size = french_vocab_size+1)\n",
    "\n",
    "print(final_rnn_model.summary(line_length=125))\n",
    "\n",
    "\n",
    "final_rnn_model.fit(tmp_x, preproc_french_sentences, batch_size=1024, epochs=10, validation_split=0.2)\n",
    "\n",
    "# Print prediction(s)\n",
    "print(logits_to_text(final_rnn_model.predict(tmp_x[:1])[0], french_tokenizer))"
   ]
  },
  {
   "cell_type": "markdown",
   "metadata": {},
   "source": [
    "## Prediction (IMPLEMENTATION)"
   ]
  },
  {
   "cell_type": "code",
   "execution_count": 72,
   "metadata": {},
   "outputs": [
    {
     "name": "stdout",
     "output_type": "stream",
     "text": [
      "(15,)\n",
      "Train on 110288 samples, validate on 27573 samples\n",
      "Epoch 1/20\n",
      "110288/110288 [==============================] - 62s 565us/step - loss: 2.7528 - acc: 0.4607 - val_loss: 1.8972 - val_acc: 0.5396\n",
      "Epoch 2/20\n",
      "110288/110288 [==============================] - 59s 536us/step - loss: 1.6646 - acc: 0.5679 - val_loss: 1.4212 - val_acc: 0.6119\n",
      "Epoch 3/20\n",
      "110288/110288 [==============================] - 59s 533us/step - loss: 1.3106 - acc: 0.6387 - val_loss: 1.1691 - val_acc: 0.6731\n",
      "Epoch 4/20\n",
      "110288/110288 [==============================] - 59s 531us/step - loss: 1.0923 - acc: 0.6863 - val_loss: 1.0173 - val_acc: 0.7034\n",
      "Epoch 5/20\n",
      "110288/110288 [==============================] - 59s 531us/step - loss: 0.9486 - acc: 0.7170 - val_loss: 0.8790 - val_acc: 0.7344\n",
      "Epoch 6/20\n",
      "110288/110288 [==============================] - 58s 529us/step - loss: 0.8710 - acc: 0.7354 - val_loss: 0.8056 - val_acc: 0.7533\n",
      "Epoch 7/20\n",
      "110288/110288 [==============================] - 58s 529us/step - loss: 0.7567 - acc: 0.7677 - val_loss: 0.6826 - val_acc: 0.7901\n",
      "Epoch 8/20\n",
      "110288/110288 [==============================] - 58s 529us/step - loss: 0.6614 - acc: 0.7952 - val_loss: 0.5889 - val_acc: 0.8151\n",
      "Epoch 9/20\n",
      "110288/110288 [==============================] - 58s 529us/step - loss: 0.5736 - acc: 0.8193 - val_loss: 0.5091 - val_acc: 0.8400\n",
      "Epoch 10/20\n",
      "110288/110288 [==============================] - 59s 532us/step - loss: 0.4997 - acc: 0.8428 - val_loss: 0.4379 - val_acc: 0.8654\n",
      "Epoch 11/20\n",
      "110288/110288 [==============================] - 59s 532us/step - loss: 0.4254 - acc: 0.8675 - val_loss: 0.3621 - val_acc: 0.8886\n",
      "Epoch 12/20\n",
      "110288/110288 [==============================] - 58s 529us/step - loss: 0.3554 - acc: 0.8904 - val_loss: 0.2866 - val_acc: 0.9160\n",
      "Epoch 13/20\n",
      "110288/110288 [==============================] - 58s 530us/step - loss: 0.2884 - acc: 0.9134 - val_loss: 0.2302 - val_acc: 0.9343\n",
      "Epoch 14/20\n",
      "110288/110288 [==============================] - 58s 528us/step - loss: 0.2420 - acc: 0.9277 - val_loss: 0.1950 - val_acc: 0.9436\n",
      "Epoch 15/20\n",
      "110288/110288 [==============================] - 59s 531us/step - loss: 0.2081 - acc: 0.9372 - val_loss: 0.1693 - val_acc: 0.9503\n",
      "Epoch 16/20\n",
      "110288/110288 [==============================] - 59s 533us/step - loss: 0.1865 - acc: 0.9431 - val_loss: 0.1523 - val_acc: 0.9546\n",
      "Epoch 17/20\n",
      "110288/110288 [==============================] - 59s 532us/step - loss: 0.1642 - acc: 0.9497 - val_loss: 0.1415 - val_acc: 0.9567\n",
      "Epoch 18/20\n",
      "110288/110288 [==============================] - 59s 533us/step - loss: 0.1476 - acc: 0.9543 - val_loss: 0.1243 - val_acc: 0.9617\n",
      "Epoch 19/20\n",
      "110288/110288 [==============================] - 59s 531us/step - loss: 0.1364 - acc: 0.9577 - val_loss: 0.1188 - val_acc: 0.9634\n",
      "Epoch 20/20\n",
      "110288/110288 [==============================] - 59s 532us/step - loss: 0.1227 - acc: 0.9618 - val_loss: 0.1091 - val_acc: 0.9664\n",
      "Sample 1:\n",
      "il a vu un vieux camion jaune <PAD> <PAD> <PAD> <PAD> <PAD> <PAD> <PAD> <PAD> <PAD> <PAD> <PAD> <PAD> <PAD> <PAD>\n",
      "Il a vu un vieux camion jaune\n",
      "Sample 2:\n",
      "new jersey est parfois calme pendant l' automne et il est neigeux en avril <PAD> <PAD> <PAD> <PAD> <PAD> <PAD> <PAD>\n",
      "new jersey est parfois calme pendant l' automne et il est neigeux en avril <PAD> <PAD> <PAD> <PAD> <PAD> <PAD> <PAD>\n"
     ]
    }
   ],
   "source": [
    "def final_predictions(x, y, x_tk, y_tk):\n",
    "    \"\"\"\n",
    "    Gets predictions using the final model\n",
    "    :param x: Preprocessed English data\n",
    "    :param y: Preprocessed French data\n",
    "    :param x_tk: English tokenizer\n",
    "    :param y_tk: French tokenizer\n",
    "    \"\"\"\n",
    "    # TODO: Train neural network using model_final\n",
    "    model = model = model_final(input_shape = x.shape,\n",
    "                        output_sequence_length = y.shape[1],\n",
    "                        english_vocab_size = len(x_tk.word_index)+1,\n",
    "                        french_vocab_size = len(y_tk.word_index)+1)\n",
    "    model.fit(x, y, batch_size=1024, epochs=20, validation_split=0.2)\n",
    "\n",
    "    \n",
    "    ## DON'T EDIT ANYTHING BELOW THIS LINE\n",
    "    y_id_to_word = {value: key for key, value in y_tk.word_index.items()}\n",
    "    y_id_to_word[0] = '<PAD>'\n",
    "\n",
    "    sentence = 'he saw a old yellow truck'\n",
    "    sentence = [x_tk.word_index[word] for word in sentence.split()]\n",
    "    sentence = pad_sequences([sentence], maxlen=x.shape[-1], padding='post')\n",
    "    sentences = np.array([sentence[0], x[0]])\n",
    "    predictions = model.predict(sentences, len(sentences))\n",
    "\n",
    "    print('Sample 1:')\n",
    "    print(' '.join([y_id_to_word[np.argmax(x)] for x in predictions[0]]))\n",
    "    print('Il a vu un vieux camion jaune')\n",
    "    print('Sample 2:')\n",
    "    print(' '.join([y_id_to_word[np.argmax(x)] for x in predictions[1]]))\n",
    "    print(' '.join([y_id_to_word[np.max(x)] for x in y[0]]))\n",
    "\n",
    "\n",
    "final_predictions(preproc_english_sentences, preproc_french_sentences, english_tokenizer, french_tokenizer)"
   ]
  },
  {
   "cell_type": "markdown",
   "metadata": {},
   "source": [
    "## Submission\n",
    "When you're ready to submit, complete the following steps:\n",
    "1. Review the [rubric](https://review.udacity.com/#!/rubrics/1004/view) to ensure your submission meets all requirements to pass\n",
    "2. Generate an HTML version of this notebook\n",
    "\n",
    "  - Run the next cell to attempt automatic generation (this is the recommended method in Workspaces)\n",
    "  - Navigate to **FILE -> Download as -> HTML (.html)**\n",
    "  - Manually generate a copy using `nbconvert` from your shell terminal\n",
    "```\n",
    "$ pip install nbconvert\n",
    "$ python -m nbconvert machine_translation.ipynb\n",
    "```\n",
    "  \n",
    "3. Submit the project\n",
    "\n",
    "  - If you are in a Workspace, simply click the \"Submit Project\" button (bottom towards the right)\n",
    "  \n",
    "  - Otherwise, add the following files into a zip archive and submit them \n",
    "  - `helper.py`\n",
    "  - `machine_translation.ipynb`\n",
    "  - `machine_translation.html`\n",
    "    - You can export the notebook by navigating to **File -> Download as -> HTML (.html)**."
   ]
  },
  {
   "cell_type": "markdown",
   "metadata": {},
   "source": [
    "### Generate the html\n",
    "\n",
    "**Save your notebook before running the next cell to generate the HTML output.** Then submit your project."
   ]
  },
  {
   "cell_type": "code",
   "execution_count": 2,
   "metadata": {},
   "outputs": [
    {
     "data": {
      "text/plain": [
       "['[NbConvertApp] Converting notebook machine_translation.ipynb to html',\n",
       " '[NbConvertApp] Writing 305996 bytes to machine_translation.html']"
      ]
     },
     "execution_count": 2,
     "metadata": {},
     "output_type": "execute_result"
    }
   ],
   "source": [
    "# Save before you run this cell!\n",
    "!!jupyter nbconvert *.ipynb"
   ]
  },
  {
   "cell_type": "markdown",
   "metadata": {},
   "source": [
    "## Optional Enhancements\n",
    "\n",
    "This project focuses on learning various network architectures for machine translation, but we don't evaluate the models according to best practices by splitting the data into separate test & training sets -- so the model accuracy is overstated. Use the [`sklearn.model_selection.train_test_split()`](http://scikit-learn.org/stable/modules/generated/sklearn.model_selection.train_test_split.html) function to create separate training & test datasets, then retrain each of the models using only the training set and evaluate the prediction accuracy using the hold out test set. Does the \"best\" model change?"
   ]
  }
 ],
 "metadata": {
  "kernelspec": {
   "display_name": "Python 3",
   "language": "python",
   "name": "python3"
  },
  "language_info": {
   "codemirror_mode": {
    "name": "ipython",
    "version": 3
   },
   "file_extension": ".py",
   "mimetype": "text/x-python",
   "name": "python",
   "nbconvert_exporter": "python",
   "pygments_lexer": "ipython3",
   "version": "3.6.3"
  }
 },
 "nbformat": 4,
 "nbformat_minor": 1
}
