{
  "nbformat": 4,
  "nbformat_minor": 0,
  "metadata": {
    "colab": {
      "name": "Transfer_Learning_predict_flowers.ipynb",
      "provenance": [],
      "authorship_tag": "ABX9TyNOZsIp1w5McZAV2CMFoErG",
      "include_colab_link": true
    },
    "kernelspec": {
      "name": "python3",
      "display_name": "Python 3"
    }
  },
  "cells": [
    {
      "cell_type": "markdown",
      "metadata": {
        "id": "view-in-github",
        "colab_type": "text"
      },
      "source": [
        "<a href=\"https://colab.research.google.com/github/purvasingh96/Deep-learning-with-neural-networks/blob/master/Chapter-wise%20code/Code%20-%20PyTorch/2.%20Convolution%20Neural%20Networks/4.%20Transfer%20Learning/Transfer_Learning_predict_flowers.ipynb\" target=\"_parent\"><img src=\"https://colab.research.google.com/assets/colab-badge.svg\" alt=\"Open In Colab\"/></a>"
      ]
    },
    {
      "cell_type": "markdown",
      "metadata": {
        "id": "YoAU-Y6v1XTe",
        "colab_type": "text"
      },
      "source": [
        "# Download Data\n",
        "\n",
        "Use the following command to download zip file and then unzip it -\n",
        "\n",
        "```\n",
        "wget <download_link>\n",
        "!unzip <zip_file_name.zip>\n",
        "\n",
        "```"
      ]
    },
    {
      "cell_type": "code",
      "metadata": {
        "id": "W1Xg6v8IY3FJ",
        "colab_type": "code",
        "colab": {}
      },
      "source": [
        "! wget https://s3.amazonaws.com/video.udacity-data.com/topher/2018/September/5baa60a0_flower-photos/flower-photos.zip"
      ],
      "execution_count": 0,
      "outputs": []
    },
    {
      "cell_type": "code",
      "metadata": {
        "id": "1KCmWbtHY_8e",
        "colab_type": "code",
        "colab": {}
      },
      "source": [
        "!unzip flower-photos.zip.1"
      ],
      "execution_count": 0,
      "outputs": []
    },
    {
      "cell_type": "markdown",
      "metadata": {
        "id": "u1IFg4yf1xj3",
        "colab_type": "text"
      },
      "source": [
        "# Flower power\n",
        "\n",
        "Here we'll be using VGGNet to classify images of flowers. We'll start, as usual, by importing our usual resources. And checking if we can train our model on GPU."
      ]
    },
    {
      "cell_type": "code",
      "metadata": {
        "id": "07gzrnHn2BEW",
        "colab_type": "code",
        "colab": {}
      },
      "source": [
        "import os\n",
        "import numpy as np\n",
        "import torch\n",
        "\n",
        "import torchvision\n",
        "from torchvision import "
      ],
      "execution_count": 0,
      "outputs": []
    }
  ]
}