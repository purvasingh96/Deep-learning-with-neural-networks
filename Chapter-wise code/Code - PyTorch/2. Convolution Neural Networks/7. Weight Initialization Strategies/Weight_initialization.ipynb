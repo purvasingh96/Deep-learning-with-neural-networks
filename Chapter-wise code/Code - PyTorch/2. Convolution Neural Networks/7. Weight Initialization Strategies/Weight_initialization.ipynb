{
  "nbformat": 4,
  "nbformat_minor": 0,
  "metadata": {
    "colab": {
      "name": "Weight_initialization.ipynb",
      "provenance": [],
      "authorship_tag": "ABX9TyMEPwBIg2RIYiWyu5x/sgjH",
      "include_colab_link": true
    },
    "kernelspec": {
      "name": "python3",
      "display_name": "Python 3"
    }
  },
  "cells": [
    {
      "cell_type": "markdown",
      "metadata": {
        "id": "view-in-github",
        "colab_type": "text"
      },
      "source": [
        "<a href=\"https://colab.research.google.com/github/purvasingh96/Deep-learning-with-neural-networks/blob/master/Chapter-wise%20code/Code%20-%20PyTorch/2.%20Convolution%20Neural%20Networks/7.%20Weight%20Initialization%20Strategies/Weight_initialization.ipynb\" target=\"_parent\"><img src=\"https://colab.research.google.com/assets/colab-badge.svg\" alt=\"Open In Colab\"/></a>"
      ]
    },
    {
      "cell_type": "markdown",
      "metadata": {
        "id": "KbjN0u3_oO0S",
        "colab_type": "text"
      },
      "source": [
        "# Weight Initialization\n",
        "In this lesson, you'll learn how to find good initial weights for a neural network. Weight initialization happens once, when a model is created and before it trains. Having good initial weights can place the neural network close to the optimal solution. This allows the neural network to come to the best solution quicker. \n",
        "\n",
        "<img src=\"https://github.com/purvasingh96/Deep-learning-with-neural-networks/blob/master/Chapter-wise%20code/Code%20-%20PyTorch/2.%20Convolution%20Neural%20Networks/7.%20Weight%20Initialization%20Strategies/notebook_ims/neuron_weights.png?raw=1\" width=40%/>\n",
        "\n",
        "\n",
        "## Initial Weights and Observing Training Loss\n",
        "\n",
        "To see how different weights perform, we'll test on the same dataset and neural network. That way, we know that any changes in model behavior are due to the weights and not any changing data or model structure. \n",
        "> We'll instantiate at least two of the same models, with _different_ initial weights and see how the training loss decreases over time, such as in the example below. \n",
        "\n",
        "<img src=\"https://github.com/purvasingh96/Deep-learning-with-neural-networks/blob/master/Chapter-wise%20code/Code%20-%20PyTorch/2.%20Convolution%20Neural%20Networks/7.%20Weight%20Initialization%20Strategies/notebook_ims/loss_comparison_ex.png?raw=1\" width=60%/>\n",
        "\n",
        "Sometimes the differences in training loss, over time, will be large and other times, certain weights offer only small improvements.\n",
        "\n",
        "### Dataset and Model\n",
        "\n",
        "We'll train an MLP to classify images from the [Fashion-MNIST database](https://github.com/zalandoresearch/fashion-mnist) to demonstrate the effect of different initial weights. As a reminder, the FashionMNIST dataset contains images of clothing types; `classes = ['T-shirt/top', 'Trouser', 'Pullover', 'Dress', 'Coat', 'Sandal', 'Shirt', 'Sneaker', 'Bag', 'Ankle boot']`. The images are normalized so that their pixel values are in a range [0.0 - 1.0).  Run the cell below to download and load the dataset.\n",
        "\n",
        "---"
      ]
    },
    {
      "cell_type": "markdown",
      "metadata": {
        "id": "0S0i2A-8oVgH",
        "colab_type": "text"
      },
      "source": [
        "### Import Libraries and Load [Data](http://pytorch.org/docs/stable/torchvision/datasets.html)"
      ]
    },
    {
      "cell_type": "code",
      "metadata": {
        "id": "ikDIfwVgn4Xw",
        "colab_type": "code",
        "colab": {}
      },
      "source": [
        "import torch\n",
        "import numpy as np\n",
        "from torchvision import datasets\n",
        "import torchvision.transforms as transforms\n",
        "from torch.utils.data.sampler import SubsetRandomSampler "
      ],
      "execution_count": 0,
      "outputs": []
    },
    {
      "cell_type": "code",
      "metadata": {
        "id": "2IKLjkaAom1I",
        "colab_type": "code",
        "colab": {}
      },
      "source": [
        "num_workers = 0\n",
        "batch_size = 100\n",
        "valid_size = 0.2\n",
        "\n",
        "transformTensor = transforms.ToTensor()\n",
        "\n",
        "train_data = datasets.FashionMNIST(root='data', train=True, download=True, transform=transformTensor)\n",
        "test_data = datasets.FashionMNIST(root='data', train=False, download=True, transform=transformTensor)\n",
        "\n",
        "num_train = len(train_data)\n",
        "indices = list(range(num_train))\n",
        "np.random.shuffle(indices)\n",
        "split_idx = int(np.floor(valid_size*num_train))\n",
        "train_idx, valid_idx = indices[split_idx:], indices[:split_idx]\n",
        "\n",
        "train_sampler = SubsetRandomSampler(train_idx)\n",
        "valid_sampler = SubsetRandomSampler(valid_idx)\n",
        "\n",
        "train_loader = torch.utils.data.DataLoader(train_data, num_workers=num_workers, batch_size=batch_size, sampler=train_sampler)\n",
        "valid_loader = torch.utils.data.DataLoader(train_data, num_workers=num_workers, batch_size=batch_size, sampler=valid_sampler)\n",
        "test_loader = torch.utils.data.DataLoader(test_data, batch_size=batch_size, num_workers=num_workers)\n",
        "\n",
        "# specify image class\n",
        "classes = ['T-shirt/top', 'Trouser', 'Pullover', 'Dress', 'Coat', \n",
        "    'Sandal', 'Shirt', 'Sneaker', 'Bag', 'Ankle boot']\n"
      ],
      "execution_count": 0,
      "outputs": []
    },
    {
      "cell_type": "markdown",
      "metadata": {
        "id": "KDUq2_-7gjag",
        "colab_type": "text"
      },
      "source": [
        "# Visualize Some Training Data\n"
      ]
    },
    {
      "cell_type": "code",
      "metadata": {
        "id": "pGOXqgBkgXip",
        "colab_type": "code",
        "colab": {
          "base_uri": "https://localhost:8080/",
          "height": 267
        },
        "outputId": "6b1e4ffe-3e43-4173-c41c-dc70ccbb4636"
      },
      "source": [
        "import matplotlib.pyplot as plt\n",
        "%matplotlib inline\n",
        "    \n",
        "# obtain one batch of training images\n",
        "dataiter = iter(train_loader)\n",
        "images, labels = dataiter.next()\n",
        "images = images.numpy()\n",
        "\n",
        "# plot the images in the batch, along with the corresponding labels\n",
        "fig = plt.figure(figsize=(25, 4))\n",
        "for idx in np.arange(20):\n",
        "    ax = fig.add_subplot(2, 20/2, idx+1, xticks=[], yticks=[])\n",
        "    ax.imshow(np.squeeze(images[idx]), cmap='gray')\n",
        "    ax.set_title(classes[labels[idx]])"
      ],
      "execution_count": 4,
      "outputs": [
        {
          "output_type": "display_data",
          "data": {
            "image/png": "[encoded data removed]",
            "text/plain": [
              "<Figure size 1800x288 with 20 Axes>"
            ]
          },
          "metadata": {
            "tags": []
          }
        }
      ]
    },
    {
      "cell_type": "markdown",
      "metadata": {
        "id": "fqRHfcGegu-f",
        "colab_type": "text"
      },
      "source": [
        "# Initialize Weights\n",
        "## All Zeros or Ones\n",
        "\n",
        "Use  PyTorch's [nn.init](https://pytorch.org/docs/stable/nn.html#torch-nn-init) to initialize each Linear layer with a constant weight. The init library provides a number of weight initialization functions that give you the ability to initialize the weights of each layer according to layer type.\n",
        "\n",
        "In the case below, we look at every layer/module in our model. If it is a Linear layer (as all three layers are for this MLP), then we initialize those layer weights to be a `constant_weight` with bias=0 using the following code:\n",
        ">```\n",
        "if isinstance(m, nn.Linear):\n",
        "    nn.init.constant_(m.weight, constant_weight)\n",
        "    nn.init.constant_(m.bias, 0)\n",
        "```\n",
        "\n",
        "The `constant_weight` is a value that you can pass in when you instantiate the model."
      ]
    },
    {
      "cell_type": "code",
      "metadata": {
        "id": "1lCInJQPgoJH",
        "colab_type": "code",
        "colab": {}
      },
      "source": [
        "import torch.nn as nn\n",
        "import torch.nn.functional as F\n"
      ],
      "execution_count": 0,
      "outputs": []
    },
    {
      "cell_type": "code",
      "metadata": {
        "id": "FTaeqSxDhbNk",
        "colab_type": "code",
        "colab": {}
      },
      "source": [
        "class Net(nn.Module):\n",
        "  def __init__(self, hidden_1=256, hidden_2=128, constant_weight=None):\n",
        "    super(Net, self).__init__()\n",
        "    self.fc1 = nn.Linear(28*28, hidden_1)\n",
        "    self.fc2 = nn.Linear(hidden_1, hidden_2)\n",
        "    self.fc3 = nn.Linear(hidden_2, 10)\n",
        "    self.dropout = nn.Dropout(0.2)\n",
        "\n",
        "    if constant_weight is not None:\n",
        "      for m in self.modules():\n",
        "        if isinstance(m, nn.Linear):\n",
        "          nn.init.constant_(m.weight, constant_weight)\n",
        "          nn.init.constant_(m.bias, 0)\n",
        "    \n",
        "    def forward(self, x):\n",
        "      x = x.view(-1, 28*28)\n",
        "      x = F.relu(self.fc1(x))\n",
        "      x = self.dropout(x)\n",
        "      x = F.relu(self.fc2(x))\n",
        "      x = self.dropout(x)\n",
        "      x= self.fc3(x)\n",
        "      return x"
      ],
      "execution_count": 0,
      "outputs": []
    },
    {
      "cell_type": "markdown",
      "metadata": {
        "id": "8V1SlqkOjdmM",
        "colab_type": "text"
      },
      "source": [
        "# Compare Model Behaviour\n",
        "Using **helpers.py** we wil compare the 2 models with constant_weights 0 and 1"
      ]
    },
    {
      "cell_type": "code",
      "metadata": {
        "id": "Alf9sJTWiPTf",
        "colab_type": "code",
        "colab": {}
      },
      "source": [
        "model_0 = Net(constant_weight=0)\n",
        "model_1 = Net(constant_weight=1)"
      ],
      "execution_count": 0,
      "outputs": []
    },
    {
      "cell_type": "code",
      "metadata": {
        "id": "nhT3rswajwOt",
        "colab_type": "code",
        "colab": {
          "base_uri": "https://localhost:8080/",
          "height": 288
        },
        "outputId": "f5ef1083-f3de-4cfa-cd42-ca5c2477272a"
      },
      "source": [
        "import helpers"
      ],
      "execution_count": 10,
      "outputs": [
        {
          "output_type": "error",
          "ename": "ModuleNotFoundError",
          "evalue": "ignored",
          "traceback": [
            "\u001b[0;31m---------------------------------------------------------------------------\u001b[0m",
            "\u001b[0;31mModuleNotFoundError\u001b[0m                       Traceback (most recent call last)",
            "\u001b[0;32m<ipython-input-10-d249c8495052>\u001b[0m in \u001b[0;36m<module>\u001b[0;34m()\u001b[0m\n\u001b[0;32m----> 1\u001b[0;31m \u001b[0;32mimport\u001b[0m \u001b[0mhelpers\u001b[0m\u001b[0;34m\u001b[0m\u001b[0;34m\u001b[0m\u001b[0m\n\u001b[0m",
            "\u001b[0;31mModuleNotFoundError\u001b[0m: No module named 'helpers'",
            "",
            "\u001b[0;31m---------------------------------------------------------------------------\u001b[0;32m\nNOTE: If your import is failing due to a missing package, you can\nmanually install dependencies using either !pip or !apt.\n\nTo view examples of installing some common dependencies, click the\n\"Open Examples\" button below.\n\u001b[0;31m---------------------------------------------------------------------------\u001b[0m\n"
          ]
        }
      ]
    },
    {
      "cell_type": "code",
      "metadata": {
        "id": "bd-g3rk5mhXB",
        "colab_type": "code",
        "colab": {}
      },
      "source": [
        ""
      ],
      "execution_count": 0,
      "outputs": []
    }
  ]
}