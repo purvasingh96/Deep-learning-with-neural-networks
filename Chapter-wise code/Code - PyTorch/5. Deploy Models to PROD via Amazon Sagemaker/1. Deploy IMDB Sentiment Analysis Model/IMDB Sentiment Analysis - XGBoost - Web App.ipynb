{
 "cells": [
  {
   "cell_type": "markdown",
   "metadata": {},
   "source": [
    "# Sentiment Analysis Web App\n",
    "\n",
    "_Deep Learning Nanodegree Program | Deployment_\n",
    "\n",
    "---\n",
    "\n",
    "In this notebook we will use Amazon's SageMaker service to construct a random tree model to predict the sentiment of a movie review. In addition, we will deploy this model to an endpoint and construct a very simple web app which will interact with our model's deployed endpoint.\n",
    "\n",
    "## General Outline\n",
    "\n",
    "Typically, when using a notebook instance with SageMaker, you will proceed through the following steps. Of course, not every step will need to be done with each project. Also, there is quite a lot of room for variation in many of the steps, as you will see throughout these lessons.\n",
    "\n",
    "1. Download or otherwise retrieve the data.\n",
    "2. Process / Prepare the data.\n",
    "3. Upload the processed data to S3.\n",
    "4. Train a chosen model.\n",
    "5. Test the trained model (typically using a batch transform job).\n",
    "6. Deploy the trained model.\n",
    "7. Use the deployed model.\n",
    "\n",
    "In this notebook we will progress through each of the steps above. We will also see that the final step, using the deployed model, can be quite challenging."
   ]
  },
  {
   "cell_type": "markdown",
   "metadata": {},
   "source": [
    "## Step 1: Downloading the data\n",
    "\n",
    "The dataset we are going to use is very popular among researchers in Natural Language Processing, usually referred to as the [IMDb dataset](http://ai.stanford.edu/~amaas/data/sentiment/). It consists of movie reviews from the website [imdb.com](http://www.imdb.com/), each labeled as either '**pos**itive', if the reviewer enjoyed the film, or '**neg**ative' otherwise.\n",
    "\n",
    "> Maas, Andrew L., et al. [Learning Word Vectors for Sentiment Analysis](http://ai.stanford.edu/~amaas/data/sentiment/). In _Proceedings of the 49th Annual Meeting of the Association for Computational Linguistics: Human Language Technologies_. Association for Computational Linguistics, 2011.\n",
    "\n",
    "We begin by using some Jupyter Notebook magic to download and extract the dataset."
   ]
  },
  {
   "cell_type": "code",
   "execution_count": 1,
   "metadata": {},
   "outputs": [
    {
     "name": "stdout",
     "output_type": "stream",
     "text": [
      "mkdir: cannot create directory ‘../data’: File exists\n",
      "--2020-06-07 12:43:46--  http://ai.stanford.edu/~amaas/data/sentiment/aclImdb_v1.tar.gz\n",
      "Resolving ai.stanford.edu (ai.stanford.edu)... 171.64.68.10\n",
      "Connecting to ai.stanford.edu (ai.stanford.edu)|171.64.68.10|:80... connected.\n",
      "HTTP request sent, awaiting response... 200 OK\n",
      "Length: 84125825 (80M) [application/x-gzip]\n",
      "Saving to: ‘../data/aclImdb_v1.tar.gz’\n",
      "\n",
      "../data/aclImdb_v1. 100%[===================>]  80.23M  6.14MB/s    in 18s     \n",
      "\n",
      "2020-06-07 12:44:05 (4.35 MB/s) - ‘../data/aclImdb_v1.tar.gz’ saved [84125825/84125825]\n",
      "\n"
     ]
    }
   ],
   "source": [
    "%mkdir ../data\n",
    "!wget -O ../data/aclImdb_v1.tar.gz http://ai.stanford.edu/~amaas/data/sentiment/aclImdb_v1.tar.gz\n",
    "!tar -zxf ../data/aclImdb_v1.tar.gz -C ../data"
   ]
  },
  {
   "cell_type": "markdown",
   "metadata": {},
   "source": [
    "## Step 2: Preparing and Processing the data\n",
    "\n",
    "The data we have downloaded is split into various files, each of which contains a single review. It will be much easier going forward if we combine these individual files into two large files, one for training and one for testing."
   ]
  },
  {
   "cell_type": "code",
   "execution_count": 2,
   "metadata": {},
   "outputs": [],
   "source": [
    "import os\n",
    "import glob\n",
    "\n",
    "def read_imdb_data(data_dir='../data/aclImdb'):\n",
    "    data = {}\n",
    "    labels = {}\n",
    "    \n",
    "    for data_type in ['train', 'test']:\n",
    "        data[data_type] = {}\n",
    "        labels[data_type] = {}\n",
    "        \n",
    "        for sentiment in ['pos', 'neg']:\n",
    "            data[data_type][sentiment] = []\n",
    "            labels[data_type][sentiment] = []\n",
    "            \n",
    "            path = os.path.join(data_dir, data_type, sentiment, '*.txt')\n",
    "            files = glob.glob(path)\n",
    "            \n",
    "            for f in files:\n",
    "                with open(f) as review:\n",
    "                    data[data_type][sentiment].append(review.read())\n",
    "                    # Here we represent a positive review by '1' and a negative review by '0'\n",
    "                    labels[data_type][sentiment].append(1 if sentiment == 'pos' else 0)\n",
    "                    \n",
    "            assert len(data[data_type][sentiment]) == len(labels[data_type][sentiment]), \\\n",
    "                    \"{}/{} data size does not match labels size\".format(data_type, sentiment)\n",
    "                \n",
    "    return data, labels"
   ]
  },
  {
   "cell_type": "code",
   "execution_count": 3,
   "metadata": {},
   "outputs": [
    {
     "name": "stdout",
     "output_type": "stream",
     "text": [
      "IMDB reviews: train = 12500 pos / 12500 neg, test = 12500 pos / 12500 neg\n"
     ]
    }
   ],
   "source": [
    "data, labels = read_imdb_data()\n",
    "print(\"IMDB reviews: train = {} pos / {} neg, test = {} pos / {} neg\".format(\n",
    "            len(data['train']['pos']), len(data['train']['neg']),\n",
    "            len(data['test']['pos']), len(data['test']['neg'])))"
   ]
  },
  {
   "cell_type": "code",
   "execution_count": 4,
   "metadata": {},
   "outputs": [],
   "source": [
    "from sklearn.utils import shuffle\n",
    "\n",
    "def prepare_imdb_data(data, labels):\n",
    "    \"\"\"Prepare training and test sets from IMDb movie reviews.\"\"\"\n",
    "    \n",
    "    #Combine positive and negative reviews and labels\n",
    "    data_train = data['train']['pos'] + data['train']['neg']\n",
    "    data_test = data['test']['pos'] + data['test']['neg']\n",
    "    labels_train = labels['train']['pos'] + labels['train']['neg']\n",
    "    labels_test = labels['test']['pos'] + labels['test']['neg']\n",
    "    \n",
    "    #Shuffle reviews and corresponding labels within training and test sets\n",
    "    data_train, labels_train = shuffle(data_train, labels_train)\n",
    "    data_test, labels_test = shuffle(data_test, labels_test)\n",
    "    \n",
    "    # Return a unified training data, test data, training labels, test labets\n",
    "    return data_train, data_test, labels_train, labels_test"
   ]
  },
  {
   "cell_type": "code",
   "execution_count": 5,
   "metadata": {},
   "outputs": [
    {
     "name": "stdout",
     "output_type": "stream",
     "text": [
      "IMDb reviews (combined): train = 25000, test = 25000\n"
     ]
    }
   ],
   "source": [
    "train_X, test_X, train_y, test_y = prepare_imdb_data(data, labels)\n",
    "print(\"IMDb reviews (combined): train = {}, test = {}\".format(len(train_X), len(test_X)))"
   ]
  },
  {
   "cell_type": "code",
   "execution_count": 6,
   "metadata": {},
   "outputs": [
    {
     "data": {
      "text/plain": [
       "'How can someone NOT like this movie??? This movie is so good, that the first week I saw it on the shelf at the video store it was stolen....BEST Horror Movie Ever!!!....I mean he took the Carrot and he...well you know HAHAHA..How is that NOT funny? The only movie that comes close to touching this is Bride of Chucky and that was just great!!'"
      ]
     },
     "execution_count": 6,
     "metadata": {},
     "output_type": "execute_result"
    }
   ],
   "source": [
    "train_X[100]"
   ]
  },
  {
   "cell_type": "markdown",
   "metadata": {},
   "source": [
    "## Processing the data\n",
    "\n",
    "Now that we have our training and testing datasets merged and ready to use, we need to start processing the raw data into something that will be useable by our machine learning algorithm. To begin with, we remove any html formatting and any non-alpha numeric characters that may appear in the reviews. We will do this in a very simplistic way using Python's regular expression module. We will discuss the reason for this rather simplistic pre-processing later on."
   ]
  },
  {
   "cell_type": "code",
   "execution_count": 7,
   "metadata": {},
   "outputs": [],
   "source": [
    "import re\n",
    "\n",
    "REPLACE_NO_SPACE = re.compile(\"(\\.)|(\\;)|(\\:)|(\\!)|(\\')|(\\?)|(\\,)|(\\\")|(\\()|(\\))|(\\[)|(\\])\")\n",
    "REPLACE_WITH_SPACE = re.compile(\"(<br\\s*/><br\\s*/>)|(\\-)|(\\/)\")\n",
    "\n",
    "def review_to_words(review):\n",
    "    words = REPLACE_NO_SPACE.sub(\"\", review.lower())\n",
    "    words = REPLACE_WITH_SPACE.sub(\" \", words)\n",
    "    return words"
   ]
  },
  {
   "cell_type": "code",
   "execution_count": 8,
   "metadata": {},
   "outputs": [
    {
     "data": {
      "text/plain": [
       "'how can someone not like this movie this movie is so good that the first week i saw it on the shelf at the video store it was stolenbest horror movie everi mean he took the carrot and hewell you know hahahahow is that not funny the only movie that comes close to touching this is bride of chucky and that was just great'"
      ]
     },
     "execution_count": 8,
     "metadata": {},
     "output_type": "execute_result"
    }
   ],
   "source": [
    "review_to_words(train_X[100])"
   ]
  },
  {
   "cell_type": "code",
   "execution_count": 9,
   "metadata": {},
   "outputs": [],
   "source": [
    "import pickle\n",
    "\n",
    "cache_dir = os.path.join(\"../cache\", \"sentiment_web_app\")  # where to store cache files\n",
    "os.makedirs(cache_dir, exist_ok=True)  # ensure cache directory exists\n",
    "\n",
    "def preprocess_data(data_train, data_test, labels_train, labels_test,\n",
    "                    cache_dir=cache_dir, cache_file=\"preprocessed_data.pkl\"):\n",
    "    \"\"\"Convert each review to words; read from cache if available.\"\"\"\n",
    "\n",
    "    # If cache_file is not None, try to read from it first\n",
    "    cache_data = None\n",
    "    if cache_file is not None:\n",
    "        try:\n",
    "            with open(os.path.join(cache_dir, cache_file), \"rb\") as f:\n",
    "                cache_data = pickle.load(f)\n",
    "            print(\"Read preprocessed data from cache file:\", cache_file)\n",
    "        except:\n",
    "            pass  # unable to read from cache, but that's okay\n",
    "    \n",
    "    # If cache is missing, then do the heavy lifting\n",
    "    if cache_data is None:\n",
    "        # Preprocess training and test data to obtain words for each review\n",
    "        #words_train = list(map(review_to_words, data_train))\n",
    "        #words_test = list(map(review_to_words, data_test))\n",
    "        words_train = [review_to_words(review) for review in data_train]\n",
    "        words_test = [review_to_words(review) for review in data_test]\n",
    "        \n",
    "        # Write to cache file for future runs\n",
    "        if cache_file is not None:\n",
    "            cache_data = dict(words_train=words_train, words_test=words_test,\n",
    "                              labels_train=labels_train, labels_test=labels_test)\n",
    "            with open(os.path.join(cache_dir, cache_file), \"wb\") as f:\n",
    "                pickle.dump(cache_data, f)\n",
    "            print(\"Wrote preprocessed data to cache file:\", cache_file)\n",
    "    else:\n",
    "        # Unpack data loaded from cache file\n",
    "        words_train, words_test, labels_train, labels_test = (cache_data['words_train'],\n",
    "                cache_data['words_test'], cache_data['labels_train'], cache_data['labels_test'])\n",
    "    \n",
    "    return words_train, words_test, labels_train, labels_test"
   ]
  },
  {
   "cell_type": "code",
   "execution_count": 10,
   "metadata": {},
   "outputs": [
    {
     "name": "stdout",
     "output_type": "stream",
     "text": [
      "Read preprocessed data from cache file: preprocessed_data.pkl\n"
     ]
    }
   ],
   "source": [
    "# Preprocess data\n",
    "train_X, test_X, train_y, test_y = preprocess_data(train_X, test_X, train_y, test_y)"
   ]
  },
  {
   "cell_type": "markdown",
   "metadata": {},
   "source": [
    "### Extract Bag-of-Words features\n",
    "\n",
    "For the model we will be implementing, rather than using the reviews directly, we are going to transform each review into a Bag-of-Words feature representation. Keep in mind that 'in the wild' we will only have access to the training set so our transformer can only use the training set to construct a representation."
   ]
  },
  {
   "cell_type": "code",
   "execution_count": 11,
   "metadata": {},
   "outputs": [],
   "source": [
    "import numpy as np\n",
    "from sklearn.feature_extraction.text import CountVectorizer\n",
    "from sklearn.externals import joblib\n",
    "# joblib is an enhanced version of pickle that is more efficient for storing NumPy arrays\n",
    "\n",
    "def extract_BoW_features(words_train, words_test, vocabulary_size=5000,\n",
    "                         cache_dir=cache_dir, cache_file=\"bow_features.pkl\"):\n",
    "    \"\"\"Extract Bag-of-Words for a given set of documents, already preprocessed into words.\"\"\"\n",
    "    \n",
    "    # If cache_file is not None, try to read from it first\n",
    "    cache_data = None\n",
    "    if cache_file is not None:\n",
    "        try:\n",
    "            with open(os.path.join(cache_dir, cache_file), \"rb\") as f:\n",
    "                cache_data = joblib.load(f)\n",
    "            print(\"Read features from cache file:\", cache_file)\n",
    "        except:\n",
    "            pass  # unable to read from cache, but that's okay\n",
    "    \n",
    "    # If cache is missing, then do the heavy lifting\n",
    "    if cache_data is None:\n",
    "        # Fit a vectorizer to training documents and use it to transform them\n",
    "        # NOTE: Training documents have already been preprocessed and tokenized into words;\n",
    "        #       pass in dummy functions to skip those steps, e.g. preprocessor=lambda x: x\n",
    "        vectorizer = CountVectorizer(max_features=vocabulary_size)\n",
    "        features_train = vectorizer.fit_transform(words_train).toarray()\n",
    "\n",
    "        # Apply the same vectorizer to transform the test documents (ignore unknown words)\n",
    "        features_test = vectorizer.transform(words_test).toarray()\n",
    "        \n",
    "        # NOTE: Remember to convert the features using .toarray() for a compact representation\n",
    "        \n",
    "        # Write to cache file for future runs (store vocabulary as well)\n",
    "        if cache_file is not None:\n",
    "            vocabulary = vectorizer.vocabulary_\n",
    "            cache_data = dict(features_train=features_train, features_test=features_test,\n",
    "                             vocabulary=vocabulary)\n",
    "            with open(os.path.join(cache_dir, cache_file), \"wb\") as f:\n",
    "                joblib.dump(cache_data, f)\n",
    "            print(\"Wrote features to cache file:\", cache_file)\n",
    "    else:\n",
    "        # Unpack data loaded from cache file\n",
    "        features_train, features_test, vocabulary = (cache_data['features_train'],\n",
    "                cache_data['features_test'], cache_data['vocabulary'])\n",
    "    \n",
    "    # Return both the extracted features as well as the vocabulary\n",
    "    return features_train, features_test, vocabulary"
   ]
  },
  {
   "cell_type": "code",
   "execution_count": 12,
   "metadata": {},
   "outputs": [
    {
     "name": "stdout",
     "output_type": "stream",
     "text": [
      "Read features from cache file: bow_features.pkl\n"
     ]
    }
   ],
   "source": [
    "# Extract Bag of Words features for both training and test datasets\n",
    "train_X, test_X, vocabulary = extract_BoW_features(train_X, test_X)"
   ]
  },
  {
   "cell_type": "code",
   "execution_count": 13,
   "metadata": {},
   "outputs": [
    {
     "data": {
      "text/plain": [
       "5000"
      ]
     },
     "execution_count": 13,
     "metadata": {},
     "output_type": "execute_result"
    }
   ],
   "source": [
    "len(train_X[100])"
   ]
  },
  {
   "cell_type": "markdown",
   "metadata": {},
   "source": [
    "## Step 3: Upload data to S3\n",
    "\n",
    "Now that we have created the feature representation of our training (and testing) data, it is time to start setting up and using the XGBoost classifier provided by SageMaker.\n",
    "\n",
    "### Writing the datasets\n",
    "\n",
    "The XGBoost classifier that we will be using requires the dataset to be written to a file and stored using Amazon S3. To do this, we will start by splitting the training dataset into two parts, the data we will train the model with and a validation set. Then, we will write those datasets to a file locally and then upload the files to S3. In addition, we will write the test set to a file and upload that file to S3. This is so that we can use SageMakers Batch Transform functionality to test our model once we've fit it."
   ]
  },
  {
   "cell_type": "code",
   "execution_count": 14,
   "metadata": {},
   "outputs": [],
   "source": [
    "import pandas as pd\n",
    "\n",
    "# Earlier we shuffled the training dataset so to make things simple we can just assign\n",
    "# the first 10 000 reviews to the validation set and use the remaining reviews for training.\n",
    "val_X = pd.DataFrame(train_X[:10000])\n",
    "train_X = pd.DataFrame(train_X[10000:])\n",
    "\n",
    "val_y = pd.DataFrame(train_y[:10000])\n",
    "train_y = pd.DataFrame(train_y[10000:])"
   ]
  },
  {
   "cell_type": "markdown",
   "metadata": {},
   "source": [
    "The documentation for the XGBoost algorithm in SageMaker requires that the training and validation datasets should contain no headers or index and that the label should occur first for each sample.\n",
    "\n",
    "For more information about this and other algorithms, the SageMaker developer documentation can be found on __[Amazon's website.](https://docs.aws.amazon.com/sagemaker/latest/dg/)__"
   ]
  },
  {
   "cell_type": "code",
   "execution_count": 15,
   "metadata": {},
   "outputs": [],
   "source": [
    "# First we make sure that the local directory in which we'd like to store the training and validation csv files exists.\n",
    "data_dir = '../data/sentiment_web_app'\n",
    "if not os.path.exists(data_dir):\n",
    "    os.makedirs(data_dir)"
   ]
  },
  {
   "cell_type": "code",
   "execution_count": 16,
   "metadata": {},
   "outputs": [],
   "source": [
    "pd.DataFrame(test_X).to_csv(os.path.join(data_dir, 'test.csv'), header=False, index=False)\n",
    "\n",
    "pd.concat([val_y, val_X], axis=1).to_csv(os.path.join(data_dir, 'validation.csv'), header=False, index=False)\n",
    "pd.concat([train_y, train_X], axis=1).to_csv(os.path.join(data_dir, 'train.csv'), header=False, index=False)"
   ]
  },
  {
   "cell_type": "code",
   "execution_count": 17,
   "metadata": {},
   "outputs": [],
   "source": [
    "# To save a bit of memory we can set text_X, train_X, val_X, train_y and val_y to None.\n",
    "\n",
    "test_X = train_X = val_X = train_y = val_y = None"
   ]
  },
  {
   "cell_type": "markdown",
   "metadata": {},
   "source": [
    "### Uploading Training / Validation files to S3\n",
    "\n",
    "Amazon's S3 service allows us to store files that can be accessed by both the built-in training models such as the XGBoost model we will be using as well as custom models such as the one we will see a little later.\n",
    "\n",
    "For this and most other tasks we will be doing using SageMaker, there are two methods we could use. The first is to use the low level functionality of SageMaker which requires knowing each of the objects involved in the SageMaker environment. The second is to use the high level functionality in which certain choices have been made on the user's behalf. The low level approach benefits from allowing the user a great deal of flexibility while the high level approach makes development much quicker. For our purposes we will opt to use the high level approach although using the low-level approach is certainly an option.\n",
    "\n",
    "Recall the method `upload_data()` which is a member of the object representing our current SageMaker session. What this method does is upload the data to the default bucket (which is created if it does not exist) into the path described by the key_prefix variable. To see this for yourself, once you have uploaded the data files, go to the S3 console and look to see where the files have been uploaded.\n",
    "\n",
    "For additional resources, see the __[SageMaker API documentation](http://sagemaker.readthedocs.io/en/latest/)__ and in addition the __[SageMaker Developer Guide.](https://docs.aws.amazon.com/sagemaker/latest/dg/)__"
   ]
  },
  {
   "cell_type": "code",
   "execution_count": 18,
   "metadata": {},
   "outputs": [],
   "source": [
    "import sagemaker\n",
    "\n",
    "session = sagemaker.Session() # Store the current SageMaker session\n",
    "\n",
    "# S3 prefix (which folder will we use)\n",
    "prefix = 'sentiment-web-app'\n",
    "\n",
    "test_location = session.upload_data(os.path.join(data_dir, 'test.csv'), key_prefix=prefix)\n",
    "val_location = session.upload_data(os.path.join(data_dir, 'validation.csv'), key_prefix=prefix)\n",
    "train_location = session.upload_data(os.path.join(data_dir, 'train.csv'), key_prefix=prefix)"
   ]
  },
  {
   "cell_type": "markdown",
   "metadata": {},
   "source": [
    "## Step 4: Creating the XGBoost model\n",
    "\n",
    "Now that the data has been uploaded it is time to create the XGBoost model. To begin with, we need to do some setup. At this point it is worth discussing what a model is in SageMaker. It is easiest to think of a model of comprising three different objects in the SageMaker ecosystem, which interact with one another.\n",
    "\n",
    "- Model Artifacts\n",
    "- Training Code (Container)\n",
    "- Inference Code (Container)\n",
    "\n",
    "The Model Artifacts are what you might think of as the actual model itself. For example, if you were building a neural network, the model artifacts would be the weights of the various layers. In our case, for an XGBoost model, the artifacts are the actual trees that are created during training.\n",
    "\n",
    "The other two objects, the training code and the inference code are then used to manipulate the training artifacts. More precisely, the training code uses the training data that is provided and creates the model artifacts, while the inference code uses the model artifacts to make predictions on new data.\n",
    "\n",
    "The way that SageMaker runs the training and inference code is by making use of Docker containers. For now, think of a container as being a way of packaging code up so that dependencies aren't an issue."
   ]
  },
  {
   "cell_type": "code",
   "execution_count": 19,
   "metadata": {},
   "outputs": [],
   "source": [
    "from sagemaker import get_execution_role\n",
    "\n",
    "# Our current execution role is required when creating the model as the training\n",
    "# and inference code will need to access the model artifacts.\n",
    "role = get_execution_role()"
   ]
  },
  {
   "cell_type": "code",
   "execution_count": 20,
   "metadata": {},
   "outputs": [
    {
     "name": "stderr",
     "output_type": "stream",
     "text": [
      "WARNING:root:There is a more up to date SageMaker XGBoost image. To use the newer image, please set 'repo_version'='0.90-1'. For example:\n",
      "\tget_image_uri(region, 'xgboost', '0.90-1').\n"
     ]
    }
   ],
   "source": [
    "# We need to retrieve the location of the container which is provided by Amazon for using XGBoost.\n",
    "# As a matter of convenience, the training and inference code both use the same container.\n",
    "from sagemaker.amazon.amazon_estimator import get_image_uri\n",
    "\n",
    "container = get_image_uri(session.boto_region_name, 'xgboost')"
   ]
  },
  {
   "cell_type": "code",
   "execution_count": 21,
   "metadata": {},
   "outputs": [],
   "source": [
    "# First we create a SageMaker estimator object for our model.\n",
    "xgb = sagemaker.estimator.Estimator(container, # The location of the container we wish to use\n",
    "                                    role,                                    # What is our current IAM Role\n",
    "                                    train_instance_count=1,                  # How many compute instances\n",
    "                                    train_instance_type='ml.m4.xlarge',      # What kind of compute instances\n",
    "                                    output_path='s3://{}/{}/output'.format(session.default_bucket(), prefix),\n",
    "                                    sagemaker_session=session)\n",
    "\n",
    "# And then set the algorithm specific parameters.\n",
    "xgb.set_hyperparameters(max_depth=5,\n",
    "                        eta=0.2,\n",
    "                        gamma=4,\n",
    "                        min_child_weight=6,\n",
    "                        subsample=0.8,\n",
    "                        silent=0,\n",
    "                        objective='binary:logistic',\n",
    "                        early_stopping_rounds=10,\n",
    "                        num_round=500)"
   ]
  },
  {
   "cell_type": "markdown",
   "metadata": {},
   "source": [
    "### Fit the XGBoost model\n",
    "\n",
    "Now that our model has been set up we simply need to attach the training and validation datasets and then ask SageMaker to set up the computation."
   ]
  },
  {
   "cell_type": "code",
   "execution_count": 22,
   "metadata": {},
   "outputs": [],
   "source": [
    "s3_input_train = sagemaker.s3_input(s3_data=train_location, content_type='csv')\n",
    "s3_input_validation = sagemaker.s3_input(s3_data=val_location, content_type='csv')"
   ]
  },
  {
   "cell_type": "code",
   "execution_count": 23,
   "metadata": {},
   "outputs": [
    {
     "name": "stdout",
     "output_type": "stream",
     "text": [
      "2020-06-07 12:53:28 Starting - Starting the training job...\n",
      "2020-06-07 12:53:30 Starting - Launching requested ML instances.........\n",
      "2020-06-07 12:54:59 Starting - Preparing the instances for training......\n",
      "2020-06-07 12:56:18 Downloading - Downloading input data\n",
      "2020-06-07 12:56:18 Training - Downloading the training image..\u001b[34mArguments: train\u001b[0m\n",
      "\u001b[34m[2020-06-07:12:56:38:INFO] Running standalone xgboost training.\u001b[0m\n",
      "\u001b[34m[2020-06-07:12:56:38:INFO] File size need to be processed in the node: 238.5mb. Available memory size in the node: 8467.39mb\u001b[0m\n",
      "\u001b[34m[2020-06-07:12:56:38:INFO] Determined delimiter of CSV input is ','\u001b[0m\n",
      "\u001b[34m[12:56:38] S3DistributionType set as FullyReplicated\u001b[0m\n",
      "\u001b[34m[12:56:40] 15000x5000 matrix with 75000000 entries loaded from /opt/ml/input/data/train?format=csv&label_column=0&delimiter=,\u001b[0m\n",
      "\u001b[34m[2020-06-07:12:56:40:INFO] Determined delimiter of CSV input is ','\u001b[0m\n",
      "\u001b[34m[12:56:40] S3DistributionType set as FullyReplicated\u001b[0m\n",
      "\u001b[34m[12:56:41] 10000x5000 matrix with 50000000 entries loaded from /opt/ml/input/data/validation?format=csv&label_column=0&delimiter=,\u001b[0m\n",
      "\u001b[34m[12:56:45] src/tree/updater_prune.cc:74: tree pruning end, 1 roots, 38 extra nodes, 10 pruned nodes, max_depth=5\u001b[0m\n",
      "\u001b[34m[0]#011train-error:0.306333#011validation-error:0.3095\u001b[0m\n",
      "\u001b[34mMultiple eval metrics have been passed: 'validation-error' will be used for early stopping.\n",
      "\u001b[0m\n",
      "\u001b[34mWill train until validation-error hasn't improved in 10 rounds.\u001b[0m\n",
      "\n",
      "2020-06-07 12:56:38 Training - Training image download completed. Training in progress.\u001b[34m[12:56:46] src/tree/updater_prune.cc:74: tree pruning end, 1 roots, 38 extra nodes, 8 pruned nodes, max_depth=5\u001b[0m\n",
      "\u001b[34m[1]#011train-error:0.290867#011validation-error:0.2962\u001b[0m\n",
      "\u001b[34m[12:56:48] src/tree/updater_prune.cc:74: tree pruning end, 1 roots, 40 extra nodes, 2 pruned nodes, max_depth=5\u001b[0m\n",
      "\u001b[34m[2]#011train-error:0.277533#011validation-error:0.2824\u001b[0m\n",
      "\u001b[34m[12:56:49] src/tree/updater_prune.cc:74: tree pruning end, 1 roots, 28 extra nodes, 4 pruned nodes, max_depth=5\u001b[0m\n",
      "\u001b[34m[3]#011train-error:0.276067#011validation-error:0.2803\u001b[0m\n",
      "\u001b[34m[12:56:50] src/tree/updater_prune.cc:74: tree pruning end, 1 roots, 44 extra nodes, 2 pruned nodes, max_depth=5\u001b[0m\n",
      "\u001b[34m[4]#011train-error:0.264667#011validation-error:0.271\u001b[0m\n",
      "\u001b[34m[12:56:52] src/tree/updater_prune.cc:74: tree pruning end, 1 roots, 30 extra nodes, 2 pruned nodes, max_depth=5\u001b[0m\n",
      "\u001b[34m[5]#011train-error:0.259667#011validation-error:0.2651\u001b[0m\n",
      "\u001b[34m[12:56:53] src/tree/updater_prune.cc:74: tree pruning end, 1 roots, 26 extra nodes, 10 pruned nodes, max_depth=5\u001b[0m\n",
      "\u001b[34m[6]#011train-error:0.253#011validation-error:0.2571\u001b[0m\n",
      "\u001b[34m[12:56:54] src/tree/updater_prune.cc:74: tree pruning end, 1 roots, 36 extra nodes, 14 pruned nodes, max_depth=5\u001b[0m\n",
      "\u001b[34m[7]#011train-error:0.2394#011validation-error:0.2495\u001b[0m\n",
      "\u001b[34m[12:56:55] src/tree/updater_prune.cc:74: tree pruning end, 1 roots, 34 extra nodes, 2 pruned nodes, max_depth=5\u001b[0m\n",
      "\u001b[34m[8]#011train-error:0.235467#011validation-error:0.2465\u001b[0m\n",
      "\u001b[34m[12:56:57] src/tree/updater_prune.cc:74: tree pruning end, 1 roots, 36 extra nodes, 2 pruned nodes, max_depth=5\u001b[0m\n",
      "\u001b[34m[9]#011train-error:0.231467#011validation-error:0.2418\u001b[0m\n",
      "\u001b[34m[12:56:58] src/tree/updater_prune.cc:74: tree pruning end, 1 roots, 34 extra nodes, 8 pruned nodes, max_depth=5\u001b[0m\n",
      "\u001b[34m[10]#011train-error:0.223933#011validation-error:0.2369\u001b[0m\n",
      "\u001b[34m[12:56:59] src/tree/updater_prune.cc:74: tree pruning end, 1 roots, 34 extra nodes, 6 pruned nodes, max_depth=5\u001b[0m\n",
      "\u001b[34m[11]#011train-error:0.219467#011validation-error:0.2326\u001b[0m\n",
      "\u001b[34m[12:57:01] src/tree/updater_prune.cc:74: tree pruning end, 1 roots, 36 extra nodes, 10 pruned nodes, max_depth=5\u001b[0m\n",
      "\u001b[34m[12]#011train-error:0.213133#011validation-error:0.2304\u001b[0m\n",
      "\u001b[34m[12:57:02] src/tree/updater_prune.cc:74: tree pruning end, 1 roots, 32 extra nodes, 8 pruned nodes, max_depth=5\u001b[0m\n",
      "\u001b[34m[13]#011train-error:0.207267#011validation-error:0.2297\u001b[0m\n",
      "\u001b[34m[12:57:03] src/tree/updater_prune.cc:74: tree pruning end, 1 roots, 34 extra nodes, 12 pruned nodes, max_depth=5\u001b[0m\n",
      "\u001b[34m[14]#011train-error:0.203733#011validation-error:0.224\u001b[0m\n",
      "\u001b[34m[12:57:04] src/tree/updater_prune.cc:74: tree pruning end, 1 roots, 30 extra nodes, 6 pruned nodes, max_depth=5\u001b[0m\n",
      "\u001b[34m[15]#011train-error:0.201267#011validation-error:0.2202\u001b[0m\n",
      "\u001b[34m[12:57:06] src/tree/updater_prune.cc:74: tree pruning end, 1 roots, 24 extra nodes, 4 pruned nodes, max_depth=5\u001b[0m\n",
      "\u001b[34m[16]#011train-error:0.1962#011validation-error:0.2165\u001b[0m\n",
      "\u001b[34m[12:57:07] src/tree/updater_prune.cc:74: tree pruning end, 1 roots, 36 extra nodes, 6 pruned nodes, max_depth=5\u001b[0m\n",
      "\u001b[34m[17]#011train-error:0.192267#011validation-error:0.2162\u001b[0m\n",
      "\u001b[34m[12:57:08] src/tree/updater_prune.cc:74: tree pruning end, 1 roots, 26 extra nodes, 6 pruned nodes, max_depth=5\u001b[0m\n",
      "\u001b[34m[18]#011train-error:0.1898#011validation-error:0.2132\u001b[0m\n",
      "\u001b[34m[12:57:10] src/tree/updater_prune.cc:74: tree pruning end, 1 roots, 26 extra nodes, 14 pruned nodes, max_depth=5\u001b[0m\n",
      "\u001b[34m[19]#011train-error:0.186933#011validation-error:0.212\u001b[0m\n",
      "\u001b[34m[12:57:11] src/tree/updater_prune.cc:74: tree pruning end, 1 roots, 26 extra nodes, 16 pruned nodes, max_depth=5\u001b[0m\n",
      "\u001b[34m[20]#011train-error:0.1848#011validation-error:0.2086\u001b[0m\n",
      "\u001b[34m[12:57:12] src/tree/updater_prune.cc:74: tree pruning end, 1 roots, 20 extra nodes, 10 pruned nodes, max_depth=5\u001b[0m\n",
      "\u001b[34m[21]#011train-error:0.1832#011validation-error:0.2079\u001b[0m\n",
      "\u001b[34m[12:57:13] src/tree/updater_prune.cc:74: tree pruning end, 1 roots, 32 extra nodes, 4 pruned nodes, max_depth=5\u001b[0m\n",
      "\u001b[34m[22]#011train-error:0.181067#011validation-error:0.207\u001b[0m\n",
      "\u001b[34m[12:57:15] src/tree/updater_prune.cc:74: tree pruning end, 1 roots, 38 extra nodes, 8 pruned nodes, max_depth=5\u001b[0m\n",
      "\u001b[34m[23]#011train-error:0.176667#011validation-error:0.206\u001b[0m\n",
      "\u001b[34m[12:57:16] src/tree/updater_prune.cc:74: tree pruning end, 1 roots, 32 extra nodes, 6 pruned nodes, max_depth=5\u001b[0m\n",
      "\u001b[34m[24]#011train-error:0.173#011validation-error:0.2072\u001b[0m\n",
      "\u001b[34m[12:57:17] src/tree/updater_prune.cc:74: tree pruning end, 1 roots, 28 extra nodes, 10 pruned nodes, max_depth=5\u001b[0m\n",
      "\u001b[34m[25]#011train-error:0.1718#011validation-error:0.2063\u001b[0m\n",
      "\u001b[34m[12:57:18] src/tree/updater_prune.cc:74: tree pruning end, 1 roots, 22 extra nodes, 8 pruned nodes, max_depth=5\u001b[0m\n",
      "\u001b[34m[26]#011train-error:0.170533#011validation-error:0.2052\u001b[0m\n",
      "\u001b[34m[12:57:20] src/tree/updater_prune.cc:74: tree pruning end, 1 roots, 34 extra nodes, 8 pruned nodes, max_depth=5\u001b[0m\n",
      "\u001b[34m[27]#011train-error:0.1676#011validation-error:0.2018\u001b[0m\n",
      "\u001b[34m[12:57:21] src/tree/updater_prune.cc:74: tree pruning end, 1 roots, 20 extra nodes, 12 pruned nodes, max_depth=5\u001b[0m\n",
      "\u001b[34m[28]#011train-error:0.164733#011validation-error:0.1989\u001b[0m\n",
      "\u001b[34m[12:57:22] src/tree/updater_prune.cc:74: tree pruning end, 1 roots, 22 extra nodes, 6 pruned nodes, max_depth=5\u001b[0m\n",
      "\u001b[34m[29]#011train-error:0.1644#011validation-error:0.1972\u001b[0m\n",
      "\u001b[34m[12:57:23] src/tree/updater_prune.cc:74: tree pruning end, 1 roots, 20 extra nodes, 10 pruned nodes, max_depth=5\u001b[0m\n",
      "\u001b[34m[30]#011train-error:0.1638#011validation-error:0.1975\u001b[0m\n",
      "\u001b[34m[12:57:25] src/tree/updater_prune.cc:74: tree pruning end, 1 roots, 20 extra nodes, 12 pruned nodes, max_depth=5\u001b[0m\n",
      "\u001b[34m[31]#011train-error:0.162733#011validation-error:0.1973\u001b[0m\n",
      "\u001b[34m[12:57:26] src/tree/updater_prune.cc:74: tree pruning end, 1 roots, 40 extra nodes, 12 pruned nodes, max_depth=5\u001b[0m\n",
      "\u001b[34m[32]#011train-error:0.161867#011validation-error:0.1942\u001b[0m\n",
      "\u001b[34m[12:57:27] src/tree/updater_prune.cc:74: tree pruning end, 1 roots, 18 extra nodes, 8 pruned nodes, max_depth=5\u001b[0m\n",
      "\u001b[34m[33]#011train-error:0.161467#011validation-error:0.1929\u001b[0m\n",
      "\u001b[34m[12:57:29] src/tree/updater_prune.cc:74: tree pruning end, 1 roots, 32 extra nodes, 6 pruned nodes, max_depth=5\u001b[0m\n",
      "\u001b[34m[34]#011train-error:0.160067#011validation-error:0.1923\u001b[0m\n",
      "\u001b[34m[12:57:30] src/tree/updater_prune.cc:74: tree pruning end, 1 roots, 22 extra nodes, 12 pruned nodes, max_depth=5\u001b[0m\n",
      "\u001b[34m[35]#011train-error:0.158067#011validation-error:0.1925\u001b[0m\n",
      "\u001b[34m[12:57:31] src/tree/updater_prune.cc:74: tree pruning end, 1 roots, 36 extra nodes, 8 pruned nodes, max_depth=5\u001b[0m\n",
      "\u001b[34m[36]#011train-error:0.157067#011validation-error:0.1917\u001b[0m\n",
      "\u001b[34m[12:57:32] src/tree/updater_prune.cc:74: tree pruning end, 1 roots, 14 extra nodes, 2 pruned nodes, max_depth=5\u001b[0m\n",
      "\u001b[34m[37]#011train-error:0.155733#011validation-error:0.1917\u001b[0m\n",
      "\u001b[34m[12:57:34] src/tree/updater_prune.cc:74: tree pruning end, 1 roots, 26 extra nodes, 10 pruned nodes, max_depth=5\u001b[0m\n",
      "\u001b[34m[38]#011train-error:0.1546#011validation-error:0.1882\u001b[0m\n",
      "\u001b[34m[12:57:35] src/tree/updater_prune.cc:74: tree pruning end, 1 roots, 28 extra nodes, 6 pruned nodes, max_depth=5\u001b[0m\n",
      "\u001b[34m[39]#011train-error:0.152267#011validation-error:0.1886\u001b[0m\n",
      "\u001b[34m[12:57:36] src/tree/updater_prune.cc:74: tree pruning end, 1 roots, 26 extra nodes, 4 pruned nodes, max_depth=5\u001b[0m\n",
      "\u001b[34m[40]#011train-error:0.1524#011validation-error:0.188\u001b[0m\n"
     ]
    },
    {
     "name": "stdout",
     "output_type": "stream",
     "text": [
      "\u001b[34m[12:57:37] src/tree/updater_prune.cc:74: tree pruning end, 1 roots, 24 extra nodes, 8 pruned nodes, max_depth=5\u001b[0m\n",
      "\u001b[34m[41]#011train-error:0.151133#011validation-error:0.1892\u001b[0m\n",
      "\u001b[34m[12:57:39] src/tree/updater_prune.cc:74: tree pruning end, 1 roots, 28 extra nodes, 10 pruned nodes, max_depth=5\u001b[0m\n",
      "\u001b[34m[42]#011train-error:0.150267#011validation-error:0.1874\u001b[0m\n",
      "\u001b[34m[12:57:40] src/tree/updater_prune.cc:74: tree pruning end, 1 roots, 32 extra nodes, 10 pruned nodes, max_depth=5\u001b[0m\n",
      "\u001b[34m[43]#011train-error:0.149533#011validation-error:0.186\u001b[0m\n",
      "\u001b[34m[12:57:41] src/tree/updater_prune.cc:74: tree pruning end, 1 roots, 16 extra nodes, 14 pruned nodes, max_depth=5\u001b[0m\n",
      "\u001b[34m[44]#011train-error:0.1484#011validation-error:0.1852\u001b[0m\n",
      "\u001b[34m[12:57:43] src/tree/updater_prune.cc:74: tree pruning end, 1 roots, 24 extra nodes, 4 pruned nodes, max_depth=5\u001b[0m\n",
      "\u001b[34m[45]#011train-error:0.1472#011validation-error:0.1818\u001b[0m\n",
      "\u001b[34m[12:57:44] src/tree/updater_prune.cc:74: tree pruning end, 1 roots, 18 extra nodes, 10 pruned nodes, max_depth=5\u001b[0m\n",
      "\u001b[34m[46]#011train-error:0.146467#011validation-error:0.1811\u001b[0m\n",
      "\u001b[34m[12:57:45] src/tree/updater_prune.cc:74: tree pruning end, 1 roots, 30 extra nodes, 4 pruned nodes, max_depth=5\u001b[0m\n",
      "\u001b[34m[47]#011train-error:0.145#011validation-error:0.1812\u001b[0m\n",
      "\u001b[34m[12:57:46] src/tree/updater_prune.cc:74: tree pruning end, 1 roots, 12 extra nodes, 20 pruned nodes, max_depth=5\u001b[0m\n",
      "\u001b[34m[48]#011train-error:0.144467#011validation-error:0.1804\u001b[0m\n",
      "\u001b[34m[12:57:48] src/tree/updater_prune.cc:74: tree pruning end, 1 roots, 22 extra nodes, 16 pruned nodes, max_depth=5\u001b[0m\n",
      "\u001b[34m[49]#011train-error:0.142933#011validation-error:0.1782\u001b[0m\n",
      "\u001b[34m[12:57:49] src/tree/updater_prune.cc:74: tree pruning end, 1 roots, 16 extra nodes, 12 pruned nodes, max_depth=5\u001b[0m\n",
      "\u001b[34m[50]#011train-error:0.1418#011validation-error:0.178\u001b[0m\n",
      "\u001b[34m[12:57:50] src/tree/updater_prune.cc:74: tree pruning end, 1 roots, 42 extra nodes, 8 pruned nodes, max_depth=5\u001b[0m\n",
      "\u001b[34m[51]#011train-error:0.140333#011validation-error:0.1776\u001b[0m\n",
      "\u001b[34m[12:57:51] src/tree/updater_prune.cc:74: tree pruning end, 1 roots, 20 extra nodes, 8 pruned nodes, max_depth=5\u001b[0m\n",
      "\u001b[34m[52]#011train-error:0.140067#011validation-error:0.1768\u001b[0m\n",
      "\u001b[34m[12:57:53] src/tree/updater_prune.cc:74: tree pruning end, 1 roots, 36 extra nodes, 8 pruned nodes, max_depth=5\u001b[0m\n",
      "\u001b[34m[53]#011train-error:0.138533#011validation-error:0.1755\u001b[0m\n",
      "\u001b[34m[12:57:54] src/tree/updater_prune.cc:74: tree pruning end, 1 roots, 24 extra nodes, 10 pruned nodes, max_depth=5\u001b[0m\n",
      "\u001b[34m[54]#011train-error:0.1366#011validation-error:0.1755\u001b[0m\n",
      "\u001b[34m[12:57:55] src/tree/updater_prune.cc:74: tree pruning end, 1 roots, 14 extra nodes, 12 pruned nodes, max_depth=5\u001b[0m\n",
      "\u001b[34m[55]#011train-error:0.1358#011validation-error:0.1741\u001b[0m\n",
      "\u001b[34m[12:57:56] src/tree/updater_prune.cc:74: tree pruning end, 1 roots, 20 extra nodes, 10 pruned nodes, max_depth=5\u001b[0m\n",
      "\u001b[34m[56]#011train-error:0.135667#011validation-error:0.174\u001b[0m\n",
      "\u001b[34m[12:57:58] src/tree/updater_prune.cc:74: tree pruning end, 1 roots, 20 extra nodes, 10 pruned nodes, max_depth=5\u001b[0m\n",
      "\u001b[34m[57]#011train-error:0.136#011validation-error:0.1733\u001b[0m\n",
      "\u001b[34m[12:57:59] src/tree/updater_prune.cc:74: tree pruning end, 1 roots, 12 extra nodes, 10 pruned nodes, max_depth=5\u001b[0m\n",
      "\u001b[34m[58]#011train-error:0.134533#011validation-error:0.1716\u001b[0m\n",
      "\u001b[34m[12:58:00] src/tree/updater_prune.cc:74: tree pruning end, 1 roots, 30 extra nodes, 6 pruned nodes, max_depth=5\u001b[0m\n",
      "\u001b[34m[59]#011train-error:0.133933#011validation-error:0.1714\u001b[0m\n",
      "\u001b[34m[12:58:01] src/tree/updater_prune.cc:74: tree pruning end, 1 roots, 28 extra nodes, 6 pruned nodes, max_depth=5\u001b[0m\n",
      "\u001b[34m[60]#011train-error:0.132467#011validation-error:0.1716\u001b[0m\n",
      "\u001b[34m[12:58:03] src/tree/updater_prune.cc:74: tree pruning end, 1 roots, 26 extra nodes, 10 pruned nodes, max_depth=5\u001b[0m\n",
      "\u001b[34m[61]#011train-error:0.131467#011validation-error:0.1705\u001b[0m\n",
      "\u001b[34m[12:58:04] src/tree/updater_prune.cc:74: tree pruning end, 1 roots, 24 extra nodes, 8 pruned nodes, max_depth=5\u001b[0m\n",
      "\u001b[34m[62]#011train-error:0.130533#011validation-error:0.1706\u001b[0m\n",
      "\u001b[34m[12:58:05] src/tree/updater_prune.cc:74: tree pruning end, 1 roots, 28 extra nodes, 14 pruned nodes, max_depth=5\u001b[0m\n",
      "\u001b[34m[63]#011train-error:0.130267#011validation-error:0.1707\u001b[0m\n",
      "\u001b[34m[12:58:07] src/tree/updater_prune.cc:74: tree pruning end, 1 roots, 22 extra nodes, 8 pruned nodes, max_depth=5\u001b[0m\n",
      "\u001b[34m[64]#011train-error:0.128333#011validation-error:0.1706\u001b[0m\n",
      "\u001b[34m[12:58:08] src/tree/updater_prune.cc:74: tree pruning end, 1 roots, 10 extra nodes, 6 pruned nodes, max_depth=5\u001b[0m\n",
      "\u001b[34m[65]#011train-error:0.127733#011validation-error:0.17\u001b[0m\n",
      "\u001b[34m[12:58:09] src/tree/updater_prune.cc:74: tree pruning end, 1 roots, 26 extra nodes, 8 pruned nodes, max_depth=5\u001b[0m\n",
      "\u001b[34m[66]#011train-error:0.1266#011validation-error:0.1684\u001b[0m\n",
      "\u001b[34m[12:58:10] src/tree/updater_prune.cc:74: tree pruning end, 1 roots, 14 extra nodes, 8 pruned nodes, max_depth=5\u001b[0m\n",
      "\u001b[34m[67]#011train-error:0.126667#011validation-error:0.1689\u001b[0m\n",
      "\u001b[34m[12:58:12] src/tree/updater_prune.cc:74: tree pruning end, 1 roots, 12 extra nodes, 12 pruned nodes, max_depth=5\u001b[0m\n",
      "\u001b[34m[68]#011train-error:0.126267#011validation-error:0.1672\u001b[0m\n",
      "\u001b[34m[12:58:13] src/tree/updater_prune.cc:74: tree pruning end, 1 roots, 14 extra nodes, 4 pruned nodes, max_depth=5\u001b[0m\n",
      "\u001b[34m[69]#011train-error:0.1252#011validation-error:0.1667\u001b[0m\n",
      "\u001b[34m[12:58:14] src/tree/updater_prune.cc:74: tree pruning end, 1 roots, 16 extra nodes, 2 pruned nodes, max_depth=5\u001b[0m\n",
      "\u001b[34m[70]#011train-error:0.1242#011validation-error:0.1658\u001b[0m\n",
      "\u001b[34m[12:58:15] src/tree/updater_prune.cc:74: tree pruning end, 1 roots, 38 extra nodes, 4 pruned nodes, max_depth=5\u001b[0m\n",
      "\u001b[34m[71]#011train-error:0.1232#011validation-error:0.1665\u001b[0m\n",
      "\u001b[34m[12:58:17] src/tree/updater_prune.cc:74: tree pruning end, 1 roots, 20 extra nodes, 4 pruned nodes, max_depth=5\u001b[0m\n",
      "\u001b[34m[72]#011train-error:0.122733#011validation-error:0.1662\u001b[0m\n",
      "\u001b[34m[12:58:18] src/tree/updater_prune.cc:74: tree pruning end, 1 roots, 18 extra nodes, 10 pruned nodes, max_depth=5\u001b[0m\n",
      "\u001b[34m[73]#011train-error:0.123067#011validation-error:0.1661\u001b[0m\n",
      "\u001b[34m[12:58:19] src/tree/updater_prune.cc:74: tree pruning end, 1 roots, 18 extra nodes, 8 pruned nodes, max_depth=5\u001b[0m\n",
      "\u001b[34m[74]#011train-error:0.1212#011validation-error:0.1649\u001b[0m\n",
      "\u001b[34m[12:58:20] src/tree/updater_prune.cc:74: tree pruning end, 1 roots, 12 extra nodes, 4 pruned nodes, max_depth=5\u001b[0m\n",
      "\u001b[34m[75]#011train-error:0.120867#011validation-error:0.1646\u001b[0m\n",
      "\u001b[34m[12:58:22] src/tree/updater_prune.cc:74: tree pruning end, 1 roots, 24 extra nodes, 8 pruned nodes, max_depth=5\u001b[0m\n",
      "\u001b[34m[76]#011train-error:0.120733#011validation-error:0.1638\u001b[0m\n",
      "\u001b[34m[12:58:23] src/tree/updater_prune.cc:74: tree pruning end, 1 roots, 12 extra nodes, 8 pruned nodes, max_depth=5\u001b[0m\n",
      "\u001b[34m[77]#011train-error:0.120867#011validation-error:0.1638\u001b[0m\n",
      "\u001b[34m[12:58:24] src/tree/updater_prune.cc:74: tree pruning end, 1 roots, 20 extra nodes, 8 pruned nodes, max_depth=5\u001b[0m\n",
      "\u001b[34m[78]#011train-error:0.1192#011validation-error:0.1628\u001b[0m\n",
      "\u001b[34m[12:58:25] src/tree/updater_prune.cc:74: tree pruning end, 1 roots, 18 extra nodes, 8 pruned nodes, max_depth=5\u001b[0m\n",
      "\u001b[34m[79]#011train-error:0.118733#011validation-error:0.1615\u001b[0m\n",
      "\u001b[34m[12:58:27] src/tree/updater_prune.cc:74: tree pruning end, 1 roots, 12 extra nodes, 6 pruned nodes, max_depth=5\u001b[0m\n",
      "\u001b[34m[80]#011train-error:0.118533#011validation-error:0.1609\u001b[0m\n",
      "\u001b[34m[12:58:28] src/tree/updater_prune.cc:74: tree pruning end, 1 roots, 16 extra nodes, 20 pruned nodes, max_depth=5\u001b[0m\n",
      "\u001b[34m[81]#011train-error:0.1178#011validation-error:0.1604\u001b[0m\n",
      "\u001b[34m[12:58:29] src/tree/updater_prune.cc:74: tree pruning end, 1 roots, 36 extra nodes, 2 pruned nodes, max_depth=5\u001b[0m\n",
      "\u001b[34m[82]#011train-error:0.115733#011validation-error:0.1599\u001b[0m\n",
      "\u001b[34m[12:58:31] src/tree/updater_prune.cc:74: tree pruning end, 1 roots, 10 extra nodes, 8 pruned nodes, max_depth=5\u001b[0m\n",
      "\u001b[34m[83]#011train-error:0.115067#011validation-error:0.16\u001b[0m\n",
      "\u001b[34m[12:58:32] src/tree/updater_prune.cc:74: tree pruning end, 1 roots, 22 extra nodes, 10 pruned nodes, max_depth=5\u001b[0m\n",
      "\u001b[34m[84]#011train-error:0.1148#011validation-error:0.1595\u001b[0m\n",
      "\u001b[34m[12:58:33] src/tree/updater_prune.cc:74: tree pruning end, 1 roots, 30 extra nodes, 10 pruned nodes, max_depth=5\u001b[0m\n",
      "\u001b[34m[85]#011train-error:0.114133#011validation-error:0.1586\u001b[0m\n",
      "\u001b[34m[12:58:34] src/tree/updater_prune.cc:74: tree pruning end, 1 roots, 24 extra nodes, 2 pruned nodes, max_depth=5\u001b[0m\n",
      "\u001b[34m[86]#011train-error:0.1142#011validation-error:0.1586\u001b[0m\n",
      "\u001b[34m[12:58:36] src/tree/updater_prune.cc:74: tree pruning end, 1 roots, 14 extra nodes, 4 pruned nodes, max_depth=5\u001b[0m\n",
      "\u001b[34m[87]#011train-error:0.113133#011validation-error:0.1575\u001b[0m\n",
      "\u001b[34m[12:58:37] src/tree/updater_prune.cc:74: tree pruning end, 1 roots, 18 extra nodes, 6 pruned nodes, max_depth=5\u001b[0m\n",
      "\u001b[34m[88]#011train-error:0.1124#011validation-error:0.1573\u001b[0m\n"
     ]
    },
    {
     "name": "stdout",
     "output_type": "stream",
     "text": [
      "\u001b[34m[12:58:38] src/tree/updater_prune.cc:74: tree pruning end, 1 roots, 24 extra nodes, 10 pruned nodes, max_depth=5\u001b[0m\n",
      "\u001b[34m[89]#011train-error:0.112467#011validation-error:0.1561\u001b[0m\n",
      "\u001b[34m[12:58:39] src/tree/updater_prune.cc:74: tree pruning end, 1 roots, 28 extra nodes, 6 pruned nodes, max_depth=5\u001b[0m\n",
      "\u001b[34m[90]#011train-error:0.111467#011validation-error:0.1562\u001b[0m\n",
      "\u001b[34m[12:58:41] src/tree/updater_prune.cc:74: tree pruning end, 1 roots, 10 extra nodes, 2 pruned nodes, max_depth=5\u001b[0m\n",
      "\u001b[34m[91]#011train-error:0.110933#011validation-error:0.1558\u001b[0m\n",
      "\u001b[34m[12:58:42] src/tree/updater_prune.cc:74: tree pruning end, 1 roots, 30 extra nodes, 12 pruned nodes, max_depth=5\u001b[0m\n",
      "\u001b[34m[92]#011train-error:0.1108#011validation-error:0.1552\u001b[0m\n",
      "\u001b[34m[12:58:43] src/tree/updater_prune.cc:74: tree pruning end, 1 roots, 16 extra nodes, 14 pruned nodes, max_depth=5\u001b[0m\n",
      "\u001b[34m[93]#011train-error:0.1098#011validation-error:0.1551\u001b[0m\n",
      "\u001b[34m[12:58:44] src/tree/updater_prune.cc:74: tree pruning end, 1 roots, 10 extra nodes, 8 pruned nodes, max_depth=5\u001b[0m\n",
      "\u001b[34m[94]#011train-error:0.109867#011validation-error:0.1544\u001b[0m\n",
      "\u001b[34m[12:58:46] src/tree/updater_prune.cc:74: tree pruning end, 1 roots, 20 extra nodes, 6 pruned nodes, max_depth=5\u001b[0m\n",
      "\u001b[34m[95]#011train-error:0.108733#011validation-error:0.1552\u001b[0m\n",
      "\u001b[34m[12:58:47] src/tree/updater_prune.cc:74: tree pruning end, 1 roots, 28 extra nodes, 14 pruned nodes, max_depth=5\u001b[0m\n",
      "\u001b[34m[96]#011train-error:0.108533#011validation-error:0.1554\u001b[0m\n",
      "\u001b[34m[12:58:48] src/tree/updater_prune.cc:74: tree pruning end, 1 roots, 22 extra nodes, 6 pruned nodes, max_depth=5\u001b[0m\n",
      "\u001b[34m[97]#011train-error:0.107467#011validation-error:0.1551\u001b[0m\n",
      "\u001b[34m[12:58:49] src/tree/updater_prune.cc:74: tree pruning end, 1 roots, 14 extra nodes, 0 pruned nodes, max_depth=5\u001b[0m\n",
      "\u001b[34m[98]#011train-error:0.1074#011validation-error:0.1544\u001b[0m\n",
      "\u001b[34m[12:58:51] src/tree/updater_prune.cc:74: tree pruning end, 1 roots, 12 extra nodes, 12 pruned nodes, max_depth=5\u001b[0m\n",
      "\u001b[34m[99]#011train-error:0.106733#011validation-error:0.1544\u001b[0m\n",
      "\u001b[34m[12:58:52] src/tree/updater_prune.cc:74: tree pruning end, 1 roots, 16 extra nodes, 12 pruned nodes, max_depth=5\u001b[0m\n",
      "\u001b[34m[100]#011train-error:0.1068#011validation-error:0.1545\u001b[0m\n",
      "\u001b[34m[12:58:53] src/tree/updater_prune.cc:74: tree pruning end, 1 roots, 32 extra nodes, 4 pruned nodes, max_depth=5\u001b[0m\n",
      "\u001b[34m[101]#011train-error:0.105333#011validation-error:0.1533\u001b[0m\n",
      "\u001b[34m[12:58:54] src/tree/updater_prune.cc:74: tree pruning end, 1 roots, 24 extra nodes, 8 pruned nodes, max_depth=5\u001b[0m\n",
      "\u001b[34m[102]#011train-error:0.1042#011validation-error:0.1523\u001b[0m\n",
      "\u001b[34m[12:58:56] src/tree/updater_prune.cc:74: tree pruning end, 1 roots, 14 extra nodes, 8 pruned nodes, max_depth=5\u001b[0m\n",
      "\u001b[34m[103]#011train-error:0.1032#011validation-error:0.1518\u001b[0m\n",
      "\u001b[34m[12:58:57] src/tree/updater_prune.cc:74: tree pruning end, 1 roots, 14 extra nodes, 2 pruned nodes, max_depth=5\u001b[0m\n",
      "\u001b[34m[104]#011train-error:0.103#011validation-error:0.1521\u001b[0m\n",
      "\u001b[34m[12:58:58] src/tree/updater_prune.cc:74: tree pruning end, 1 roots, 20 extra nodes, 14 pruned nodes, max_depth=5\u001b[0m\n",
      "\u001b[34m[105]#011train-error:0.102333#011validation-error:0.1523\u001b[0m\n",
      "\u001b[34m[12:59:00] src/tree/updater_prune.cc:74: tree pruning end, 1 roots, 44 extra nodes, 10 pruned nodes, max_depth=5\u001b[0m\n",
      "\u001b[34m[106]#011train-error:0.101#011validation-error:0.1523\u001b[0m\n",
      "\u001b[34m[12:59:01] src/tree/updater_prune.cc:74: tree pruning end, 1 roots, 10 extra nodes, 2 pruned nodes, max_depth=5\u001b[0m\n",
      "\u001b[34m[107]#011train-error:0.099867#011validation-error:0.151\u001b[0m\n",
      "\u001b[34m[12:59:02] src/tree/updater_prune.cc:74: tree pruning end, 1 roots, 10 extra nodes, 6 pruned nodes, max_depth=5\u001b[0m\n",
      "\u001b[34m[108]#011train-error:0.099267#011validation-error:0.1496\u001b[0m\n",
      "\u001b[34m[12:59:03] src/tree/updater_prune.cc:74: tree pruning end, 1 roots, 20 extra nodes, 8 pruned nodes, max_depth=5\u001b[0m\n",
      "\u001b[34m[109]#011train-error:0.099533#011validation-error:0.1499\u001b[0m\n",
      "\u001b[34m[12:59:05] src/tree/updater_prune.cc:74: tree pruning end, 1 roots, 12 extra nodes, 6 pruned nodes, max_depth=5\u001b[0m\n",
      "\u001b[34m[110]#011train-error:0.099333#011validation-error:0.1495\u001b[0m\n",
      "\u001b[34m[12:59:06] src/tree/updater_prune.cc:74: tree pruning end, 1 roots, 26 extra nodes, 4 pruned nodes, max_depth=5\u001b[0m\n",
      "\u001b[34m[111]#011train-error:0.099#011validation-error:0.1496\u001b[0m\n",
      "\u001b[34m[12:59:07] src/tree/updater_prune.cc:74: tree pruning end, 1 roots, 16 extra nodes, 4 pruned nodes, max_depth=5\u001b[0m\n",
      "\u001b[34m[112]#011train-error:0.098#011validation-error:0.1485\u001b[0m\n",
      "\u001b[34m[12:59:08] src/tree/updater_prune.cc:74: tree pruning end, 1 roots, 12 extra nodes, 18 pruned nodes, max_depth=5\u001b[0m\n",
      "\u001b[34m[113]#011train-error:0.097733#011validation-error:0.1482\u001b[0m\n",
      "\u001b[34m[12:59:10] src/tree/updater_prune.cc:74: tree pruning end, 1 roots, 12 extra nodes, 14 pruned nodes, max_depth=5\u001b[0m\n",
      "\u001b[34m[114]#011train-error:0.0972#011validation-error:0.1477\u001b[0m\n",
      "\u001b[34m[12:59:11] src/tree/updater_prune.cc:74: tree pruning end, 1 roots, 18 extra nodes, 2 pruned nodes, max_depth=5\u001b[0m\n",
      "\u001b[34m[115]#011train-error:0.096467#011validation-error:0.148\u001b[0m\n",
      "\u001b[34m[12:59:12] src/tree/updater_prune.cc:74: tree pruning end, 1 roots, 10 extra nodes, 8 pruned nodes, max_depth=5\u001b[0m\n",
      "\u001b[34m[116]#011train-error:0.096267#011validation-error:0.1475\u001b[0m\n",
      "\u001b[34m[12:59:13] src/tree/updater_prune.cc:74: tree pruning end, 1 roots, 10 extra nodes, 4 pruned nodes, max_depth=5\u001b[0m\n",
      "\u001b[34m[117]#011train-error:0.096067#011validation-error:0.1476\u001b[0m\n",
      "\u001b[34m[12:59:15] src/tree/updater_prune.cc:74: tree pruning end, 1 roots, 14 extra nodes, 16 pruned nodes, max_depth=5\u001b[0m\n",
      "\u001b[34m[118]#011train-error:0.0962#011validation-error:0.148\u001b[0m\n",
      "\u001b[34m[12:59:16] src/tree/updater_prune.cc:74: tree pruning end, 1 roots, 24 extra nodes, 4 pruned nodes, max_depth=5\u001b[0m\n",
      "\u001b[34m[119]#011train-error:0.096267#011validation-error:0.1486\u001b[0m\n",
      "\u001b[34m[12:59:17] src/tree/updater_prune.cc:74: tree pruning end, 1 roots, 14 extra nodes, 6 pruned nodes, max_depth=5\u001b[0m\n",
      "\u001b[34m[120]#011train-error:0.096133#011validation-error:0.1491\u001b[0m\n",
      "\u001b[34m[12:59:19] src/tree/updater_prune.cc:74: tree pruning end, 1 roots, 14 extra nodes, 4 pruned nodes, max_depth=5\u001b[0m\n",
      "\u001b[34m[121]#011train-error:0.0956#011validation-error:0.1488\u001b[0m\n",
      "\u001b[34m[12:59:20] src/tree/updater_prune.cc:74: tree pruning end, 1 roots, 16 extra nodes, 10 pruned nodes, max_depth=5\u001b[0m\n",
      "\u001b[34m[122]#011train-error:0.0952#011validation-error:0.1491\u001b[0m\n",
      "\u001b[34m[12:59:21] src/tree/updater_prune.cc:74: tree pruning end, 1 roots, 16 extra nodes, 10 pruned nodes, max_depth=5\u001b[0m\n",
      "\u001b[34m[123]#011train-error:0.0946#011validation-error:0.1489\u001b[0m\n",
      "\u001b[34m[12:59:22] src/tree/updater_prune.cc:74: tree pruning end, 1 roots, 12 extra nodes, 2 pruned nodes, max_depth=5\u001b[0m\n",
      "\u001b[34m[124]#011train-error:0.094067#011validation-error:0.1482\u001b[0m\n",
      "\u001b[34m[12:59:24] src/tree/updater_prune.cc:74: tree pruning end, 1 roots, 16 extra nodes, 12 pruned nodes, max_depth=5\u001b[0m\n",
      "\u001b[34m[125]#011train-error:0.0926#011validation-error:0.1466\u001b[0m\n",
      "\u001b[34m[12:59:25] src/tree/updater_prune.cc:74: tree pruning end, 1 roots, 14 extra nodes, 6 pruned nodes, max_depth=5\u001b[0m\n",
      "\u001b[34m[126]#011train-error:0.0928#011validation-error:0.1464\u001b[0m\n",
      "\u001b[34m[12:59:26] src/tree/updater_prune.cc:74: tree pruning end, 1 roots, 12 extra nodes, 12 pruned nodes, max_depth=5\u001b[0m\n",
      "\u001b[34m[127]#011train-error:0.092467#011validation-error:0.1461\u001b[0m\n",
      "\u001b[34m[12:59:27] src/tree/updater_prune.cc:74: tree pruning end, 1 roots, 24 extra nodes, 4 pruned nodes, max_depth=5\u001b[0m\n",
      "\u001b[34m[128]#011train-error:0.092467#011validation-error:0.1457\u001b[0m\n",
      "\u001b[34m[12:59:29] src/tree/updater_prune.cc:74: tree pruning end, 1 roots, 12 extra nodes, 12 pruned nodes, max_depth=5\u001b[0m\n",
      "\u001b[34m[129]#011train-error:0.091933#011validation-error:0.1466\u001b[0m\n",
      "\u001b[34m[12:59:30] src/tree/updater_prune.cc:74: tree pruning end, 1 roots, 22 extra nodes, 10 pruned nodes, max_depth=5\u001b[0m\n",
      "\u001b[34m[130]#011train-error:0.091333#011validation-error:0.1457\u001b[0m\n",
      "\u001b[34m[12:59:31] src/tree/updater_prune.cc:74: tree pruning end, 1 roots, 14 extra nodes, 6 pruned nodes, max_depth=5\u001b[0m\n",
      "\u001b[34m[131]#011train-error:0.0918#011validation-error:0.1461\u001b[0m\n",
      "\u001b[34m[12:59:33] src/tree/updater_prune.cc:74: tree pruning end, 1 roots, 12 extra nodes, 4 pruned nodes, max_depth=5\u001b[0m\n",
      "\u001b[34m[132]#011train-error:0.091467#011validation-error:0.1464\u001b[0m\n",
      "\u001b[34m[12:59:34] src/tree/updater_prune.cc:74: tree pruning end, 1 roots, 10 extra nodes, 2 pruned nodes, max_depth=5\u001b[0m\n",
      "\u001b[34m[133]#011train-error:0.091133#011validation-error:0.1462\u001b[0m\n",
      "\u001b[34m[12:59:35] src/tree/updater_prune.cc:74: tree pruning end, 1 roots, 12 extra nodes, 4 pruned nodes, max_depth=5\u001b[0m\n",
      "\u001b[34m[134]#011train-error:0.090733#011validation-error:0.145\u001b[0m\n",
      "\u001b[34m[12:59:36] src/tree/updater_prune.cc:74: tree pruning end, 1 roots, 12 extra nodes, 2 pruned nodes, max_depth=5\u001b[0m\n",
      "\u001b[34m[135]#011train-error:0.090333#011validation-error:0.1447\u001b[0m\n",
      "\u001b[34m[12:59:38] src/tree/updater_prune.cc:74: tree pruning end, 1 roots, 22 extra nodes, 6 pruned nodes, max_depth=5\u001b[0m\n",
      "\u001b[34m[136]#011train-error:0.089467#011validation-error:0.1441\u001b[0m\n"
     ]
    },
    {
     "name": "stdout",
     "output_type": "stream",
     "text": [
      "\u001b[34m[12:59:39] src/tree/updater_prune.cc:74: tree pruning end, 1 roots, 24 extra nodes, 16 pruned nodes, max_depth=5\u001b[0m\n",
      "\u001b[34m[137]#011train-error:0.0886#011validation-error:0.1444\u001b[0m\n",
      "\u001b[34m[12:59:40] src/tree/updater_prune.cc:74: tree pruning end, 1 roots, 12 extra nodes, 4 pruned nodes, max_depth=5\u001b[0m\n",
      "\u001b[34m[138]#011train-error:0.088533#011validation-error:0.144\u001b[0m\n",
      "\u001b[34m[12:59:42] src/tree/updater_prune.cc:74: tree pruning end, 1 roots, 24 extra nodes, 14 pruned nodes, max_depth=5\u001b[0m\n",
      "\u001b[34m[139]#011train-error:0.0884#011validation-error:0.1436\u001b[0m\n",
      "\u001b[34m[12:59:43] src/tree/updater_prune.cc:74: tree pruning end, 1 roots, 16 extra nodes, 8 pruned nodes, max_depth=5\u001b[0m\n",
      "\u001b[34m[140]#011train-error:0.087467#011validation-error:0.1439\u001b[0m\n",
      "\u001b[34m[12:59:44] src/tree/updater_prune.cc:74: tree pruning end, 1 roots, 12 extra nodes, 8 pruned nodes, max_depth=5\u001b[0m\n",
      "\u001b[34m[141]#011train-error:0.0874#011validation-error:0.1438\u001b[0m\n",
      "\u001b[34m[12:59:45] src/tree/updater_prune.cc:74: tree pruning end, 1 roots, 24 extra nodes, 2 pruned nodes, max_depth=5\u001b[0m\n",
      "\u001b[34m[142]#011train-error:0.087067#011validation-error:0.1436\u001b[0m\n",
      "\u001b[34m[12:59:47] src/tree/updater_prune.cc:74: tree pruning end, 1 roots, 28 extra nodes, 10 pruned nodes, max_depth=5\u001b[0m\n",
      "\u001b[34m[143]#011train-error:0.0864#011validation-error:0.1434\u001b[0m\n",
      "\u001b[34m[12:59:48] src/tree/updater_prune.cc:74: tree pruning end, 1 roots, 24 extra nodes, 6 pruned nodes, max_depth=5\u001b[0m\n",
      "\u001b[34m[144]#011train-error:0.086067#011validation-error:0.1429\u001b[0m\n",
      "\u001b[34m[12:59:49] src/tree/updater_prune.cc:74: tree pruning end, 1 roots, 12 extra nodes, 6 pruned nodes, max_depth=5\u001b[0m\n",
      "\u001b[34m[145]#011train-error:0.0858#011validation-error:0.1429\u001b[0m\n",
      "\u001b[34m[12:59:50] src/tree/updater_prune.cc:74: tree pruning end, 1 roots, 18 extra nodes, 16 pruned nodes, max_depth=5\u001b[0m\n",
      "\u001b[34m[146]#011train-error:0.085533#011validation-error:0.1431\u001b[0m\n",
      "\u001b[34m[12:59:52] src/tree/updater_prune.cc:74: tree pruning end, 1 roots, 22 extra nodes, 8 pruned nodes, max_depth=5\u001b[0m\n",
      "\u001b[34m[147]#011train-error:0.085333#011validation-error:0.144\u001b[0m\n",
      "\u001b[34m[12:59:53] src/tree/updater_prune.cc:74: tree pruning end, 1 roots, 36 extra nodes, 8 pruned nodes, max_depth=5\u001b[0m\n",
      "\u001b[34m[148]#011train-error:0.085067#011validation-error:0.1434\u001b[0m\n",
      "\u001b[34m[12:59:54] src/tree/updater_prune.cc:74: tree pruning end, 1 roots, 28 extra nodes, 12 pruned nodes, max_depth=5\u001b[0m\n",
      "\u001b[34m[149]#011train-error:0.084867#011validation-error:0.1435\u001b[0m\n",
      "\u001b[34m[12:59:55] src/tree/updater_prune.cc:74: tree pruning end, 1 roots, 10 extra nodes, 2 pruned nodes, max_depth=5\u001b[0m\n",
      "\u001b[34m[150]#011train-error:0.0844#011validation-error:0.1438\u001b[0m\n",
      "\u001b[34m[12:59:57] src/tree/updater_prune.cc:74: tree pruning end, 1 roots, 16 extra nodes, 14 pruned nodes, max_depth=5\u001b[0m\n",
      "\u001b[34m[151]#011train-error:0.0844#011validation-error:0.1438\u001b[0m\n",
      "\u001b[34m[12:59:58] src/tree/updater_prune.cc:74: tree pruning end, 1 roots, 12 extra nodes, 10 pruned nodes, max_depth=5\u001b[0m\n",
      "\u001b[34m[152]#011train-error:0.084267#011validation-error:0.1434\u001b[0m\n",
      "\u001b[34m[12:59:59] src/tree/updater_prune.cc:74: tree pruning end, 1 roots, 26 extra nodes, 4 pruned nodes, max_depth=5\u001b[0m\n",
      "\u001b[34m[153]#011train-error:0.083933#011validation-error:0.1424\u001b[0m\n",
      "\u001b[34m[13:00:01] src/tree/updater_prune.cc:74: tree pruning end, 1 roots, 18 extra nodes, 10 pruned nodes, max_depth=5\u001b[0m\n",
      "\u001b[34m[154]#011train-error:0.082733#011validation-error:0.1429\u001b[0m\n",
      "\u001b[34m[13:00:02] src/tree/updater_prune.cc:74: tree pruning end, 1 roots, 20 extra nodes, 4 pruned nodes, max_depth=5\u001b[0m\n",
      "\u001b[34m[155]#011train-error:0.082867#011validation-error:0.1427\u001b[0m\n",
      "\u001b[34m[13:00:03] src/tree/updater_prune.cc:74: tree pruning end, 1 roots, 10 extra nodes, 6 pruned nodes, max_depth=5\u001b[0m\n",
      "\u001b[34m[156]#011train-error:0.0828#011validation-error:0.1435\u001b[0m\n",
      "\u001b[34m[13:00:04] src/tree/updater_prune.cc:74: tree pruning end, 1 roots, 10 extra nodes, 0 pruned nodes, max_depth=5\u001b[0m\n",
      "\u001b[34m[157]#011train-error:0.082333#011validation-error:0.1433\u001b[0m\n",
      "\u001b[34m[13:00:06] src/tree/updater_prune.cc:74: tree pruning end, 1 roots, 14 extra nodes, 16 pruned nodes, max_depth=5\u001b[0m\n",
      "\u001b[34m[158]#011train-error:0.082667#011validation-error:0.1434\u001b[0m\n",
      "\u001b[34m[13:00:07] src/tree/updater_prune.cc:74: tree pruning end, 1 roots, 10 extra nodes, 8 pruned nodes, max_depth=5\u001b[0m\n",
      "\u001b[34m[159]#011train-error:0.082267#011validation-error:0.1427\u001b[0m\n",
      "\u001b[34m[13:00:08] src/tree/updater_prune.cc:74: tree pruning end, 1 roots, 16 extra nodes, 8 pruned nodes, max_depth=5\u001b[0m\n",
      "\u001b[34m[160]#011train-error:0.0822#011validation-error:0.1436\u001b[0m\n",
      "\u001b[34m[13:00:09] src/tree/updater_prune.cc:74: tree pruning end, 1 roots, 22 extra nodes, 14 pruned nodes, max_depth=5\u001b[0m\n",
      "\u001b[34m[161]#011train-error:0.081333#011validation-error:0.1418\u001b[0m\n",
      "\u001b[34m[13:00:11] src/tree/updater_prune.cc:74: tree pruning end, 1 roots, 14 extra nodes, 6 pruned nodes, max_depth=5\u001b[0m\n",
      "\u001b[34m[162]#011train-error:0.0804#011validation-error:0.1424\u001b[0m\n",
      "\u001b[34m[13:00:12] src/tree/updater_prune.cc:74: tree pruning end, 1 roots, 10 extra nodes, 4 pruned nodes, max_depth=5\u001b[0m\n",
      "\u001b[34m[163]#011train-error:0.080733#011validation-error:0.1422\u001b[0m\n",
      "\u001b[34m[13:00:13] src/tree/updater_prune.cc:74: tree pruning end, 1 roots, 16 extra nodes, 12 pruned nodes, max_depth=5\u001b[0m\n",
      "\u001b[34m[164]#011train-error:0.0808#011validation-error:0.1423\u001b[0m\n",
      "\u001b[34m[13:00:14] src/tree/updater_prune.cc:74: tree pruning end, 1 roots, 16 extra nodes, 10 pruned nodes, max_depth=5\u001b[0m\n",
      "\u001b[34m[165]#011train-error:0.080067#011validation-error:0.1425\u001b[0m\n",
      "\u001b[34m[13:00:16] src/tree/updater_prune.cc:74: tree pruning end, 1 roots, 20 extra nodes, 8 pruned nodes, max_depth=5\u001b[0m\n",
      "\u001b[34m[166]#011train-error:0.080067#011validation-error:0.1417\u001b[0m\n",
      "\u001b[34m[13:00:17] src/tree/updater_prune.cc:74: tree pruning end, 1 roots, 12 extra nodes, 0 pruned nodes, max_depth=5\u001b[0m\n",
      "\u001b[34m[167]#011train-error:0.080067#011validation-error:0.1419\u001b[0m\n",
      "\u001b[34m[13:00:18] src/tree/updater_prune.cc:74: tree pruning end, 1 roots, 16 extra nodes, 12 pruned nodes, max_depth=5\u001b[0m\n",
      "\u001b[34m[168]#011train-error:0.079267#011validation-error:0.1429\u001b[0m\n",
      "\u001b[34m[13:00:20] src/tree/updater_prune.cc:74: tree pruning end, 1 roots, 10 extra nodes, 2 pruned nodes, max_depth=5\u001b[0m\n",
      "\u001b[34m[169]#011train-error:0.079067#011validation-error:0.1428\u001b[0m\n",
      "\u001b[34m[13:00:21] src/tree/updater_prune.cc:74: tree pruning end, 1 roots, 14 extra nodes, 12 pruned nodes, max_depth=5\u001b[0m\n",
      "\u001b[34m[170]#011train-error:0.078933#011validation-error:0.1428\u001b[0m\n",
      "\u001b[34m[13:00:22] src/tree/updater_prune.cc:74: tree pruning end, 1 roots, 20 extra nodes, 8 pruned nodes, max_depth=5\u001b[0m\n",
      "\u001b[34m[171]#011train-error:0.0792#011validation-error:0.1422\u001b[0m\n",
      "\u001b[34m[13:00:23] src/tree/updater_prune.cc:74: tree pruning end, 1 roots, 12 extra nodes, 14 pruned nodes, max_depth=5\u001b[0m\n",
      "\u001b[34m[172]#011train-error:0.078667#011validation-error:0.1421\u001b[0m\n",
      "\u001b[34m[13:00:25] src/tree/updater_prune.cc:74: tree pruning end, 1 roots, 20 extra nodes, 8 pruned nodes, max_depth=5\u001b[0m\n",
      "\u001b[34m[173]#011train-error:0.077467#011validation-error:0.1411\u001b[0m\n",
      "\u001b[34m[13:00:26] src/tree/updater_prune.cc:74: tree pruning end, 1 roots, 16 extra nodes, 12 pruned nodes, max_depth=5\u001b[0m\n",
      "\u001b[34m[174]#011train-error:0.0774#011validation-error:0.141\u001b[0m\n",
      "\u001b[34m[13:00:27] src/tree/updater_prune.cc:74: tree pruning end, 1 roots, 20 extra nodes, 4 pruned nodes, max_depth=5\u001b[0m\n",
      "\u001b[34m[175]#011train-error:0.0774#011validation-error:0.141\u001b[0m\n",
      "\u001b[34m[13:00:28] src/tree/updater_prune.cc:74: tree pruning end, 1 roots, 16 extra nodes, 6 pruned nodes, max_depth=5\u001b[0m\n",
      "\u001b[34m[176]#011train-error:0.077333#011validation-error:0.1408\u001b[0m\n",
      "\u001b[34m[13:00:30] src/tree/updater_prune.cc:74: tree pruning end, 1 roots, 10 extra nodes, 6 pruned nodes, max_depth=5\u001b[0m\n",
      "\u001b[34m[177]#011train-error:0.077467#011validation-error:0.1411\u001b[0m\n",
      "\u001b[34m[13:00:31] src/tree/updater_prune.cc:74: tree pruning end, 1 roots, 10 extra nodes, 6 pruned nodes, max_depth=5\u001b[0m\n",
      "\u001b[34m[178]#011train-error:0.0774#011validation-error:0.1415\u001b[0m\n",
      "\u001b[34m[13:00:32] src/tree/updater_prune.cc:74: tree pruning end, 1 roots, 12 extra nodes, 0 pruned nodes, max_depth=5\u001b[0m\n",
      "\u001b[34m[179]#011train-error:0.0768#011validation-error:0.1412\u001b[0m\n",
      "\u001b[34m[13:00:34] src/tree/updater_prune.cc:74: tree pruning end, 1 roots, 10 extra nodes, 4 pruned nodes, max_depth=5\u001b[0m\n",
      "\u001b[34m[180]#011train-error:0.077067#011validation-error:0.1414\u001b[0m\n",
      "\u001b[34m[13:00:35] src/tree/updater_prune.cc:74: tree pruning end, 1 roots, 12 extra nodes, 14 pruned nodes, max_depth=5\u001b[0m\n",
      "\u001b[34m[181]#011train-error:0.076933#011validation-error:0.1412\u001b[0m\n",
      "\u001b[34m[13:00:36] src/tree/updater_prune.cc:74: tree pruning end, 1 roots, 12 extra nodes, 4 pruned nodes, max_depth=5\u001b[0m\n",
      "\u001b[34m[182]#011train-error:0.0764#011validation-error:0.1417\u001b[0m\n",
      "\u001b[34m[13:00:37] src/tree/updater_prune.cc:74: tree pruning end, 1 roots, 10 extra nodes, 2 pruned nodes, max_depth=5\u001b[0m\n",
      "\u001b[34m[183]#011train-error:0.076133#011validation-error:0.1414\u001b[0m\n",
      "\u001b[34m[13:00:39] src/tree/updater_prune.cc:74: tree pruning end, 1 roots, 14 extra nodes, 6 pruned nodes, max_depth=5\u001b[0m\n",
      "\u001b[34m[184]#011train-error:0.075133#011validation-error:0.1415\u001b[0m\n"
     ]
    },
    {
     "name": "stdout",
     "output_type": "stream",
     "text": [
      "\u001b[34m[13:00:40] src/tree/updater_prune.cc:74: tree pruning end, 1 roots, 10 extra nodes, 4 pruned nodes, max_depth=5\u001b[0m\n",
      "\u001b[34m[185]#011train-error:0.075267#011validation-error:0.1415\u001b[0m\n",
      "\u001b[34m[13:00:41] src/tree/updater_prune.cc:74: tree pruning end, 1 roots, 14 extra nodes, 8 pruned nodes, max_depth=5\u001b[0m\n",
      "\u001b[34m[186]#011train-error:0.075133#011validation-error:0.1411\u001b[0m\n",
      "\u001b[34mStopping. Best iteration:\u001b[0m\n",
      "\u001b[34m[176]#011train-error:0.077333#011validation-error:0.1408\n",
      "\u001b[0m\n",
      "\n",
      "2020-06-07 13:01:48 Uploading - Uploading generated training model\n",
      "2020-06-07 13:01:48 Completed - Training job completed\n",
      "Training seconds: 348\n",
      "Billable seconds: 348\n"
     ]
    }
   ],
   "source": [
    "xgb.fit({'train': s3_input_train, 'validation': s3_input_validation})"
   ]
  },
  {
   "cell_type": "markdown",
   "metadata": {},
   "source": [
    "## Step 5: Testing the model\n",
    "\n",
    "Now that we've fit our XGBoost model, it's time to see how well it performs. To do this we will use SageMakers Batch Transform functionality. Batch Transform is a convenient way to perform inference on a large dataset in a way that is not realtime. That is, we don't necessarily need to use our model's results immediately and instead we can perform inference on a large number of samples. An example of this in industry might be performing an end of month report. This method of inference can also be useful to us as it means that we can perform inference on our entire test set. \n",
    "\n",
    "To perform a Batch Transformation we need to first create a transformer objects from our trained estimator object."
   ]
  },
  {
   "cell_type": "code",
   "execution_count": 24,
   "metadata": {},
   "outputs": [],
   "source": [
    "xgb_transformer = xgb.transformer(instance_count = 1, instance_type = 'ml.m4.xlarge')"
   ]
  },
  {
   "cell_type": "markdown",
   "metadata": {},
   "source": [
    "Next we actually perform the transform job. When doing so we need to make sure to specify the type of data we are sending so that it is serialized correctly in the background. In our case we are providing our model with csv data so we specify `text/csv`. Also, if the test data that we have provided is too large to process all at once then we need to specify how the data file should be split up. Since each line is a single entry in our data set we tell SageMaker that it can split the input on each line."
   ]
  },
  {
   "cell_type": "code",
   "execution_count": 25,
   "metadata": {},
   "outputs": [],
   "source": [
    "xgb_transformer.transform(test_location, content_type='text/csv', split_type='Line')"
   ]
  },
  {
   "cell_type": "markdown",
   "metadata": {},
   "source": [
    "Currently the transform job is running but it is doing so in the background. Since we wish to wait until the transform job is done and we would like a bit of feedback we can run the `wait()` method."
   ]
  },
  {
   "cell_type": "code",
   "execution_count": 26,
   "metadata": {},
   "outputs": [
    {
     "name": "stdout",
     "output_type": "stream",
     "text": [
      "....................\u001b[34mArguments: serve\u001b[0m\n",
      "\u001b[34m[2020-06-07 13:05:14 +0000] [1] [INFO] Starting gunicorn 19.7.1\u001b[0m\n",
      "\u001b[34m[2020-06-07 13:05:14 +0000] [1] [INFO] Listening at: http://0.0.0.0:8080 (1)\u001b[0m\n",
      "\u001b[34m[2020-06-07 13:05:14 +0000] [1] [INFO] Using worker: gevent\u001b[0m\n",
      "\u001b[34m[2020-06-07 13:05:14 +0000] [38] [INFO] Booting worker with pid: 38\u001b[0m\n",
      "\u001b[34m[2020-06-07 13:05:14 +0000] [39] [INFO] Booting worker with pid: 39\u001b[0m\n",
      "\u001b[34m[2020-06-07 13:05:14 +0000] [40] [INFO] Booting worker with pid: 40\u001b[0m\n",
      "\u001b[34m[2020-06-07 13:05:14 +0000] [41] [INFO] Booting worker with pid: 41\u001b[0m\n",
      "\u001b[34m[2020-06-07:13:05:14:INFO] Model loaded successfully for worker : 38\u001b[0m\n",
      "\u001b[34m[2020-06-07:13:05:14:INFO] Model loaded successfully for worker : 40\u001b[0m\n",
      "\u001b[34m[2020-06-07:13:05:14:INFO] Model loaded successfully for worker : 39\u001b[0m\n",
      "\u001b[34m[2020-06-07:13:05:14:INFO] Model loaded successfully for worker : 41\u001b[0m\n",
      "\u001b[34m[2020-06-07:13:05:35:INFO] Sniff delimiter as ','\u001b[0m\n",
      "\u001b[34m[2020-06-07:13:05:35:INFO] Determined delimiter of CSV input is ','\u001b[0m\n",
      "\u001b[34m[2020-06-07:13:05:36:INFO] Sniff delimiter as ','\u001b[0m\n",
      "\u001b[34m[2020-06-07:13:05:36:INFO] Determined delimiter of CSV input is ','\u001b[0m\n",
      "\u001b[35m[2020-06-07:13:05:35:INFO] Sniff delimiter as ','\u001b[0m\n",
      "\u001b[35m[2020-06-07:13:05:35:INFO] Determined delimiter of CSV input is ','\u001b[0m\n",
      "\u001b[35m[2020-06-07:13:05:36:INFO] Sniff delimiter as ','\u001b[0m\n",
      "\u001b[35m[2020-06-07:13:05:36:INFO] Determined delimiter of CSV input is ','\u001b[0m\n",
      "\u001b[34m[2020-06-07:13:05:36:INFO] Sniff delimiter as ','\u001b[0m\n",
      "\u001b[34m[2020-06-07:13:05:36:INFO] Determined delimiter of CSV input is ','\u001b[0m\n",
      "\u001b[34m[2020-06-07:13:05:37:INFO] Sniff delimiter as ','\u001b[0m\n",
      "\u001b[34m[2020-06-07:13:05:37:INFO] Determined delimiter of CSV input is ','\u001b[0m\n",
      "\u001b[35m[2020-06-07:13:05:36:INFO] Sniff delimiter as ','\u001b[0m\n",
      "\u001b[35m[2020-06-07:13:05:36:INFO] Determined delimiter of CSV input is ','\u001b[0m\n",
      "\u001b[35m[2020-06-07:13:05:37:INFO] Sniff delimiter as ','\u001b[0m\n",
      "\u001b[35m[2020-06-07:13:05:37:INFO] Determined delimiter of CSV input is ','\u001b[0m\n",
      "\u001b[32m2020-06-07T13:05:33.947:[sagemaker logs]: MaxConcurrentTransforms=4, MaxPayloadInMB=6, BatchStrategy=MULTI_RECORD\u001b[0m\n",
      "\u001b[34m[2020-06-07:13:05:38:INFO] Sniff delimiter as ','\u001b[0m\n",
      "\u001b[34m[2020-06-07:13:05:38:INFO] Determined delimiter of CSV input is ','\u001b[0m\n",
      "\u001b[35m[2020-06-07:13:05:38:INFO] Sniff delimiter as ','\u001b[0m\n",
      "\u001b[35m[2020-06-07:13:05:38:INFO] Determined delimiter of CSV input is ','\u001b[0m\n",
      "\u001b[34m[2020-06-07:13:05:39:INFO] Sniff delimiter as ','\u001b[0m\n",
      "\u001b[34m[2020-06-07:13:05:39:INFO] Determined delimiter of CSV input is ','\u001b[0m\n",
      "\u001b[34m[2020-06-07:13:05:39:INFO] Sniff delimiter as ','\u001b[0m\n",
      "\u001b[34m[2020-06-07:13:05:39:INFO] Determined delimiter of CSV input is ','\u001b[0m\n",
      "\u001b[34m[2020-06-07:13:05:39:INFO] Sniff delimiter as ','\u001b[0m\n",
      "\u001b[34m[2020-06-07:13:05:39:INFO] Determined delimiter of CSV input is ','\u001b[0m\n",
      "\u001b[35m[2020-06-07:13:05:39:INFO] Sniff delimiter as ','\u001b[0m\n",
      "\u001b[35m[2020-06-07:13:05:39:INFO] Determined delimiter of CSV input is ','\u001b[0m\n",
      "\u001b[35m[2020-06-07:13:05:39:INFO] Sniff delimiter as ','\u001b[0m\n",
      "\u001b[35m[2020-06-07:13:05:39:INFO] Determined delimiter of CSV input is ','\u001b[0m\n",
      "\u001b[35m[2020-06-07:13:05:39:INFO] Sniff delimiter as ','\u001b[0m\n",
      "\u001b[35m[2020-06-07:13:05:39:INFO] Determined delimiter of CSV input is ','\u001b[0m\n",
      "\u001b[34m[2020-06-07:13:05:42:INFO] Sniff delimiter as ','\u001b[0m\n",
      "\u001b[34m[2020-06-07:13:05:42:INFO] Determined delimiter of CSV input is ','\u001b[0m\n",
      "\u001b[35m[2020-06-07:13:05:42:INFO] Sniff delimiter as ','\u001b[0m\n",
      "\u001b[35m[2020-06-07:13:05:42:INFO] Determined delimiter of CSV input is ','\u001b[0m\n",
      "\u001b[34m[2020-06-07:13:05:43:INFO] Sniff delimiter as ','\u001b[0m\n",
      "\u001b[34m[2020-06-07:13:05:43:INFO] Determined delimiter of CSV input is ','\u001b[0m\n",
      "\u001b[35m[2020-06-07:13:05:43:INFO] Sniff delimiter as ','\u001b[0m\n",
      "\u001b[35m[2020-06-07:13:05:43:INFO] Determined delimiter of CSV input is ','\u001b[0m\n",
      "\u001b[34m[2020-06-07:13:05:44:INFO] Sniff delimiter as ','\u001b[0m\n",
      "\u001b[34m[2020-06-07:13:05:44:INFO] Determined delimiter of CSV input is ','\u001b[0m\n",
      "\u001b[34m[2020-06-07:13:05:44:INFO] Sniff delimiter as ','\u001b[0m\n",
      "\u001b[34m[2020-06-07:13:05:44:INFO] Determined delimiter of CSV input is ','\u001b[0m\n",
      "\u001b[34m[2020-06-07:13:05:44:INFO] Sniff delimiter as ','\u001b[0m\n",
      "\u001b[34m[2020-06-07:13:05:44:INFO] Determined delimiter of CSV input is ','\u001b[0m\n",
      "\u001b[35m[2020-06-07:13:05:44:INFO] Sniff delimiter as ','\u001b[0m\n",
      "\u001b[35m[2020-06-07:13:05:44:INFO] Determined delimiter of CSV input is ','\u001b[0m\n",
      "\u001b[35m[2020-06-07:13:05:44:INFO] Sniff delimiter as ','\u001b[0m\n",
      "\u001b[35m[2020-06-07:13:05:44:INFO] Determined delimiter of CSV input is ','\u001b[0m\n",
      "\u001b[35m[2020-06-07:13:05:44:INFO] Sniff delimiter as ','\u001b[0m\n",
      "\u001b[35m[2020-06-07:13:05:44:INFO] Determined delimiter of CSV input is ','\u001b[0m\n",
      "\u001b[34m[2020-06-07:13:05:46:INFO] Sniff delimiter as ','\u001b[0m\n",
      "\u001b[34m[2020-06-07:13:05:46:INFO] Determined delimiter of CSV input is ','\u001b[0m\n",
      "\u001b[34m[2020-06-07:13:05:46:INFO] Sniff delimiter as ','\u001b[0m\n",
      "\u001b[34m[2020-06-07:13:05:46:INFO] Determined delimiter of CSV input is ','\u001b[0m\n",
      "\u001b[34m[2020-06-07:13:05:46:INFO] Sniff delimiter as ','\u001b[0m\n",
      "\u001b[34m[2020-06-07:13:05:46:INFO] Determined delimiter of CSV input is ','\u001b[0m\n",
      "\u001b[35m[2020-06-07:13:05:46:INFO] Sniff delimiter as ','\u001b[0m\n",
      "\u001b[35m[2020-06-07:13:05:46:INFO] Determined delimiter of CSV input is ','\u001b[0m\n",
      "\u001b[35m[2020-06-07:13:05:46:INFO] Sniff delimiter as ','\u001b[0m\n",
      "\u001b[35m[2020-06-07:13:05:46:INFO] Determined delimiter of CSV input is ','\u001b[0m\n",
      "\u001b[35m[2020-06-07:13:05:46:INFO] Sniff delimiter as ','\u001b[0m\n",
      "\u001b[35m[2020-06-07:13:05:46:INFO] Determined delimiter of CSV input is ','\u001b[0m\n",
      "\u001b[34m[2020-06-07:13:05:46:INFO] Sniff delimiter as ','\u001b[0m\n",
      "\u001b[34m[2020-06-07:13:05:46:INFO] Determined delimiter of CSV input is ','\u001b[0m\n",
      "\u001b[35m[2020-06-07:13:05:46:INFO] Sniff delimiter as ','\u001b[0m\n",
      "\u001b[35m[2020-06-07:13:05:46:INFO] Determined delimiter of CSV input is ','\u001b[0m\n",
      "\u001b[34m[2020-06-07:13:05:48:INFO] Sniff delimiter as ','\u001b[0m\n",
      "\u001b[34m[2020-06-07:13:05:48:INFO] Determined delimiter of CSV input is ','\u001b[0m\n",
      "\u001b[35m[2020-06-07:13:05:48:INFO] Sniff delimiter as ','\u001b[0m\n",
      "\u001b[35m[2020-06-07:13:05:48:INFO] Determined delimiter of CSV input is ','\u001b[0m\n",
      "\u001b[34m[2020-06-07:13:05:48:INFO] Sniff delimiter as ','\u001b[0m\n",
      "\u001b[34m[2020-06-07:13:05:48:INFO] Determined delimiter of CSV input is ','\u001b[0m\n",
      "\u001b[35m[2020-06-07:13:05:48:INFO] Sniff delimiter as ','\u001b[0m\n",
      "\u001b[35m[2020-06-07:13:05:48:INFO] Determined delimiter of CSV input is ','\u001b[0m\n",
      "\u001b[34m[2020-06-07:13:05:49:INFO] Sniff delimiter as ','\u001b[0m\n",
      "\u001b[34m[2020-06-07:13:05:49:INFO] Determined delimiter of CSV input is ','\u001b[0m\n",
      "\u001b[34m[2020-06-07:13:05:49:INFO] Sniff delimiter as ','\u001b[0m\n",
      "\u001b[34m[2020-06-07:13:05:49:INFO] Determined delimiter of CSV input is ','\u001b[0m\n",
      "\u001b[35m[2020-06-07:13:05:49:INFO] Sniff delimiter as ','\u001b[0m\n",
      "\u001b[35m[2020-06-07:13:05:49:INFO] Determined delimiter of CSV input is ','\u001b[0m\n",
      "\u001b[35m[2020-06-07:13:05:49:INFO] Sniff delimiter as ','\u001b[0m\n",
      "\u001b[35m[2020-06-07:13:05:49:INFO] Determined delimiter of CSV input is ','\u001b[0m\n",
      "\u001b[34m[2020-06-07:13:05:51:INFO] Sniff delimiter as ','\u001b[0m\n",
      "\u001b[34m[2020-06-07:13:05:51:INFO] Determined delimiter of CSV input is ','\u001b[0m\n",
      "\u001b[35m[2020-06-07:13:05:51:INFO] Sniff delimiter as ','\u001b[0m\n",
      "\u001b[35m[2020-06-07:13:05:51:INFO] Determined delimiter of CSV input is ','\u001b[0m\n",
      "\u001b[34m[2020-06-07:13:05:51:INFO] Sniff delimiter as ','\u001b[0m\n",
      "\u001b[34m[2020-06-07:13:05:51:INFO] Determined delimiter of CSV input is ','\u001b[0m\n",
      "\u001b[35m[2020-06-07:13:05:51:INFO] Sniff delimiter as ','\u001b[0m\n",
      "\u001b[35m[2020-06-07:13:05:51:INFO] Determined delimiter of CSV input is ','\u001b[0m\n",
      "\u001b[34m[2020-06-07:13:05:53:INFO] Sniff delimiter as ','\u001b[0m\n",
      "\u001b[34m[2020-06-07:13:05:53:INFO] Determined delimiter of CSV input is ','\u001b[0m\n",
      "\u001b[35m[2020-06-07:13:05:53:INFO] Sniff delimiter as ','\u001b[0m\n",
      "\u001b[35m[2020-06-07:13:05:53:INFO] Determined delimiter of CSV input is ','\u001b[0m\n",
      "\u001b[34m[2020-06-07:13:05:53:INFO] Sniff delimiter as ','\u001b[0m\n",
      "\u001b[34m[2020-06-07:13:05:53:INFO] Determined delimiter of CSV input is ','\u001b[0m\n",
      "\u001b[34m[2020-06-07:13:05:53:INFO] Sniff delimiter as ','\u001b[0m\n",
      "\u001b[34m[2020-06-07:13:05:53:INFO] Determined delimiter of CSV input is ','\u001b[0m\n",
      "\u001b[34m[2020-06-07:13:05:54:INFO] Sniff delimiter as ','\u001b[0m\n",
      "\u001b[34m[2020-06-07:13:05:54:INFO] Determined delimiter of CSV input is ','\u001b[0m\n",
      "\u001b[35m[2020-06-07:13:05:53:INFO] Sniff delimiter as ','\u001b[0m\n",
      "\u001b[35m[2020-06-07:13:05:53:INFO] Determined delimiter of CSV input is ','\u001b[0m\n",
      "\u001b[35m[2020-06-07:13:05:53:INFO] Sniff delimiter as ','\u001b[0m\n",
      "\u001b[35m[2020-06-07:13:05:53:INFO] Determined delimiter of CSV input is ','\u001b[0m\n",
      "\u001b[35m[2020-06-07:13:05:54:INFO] Sniff delimiter as ','\u001b[0m\n",
      "\u001b[35m[2020-06-07:13:05:54:INFO] Determined delimiter of CSV input is ','\u001b[0m\n",
      "\u001b[34m[2020-06-07:13:05:56:INFO] Sniff delimiter as ','\u001b[0m\n",
      "\u001b[34m[2020-06-07:13:05:56:INFO] Determined delimiter of CSV input is ','\u001b[0m\n",
      "\u001b[34m[2020-06-07:13:05:56:INFO] Sniff delimiter as ','\u001b[0m\n",
      "\u001b[34m[2020-06-07:13:05:56:INFO] Determined delimiter of CSV input is ','\u001b[0m\n",
      "\u001b[34m[2020-06-07:13:05:56:INFO] Sniff delimiter as ','\u001b[0m\n",
      "\u001b[34m[2020-06-07:13:05:56:INFO] Determined delimiter of CSV input is ','\u001b[0m\n",
      "\u001b[34m[2020-06-07:13:05:56:INFO] Sniff delimiter as ','\u001b[0m\n",
      "\u001b[34m[2020-06-07:13:05:56:INFO] Determined delimiter of CSV input is ','\u001b[0m\n",
      "\u001b[35m[2020-06-07:13:05:56:INFO] Sniff delimiter as ','\u001b[0m\n",
      "\u001b[35m[2020-06-07:13:05:56:INFO] Determined delimiter of CSV input is ','\u001b[0m\n",
      "\u001b[35m[2020-06-07:13:05:56:INFO] Sniff delimiter as ','\u001b[0m\n",
      "\u001b[35m[2020-06-07:13:05:56:INFO] Determined delimiter of CSV input is ','\u001b[0m\n",
      "\u001b[35m[2020-06-07:13:05:56:INFO] Sniff delimiter as ','\u001b[0m\n",
      "\u001b[35m[2020-06-07:13:05:56:INFO] Determined delimiter of CSV input is ','\u001b[0m\n",
      "\u001b[35m[2020-06-07:13:05:56:INFO] Sniff delimiter as ','\u001b[0m\n",
      "\u001b[35m[2020-06-07:13:05:56:INFO] Determined delimiter of CSV input is ','\u001b[0m\n",
      "\u001b[34m[2020-06-07:13:05:58:INFO] Sniff delimiter as ','\u001b[0m\n",
      "\u001b[34m[2020-06-07:13:05:58:INFO] Determined delimiter of CSV input is ','\u001b[0m\n",
      "\u001b[34m[2020-06-07:13:05:58:INFO] Sniff delimiter as ','\u001b[0m\n",
      "\u001b[34m[2020-06-07:13:05:58:INFO] Determined delimiter of CSV input is ','\u001b[0m\n",
      "\u001b[35m[2020-06-07:13:05:58:INFO] Sniff delimiter as ','\u001b[0m\n",
      "\u001b[35m[2020-06-07:13:05:58:INFO] Determined delimiter of CSV input is ','\u001b[0m\n",
      "\u001b[35m[2020-06-07:13:05:58:INFO] Sniff delimiter as ','\u001b[0m\n",
      "\u001b[35m[2020-06-07:13:05:58:INFO] Determined delimiter of CSV input is ','\u001b[0m\n",
      "\u001b[34m[2020-06-07:13:05:58:INFO] Sniff delimiter as ','\u001b[0m\n",
      "\u001b[34m[2020-06-07:13:05:58:INFO] Determined delimiter of CSV input is ','\u001b[0m\n",
      "\u001b[34m[2020-06-07:13:05:59:INFO] Sniff delimiter as ','\u001b[0m\n",
      "\u001b[34m[2020-06-07:13:05:59:INFO] Determined delimiter of CSV input is ','\u001b[0m\n",
      "\u001b[35m[2020-06-07:13:05:58:INFO] Sniff delimiter as ','\u001b[0m\n",
      "\u001b[35m[2020-06-07:13:05:58:INFO] Determined delimiter of CSV input is ','\u001b[0m\n",
      "\u001b[35m[2020-06-07:13:05:59:INFO] Sniff delimiter as ','\u001b[0m\n",
      "\u001b[35m[2020-06-07:13:05:59:INFO] Determined delimiter of CSV input is ','\u001b[0m\n"
     ]
    },
    {
     "name": "stdout",
     "output_type": "stream",
     "text": [
      "\n"
     ]
    }
   ],
   "source": [
    "xgb_transformer.wait()"
   ]
  },
  {
   "cell_type": "markdown",
   "metadata": {},
   "source": [
    "Now the transform job has executed and the result, the estimated sentiment of each review, has been saved on S3. Since we would rather work on this file locally we can perform a bit of notebook magic to copy the file to the `data_dir`."
   ]
  },
  {
   "cell_type": "code",
   "execution_count": 27,
   "metadata": {},
   "outputs": [
    {
     "name": "stdout",
     "output_type": "stream",
     "text": [
      "Completed 256.0 KiB/370.3 KiB (4.4 MiB/s) with 1 file(s) remaining\r",
      "Completed 370.3 KiB/370.3 KiB (6.2 MiB/s) with 1 file(s) remaining\r",
      "download: s3://sagemaker-ap-south-1-358470164630/xgboost-2020-06-07-13-02-14-025/test.csv.out to ../data/sentiment_web_app/test.csv.out\r\n"
     ]
    }
   ],
   "source": [
    "!aws s3 cp --recursive $xgb_transformer.output_path $data_dir"
   ]
  },
  {
   "cell_type": "markdown",
   "metadata": {},
   "source": [
    "The last step is now to read in the output from our model, convert the output to something a little more usable, in this case we want the sentiment to be either `1` (positive) or `0` (negative), and then compare to the ground truth labels."
   ]
  },
  {
   "cell_type": "code",
   "execution_count": 28,
   "metadata": {},
   "outputs": [],
   "source": [
    "predictions = pd.read_csv(os.path.join(data_dir, 'test.csv.out'), header=None)\n",
    "predictions = [round(num) for num in predictions.squeeze().values]"
   ]
  },
  {
   "cell_type": "code",
   "execution_count": 29,
   "metadata": {},
   "outputs": [
    {
     "data": {
      "text/plain": [
       "0.86096"
      ]
     },
     "execution_count": 29,
     "metadata": {},
     "output_type": "execute_result"
    }
   ],
   "source": [
    "from sklearn.metrics import accuracy_score\n",
    "accuracy_score(test_y, predictions)"
   ]
  },
  {
   "cell_type": "markdown",
   "metadata": {},
   "source": [
    "## Step 6: Deploying the model\n",
    "\n",
    "Once we construct and fit our model, SageMaker stores the resulting model artifacts and we can use those to deploy an endpoint (inference code). To see this, look in the SageMaker console and you should see that a model has been created along with a link to the S3 location where the model artifacts have been stored.\n",
    "\n",
    "Deploying an endpoint is a lot like training the model with a few important differences. The first is that a deployed model doesn't change the model artifacts, so as you send it various testing instances the model won't change. Another difference is that since we aren't performing a fixed computation, as we were in the training step or while performing a batch transform, the compute instance that gets started stays running until we tell it to stop. This is important to note as if we forget and leave it running we will be charged the entire time.\n",
    "\n",
    "In other words **If you are no longer using a deployed endpoint, shut it down!**"
   ]
  },
  {
   "cell_type": "code",
   "execution_count": 30,
   "metadata": {},
   "outputs": [
    {
     "name": "stderr",
     "output_type": "stream",
     "text": [
      "WARNING:sagemaker:Using already existing model: xgboost-2020-06-07-12-53-28-534\n"
     ]
    },
    {
     "name": "stdout",
     "output_type": "stream",
     "text": [
      "-------------!"
     ]
    }
   ],
   "source": [
    "xgb_predictor = xgb.deploy(initial_instance_count = 1, instance_type = 'ml.m4.xlarge')"
   ]
  },
  {
   "cell_type": "markdown",
   "metadata": {},
   "source": [
    "### Testing the model (again)\n",
    "\n",
    "Now that we have deployed our endpoint, we can send the testing data to it and get back the inference results. We already did this earlier using the batch transform functionality of SageMaker, however, we will test our model again using the newly deployed endpoint so that we can make sure that it works properly and to get a bit of a feel for how the endpoint works.\n",
    "\n",
    "When using the created endpoint it is important to know that we are limited in the amount of information we can send in each call so we need to break the testing data up into chunks and then send each chunk. Also, we need to serialize our data before we send it to the endpoint to ensure that our data is transmitted properly. Fortunately, SageMaker can do the serialization part for us provided we tell it the format of our data."
   ]
  },
  {
   "cell_type": "code",
   "execution_count": 31,
   "metadata": {},
   "outputs": [],
   "source": [
    "from sagemaker.predictor import csv_serializer\n",
    "\n",
    "# We need to tell the endpoint what format the data we are sending is in so that SageMaker can perform the serialization.\n",
    "xgb_predictor.content_type = 'text/csv'\n",
    "xgb_predictor.serializer = csv_serializer"
   ]
  },
  {
   "cell_type": "code",
   "execution_count": 32,
   "metadata": {},
   "outputs": [],
   "source": [
    "# We split the data into chunks and send each chunk seperately, accumulating the results.\n",
    "\n",
    "def predict(data, rows=512):\n",
    "    split_array = np.array_split(data, int(data.shape[0] / float(rows) + 1))\n",
    "    predictions = ''\n",
    "    for array in split_array:\n",
    "        predictions = ','.join([predictions, xgb_predictor.predict(array).decode('utf-8')])\n",
    "    \n",
    "    return np.fromstring(predictions[1:], sep=',')"
   ]
  },
  {
   "cell_type": "code",
   "execution_count": 33,
   "metadata": {},
   "outputs": [],
   "source": [
    "test_X = pd.read_csv(os.path.join(data_dir, 'test.csv'), header=None).values\n",
    "\n",
    "predictions = predict(test_X)\n",
    "predictions = [round(num) for num in predictions]"
   ]
  },
  {
   "cell_type": "markdown",
   "metadata": {},
   "source": [
    "Lastly, we check to see what the accuracy of our model is."
   ]
  },
  {
   "cell_type": "code",
   "execution_count": 34,
   "metadata": {},
   "outputs": [
    {
     "data": {
      "text/plain": [
       "0.86096"
      ]
     },
     "execution_count": 34,
     "metadata": {},
     "output_type": "execute_result"
    }
   ],
   "source": [
    "from sklearn.metrics import accuracy_score\n",
    "accuracy_score(test_y, predictions)"
   ]
  },
  {
   "cell_type": "markdown",
   "metadata": {},
   "source": [
    "And the results here should agree with the model testing that we did earlier using the batch transform job.\n",
    "\n",
    "### Cleaning up\n",
    "\n",
    "Now that we've determined that deploying our model works as expected, we are going to shut it down. Remember that the longer the endpoint is left running, the greater the cost and since we have a bit more work to do before we are able to use our endpoint with our simple web app, we should shut everything down."
   ]
  },
  {
   "cell_type": "code",
   "execution_count": 35,
   "metadata": {},
   "outputs": [],
   "source": [
    "xgb_predictor.delete_endpoint()"
   ]
  },
  {
   "cell_type": "markdown",
   "metadata": {},
   "source": [
    "## Step 7: Putting our model to work\n",
    "\n",
    "As we've mentioned a few times now, our goal is to have our model deployed and then access it using a very simple web app. The intent is for this web app to take some user submitted data (a review), send it off to our endpoint (the model) and then display the result.\n",
    "\n",
    "However, there is a small catch. Currently the only way we can access the endpoint to send it data is using the SageMaker API. We can, if we wish, expose the actual URL that our model's endpoint is receiving data from, however, if we just send it data ourselves we will not get anything in return. This is because the endpoint created by SageMaker requires the entity accessing it have the correct permissions. So, we would need to somehow authenticate our web app with AWS.\n",
    "\n",
    "Having a website that authenticates to AWS seems a bit beyond the scope of this lesson so we will opt for an alternative approach. Namely, we will create a new endpoint which does not require authentication and which acts as a proxy for the SageMaker endpoint.\n",
    "\n",
    "As an additional constraint, we will try to avoid doing any data processing in the web app itself. Remember that when we constructed and tested our model we started with a movie review, then we simplified it by removing any html formatting and punctuation, then we constructed a bag of words embedding and the resulting vector is what we sent to our model. All of this needs to be done to our user input as well.\n",
    "\n",
    "Fortunately we can do all of this data processing in the backend, using Amazon's Lambda service.\n",
    "\n",
    "<img src=\"Web App Diagram.svg\">\n",
    "\n",
    "The diagram above gives an overview of how the various services will work together. On the far right is the model which we trained above and which will be deployed using SageMaker. On the far left is our web app that collects a user's movie review, sends it off and expects a positive or negative sentiment in return.\n",
    "\n",
    "In the middle is where some of the magic happens. We will construct a Lambda function, which you can think of as a straightforward Python function that can be executed whenever a specified event occurs. This Python function will do the data processing we need to perform on a user submitted review. In addition, we will give this function permission to send and recieve data from a SageMaker endpoint.\n",
    "\n",
    "Lastly, the method we will use to execute the Lambda function is a new endpoint that we will create using API Gateway. This endpoint will be a url that listens for data to be sent to it. Once it gets some data it will pass that data on to the Lambda function and then return whatever the Lambda function returns. Essentially it will act as an interface that lets our web app communicate with the Lambda function.\n",
    "\n",
    "### Processing a single review\n",
    "\n",
    "For now, suppose we are given a movie review by our user in the form of a string, like so:"
   ]
  },
  {
   "cell_type": "code",
   "execution_count": 36,
   "metadata": {},
   "outputs": [],
   "source": [
    "test_review = \"Nothing but a disgusting materialistic pageant of glistening abed remote control greed zombies, totally devoid of any heart or heat. A romantic comedy that has zero romantic chemestry and zero laughs!\""
   ]
  },
  {
   "cell_type": "markdown",
   "metadata": {},
   "source": [
    "How do we go from this string to the bag of words feature vector that is expected by our model?\n",
    "\n",
    "If we recall at the beginning of this notebook, the first step is to remove any unnecessary characters using the `review_to_words` method. Remember that we intentionally did this in a very simplistic way. This is because we are going to have to copy this method to our (eventual) Lambda function (we will go into more detail later) and this means it needs to be rather simplistic."
   ]
  },
  {
   "cell_type": "code",
   "execution_count": 37,
   "metadata": {},
   "outputs": [
    {
     "name": "stdout",
     "output_type": "stream",
     "text": [
      "nothing but a disgusting materialistic pageant of glistening abed remote control greed zombies totally devoid of any heart or heat a romantic comedy that has zero romantic chemestry and zero laughs\n"
     ]
    }
   ],
   "source": [
    "test_words = review_to_words(test_review)\n",
    "print(test_words)"
   ]
  },
  {
   "cell_type": "markdown",
   "metadata": {},
   "source": [
    "Next, we need to construct a bag of words embedding of the `test_words` string. To do this, remember that a bag of words embedding uses a `vocabulary` consisting of the most frequently appearing words in a set of documents. Then, for each word in the vocabulary we record the number of times that word appears in `test_words`. We constructed the `vocabulary` earlier using the training set for our problem so encoding `test_words` is relatively straightforward."
   ]
  },
  {
   "cell_type": "code",
   "execution_count": 38,
   "metadata": {},
   "outputs": [],
   "source": [
    "def bow_encoding(words, vocabulary):\n",
    "    bow = [0] * len(vocabulary) # Start by setting the count for each word in the vocabulary to zero.\n",
    "    for word in words.split():  # For each word in the string\n",
    "        if word in vocabulary:  # If the word is one that occurs in the vocabulary, increase its count.\n",
    "            bow[vocabulary[word]] += 1\n",
    "    return bow"
   ]
  },
  {
   "cell_type": "code",
   "execution_count": 49,
   "metadata": {},
   "outputs": [
    {
     "name": "stdout",
     "output_type": "stream",
     "text": [
      "{'serious': 3891, 'comedy': 890, 'hunter': 2199, 'produced': 3414, 'movie': 2926, 'version': 4720, 'of': 3083, 'the': 4426, 'french': 1830, 'play': 3296, 'de': 1131, 'la': 2500, 'later': 2525, 'as': 311, 'very': 4723, 'rich': 3685, 'woman': 4921, 'is': 2360, 'well': 4843, 'cast': 710, 'occasionally': 3075, 'unfortunately': 4654, 'timeless': 4496, 'wealthy': 4827, 'california': 650, 'widow': 4883, 'who': 4871, 'appears': 278, 'to': 4507, 'be': 418, 'away': 369, 'her': 2085, 'money': 2888, 'by': 642, 'two': 4620, 'grown': 1984, 'greedy': 1969, 'daughters': 1122, 'both': 547, 'whom': 4875, 'are': 285, 'afraid': 140, 'spending': 4106, 'their': 4431, 'whole': 4873, 'issue': 2364, 'but': 636, 'aged': 149, 'sent': 3880, 'rest': 3657, 'home': 2142, 'against': 147, 'will': 4886, 'and': 226, 'having': 2054, 'prove': 3445, 'herself': 2092, 'in': 2257, 'court': 1020, 'hearing': 2063, 'material': 2766, 'for': 1784, 'his': 2118, 'credit': 1049, 'director': 1264, 'david': 1124, 'doesnt': 1309, 'picture': 3269, 'with': 4911, 'gags': 1862, 'or': 3124, 'obvious': 3071, 'some': 4061, 'humor': 2192, 'little': 2624, 'broad': 590, 'work': 4940, 'yet': 4984, 'russell': 3761, 'this': 4457, 'scenario': 3808, 'never': 3001, 'hits': 2125, 'false': 1641, 'note': 3044, 'sandra': 3782, 'also': 199, 'good': 1937, 'james': 2378, 'charming': 768, 'young': 4989, 'lawyer': 2541, 'has': 2043, 'so': 4046, 'much': 2934, 'say': 3799, 'about': 67, 'importance': 2246, 'our': 3139, 'elderly': 1440, 'ways': 4822, 'which': 4867, 'they': 4442, 'choose': 799, 'spend': 4105, 'remaining': 3610, 'time': 4495, 'that': 4424, 'theme': 4433, 'almost': 193, 'gets': 1900, 'lost': 2660, 'rush': 3759, 'happy': 2032, 'ending': 1471, 'leaves': 2556, 'you': 4986, 'smiling': 4037, 'at': 331, 'same': 3778, 'wondering': 4930, 'how': 2181, 'many': 2732, 'older': 3101, 'ladies': 2506, 'there': 4438, 'were': 4848, 'quite': 3495, 'lucky': 2683, 'from': 1840, 'again': 146, 'true': 4596, 'first': 1736, 'people': 3221, 'lived': 2626, 'story': 4207, 'letting': 2583, 'those': 4460, 'involved': 2346, 'big': 478, 'wave': 4818, 'surfing': 4311, 'tell': 4395, 'us': 4690, 'stories': 4205, 'it': 2366, 'felt': 1692, 'what': 4858, 'thought': 4462, 'get': 1899, 'feeling': 1685, 'been': 438, 'film': 1716, 'carries': 699, 'near': 2979, 'present': 3374, 'focusing': 1769, 'on': 3105, 'three': 4469, 'primary': 3394, 'development': 1225, 'sport': 4129, 'like': 2599, 'videos': 4734, 'themselves': 4435, 'take': 4349, 'further': 1853, 'into': 2332, 'world': 4946, 'music': 2946, 'culture': 1079, 'technical': 4381, 'pure': 3471, 'view': 4736, 'fabulous': 1615, 'images': 2235, 'full': 1846, 'scope': 3821, 'perspective': 3245, 'aspect': 321, 'thoroughly': 4459, 'worth': 4953, 'watching': 4815, 'reading': 3544, 'all': 187, 'comments': 901, 'here': 2086, 'imdb': 2240, 'seems': 3864, 'lot': 2661, 'didnt': 1242, 'think': 4452, 'was': 4805, 'bad': 382, 'ive': 2372, 'seen': 3865, 'worse': 4951, 'actually': 109, 'house': 2178, 'where': 4864, 'evil': 1548, 'ghost': 1902, 'husband': 2204, 'wife': 4884, 'ted': 4386, 'laura': 2536, 'daughter': 1121, 'amy': 222, 'move': 2921, 'an': 223, 'old': 3100, 'japan': 2381, 'do': 1302, 'know': 2489, 'japanese': 2382, 'ninja': 3018, 'brutally': 604, 'murdered': 2940, 'lover': 2672, 'then': 4436, 'killed': 2469, 'himself': 2111, '100': 1, 'years': 4979, 'earlier': 1399, 'samurai': 3779, 'sword': 4340, 'strange': 4211, 'things': 4451, 'happen': 2026, 'ghosts': 1903, 'previous': 3387, 'begin': 442, 'bodies': 526, 'living': 2629, 'plan': 3287, 're': 3535, 'bloody': 513, 'murder': 2939, 'took': 4523, 'place': 3282, 'back': 378, 'saw': 3798, 'decided': 1149, 'give': 1912, 'chance': 747, 'cover': 1022, 'looked': 2647, 'decent': 1147, 'routine': 3743, 'corny': 997, 'my': 2951, 'day': 1129, 'sequences': 3888, 'over': 3148, 'done': 1322, 'we': 4823, 'see': 3855, 'blue': 518, 'figures': 1713, 'randomly': 3515, 'pop': 3330, 'up': 4683, 'around': 297, 'family': 1645, 'honest': 2146, 'kind': 2476, 'reminded': 3619, 'me': 2778, 'haunted': 2050, 'mansion': 2731, 'ride': 3692, 'may': 2775, 'mistaken': 2872, 'after': 143, 'seemed': 3862, 'horror': 2168, 'american': 213, 'remake': 3612, 'ripped': 3701, 'off': 3084, 'brutal': 603, 'put': 3480, 'etc': 1527, 'wrong': 4973, 'sum': 4289, 'pretty': 3384, 'dont': 1324, 'go': 1924, 'out': 3141, 'your': 4991, 'way': 4820, 'if': 2222, 'thing': 4450, 'happens': 2029, 'come': 886, 'tv': 4610, 'can': 665, 'shot': 3949, '10': 0, 'oh': 3096, 'single': 3996, 'ever': 1538, 'im': 2232, 'one': 3107, 'ultimate': 4627, 'movies': 2927, 'proof': 3434, 'isnt': 2362, 'dvd': 1391, 'no': 3020, 'thats': 4425, 'too': 4522, 'mainstream': 2709, 'got': 1944, 'vhs': 4725, 'bin': 483, 'ex': 1549, 'rental': 3627, 'local': 2634, 'video': 4733, 'store': 4204, 'quote': 3496, 'century': 736, 'would': 4957, 'set': 3898, 'standard': 4144, 'ages': 152, 'name': 2960, 'he': 2056, 'epic': 1506, 'journey': 2421, 'across': 96, 'king': 2479, 'spain': 4091, 'whilst': 4869, 'sea': 3838, 'violent': 4748, 'storm': 4206, 'precious': 3366, 'gold': 1932, 'intended': 2315, 'buy': 640, 'weapons': 4829, 'takes': 4351, 'lives': 2628, 'must': 2950, 'battle': 414, 'odds': 3082, 'survive': 4321, 'fate': 1665, 'beloved': 461, 'goes': 1930, 'multi': 2935, 'million': 2847, 'dollar': 1314, 'action': 100, 'adventure': 130, 'have': 2052, 'different': 1248, 'certainly': 738, 'wasnt': 4807, 'anything': 260, 'really': 3556, 'just': 2437, 'crazy': 1035, 'adventures': 131, 'speaking': 4095, 'even': 1533, 'not': 3040, 'important': 2247, 'does': 1308, 'cool': 989, 'impression': 2252, 'john': 2409, 'repeated': 3631, 'castle': 712, 'holy': 2140, 'ability': 65, 'scenes': 3811, 'showing': 3958, 'mind': 2849, 'powers': 3361, 'awesome': 371, 'greatest': 1966, 'accent': 78, 'lack': 2502, 'nearly': 2981, 'everything': 1544, 'makes': 2716, 'lines': 2612, 'delivered': 1170, 'honestly': 2147, 'want': 4788, 'else': 1448, 'could': 1007, 'fast': 1661, 'forward': 1808, 'end': 1468, 'final': 1722, 'line': 2610, 'tape': 4365, 'probably': 3407, 'wear': 4830, 'before': 440, 'tired': 4501, 'cheesy': 781, 'ten': 4399, 'ago': 154, 'funny': 1852, 'indeed': 2271, 'critics': 1064, 'making': 2718, 'fact': 1621, 'written': 4972, 'usually': 4700, 'shows': 3960, 'least': 2554, 'expect': 1575, 'dialogue': 1234, 'weird': 4841, 'science': 3816, 'speed': 4103, 'look': 2646, 'using': 4698, 'unique': 4662, 'devil': 1228, 'possessed': 3347, 'stand': 4143, 'dated': 1119, 'personally': 3243, 'prefer': 3368, 'other': 3135, 'series': 3890, 'through': 4477, 'sci': 3815, 'fi': 1701, 'section': 3853, 'losing': 2658, 'hope': 2155, 'finding': 1727, 'any': 256, 'hadnt': 2004, 'renting': 3629, 'possibly': 3351, 'lame': 2510, 'horse': 2170, 'son': 4070, 'current': 1084, 'fiction': 1702, 'hasnt': 2044, 'bothered': 549, 'seeing': 3857, 'noted': 3045, 'when': 4862, 'released': 3603, 'australia': 356, 'quiet': 3492, 'missed': 2867, 'pleasant': 3302, 'surprise': 4312, 'its': 2370, 'blockbuster': 509, 'variety': 4714, 'try': 4600, 'more': 2904, 'needs': 2990, 'several': 3905, 'times': 4497, 'plot': 3309, 'fully': 1847, 'special': 4097, 'effects': 1431, 'presented': 3376, 'used': 4693, 'only': 3110, 'complaint': 920, 'super': 4295, 'obviously': 3072, 'cgi': 740, 'right': 3696, '2nd': 41, 'appearance': 274, 'aside': 315, 'top': 4525, 'notch': 3043, 'case': 707, 'wont': 4932, 'structure': 4233, 'russian': 3762, 'doll': 1313, 'reminiscent': 3621, 'basic': 406, 'instinct': 2308, 'though': 4461, 'content': 966, 'jeremy': 2394, 'lead': 2545, 'master': 2757, 'actor': 103, 'born': 544, 'england': 1482, 'ear': 1397, 'sort': 4077, 'extremely': 1610, 'forced': 1787, 'new': 3003, 'tad': 4347, 'key': 2458, 'twist': 4617, 'youll': 4988, 'why': 4878, 'such': 4268, 'brilliant': 583, 'choice': 797, 'lucy': 2684, 'she': 3923, 'kiss': 2483, 'shoot': 3942, 'edge': 1418, 'rarely': 3524, 'watch': 4811, 'within': 4912, 'days': 1130, 'them': 4432, 'plays': 3301, 'sue': 4274, 'year': 4978, 'girl': 1909, 'mother': 2911, 'finds': 1728, 'hard': 2033, 'father': 1666, 'until': 4680, 'basement': 405, 'apartment': 265, 'secret': 3849, 'magic': 2703, 'late': 2523, 'meets': 2795, 'children': 792, 'face': 1616, 'poverty': 3357, 'channels': 754, 'found': 1811, 'read': 3543, 'synopsis': 4344, 'suddenly': 4273, 'watched': 4813, 'realise': 3548, 'had': 2003, 'films': 1721, 'next': 3007, 'door': 1328, '24': 39, 'provides': 3450, 'performance': 3228, 'amazing': 209, 'went': 4847, 'become': 433, 'babe': 375, 'hollywood': 2137, 'harder': 2035, 'hitting': 2126, 'real': 3547, 'strength': 4219, 'relationships': 3598, 'less': 2575, 'writers': 4969, 'added': 116, 'predictable': 3367, 'romantic': 3733, 'tension': 4404, 'spare': 4093, 'audience': 352, 'throw': 4479, 'surprises': 4314, 'few': 1700, 'disney': 1289, 'moments': 2887, 'particularly': 3195, 'overall': 3150, 'fun': 1848, 'segment': 3867, 'make': 2713, 'followed': 1773, 'directions': 1262, 'eat': 1411, 'because': 432, 'definitely': 1162, 'better': 472, 'night': 3013, 'let': 2579, 'highly': 2105, 'original': 3129, 'brave': 567, 'care': 684, 'most': 2909, 'together': 4511, 'eddie': 1416, 'murphy': 2944, 'doing': 1312, 'something': 4066, 'non': 3027, 'formulaic': 1803, 'favorite': 1671, 'mine': 2853, 'wish': 4904, 'imaginative': 2237, 'rather': 3528, 'than': 4420, 'formula': 1802, 'entertainment': 1500, 'dumb': 1385, 'language': 2516, 'totally': 4532, 'heres': 2087, 'starts': 4159, 'black': 493, 'screen': 3829, 'text': 4419, 'future': 1856, 'going': 1931, 'means': 2783, 'premise': 3370, 'implausible': 2245, 'explain': 1586, 'instead': 2307, 'fighting': 1709, 'wars': 4804, 'nations': 2971, 'guys': 2001, 'giant': 1905, 'robots': 3718, 'duke': 1383, 'terribly': 4408, 'clear': 839, 'ie': 2221, 'stop': 4201, 'motion': 2913, 'sadly': 3769, 'budget': 610, 'plenty': 3307, 'cheap': 774, 'looking': 2648, 'space': 4090, 'fight': 1707, 'especially': 1520, 'nice': 3008, 'serves': 3895, 'purpose': 3474, 'blow': 514, 'said': 3774, 'now': 3054, 'spent': 4108, 'climactic': 848, 'each': 1395, 'sticks': 4186, 'always': 203, 'laugh': 2529, 'bar': 396, 'scene': 3809, 'complete': 921, 'last': 2521, 'leave': 2555, 'heads': 2059, 'bought': 552, 'william': 4887, 'powell': 3358, 'casting': 711, 'revolution': 3680, 'general': 1880, 'drama': 1346, 'memory': 2804, '11': 2, 'might': 2835, 'feel': 1684, 'warm': 4794, 'command': 897, 'york': 4985, 'great': 1964, 'heavy': 2070, 'fascinating': 1658, 'treatment': 4574, 'script': 3834, 'life': 2592, 'except': 1556, 'depicting': 1184, 'extras': 1608, 'production': 3419, 'state': 4160, 'art': 304, 'technology': 4385, 'marvelous': 2750, 'wonderfully': 4929, 'between': 475, 'misery': 2865, 'officer': 3092, 'wait': 4770, 'order': 3126, 'prepared': 3371, 'slightly': 4029, 'bored': 541, 'mean': 2779, 'ultra': 4629, 'light': 2595, 'features': 1680, 'four': 1812, 'stars': 4155, 'half': 2007, 'jokes': 2415, 'nothing': 3047, 'beyond': 476, 'stinker': 4191, 'although': 201, 'couple': 1016, 'bits': 490, 'nor': 3032, 'romance': 3732, 'flat': 1748, 'sophisticated': 4075, 'amusing': 221, 'whats': 4860, 'recent': 3566, 'focus': 1766, 'phony': 3256, 'quotes': 3497, 'un': 4630, 'territory': 4411, 'press': 3379, 'paid': 3169, 'write': 4967, 'reviews': 3679, 'should': 3951, 'minutes': 2859, 'moves': 2925, 'pursuit': 3476, 'catherine': 719, 'jones': 2418, 'character': 758, 'self': 3869, 'centered': 733, 'star': 4150, 'job': 2405, 'shes': 3930, 'given': 1913, 'practically': 3362, 'junk': 2436, 'looks': 2649, 'comparison': 914, 'weve': 4856, 'heard': 2062, 'understand': 4643, 'made': 2697, 'julia': 2427, 'roberts': 3714, 'cusack': 1088, 'billy': 482, 'sign': 3970, 'doomed': 1327, 'ship': 3934, 'love': 2669, 'boat': 523, 'joke': 2414, 'forgotten': 1797, 'filmed': 1717, 'deal': 1135, 'ahead': 159, 'filmmakers': 1720, 'these': 4441, 'appear': 273, 'worst': 4952, 'fans': 1650, 'drawn': 1351, 'five': 1743, 'reason': 3557, 'earth': 1403, 'destroyed': 1214, 'once': 3106, 'stated': 4161, 'shown': 3959, 'beautifully': 429, 'show': 3953, 'grim': 1974, 'realistic': 3550, 'ironic': 2355, 'theyre': 4445, 'spot': 4131, 'falls': 1640, 'second': 3846, 'tried': 4584, 'spanish': 4092, 'ken': 2453, 'type': 4621, 'without': 4913, 'being': 448, 'able': 66, 'capture': 676, 'warmth': 4796, 'characters': 760, 'merely': 2815, 'depressing': 1188, 'los': 2653, 'al': 170, 'reach': 3536, 'climax': 849, 'point': 3316, 'enough': 1491, 'tale': 4353, 'visually': 4758, 'grey': 1973, 'colour': 880, 'ridiculously': 3694, 'rated': 3527, 'empathy': 1462, 'society': 4050, 'workers': 4943, 'manages': 2725, 'grow': 1982, 'live': 2625, 'public': 3460, 'happiness': 2031, 'clue': 864, 'working': 4944, 'class': 833, 'pretentious': 3383, 'conclusion': 936, 'draw': 1349, 'men': 2805, 'football': 1783, 'match': 2762, 'free': 1827, 'directly': 1263, 'deals': 1137, 'subject': 4253, 'trap': 4563, 'namely': 2962, 'purely': 3472, 'engaging': 1481, 'humorous': 2193, 'sad': 3767, 'hong': 2149, 'kong': 2494, 'failed': 1626, 'meet': 2793, 'burning': 627, 'contain': 962, 'rate': 3526, 'dragged': 1343, 'complex': 923, 'fill': 1714, 'intelligent': 2314, 'martial': 2747, 'arts': 310, 'tiger': 4491, 'since': 3990, 'incredible': 2269, 'short': 3946, 'main': 2707, 'theres': 4440, 'blood': 512, 'cut': 1089, 'fantasy': 1652, 'writer': 4968, 'shots': 3950, 'notice': 3048, 'paper': 3183, 'throws': 4482, 'wall': 4781, 'sure': 4308, 'hell': 2077, 'check': 777, 'theaters': 4428, '1983': 22, 'recently': 3567, 'copy': 994, 'market': 2740, 'immediately': 2242, 'disappointed': 1273, 'beautiful': 428, 'joy': 2422, 'unreal': 4676, 'reflect': 3584, 'values': 4710, 'decide': 1148, 'bank': 394, 'large': 2517, 'developing': 1224, 'countries': 1013, 'force': 1786, 'system': 4345, 'cards': 683, 'car': 680, 'trying': 4601, 'save': 3794, 'innocence': 2293, 'maybe': 2776, 'cannot': 670, 'sometimes': 4067, 'questions': 3489, 'answers': 252, 'saving': 3797, 'context': 968, 'covered': 1023, 'impact': 2244, 'release': 3602, 'school': 3813, 'trip': 4588, 'cinema': 816, 'project': 3427, 'along': 195, 'course': 1019, 'excited': 1561, 'did': 1241, 'experience': 1580, 'still': 4188, 'remember': 3616, 'feelings': 1686, 'remembered': 3617, 'crying': 1074, 'friends': 1837, 'age': 148, 'shocking': 3940, 'own': 3158, 'joined': 2413, 'anti': 254, 'movement': 2923, 'served': 3894, 'anime': 243, 'hooked': 2153, 'hey': 2095, 'far': 1653, 'gas': 1874, 'violence': 4747, 'crimes': 1056, 'happening': 2028, '30': 42, 'seconds': 3848, 'committed': 905, 'fire': 1734, 'power': 3359, 'third': 4455, 'terrorists': 4414, 'government': 1948, 'fictional': 1703, 'city': 825, 'form': 1798, 'police': 3322, 'problem': 3408, 'cops': 993, 'heroes': 2089, 'include': 2261, 'red': 3576, 'yeah': 4977, 'names': 2963, 'quickly': 3491, 'blond': 510, 'eyed': 1612, 'guy': 2000, 'charles': 764, 'britain': 588, 'known': 2492, 'tom': 4514, 'pair': 3176, 'join': 2412, 'green': 1971, 'monster': 2892, 'exactly': 1551, 'him': 2110, 'fond': 1776, 'taking': 4352, 'remains': 3611, 'build': 614, 'mini': 2854, 'soon': 4074, 'pushing': 3479, 'child': 789, 'boys': 559, 'size': 4012, 'puts': 3481, 'genius': 1887, 'bible': 477, 'god': 1926, 'purple': 3473, 'pot': 3354, 'chief': 788, 'whos': 4876, 'thanks': 4423, 'mayor': 2777, 'yelling': 4980, 'antics': 255, 'often': 3095, 'destroy': 1213, 'while': 4868, 'chasing': 772, 'use': 4692, 'extreme': 1609, 'liked': 2600, 'villains': 4745, 'named': 2961, 'mysterious': 2955, 'past': 3207, 'connected': 945, 'peace': 3219, 'gang': 1867, 'sexy': 3911, 'cat': 713, 'anna': 245, 'installment': 2303, 'steal': 4170, 'hospital': 2172, 'havent': 2053, 'hired': 2117, 'painting': 3175, 'naked': 2959, 'however': 2183, 'finished': 1733, 'cult': 1077, 'comic': 893, 'book': 535, 'find': 1726, 'sorts': 4078, 'chaos': 755, 'catch': 714, 'criminals': 1058, 'fine': 1729, 'youd': 4987, 'uneven': 4649, 'places': 3284, 'based': 404, 'upon': 4684, 'friend': 1835, 'another': 250, 'hated': 2047, 'watches': 4814, 'waiting': 4772, 'finally': 1724, 'bizarre': 492, 'value': 4709, 'paris': 3189, 'example': 1553, 'pictures': 3270, 'latin': 2527, 'couldnt': 1008, 'recognize': 3569, 'inside': 2297, 'theater': 4427, 'laughed': 2532, 'pseudo': 3454, 'intellectual': 2312, 'miss': 2866, 'down': 1335, 'sorry': 4076, 'admittedly': 123, 'baseball': 403, 'fan': 1648, 'enjoying': 1487, 'brothers': 599, 'latest': 2526, 'fever': 1699, 'pitch': 3279, 'emotional': 1459, 'jimmy': 2403, 'fallen': 1638, 'giving': 1915, 'best': 469, 'date': 1118, 'ben': 463, 'man': 2721, 'boy': 557, 'team': 4378, 'devoted': 1231, 'florida': 1761, 'spring': 4134, 'training': 4558, 'every': 1539, 'square': 4136, 'field': 1704, 'office': 3091, 'getting': 1901, 'wonderful': 4928, 'drew': 1360, 'corporate': 998, 'career': 686, 'endearing': 1469, 'hes': 2093, 'initially': 2291, 'ask': 316, 'thinking': 4453, 'potential': 3355, 'partner': 3198, 'start': 4156, 'severe': 3906, 'food': 1778, 'accept': 80, 'nurse': 3063, 'toilet': 4512, 'dogs': 1311, 'teeth': 4393, 'interest': 2323, 'passed': 3202, 'bed': 436, 'morning': 2906, 'asleep': 320, 'begins': 444, 'long': 2644, 'process': 3412, 'web': 4833, 'status': 4165, 'standards': 4145, 'falling': 1639, 'season': 3843, 'uncle': 4636, 'game': 1864, 'relationship': 3597, 'throughout': 4478, 'winter': 4900, 'wants': 4791, 'holiday': 2134, 'parents': 3188, 'party': 3200, 'trouble': 4592, 'halfway': 2008, 'summer': 4291, 'sports': 4130, 'die': 1243, 'colorful': 878, 'opinion': 3118, 'buddy': 609, 'robin': 3715, 'sarah': 3785, 'molly': 2884, 'positive': 3346, 'virtually': 4751, 'driven': 1365, 'terrific': 4409, 'challenge': 743, 'keeping': 2450, 'meanwhile': 2785, 'equally': 1510, 'struggles': 4235, 'sight': 3969, 'works': 4945, 'lots': 2662, 'inspired': 2301, 'comedic': 888, 'difficult': 1249, 'couples': 1017, 'park': 3190, 'adds': 119, 'sense': 3877, 'proceedings': 3410, 'games': 1865, 'limited': 2606, 'connect': 944, 'mike': 2838, 'leonard': 2572, 'september': 3884, 'attempts': 343, 'birth': 486, 'relevant': 3604, 'airplane': 166, 'explosion': 1596, 'melodrama': 2797, 'involving': 2349, 'stewart': 4184, 'miles': 2843, 'playing': 3300, 'wives': 4918, 'under': 4639, 'arrive': 300, 'adaptation': 113, 'don': 1320, 'despite': 1211, 'talent': 4354, 'fails': 1628, 'turned': 4606, 'hamilton': 2012, 'ludicrous': 2685, 'pacing': 3163, 'causes': 725, 'seem': 3861, 'twice': 4613, 'killers': 2471, '80s': 59, 'acting': 99, 'beginning': 443, 'chuck': 812, 'beach': 419, 'sneak': 4043, 'intent': 2318, 'ball': 388, 'reaches': 3538, 'bag': 384, 'spoil': 4121, 'thank': 4421, 'nonsense': 3030, 'stolen': 4195, 'bunch': 623, 'trained': 4557, 'overdone': 3152, 'sound': 4081, 'storyline': 4208, 'interesting': 2325, 'left': 2561, 'usual': 4699, 'sex': 3907, 'flashbacks': 1747, 'gone': 1935, 'area': 286, 'superb': 4296, 'tears': 4380, 'sounded': 4082, 'id': 2212, 'coming': 896, 'regular': 3592, 'basis': 408, 'kinda': 2477, 'fell': 1690, 'box': 555, 'glad': 1916, 'gory': 1943, 'downright': 1337, 'creepy': 1052, 'somewhat': 4068, 'low': 2676, 'entertaining': 1499, 'worthwhile': 4955, 'centers': 734, 'india': 2273, 'taylor': 4372, 'group': 1980, 'facing': 1620, 'individuals': 2278, 'inner': 2292, 'demons': 1178, 'apparently': 270, 'techniques': 4384, 'either': 1438, 'dark': 1115, 'forces': 1788, 'victims': 4730, 'told': 4513, 'style': 4249, 'memorable': 2802, 'eye': 1611, 'opening': 3114, 'sequence': 3887, 'journalist': 2420, 'visits': 4756, 'members': 2801, 'held': 2074, 'mental': 2808, 'wanting': 4790, 'research': 3644, 'motives': 2916, 'hit': 2122, 'closer': 856, 'interview': 2329, 'turn': 4605, 'gotten': 1947, 'head': 2057, 'part': 3193, 'concerns': 934, 'psychological': 3458, 'prison': 3401, 'sentence': 3881, 'beating': 425, 'doctor': 1304, 'question': 3487, 'methods': 2825, 'closing': 859, 'revolves': 3682, 'faith': 1633, 'assistant': 326, 'perform': 3227, 'helps': 2082, 'demon': 1177, 'host': 2173, 'gotta': 1946, 'enjoyed': 1486, 'faults': 1669, 'keep': 2449, 'truly': 4597, 'excellent': 1555, 'ambitious': 211, 'biggest': 480, 'poor': 3328, 'uninspired': 4657, 'dubbed': 1379, 'dubbing': 1380, 'sub': 4252, 'par': 3184, 'track': 4544, 'reviewers': 3678, 'necessarily': 2983, 'agree': 155, 'performances': 3229, 'damn': 1100, 'chilling': 794, 'notable': 3041, 'gore': 1941, 'fx': 1858, 'graphic': 1958, 'via': 4726, 'throat': 4476, 'suicide': 4283, 'thrown': 4481, 'measure': 2786, 'rough': 3741, 'stronger': 4230, 'average': 362, 'fare': 1655, 'concerning': 933, 'intriguing': 2335, 'welcome': 4842, 'change': 749, 'typical': 4623, 'genuine': 1891, 'atmosphere': 333, 'likes': 2602, 'flawed': 1750, 'appeal': 271, 'underground': 4640, 'viewers': 4739, 'viewer': 4738, 'recommended': 3572, 'whose': 4877, 'history': 2121, 'illness': 2230, 'ends': 1474, 'believing': 457, 'sun': 4292, 'develops': 1226, 'bond': 532, 'youre': 4992, 'already': 197, 'talented': 4355, 'chan': 746, 'familiar': 1643, 'attempting': 342, 'knows': 2493, 'crap': 1031, 'cinemas': 817, 'need': 2987, 'create': 1036, 'heart': 2064, 'confusion': 943, 'problems': 3409, 'proves': 3447, 'confused': 941, 'digital': 1251, 'writing': 4971, 'addition': 118, 'photography': 3260, 'tone': 4517, 'surprising': 4315, 'stock': 4193, 'lit': 2621, 'situations': 4009, 'roots': 3738, 'carrying': 701, 'midnight': 2834, 'cowboy': 1025, 'whatever': 4859, 'urban': 4688, 'san': 3780, 'francisco': 1819, 'adams': 112, 'gives': 1914, 'anywhere': 263, 'sucks': 4271, 'ryan': 3765, 'jackson': 2375, 'girls': 1911, 'terrible': 4407, 'cant': 671, 'beat': 423, 'virgin': 4749, 'says': 3801, 'em': 1452, 'entire': 1502, 'clearly': 840, 'reasons': 3560, 'wanted': 4789, 'played': 3297, 'michelle': 2830, 'gave': 1875, 'side': 3965, 'stupid': 4247, 'pointless': 3318, 'worthless': 4954, 'loser': 2655, 'won': 4925, 'bet': 470, 'chances': 748, 'losers': 2656, 'call': 651, 'sudden': 4272, 'revealed': 3671, 'lesbian': 2573, 'stuff': 4243, 'blonde': 511, 'innocent': 2294, 'sit': 4003, 'front': 1841, 'listen': 2619, 'smile': 4036, 'camera': 659, 'ass': 323, 'hole': 2132, 'guess': 1989, 'hot': 2174, 'absolute': 71, '20': 29, 'michael': 2829, 'figured': 1712, 'fair': 1630, 'waste': 4808, '80': 58, 'bela': 450, '1972': 18, 'purchased': 3470, 'attention': 345, 'caught': 722, 'unpredictable': 4675, 'buffs': 612, 'deliver': 1169, 'level': 2584, 'follow': 1772, 'myself': 2953, 'urge': 4689, 'visual': 4757, 'simply': 3986, 'semi': 3874, 'cuts': 1091, 'tries': 4585, 'moment': 2886, 'suspenseful': 4331, 'conceived': 929, 'deep': 1154, 'reminds': 3620, '2002': 32, 'approach': 282, 'human': 2188, 'nature': 2975, '1996': 26, 'camp': 662, 'description': 1197, 'books': 536, 'taste': 4369, 'planet': 3289, 'member': 2800, 'farce': 1654, 'bitter': 491, 'spike': 4111, 'awards': 367, 'months': 2897, 'surreal': 4317, 'ridiculous': 3693, 'fit': 1740, 'nicely': 3009, 'adult': 125, 'swim': 4337, 'juvenile': 2441, 'darker': 1116, 'comedies': 889, 'strangers': 4214, 'candy': 668, 'pilot': 3276, 'solid': 4057, 'outstanding': 3147, 'musical': 2947, 'huge': 2185, 'created': 1037, 'hilarious': 2106, 'younger': 4990, 'jewish': 2401, 'princess': 3397, 'blank': 501, 'stereotypical': 4180, 'gay': 1876, 'television': 4394, 'early': 1400, 'episodes': 1508, 'unfolds': 4651, 'anyone': 259, 'matrix': 2767, 'choreographed': 801, 'fights': 1710, 'li': 2587, 'feels': 1687, 'pain': 3170, 'ya': 4976, 'killing': 2472, 'drug': 1373, 'trade': 4547, 'cop': 991, 'help': 2079, 'absolutely': 72, 'arm': 292, 'glass': 1917, 'hardly': 2036, 'filled': 1715, 'flying': 1764, 'kicks': 2463, 'body': 527, 'count': 1010, 'surrounded': 4318, 'female': 1693, 'fellow': 1691, 'anthony': 253, 'cameo': 657, 'lord': 2652, 'unfortunate': 4653, 'wouldnt': 4958, 'horrible': 2163, 'jobs': 2406, 'west': 4852, 'trail': 4553, 'hands': 2020, 'came': 656, 'town': 4541, 'hardy': 2037, 'driving': 1368, 'lonely': 2643, 'business': 633, 'parts': 3199, 'usa': 4691, 'worked': 4941, 'boss': 546, 'favor': 1670, 'eric': 1514, 'crew': 1053, 'run': 3755, 'stayed': 4167, 'focused': 1767, 'clint': 850, 'number': 3060, 'western': 4853, 'image': 2233, 'shame': 3918, 'white': 4870, 'color': 877, 'running': 3756, 'wed': 4835, 'became': 431, 'legend': 2564, 'ironically': 2356, 'closed': 854, 'hoping': 2160, 'location': 2635, 'river': 3707, 'icon': 2211, 'today': 4508, 'genre': 1888, 'tough': 4537, 'elements': 1443, 'pity': 3281, 'titled': 4505, 'directors': 1266, 'producers': 3416, 'loves': 2674, 'remotely': 3623, 'resembles': 3646, 'henry': 2084, 'clark': 832, 'produce': 3413, 'title': 4504, 'correct': 1000, 'loud': 2664, 'actors': 104, 'convincing': 985, 'emotions': 1461, 'clean': 838, 'doubt': 1332, 'jr': 2423, 'others': 3136, 'stick': 4185, 'closely': 855, 'literally': 2622, 'sharp': 3922, 'awful': 372, 'dean': 1139, 'mr': 2929, 'figure': 1711, 'helicopter': 2076, 'split': 4120, 'brady': 561, 'close': 853, 'ups': 4686, 'views': 4742, 'needed': 2988, 'embarrassed': 1453, 'died': 1244, 'channel': 753, 'hopefully': 2157, 'taken': 4350, 'manipulative': 2727, 'dire': 1257, 'unconvincing': 4638, 'existent': 1572, 'cynical': 1093, 'effort': 1432, 'emotion': 1458, 'watchable': 4812, 'minute': 2858, 'cringe': 1059, 'considered': 951, 'redeeming': 3577, 'feature': 1678, 'scores': 3823, 'fat': 1663, 'zero': 4996, 'strictly': 4223, 'dancing': 1107, 'media': 2789, 'including': 2264, 'actress': 105, 'barbara': 397, 'small': 4033, 'festival': 1697, 'rooms': 3736, 'avoided': 364, 'plague': 3285, 'suffering': 4277, 'bit': 488, 'thin': 4449, 'hiding': 2099, 'secrets': 3852, 'underlying': 4641, 'particular': 3194, 'disturbing': 1300, 'shock': 3938, 'basically': 407, 'cinematography': 820, 'above': 68, 'compared': 912, '70s': 56, 'recommend': 3571, 'fairly': 1631, 'setting': 3900, 'junior': 2435, 'introduced': 2337, 'jaw': 2384, 'drop': 1369, 'open': 3112, 'utterly': 4702, 'demented': 1176, 'unseen': 4678, 'leading': 2547, 'roles': 3727, 'deserves': 1201, 'everyone': 1542, 'wasted': 4809, 'review': 3676, 'describe': 1194, 'chair': 742, 'sat': 3786, 'alive': 186, 'episode': 1507, 'fourth': 1813, 'hopes': 2159, 'somehow': 4063, 'started': 4157, 'boring': 543, 'political': 3324, 'meeting': 2794, 'wrote': 4974, 'knowing': 2490, 'improve': 2254, 'weak': 4824, 'initial': 2290, 'am': 204, 'nervous': 2999, 'directing': 1260, 'cable': 644, 'access': 83, 'unfunny': 4655, 'compare': 911, 'waters': 4817, 'satire': 3788, 'rule': 3753, 'pathetic': 3210, 'goldberg': 1933, 'talking': 4360, 'dinosaur': 1255, 'crime': 1055, 'ice': 2210, 'straight': 4210, 'embarrassing': 1454, 'high': 2100, 'concept': 930, 'search': 3841, 'itself': 2371, 'jonathan': 2417, 'results': 3662, 'mere': 2814, 'presence': 3373, 'laughter': 2535, 'matter': 2769, 'breathtaking': 574, 'natural': 2973, 'ruins': 3752, 'flaws': 1752, 'saves': 3796, 'providing': 3451, 'basketball': 409, 'skill': 4013, 'treat': 4572, 'ms': 2931, 'eastwood': 1409, 'speak': 4094, 'plain': 3286, 'english': 1483, 'expecting': 1578, 'learn': 2550, 'beauty': 430, 'understanding': 4645, 'meaning': 2780, 'laughing': 2533, 'drops': 1372, 'whether': 4866, 'knew': 2486, 'meant': 2784, 'remain': 3609, 'piece': 3272, 'onto': 3111, 'painful': 3171, 'scary': 3807, 'please': 3304, 'drivel': 1364, 'telling': 4396, 'pool': 3327, 'dare': 1113, 'ignorant': 2223, 'kids': 2467, 'idiotic': 2219, 'exaggerated': 1552, 'aspects': 322, 'realizing': 3555, 'continue': 969, 'france': 1816, 'offensive': 3086, 'country': 1014, 'avoid': 363, 'ideas': 2215, 'charlie': 765, 'hudson': 2184, 'former': 1800, 'author': 359, 'stuck': 4237, 'wedding': 4836, 'planning': 3291, 'spends': 4107, 'week': 4837, 'fancy': 1649, 'hotel': 2175, 'teacher': 4375, 'married': 2744, 'separate': 3883, 'safe': 3771, 'mediocre': 2791, 'corner': 996, 'becomes': 434, 'darkness': 1117, 'mistake': 2871, 'rid': 3690, 'wood': 4933, 'pieces': 3273, 'kid': 2464, 'talk': 4358, 'table': 4346, 'happened': 2027, 'drink': 1361, 'coffee': 870, 'tooth': 4524, 'fairy': 1632, 'wearing': 4831, 'badly': 383, 'dave': 1123, 'sam': 3777, 'jason': 2383, 'jeff': 2390, 'college': 875, 'ethan': 1528, 'discovers': 1281, 'helping': 2081, 'score': 3822, 'hearted': 2065, 'student': 4238, 'angela': 232, 'incompetent': 2266, 'inducing': 2279, 'appealing': 272, 'target': 4366, 'disgusting': 1286, 'none': 3028, 'major': 2711, '50s': 52, '60s': 54, 'van': 4713, 'outrageous': 3145, 'bringing': 586, 'utter': 4701, 'veteran': 4724, 'joe': 2407, 'role': 3726, 'comes': 891, 'aka': 168, 'deserved': 1200, 'thumbs': 4485, 'witty': 4917, 'occasional': 3074, 'eastern': 1408, 'european': 1530, 'clever': 841, 'guessing': 1991, 'person': 3238, 'impressed': 2251, 'simple': 3983, 'outside': 3146, 'chick': 786, 'flick': 1754, 'surprisingly': 4316, 'executed': 1565, 'described': 1195, 'europe': 1529, 'song': 4071, 'joan': 2404, 'slapstick': 4019, 'humour': 2194, 'facial': 1619, 'expressions': 1603, 'strongly': 4231, 'novel': 3052, 'easily': 1406, 'superior': 4300, 'direct': 1258, 'instance': 2304, 'breaks': 571, 'obsession': 3070, 'tends': 4402, 'suggest': 4280, 'stays': 4169, 'minor': 2857, 'hand': 2015, 'dreadful': 1353, 'available': 361, 'believe': 454, 'hours': 2177, 'credits': 1050, 'vampire': 4711, 'suck': 4269, 'scott': 3824, 'lee': 2559, 'mystery': 2956, 'butt': 638, 'industry': 2280, 'offer': 3087, 'stomach': 4196, 'unpleasant': 4674, 'meaningless': 2782, 'random': 3514, 'hatred': 2049, 'dressed': 1358, 'costs': 1004, 'crash': 1033, 'called': 652, 'grand': 1953, '14': 6, 'backgrounds': 381, 'lifetime': 2594, 'angeles': 233, 'upper': 4685, 'kevin': 2457, 'break': 569, 'calls': 654, 'truck': 4595, 'dangerous': 1110, 'driver': 1366, 'arrives': 302, 'perfect': 3224, 'steps': 4177, 'simon': 3982, 'danny': 1112, 'glover': 1923, 'friendship': 1838, 'helped': 2080, 'situation': 4008, 'sister': 4001, 'neighborhood': 2993, 'fears': 1677, 'streets': 4217, 'offers': 3090, 'jane': 2380, 'smaller': 4034, 'plots': 3310, 'secretary': 3850, 'mentioned': 2811, 'mary': 2751, 'louise': 2666, 'parker': 3191, 'abandoned': 62, 'baby': 376, 'likely': 2601, 'moving': 2928, 'details': 1219, 'brought': 600, 'uses': 4697, 'bridge': 578, 'device': 1227, 'greatly': 1967, 'flow': 1762, 'lawrence': 2539, 'splendid': 4119, 'alas': 172, 'points': 3319, 'wouldve': 4959, 'apart': 264, 'lower': 2677, 'classes': 834, 'expectations': 1576, 'yes': 4982, 'steve': 4181, 'martin': 2748, 'davis': 1126, 'producer': 3415, 'trek': 4578, 'hidden': 2096, 'map': 2733, 'skills': 4014, 'mid': 2832, '2007': 37, 'sets': 3899, 'graphics': 1959, 'considering': 952, 'professional': 3421, 'rating': 3529, 'exception': 1557, 'efforts': 1433, 'league': 2549, 'sheer': 3925, 'matched': 2763, 'admire': 121, 'anyway': 261, 'dry': 1377, 'torture': 4529, 'gonna': 1936, 'mildly': 2840, 'unoriginal': 4673, 'ones': 3108, 'record': 3573, 'paying': 3217, 'amount': 219, 'drive': 1363, 'otherwise': 3137, 'mood': 2898, 'activities': 102, 'aint': 163, 'korean': 2495, 'war': 4792, 'british': 589, 'tommy': 4516, 'women': 4923, 'generations': 1884, 'accepted': 82, 'army': 295, 'combat': 882, 'womens': 4924, 'soldier': 4053, 'charge': 761, 'pants': 3182, 'remind': 3618, 'individual': 2277, 'flop': 1760, 'silly': 3976, 'nelson': 2997, 'stiff': 4187, 'bright': 581, 'jessica': 2398, 'simpson': 3987, 'wore': 4939, 'viewing': 4740, 'unbelievable': 4634, 'step': 4175, 'executive': 1567, 'position': 3345, 'hat': 2045, 'laughable': 2530, 'partly': 3197, 'spoiled': 4122, 'completely': 922, 'chosen': 805, 'words': 4938, 'period': 3236, 'accurate': 90, 'depiction': 1185, 'tragedy': 4551, 'company': 910, 'chris': 806, 'cooper': 990, 'turns': 4609, 'daddy': 1096, 'spoilers': 4124, 'required': 3641, 'liners': 2611, 'alice': 182, 'soft': 4051, 'voice': 4761, 'hint': 2112, 'odd': 3080, 'creatures': 1046, 'screenplay': 3831, 'continuity': 972, 'superficial': 4298, 'neat': 2982, 'explored': 1595, 'irritating': 2359, 'editing': 1421, 'slow': 4031, 'associated': 327, 'attempt': 340, 'among': 217, 'roll': 3728, 'lets': 2580, 'annoying': 249, 'extent': 1605, 'virus': 4752, 'showed': 3956, 'overlook': 3153, 'resulting': 3661, 'frightening': 1839, 'dad': 1095, 'ultimately': 4628, 'dies': 1245, 'north': 3036, 'runs': 3757, 'spirit': 4113, 'alien': 183, 'huh': 2187, 'gross': 1978, 'nude': 3058, 'robert': 3713, 'leader': 2546, 'saying': 3800, 'nuclear': 3057, 'christopher': 811, 'walken': 4777, 'generally': 1881, 'effective': 1429, 'sentimental': 3882, 'denzel': 1181, 'washington': 4806, 'cia': 814, 'quit': 3494, 'seeking': 3859, 'redemption': 3578, 'bottle': 550, 'opens': 3115, 'mexico': 2827, 'aimed': 162, 'powerful': 3360, 'assigned': 325, 'law': 2538, 'community': 908, 'owner': 3159, 'safety': 3772, 'growing': 1983, 'sweet': 4336, 'slowly': 4032, 'surely': 4309, 'angel': 231, 'seeks': 3860, 'responsible': 3656, 'occurs': 3078, 'brian': 576, 'directed': 1259, 'tony': 4521, 'raw': 3532, 'risk': 3704, 'asking': 318, 'identify': 2216, 'purposes': 3475, 'intense': 2316, 'border': 539, 'intimate': 2331, 'stage': 4139, 'quality': 3484, 'leads': 2548, 'mitchell': 2875, 'mickey': 2831, 'rachel': 3500, 'delightful': 1168, 'hour': 2176, 'thriller': 4472, 'bill': 481, 'aliens': 184, 'fame': 1642, 'debut': 1143, 'involves': 2348, 'fbi': 1675, 'agent': 150, 'provoking': 3452, 'allowing': 191, 'vision': 4754, 'sons': 4073, 'adam': 111, 'kill': 2468, 'normal': 3033, 'wonder': 4926, 'gods': 1928, 'suspense': 4330, 'flashback': 1746, 'matthew': 2772, 'everyday': 1541, 'someone': 4064, 'killer': 2470, 'twists': 4619, 'directs': 1267, '60': 53, 'impress': 2250, 'subtitles': 4259, 'nevertheless': 3002, 'exciting': 1563, 'mostly': 2910, 'realism': 3549, 'relief': 3605, 'wondered': 4927, 'somewhere': 4069, '17': 9, 'titanic': 4503, 'anymore': 258, 'message': 2819, 'teenager': 4390, 'holly': 2136, 'amanda': 205, 'wacky': 4769, 'gary': 1873, 'boyfriend': 558, 'crush': 1072, 'nick': 3012, 'rex': 3683, 'dan': 1102, 'leslie': 2574, 'peter': 3247, 'bone': 533, 'skip': 4016, 'touching': 4536, 'chicks': 787, 'act': 97, 'popular': 3333, '2006': 36, 'ready': 3546, 'evident': 1547, 'alike': 185, 'slasher': 4020, 'handed': 2016, 'opportunities': 3120, 'parody': 3192, 'hills': 2109, 'analysis': 224, 'opened': 3113, 'producing': 3417, 'offended': 3085, 'acted': 98, 'blame': 499, 'dimensional': 1253, 'asked': 317, 'controversial': 978, 'royal': 3746, 'canadian': 667, 'air': 164, 'rick': 3689, 'report': 3635, 'bugs': 613, 'technically': 4382, 'lips': 2615, 'rabbit': 3498, 'politically': 3325, 'nobody': 3022, 'whoever': 4872, 'marketing': 2741, 'nuts': 3064, 'degree': 1164, 'advertising': 132, 'jack': 2373, 'lacks': 2505, 'importantly': 2248, 'shadow': 3912, 'paul': 3214, 'ashamed': 312, 'competition': 918, 'forget': 1793, 'nudity': 3059, 'monsters': 2893, 'hood': 2151, 'disappeared': 1271, 'loss': 2659, 'cause': 723, 'heavily': 2069, 'competent': 917, 'supporting': 4304, 'ed': 1415, 'harris': 2038, 'increasingly': 2268, 'youve': 4995, 'threatening': 4468, 'sean': 3840, 'typically': 4624, 'kate': 2446, 'plane': 3288, 'documentaries': 1306, 'capital': 673, 'essentially': 1523, 'chapter': 757, 'armed': 293, 'courage': 1018, 'offered': 3088, 'examples': 1554, 'private': 3404, 'mass': 2753, 'propaganda': 3435, 'politics': 3326, 'doom': 1326, 'fail': 1625, 'blatant': 502, 'bring': 585, 'led': 2558, 'president': 3378, 'kidnapped': 2466, 'response': 3654, 'portrait': 3339, 'revolutionary': 3681, 'disappointing': 1274, 'classic': 835, 'noir': 3023, 'gift': 1906, 'enjoy': 1484, 'male': 2719, 'protagonist': 3441, 'paranoia': 3186, 'interested': 2324, 'brings': 587, 'stylish': 4251, 'direction': 1261, '1950s': 14, 'richard': 3686, 'widmark': 4882, 'petty': 3249, 'thief': 4448, 'jean': 2389, 'peters': 3248, 'property': 3438, 'abusive': 75, 'opportunity': 3121, 'shake': 3914, 'dying': 1393, 'fall': 1637, 'included': 2262, 'intentionally': 2320, 'frequently': 1832, 'remarkable': 3613, 'gangster': 1868, 'genuinely': 1892, 'success': 4265, 'south': 4087, 'street': 4216, 'ritter': 3705, 'lady': 2507, 'selling': 3873, 'struggle': 4234, 'brief': 579, 'instant': 2305, 'werent': 4849, 'highlight': 2103, 'grade': 1951, 'source': 4086, 'scream': 3826, 'worlds': 4947, 'eventually': 1537, 'player': 3298, 'managed': 2723, 'spread': 4133, 'word': 4937, 'soundtrack': 4085, 'lighting': 2596, 'masterful': 2758, 'flawless': 1751, 'moved': 2922, 'spoke': 4125, 'actual': 108, 'animation': 242, 'animated': 241, 'poorly': 3329, 'frame': 1815, 'fantastic': 1651, 'neither': 2996, 'ruin': 3750, 'reputation': 3640, 'sits': 4006, 'viewed': 4737, 'louis': 2665, 'factory': 1623, 'enterprise': 1495, 'received': 3564, 'social': 4049, 'security': 3854, 'innovative': 2295, 'caused': 724, 'building': 615, 'machine': 2693, 'during': 1387, 'provided': 3449, 'staff': 4138, 'piano': 3264, 'massive': 2756, 'celluloid': 731, 'strip': 4228, 'newly': 3004, 'developed': 1223, '40': 48, 'per': 3223, 'object': 3066, 'maria': 2736, 'studio': 4240, 'machines': 2694, 'staged': 4140, 'task': 4368, 'determined': 1221, '16': 8, 'brain': 562, 'allow': 189, 'magazine': 2701, 'weight': 4840, 'event': 1535, 'trick': 4582, 'riding': 3695, 'water': 4816, 'scientists': 3819, 'room': 3735, 'distant': 1295, 'stretched': 4222, 'photographed': 3258, 'evening': 1534, 'arrival': 299, 'scientific': 3817, 'dozen': 1338, 'presentation': 3375, 'saturday': 3792, 'began': 441, 'middle': 2833, 'doors': 1329, 'ignore': 2224, 'behind': 447, 'childhood': 790, 'marie': 2737, 'maggie': 2702, 'warren': 4801, 'page': 3167, 'helen': 2075, 'norman': 3035, 'foster': 1809, 'six': 4010, 'depression': 1189, 'financial': 1725, 'due': 1382, 'wise': 4903, 'worried': 4949, 'fortune': 1806, 'demands': 1175, 'hear': 2061, 'crisis': 1060, 'critical': 1062, 'emma': 1457, 'mgm': 2828, 'possible': 3350, 'according': 88, 'list': 2617, 'sloppy': 4030, 'rushed': 3760, '12': 3, 'various': 4715, 'sees': 3866, 'spooky': 4128, 'becoming': 435, 'obsessed': 3069, 'dead': 1132, 'scared': 3805, 'jon': 2416, 'pitt': 3280, 'scenery': 3810, 'vampires': 4712, 'cute': 1090, 'dracula': 1341, 'terrifying': 4410, 'atmospheric': 334, 'touches': 4535, 'unusual': 4681, 'strong': 4229, 'colors': 879, 'insight': 2298, 'barely': 399, 'buried': 624, 'taught': 4370, 'edited': 1420, 'interviews': 2330, 'finish': 1732, 'summary': 4290, 'documentary': 1307, 'terms': 4406, 'stunning': 4244, 'holds': 2131, 'loved': 2670, 'cried': 1054, 'tonight': 4519, 'shop': 3945, 'fox': 1814, 'bear': 420, 'drives': 1367, 'bus': 631, 'funniest': 1851, 'pleasure': 3306, 'starring': 4154, 'terry': 4415, 'enjoyable': 1485, 'enthusiasm': 1501, 'passion': 3205, 'rent': 3626, 'laughs': 2534, 'chemistry': 782, 'jay': 2386, 'trademark': 4548, 'arent': 288, 'pat': 3208, 'todays': 4509, 'girlfriend': 1910, 'ok': 3098, 'win': 4892, 'oscar': 3133, 'raised': 3508, 'judy': 2426, 'church': 813, 'brilliance': 582, 'granted': 1957, 'pull': 3461, 'cinematic': 818, 'educational': 1425, 'kept': 2456, 'seriously': 3892, 'tradition': 4549, 'ralph': 3510, 'land': 2511, 'impressive': 2253, 'mark': 2739, 'similar': 3978, 'swear': 4334, 'traditional': 4550, 'everybody': 1540, 'realized': 3553, 'succeeds': 4264, 'stay': 4166, 'seven': 3903, 'grasp': 1960, 'idea': 2213, 'tim': 4494, 'claims': 830, 'smith': 4038, 'troubled': 4593, 'accident': 84, 'causing': 726, 'peoples': 3222, 'decides': 1150, 'dawson': 1128, 'woody': 4936, 'expected': 1577, 'pace': 3161, 'hoped': 2156, 'unless': 4669, 'study': 4242, 'shouldnt': 3952, 'personal': 3240, 'compelled': 915, 'warn': 4797, '15': 7, 'screaming': 3827, 'audio': 354, 'blair': 497, 'witch': 4909, 'effect': 1428, 'wasting': 4810, 'artificial': 306, 'experiment': 1583, 'secondly': 3847, 'manner': 2729, 'disturbed': 1299, 'cave': 727, 'argument': 291, 'surviving': 4323, 'woods': 4935, 'receives': 3565, 'spy': 4135, 'exist': 1569, 'liking': 2604, 'guide': 1993, 'meat': 2787, 'hunting': 2201, 'survival': 4320, 'suffers': 4278, 'rocks': 3722, 'nightmare': 3014, 'following': 1774, 'donald': 1321, 'broke': 593, 'shoots': 3944, 'gorgeous': 1942, 'national': 2970, 'trees': 4577, 'heights': 2073, 'missing': 2869, 'attacks': 339, 'suggests': 4282, 'landscape': 2513, 'terror': 4412, 'folk': 1770, 'fresh': 1833, 'lovely': 2671, 'knife': 2487, 'allows': 192, 'witness': 4914, 'wishing': 4907, 'depressed': 1187, 'realize': 3552, 'appreciated': 280, 'heroine': 2091, 'escape': 1517, 'potentially': 3356, 'awfully': 373, 'blowing': 515, 'react': 3540, 'forest': 1791, 'aforementioned': 139, 'voices': 4763, 'george': 1893, 'lucas': 2680, 'clothes': 860, 'humanity': 2189, 'suggested': 4281, 'effectively': 1430, 'surface': 4310, 'nearby': 2980, 'stone': 4197, 'hanging': 2023, 'corpse': 999, 'program': 3424, 'yellow': 4981, 'united': 4664, 'states': 4163, 'add': 115, 'scare': 3803, 'pulling': 3463, 'wet': 4855, 'loose': 2650, 'negative': 2991, 'site': 4005, 'thrills': 4475, 'highlights': 2104, 'window': 4894, 'dog': 1310, 'ground': 1979, 'photo': 3257, 'eerie': 1427, 'williams': 4888, 'sympathy': 4343, 'cartoon': 704, 'planned': 3290, 'hello': 2078, 'post': 3352, 'reference': 3582, 'therefore': 4439, 'greek': 1970, 'inevitably': 2283, 'affect': 136, 'everywhere': 1545, 'recall': 3562, 'disappointment': 1275, 'uk': 4626, 'literature': 2623, 'composed': 926, 'crucial': 1068, 'events': 1536, 'historically': 2120, 'poem': 3312, 'anger': 235, 'hate': 2046, 'talks': 4361, 'warriors': 4803, 'eyes': 1613, 'german': 1896, 'millions': 2848, 'dollars': 1315, 'expensive': 1579, 'alex': 179, 'christmas': 810, 'computer': 927, 'aired': 165, 'cd': 728, 'songs': 4072, 'collection': 874, 'album': 175, 'vietnam': 4735, 'mexican': 2826, 'paced': 3162, 'death': 1141, 'flicks': 1755, 'cruel': 1070, 'intentions': 2321, 'wild': 4885, 'trash': 4565, 'classics': 837, 'sheriff': 3929, 'investigate': 2342, 'fatal': 1664, 'deeper': 1155, 'thinks': 4454, '90': 60, 'worn': 4948, 'thus': 4486, 'topless': 4527, 'higher': 2101, 'khan': 2459, 'credible': 1048, 'indian': 2274, 'dream': 1354, 'vote': 4766, 'appreciate': 279, 'rip': 3700, 'facts': 1624, 'elsewhere': 1449, 'ford': 1789, 'truth': 4599, 'print': 3399, 'arthur': 305, 'amongst': 218, 'warrior': 4802, 'massacre': 2754, 'flash': 1745, 'finale': 1723, 'length': 2569, 'longer': 2645, 'domestic': 1318, 'productions': 3420, 'chaplin': 756, 'laurel': 2537, 'max': 2774, 'models': 2881, 'discovered': 1280, 'assume': 328, 'busy': 635, 'perhaps': 3235, 'amazingly': 210, 'heck': 2071, 'club': 863, 'supposedly': 4307, 'buff': 611, 'plus': 3311, 'mrs': 2930, 'adults': 126, 'smart': 4035, 'quirky': 3493, 'mafia': 2700, 'resist': 3648, 'overwhelming': 3157, 'families': 1644, 'adding': 117, 'depth': 1190, 'personalities': 3241, 'torn': 4528, 'theyve': 4446, 'criminal': 1057, 'contrast': 975, 'actions': 101, 'seemingly': 3863, 'favorites': 1672, 'versions': 4721, 'certain': 737, 'keaton': 2448, 'appropriate': 283, 'sitting': 4007, 'pay': 3216, 'tribute': 4581, 'bollywood': 530, 'filmmaker': 1719, 'regard': 3588, 'consider': 949, 'yourself': 4993, 'trite': 4589, 'hollow': 2135, 'energy': 1478, 'gem': 1877, 'entirely': 1503, 'mindless': 2851, 'neck': 2985, 'jump': 2429, 'hero': 2088, 'hed': 2072, 'pulled': 3462, 'alone': 194, 'background': 380, 'sounds': 4084, 'kitchen': 2485, 'dramatic': 1348, 'staring': 4152, 'performing': 3233, 'delivering': 1171, 'equivalent': 1512, 'intensity': 2317, 'amitabh': 216, 'hopeless': 2158, 'failing': 1627, 'miserably': 2864, 'weakest': 4825, 'link': 2613, 'decision': 1151, 'shoes': 3941, 'wide': 4880, 'villain': 4744, 'ensemble': 1492, 'menacing': 2807, 'trapped': 4564, 'experiences': 1582, 'enemy': 1477, 'handled': 2019, 'gripping': 1976, 'godfather': 1927, 'forever': 1792, 'suspect': 4327, 'lie': 2590, 'miserable': 2863, 'equal': 1509, 'dialog': 1232, 'rotten': 3740, 'abysmal': 76, 'mix': 2876, 'swedish': 4335, 'accents': 79, 'unintentional': 4658, 'element': 1442, 'turkey': 4604, 'cake': 648, 'insult': 2309, 'devoid': 1230, 'timing': 4498, 'speech': 4102, 'admit': 122, 'intelligence': 2313, 'rock': 3720, 'con': 928, 'motivation': 2914, 'stereotypes': 4179, 'chase': 769, 'bother': 548, 'appeared': 276, 'whatsoever': 4861, 'prequel': 3372, 'exact': 1550, 'kissing': 2484, '2000': 30, 'slick': 4026, 'cars': 702, 'jerry': 2396, 'areas': 287, 'excitement': 1562, 'successful': 4266, 'thrill': 4471, 'raymond': 3534, 'brother': 598, 'cage': 645, 'retired': 3664, 'steel': 4173, 'model': 2880, 'includes': 2263, 'mirror': 2861, 'cross': 1066, 'aging': 153, 'subplot': 4255, 'timothy': 4499, 'extra': 1606, 'core': 995, 'matters': 2770, 'gritty': 1977, 'cultural': 1078, 'necessary': 2984, 'thrillers': 4473, 'honor': 2150, 'foul': 1810, 'earned': 1401, 'develop': 1222, 'believable': 453, 'authentic': 358, 'spite': 4117, 'perfectly': 3226, 'performers': 3232, 'melodramatic': 2798, 'sleazy': 4023, 'provide': 3448, 'contains': 964, 'introduction': 2339, 'chases': 771, 'commercials': 903, 'attitude': 346, 'grant': 1956, 'audiences': 353, 'lengthy': 2570, 'fortunately': 1805, 'italian': 2367, 'metal': 2823, 'gene': 1879, 'simmons': 3981, 'unlike': 4670, 'curious': 1083, 'checking': 778, 'masterpiece': 2759, 'advantage': 129, 'nowhere': 3056, 'teenage': 4389, 'messages': 2820, 'originality': 3130, 'sake': 3775, 'prior': 3400, 'knowledge': 2491, 'fooled': 1780, 'speaks': 4096, 'hair': 2005, 'irony': 2357, 'teen': 4388, 'horribly': 2164, 'clichéd': 845, 'continues': 971, 'jerk': 2395, 'guilty': 1995, 'conventional': 979, 'altogether': 202, '1960s': 15, 'village': 4743, 'sole': 4055, 'exposed': 1598, 'bare': 398, 'mad': 2696, 'wears': 4832, 'dress': 1357, 'defeat': 1157, 'consistently': 954, 'test': 4416, 'studios': 4241, 'excuse': 1564, 'towards': 4540, 'portrayed': 3342, 'racist': 3503, 'ugly': 4625, 'eating': 1413, 'turning': 4608, 'priest': 3392, 'caring': 691, 'loving': 2675, 'bbc': 417, 'round': 3742, 'depicted': 1183, 'dirty': 1268, 'angry': 238, 'somebody': 4062, 'convey': 982, 'inevitable': 2282, 'accompanied': 86, 'jazz': 2387, 'return': 3665, 'porn': 3336, 'issues': 2365, 'widely': 4881, 'visit': 4755, 'lena': 2568, 'modern': 2882, 'curiosity': 1082, 'wit': 4908, 'von': 4765, 'crude': 1069, 'exceptional': 1558, 'display': 1291, 'greed': 1968, 'march': 2734, 'trio': 4587, 'rented': 3628, 'gain': 1863, 'promised': 3431, 'marry': 2745, 'persona': 3239, 'fascinated': 1657, 'originally': 3131, '70': 55, 'footage': 1782, 'alternate': 200, 'snake': 4042, 'draws': 1352, 'hundreds': 2196, 'firstly': 1737, 'tongue': 4518, 'cheek': 779, 'trailer': 4554, 'represents': 3639, 'keeps': 2451, 'user': 4696, 'ratings': 3530, 'enormous': 1490, 'finest': 1730, 'aids': 161, 'incredibly': 2270, 'extraordinary': 1607, 'santa': 3783, 'judge': 2424, 'pig': 3274, 'olivier': 3103, 'shell': 3927, 'ah': 158, 'spider': 4109, 'co': 867, 'ha': 2002, 'mysteries': 2954, 'unnecessary': 4672, 'scripted': 3835, 'screenwriter': 3833, 'del': 1165, 'devils': 1229, 'twins': 4616, 'dating': 1120, 'needless': 2989, 'remarks': 3615, 'apparent': 269, 'murders': 2943, 'famous': 1647, 'revelation': 3674, 'reveal': 3670, 'kills': 2474, 'bore': 540, 'historical': 2119, 'mighty': 2836, 'existed': 1570, 'anybody': 257, 'bland': 500, 'respect': 3652, 'attraction': 350, 'mention': 2810, 'uninteresting': 4660, 'shallow': 3917, 'incoherent': 2265, 'tarzan': 4367, 'saga': 3773, 'hunters': 2200, 'defined': 1160, 'uncomfortable': 4637, 'racism': 3502, 'heroic': 2090, 'lion': 2614, 'attack': 337, 'reactions': 3542, 'neighbors': 2994, 'sleep': 4024, 'eight': 1436, 'unbelievably': 4635, 'alan': 171, 'sick': 3963, 'comics': 895, 'picked': 3266, 'doubts': 1333, 'complicated': 925, 'strangely': 4212, 'interpretation': 2328, 'multiple': 2936, 'exotic': 1574, 'locations': 2636, 'cares': 690, 'makeup': 2717, 'gratuitous': 1961, 'news': 3005, 'carefully': 689, 'joseph': 2419, 'zone': 4999, 'pre': 3365, 'military': 2844, 'jesus': 2399, 'christ': 807, 'soldiers': 4054, 'mans': 2730, 'pick': 3265, 'stones': 4198, 'shall': 3916, 'larger': 2519, 'protagonists': 3442, 'tells': 4397, 'parallel': 3185, 'path': 3209, 'prince': 3396, 'met': 2822, 'supposed': 4306, 'tender': 4401, 'conversations': 981, 'leaving': 2557, 'fashion': 1659, 'category': 718, 'conversation': 980, 'justice': 2438, 'involve': 2345, 'disagree': 1269, 'everyones': 1543, 'vague': 4705, 'horrendous': 2162, 'nonsensical': 3031, 'bargain': 400, 'jackie': 2374, 'constant': 957, 'garbage': 1870, 'suffered': 4276, 'shut': 3961, 'feed': 1683, 'prevent': 3385, 'compelling': 916, 'childrens': 793, 'freddy': 1826, 'holes': 2133, 'lake': 2509, 'disneys': 1290, 'creating': 1039, 'novels': 3053, 'convincingly': 986, 'design': 1202, 'rising': 3703, 'angels': 234, 'department': 1182, 'tame': 4363, 'surprised': 4313, 'hardcore': 2034, 'females': 1694, 'dull': 1384, 'confusing': 942, 'catching': 716, '1968': 16, 'valley': 4707, 'dolls': 1316, 'faster': 1662, 'settings': 3901, 'loaded': 2632, 'fulci': 1845, 'zombies': 4998, 'nasty': 2968, 'share': 3920, 'quick': 3490, 'zombie': 4997, 'satisfy': 3790, 'wwii': 4975, 'established': 1524, 'decade': 1144, 'scale': 3802, 'awkward': 374, 'radio': 3504, 'broadcast': 591, 'soviet': 4089, 'ballet': 389, 'dancer': 1104, 'americans': 214, 'shakespeare': 3915, 'witnessed': 4915, 'promise': 3430, 'styles': 4250, 'ran': 3513, 'transfer': 4559, 'information': 2288, 'regarding': 3589, 'defense': 1159, 'traveling': 4568, 'displayed': 1292, 'factor': 1622, 'comment': 898, 'vicious': 4728, 'central': 735, 'kicked': 2461, 'charm': 767, 'andrew': 228, 'incomprehensible': 2267, 'heston': 2094, 'rape': 3521, 'womans': 4922, 'reaction': 3541, 'afterwards': 145, 'ring': 3698, 'escaped': 1518, 'revenge': 3675, 'progress': 3425, 'fly': 1763, 'gandhi': 1866, 'noticed': 3049, 'nicholson': 3011, 'edition': 1422, 'sounding': 4083, 'price': 3389, 'wow': 4962, 'brosnan': 597, '1930s': 11, 'canada': 666, 'protect': 3443, 'starred': 4153, 'annie': 247, 'roger': 3724, 'shorts': 3948, 'commentary': 899, 'tracks': 4545, 'jake': 2377, 'hollywoods': 2138, 'bullets': 621, 'johnny': 2410, 'slap': 4018, 'spoof': 4127, 'cliche': 843, 'walk': 4775, 'faces': 1618, 'gun': 1996, 'funnier': 1850, 'asks': 319, 'brad': 560, 'sacrifice': 3766, 'husbands': 2205, 'happily': 2030, 'accidentally': 85, 'laws': 2540, 'artist': 307, 'sends': 3876, 'beer': 439, 'agrees': 157, 'pregnant': 3369, 'prostitute': 3440, 'household': 2179, 'misses': 2868, 'beneath': 464, 'movements': 2924, 'universe': 4666, 'consequences': 947, 'kinds': 2478, 'blend': 504, 'kirk': 2482, 'franchise': 1817, 'easy': 1410, 'criticism': 1063, 'legendary': 2565, 'handle': 2018, 'themes': 4434, 'normally': 3034, 'alright': 198, 'taxi': 4371, 'sandler': 3781, '50': 51, 'hung': 2197, '90s': 61, 'hold': 2129, 'haunting': 2051, 'texas': 4418, 'elm': 1447, 'jaws': 2385, 'halloween': 2010, 'subtle': 4260, 'lights': 2597, 'myers': 2952, 'carpenter': 694, 'generation': 1883, 'fear': 1676, 'noise': 3024, 'detail': 1217, 'scares': 3806, 'jumps': 2432, 'locked': 2637, 'ii': 2226, 'picks': 3268, 'strikes': 4225, 'seat': 3845, 'pays': 3218, 'standing': 4146, 'shadows': 3913, 'sinister': 3998, 'advice': 133, 'makers': 2715, 'difference': 1246, 'wes': 4851, 'beings': 449, 'hundred': 2195, 'definition': 1163, 'scientist': 3818, 'global': 1920, 'detective': 1220, 'phone': 3255, 'loosely': 2651, 'walter': 4784, 'drugs': 1374, 'wound': 4960, 'visuals': 4759, 'tricks': 4583, 'editor': 1423, 'edward': 1426, 'nose': 3037, 'mouth': 2920, 'screams': 3828, 'ape': 266, 'dancers': 1105, 'desire': 1205, 'faced': 1617, 'opera': 3116, 'understandable': 4644, 'online': 3109, 'kick': 2460, 'hire': 2116, 'ruthless': 3764, 'expert': 1585, 'karen': 2444, 'afternoon': 144, 'related': 3594, 'health': 2060, 'refreshing': 3586, 'jumping': 2431, 'involvement': 2347, 'melting': 2799, 'gordon': 1940, 'tear': 4379, 'winner': 4897, 'achievement': 94, 'endless': 1473, 'costumes': 1006, 'contrived': 976, 'blown': 516, 'desired': 1206, 'glorious': 1921, 'jesse': 2397, 'wind': 4893, 'garden': 1872, 'ned': 2986, 'kelly': 2452, 'viewings': 4741, 'australian': 357, 'absence': 70, 'bonus': 534, 'reality': 3551, 'overlooked': 3154, 'grab': 1949, 'largely': 2518, 'breath': 573, 'sold': 4052, 'imagine': 2238, 'walking': 4779, 'horrifying': 2167, 'ron': 3734, 'hall': 2009, 'citizen': 824, 'kane': 2442, 'tied': 4489, 'latter': 2528, 'sleeping': 4025, 'singing': 3995, 'rain': 3506, 'attractive': 351, 'dude': 1381, 'folks': 1771, 'throwing': 4480, 'staying': 4168, 'twenty': 4612, 'entertained': 1498, 'enter': 1494, 'guns': 1998, 'indie': 2276, 'polished': 3323, 'calling': 653, 'card': 681, 'dvds': 1392, 'ticket': 4487, 'sitcom': 4004, 'fashioned': 1660, 'grace': 1950, 'circle': 821, 'diana': 1237, 'moore': 2901, 'celebrity': 729, 'lisa': 2616, 'steven': 4182, 'hyde': 2206, 'besides': 468, 'mom': 2885, 'broadway': 592, 'delight': 1167, 'creators': 1044, 'turner': 4607, 'removed': 3624, 'memories': 2803, 'returned': 3666, 'guessed': 1990, 'pack': 3165, 'proceeds': 3411, 'plans': 3292, 'delivers': 1172, 'alcohol': 176, 'mothers': 2912, 'foot': 1781, 'changes': 751, 'changing': 752, 'tend': 4400, 'complain': 919, 'belong': 459, 'contrary': 974, 'subplots': 4256, 'buddies': 608, 'realizes': 3554, 'saved': 3795, 'pleasantly': 3303, 'sappy': 3784, 'fits': 1741, 'accomplished': 87, 'rare': 3523, 'jim': 2402, 'follows': 1775, 'brooklyn': 595, 'hearts': 2066, 'minds': 2852, 'deeply': 1156, 'complexity': 924, 'imagery': 2234, 'backdrop': 379, 'revealing': 3672, 'allen': 188, 'masterpieces': 2760, 'ill': 2228, 'personality': 3242, 'whenever': 4863, 'forbidden': 1785, 'repeat': 3630, 'props': 3439, 'floating': 1758, 'destruction': 1216, 'distance': 1294, 'properly': 3437, 'cg': 739, 'cartoons': 705, 'heat': 2067, 'craven': 1034, 'desert': 1198, 'weekend': 4838, 'reasonably': 3559, 'clichés': 846, 'cry': 1073, 'stan': 4142, 'descent': 1193, 'sympathetic': 4342, 'fault': 1668, 'maintain': 2710, 'america': 212, 'disaster': 1276, 'network': 3000, 'frankly': 1823, 'internet': 2327, 'okay': 3099, 'train': 4556, 'express': 1600, 'robot': 3717, 'wishes': 4906, 'humans': 2190, 'deceased': 1146, 'stops': 4203, 'captain': 674, 'unexpected': 4650, 'sequel': 3885, 'concerned': 932, 'teach': 4374, 'lesson': 2577, 'burn': 625, 'website': 4834, 'desperately': 1209, 'buying': 641, 'poster': 3353, 'commented': 900, 'horses': 2171, 'library': 2589, 'inspiring': 2302, 'unintentionally': 4659, 'failure': 1629, 'nail': 2957, 'thousands': 4466, 'slight': 4027, 'singer': 3993, 'returns': 3668, 'contemporary': 965, 'scripts': 3836, 'angles': 237, 'theyd': 4443, 'mundane': 2938, 'numbers': 3061, 'insulting': 2310, 'pink': 3277, 'struggling': 4236, 'laid': 2508, 'guest': 1992, 'talked': 4359, 'luck': 2681, 'upset': 4687, 'faithful': 1634, 'statement': 4162, 'combined': 885, 'walked': 4776, 'aware': 368, 'moral': 2902, 'bullet': 620, 'sisters': 4002, 'wooden': 4934, 'bound': 553, 'discussion': 1284, 'modesty': 2883, 'overly': 3155, 'suppose': 4305, 'acceptable': 81, 'notion': 3050, 'band': 391, 'convinced': 984, 'disjointed': 1287, 'root': 3737, 'sally': 3776, 'anne': 246, 'elizabeth': 1445, 'suited': 4286, 'st': 4137, 'eyre': 1614, 'likewise': 2603, 'era': 1513, 'gentle': 1890, 'bath': 411, 'andy': 230, 'teenagers': 4391, 'rebel': 3561, 'outer': 3143, 'shortly': 3947, 'encounter': 1466, 'creature': 1045, 'imagined': 2239, 'blob': 507, 'catchy': 717, 'crowd': 1067, 'nostalgia': 3038, 'reviewer': 3677, 'hitchcock': 2123, 'imitation': 2241, 'dennis': 1179, 'shower': 3957, 'explicit': 1591, '25': 40, 'erotic': 1515, 'nancy': 2964, 'shy': 3962, 'enters': 1496, 'riveting': 3708, 'award': 366, 'matt': 2768, 'miller': 2846, 'satisfying': 3791, 'mainly': 2708, 'dust': 1388, 'thousand': 4465, 'prime': 3395, 'sunday': 4293, 'tight': 4492, 'narrative': 2966, 'dealt': 1138, 'explosions': 1597, 'constantly': 958, '1970s': 17, 'mess': 2818, 'stereotype': 4178, 'native': 2972, 'narration': 2965, 'costume': 1005, 'lousy': 2667, 'confidence': 938, 'monkey': 2890, 'crappy': 1032, 'godzilla': 1929, 'couldve': 1009, 'beliefs': 452, 'month': 2896, 'preview': 3386, 'choices': 798, 'creative': 1041, 'filming': 1718, 'threw': 4470, 'opinions': 3119, 'bob': 524, 'mentioning': 2812, 'bleak': 503, 'explains': 1589, 'notorious': 3051, 'bettie': 473, 'investigation': 2343, 'animals': 240, 'pushed': 3478, 'pages': 3168, 'psycho': 3457, 'captures': 678, '40s': 49, 'ease': 1404, 'bottom': 551, 'grew': 1972, 'horrid': 2165, 'mask': 2752, 'weapon': 4828, 'shine': 3931, 'engaged': 1480, 'settle': 3902, 'cardboard': 682, 'jealous': 2388, 'believed': 455, 'continued': 970, 'julie': 2428, 'cabin': 643, 'mountains': 2918, 'attempted': 341, 'relate': 3593, 'polanski': 3321, 'madness': 2698, 'obnoxious': 3067, 'thoughtful': 4463, 'lose': 2654, 'drag': 1342, 'obscure': 3068, 'qualities': 3483, 'dig': 1250, 'common': 906, 'significant': 3972, 'picking': 3267, 'shining': 3933, 'brilliantly': 584, 'wake': 4774, 'feet': 1688, 'alongside': 196, 'flight': 1757, 'humble': 2191, '18': 10, 'international': 2326, 'reflection': 3585, 'careful': 688, 'consistent': 953, 'poetic': 3313, '2004': 34, 'thomas': 4458, 'blind': 506, 'offering': 3089, 'tour': 4538, 'jail': 2376, 'silent': 3975, 'finger': 1731, 'absurd': 73, 'circumstances': 822, 'ourselves': 3140, 'lively': 2627, 'lovers': 2673, 'parent': 3187, 'sing': 3992, 'overcome': 3151, 'learns': 2553, 'alexander': 180, 'ordinary': 3128, 'carol': 693, 'numerous': 3062, 'center': 732, 'reaching': 3539, 'sky': 4017, 'gangsters': 1869, 'sutherland': 4333, 'religion': 3607, 'heaven': 2068, 'quest': 3486, 'references': 3583, 'iron': 2354, 'learned': 2551, 'send': 3875, 'travel': 4567, 'physical': 3262, 'contact': 961, 'fred': 1825, 'youth': 4994, 'artistic': 308, 'presents': 3377, 'nightmares': 3015, 'belief': 451, 'achieve': 92, 'dreams': 1355, 'succeed': 4262, 'kenneth': 2455, 'bands': 392, 'hence': 2083, 'akshay': 169, 'hype': 2207, 'eg': 1434, 'stands': 4147, 'beast': 422, 'reporter': 3636, 'seventies': 3904, 'cold': 872, 'eaten': 1412, 'evidence': 1546, 'sir': 4000, 'carradine': 695, 'believes': 456, 'putting': 3482, 'tedious': 4387, 'unwatchable': 4682, 'phantom': 3251, 'mall': 2720, 'goal': 1925, 'appearing': 277, 'fifteen': 1706, 'mtv': 2933, 'arrived': 301, 'mst3k': 2932, 'shocked': 3939, 'warned': 4798, 'seek': 3858, 'pile': 3275, 'fake': 1635, 'wolf': 4920, 'essence': 1521, 'magnificent': 2705, 'portraying': 3343, 'unhappy': 4656, 'mentally': 2809, 'detailed': 1218, 'caliber': 649, 'impossible': 2249, 'suspicious': 4332, 'eva': 1531, 'desperate': 1208, 'currently': 1085, 'theatrical': 4430, 'ego': 1435, 'starting': 4158, 'encounters': 1467, 'frequent': 1831, 'responsibility': 3655, 'construction': 960, 'kubrick': 2496, 'stephen': 4176, 'kings': 2481, 'progresses': 3426, 'exploration': 1593, 'sixties': 4011, 'floor': 1759, 'bathroom': 412, 'overacting': 3149, 'shelley': 3928, 'amounts': 220, 'underrated': 4642, 'vaguely': 4706, 'brand': 565, 'recognition': 3568, 'ian': 2209, 'mission': 2870, 'explore': 1594, 'dinosaurs': 1256, 'cliché': 844, 'relative': 3599, 'forgettable': 1794, 'appreciation': 281, 'marriage': 2743, 'sexual': 3908, 'dinner': 1254, 'waited': 4771, 'vincent': 4746, 'belongs': 460, 'generic': 1885, 'lazy': 2543, '1980s': 21, 'independent': 2272, 'creativity': 1042, 'unrealistic': 4677, 'represented': 3638, 'cash': 709, 'nazi': 2977, 'treated': 4573, 'loses': 2657, 'steals': 4172, 'rescue': 3643, 'fathers': 1667, 'carried': 698, 'outcome': 3142, 'chinese': 796, 'kung': 2498, 'fu': 1844, 'china': 795, 'grows': 1985, 'discover': 1279, 'immensely': 2243, 'sucked': 4270, 'susan': 4326, 'willing': 4889, 'sincere': 3991, 'east': 1407, 'capturing': 679, 'punk': 3468, 'jamie': 2379, 'comedian': 887, 'wannabe': 4787, 'thugs': 4484, 'touch': 4533, 'broken': 594, 'players': 3299, 'poetry': 3314, 'tales': 4357, 'tragic': 4552, 'despair': 1207, 'affair': 135, 'plausible': 3295, 'possibility': 3349, 'convince': 983, 'connection': 946, 'gradually': 1952, 'assumed': 329, 'opposite': 3123, 'signs': 3973, 'briefly': 580, 'unbearable': 4633, 'talents': 4356, 'reveals': 3673, 'worthy': 4956, 'lies': 2591, 'ray': 3533, 'walls': 4783, 'wallace': 4782, 'twisted': 4618, 'careers': 687, 'animal': 239, 'dialogs': 1233, 'birds': 485, 'legs': 2566, 'carter': 703, 'catches': 715, 'batman': 413, 'creates': 1038, 'desperation': 1210, 'serial': 3889, 'load': 2631, 'snow': 4045, 'killings': 2473, 'advise': 134, 'twin': 4615, 'cole': 873, 'actresses': 106, 'station': 4164, 'arnold': 296, 'unable': 4631, 'below': 462, 'domino': 1319, 'orders': 3127, 'breaking': 570, 'agents': 151, 'messed': 2821, 'dealing': 1136, 'performed': 3230, 'placed': 3283, 'gag': 1861, 'shirt': 3937, 'cutting': 1092, 'thirty': 4456, 'performs': 3234, 'ignored': 2225, 'listening': 2620, 'answer': 251, 'levels': 2585, 'returning': 3667, 'ancient': 225, 'passing': 3204, 'relations': 3596, 'frustration': 1843, 'monk': 2889, 'claimed': 829, 'isolated': 2363, 'countless': 1012, 'sadistic': 3768, 'priceless': 3390, 'stress': 4220, 'splatter': 4118, 'explanation': 1590, 'exists': 1573, 'switch': 4339, 'paint': 3173, 'suffer': 4275, 'island': 2361, 'consists': 955, 'hang': 2022, 'tiny': 4500, 'remote': 3622, 'loads': 2633, 'lesser': 2576, 'clips': 852, 'resident': 3647, 'glory': 1922, 'double': 1331, 'dragon': 1344, 'dignity': 1252, 'idiots': 2220, 'deserve': 1199, 'slightest': 4028, 'chose': 804, 'uwe': 4703, 'boll': 529, 'control': 977, 'carry': 700, 'dozens': 1339, 'warning': 4800, 'specific': 4099, 'vehicle': 4718, 'ps': 3453, 'dialogues': 1235, 'trailers': 4555, 'senseless': 3878, 'snl': 4044, 'prize': 3405, 'disappear': 1270, 'allowed': 190, 'queen': 3485, 'ended': 1470, 'reunion': 3669, 'screening': 3830, 'pass': 3201, 'psychotic': 3459, 'travels': 4569, 'terrorist': 4413, 'thankfully': 4422, 'danger': 1109, 'idiot': 2218, '3rd': 47, 'marks': 2742, 'limits': 2607, 'hugh': 2186, 'georges': 1894, 'dr': 1340, 'irish': 2353, 'purchase': 3469, 'rob': 3710, 'robbery': 3711, 'punishment': 3467, 'stooges': 4200, 'undoubtedly': 4648, 'constructed': 959, 'combine': 884, 'simplistic': 3985, 'tortured': 4530, 'souls': 4080, 'letter': 2581, 'davies': 1125, 'showcase': 3954, 'stinks': 4192, 'drags': 1345, 'agreed': 156, 'exceptionally': 1559, 'ranks': 3519, 'kapoor': 2443, 'stupidity': 4248, 'focuses': 1768, 'featured': 1679, 'successfully': 4267, 'species': 4098, 'tiresome': 4502, 'portray': 3340, 'previously': 3388, 'racial': 3501, 'asian': 314, 'angle': 236, 'soap': 4047, 'pops': 3332, 'crack': 1027, 'changed': 750, 'seagal': 3839, 'toward': 4539, 'temple': 4398, 'strike': 4224, 'liberal': 2588, 'dressing': 1359, 'logic': 2638, 'theatre': 4429, 'boot': 538, 'winters': 4901, 'outfit': 3144, 'wicked': 4879, 'smooth': 4041, 'buildings': 616, 'futuristic': 1857, 'favourite': 1673, 'rank': 3518, 'ann': 244, 'shines': 3932, 'spoken': 4126, 'threat': 4467, 'proved': 3446, 'code': 869, 'douglas': 1334, 'betty': 474, 'acts': 107, 'tune': 4602, 'gabriel': 1859, 'spell': 4104, 'vice': 4727, 'teens': 4392, 'resort': 3650, 'attacked': 338, 'flesh': 1753, 'skin': 4015, 'proper': 3436, 'medical': 2790, 'calm': 655, 'lol': 2640, 'likable': 2598, 'communist': 907, 'attached': 336, 'daily': 1097, 'superbly': 4297, 'portrayal': 3341, 'affected': 137, 'landing': 2512, 'spoiler': 4123, 'sexuality': 3909, 'shirley': 3936, 'beaten': 424, 'trial': 4580, 'wrapped': 4964, 'push': 3477, 'chicago': 785, 'cared': 685, 'screens': 3832, 'endings': 1472, 'scooby': 3820, 'doo': 1325, 'wanna': 4786, 'superman': 4301, 'lab': 2501, 'survived': 4322, 'parties': 3196, 'profound': 3423, 'sadness': 3770, 'contract': 973, 'influenced': 2287, 'musicals': 2948, 'le': 2544, 'useless': 4695, 'disc': 1278, 'universal': 4665, 'howard': 2182, 'karloff': 2445, 'lugosi': 2686, 'african': 142, 'discovery': 1282, 'indians': 2275, 'barry': 401, 'delivery': 1173, 'condition': 937, 'symbolism': 4341, 'enjoys': 1489, 'total': 4531, 'dentist': 1180, 'motivations': 2915, 'gifted': 1907, 'crafted': 1029, 'ellen': 1446, 'kudos': 2497, 'notes': 3046, 'nights': 3016, 'learning': 2552, 'baker': 385, 'southern': 4088, 'bay': 416, '1990': 24, 'gundam': 1997, 'wing': 4896, 'rangers': 3517, 'grinch': 1975, 'stole': 4194, 'instantly': 2306, 'mild': 2839, 'lou': 2663, 'naive': 2958, 'valuable': 4708, 'freedom': 1828, 'ocean': 3079, 'base': 402, 'iraq': 2351, 'conspiracy': 956, 'stealing': 4171, 'nation': 2969, 'pie': 3271, 'catholic': 720, 'bears': 421, 'vs': 4767, 'satan': 3787, 'voiced': 4762, 'holding': 2130, 'equipment': 1511, 'touched': 4534, 'commit': 904, 'questionable': 3488, 'noble': 3021, 'pro': 3406, 'walks': 4780, 'chest': 784, 'hurt': 2202, 'subsequent': 4257, 'road': 3709, 'scottish': 3825, 'striking': 4226, 'blade': 495, 'primarily': 3393, 'wins': 4899, 'roy': 3745, 'rubbish': 3748, 'da': 1094, 'brazil': 568, 'bride': 577, 'slave': 4022, 'religious': 3608, 'morality': 2903, 'attracted': 349, 'neighbor': 2992, 'fired': 1735, 'brains': 563, 'london': 2641, 'daniel': 1111, 'lewis': 2586, 'brown': 601, 'victim': 4729, 'brenda': 575, 'vivid': 4760, '13': 4, 'retarded': 3663, 'physically': 3263, 'soccer': 4048, 'combination': 883, 'teaching': 4377, 'dedicated': 1153, 'expression': 1602, 'capable': 672, 'drunk': 1375, 'cruise': 1071, 'nominated': 3025, 'academy': 77, 'support': 4303, 'naturally': 2974, 'photos': 3261, 'opposed': 3122, 'winds': 4895, 'credibility': 1047, '35': 45, 'derek': 1192, 'rolled': 3729, 'cases': 708, 'result': 3660, 'prom': 3429, 'cheating': 776, 'restaurant': 3658, 'respected': 3653, 'amazed': 208, 'smoking': 4040, 'segments': 3868, 'forty': 1807, 'overrated': 3156, 'defend': 1158, 'intrigued': 2334, 'philosophical': 3253, 'conflicts': 940, 'ridden': 3691, 'repetitive': 3633, 'kidding': 2465, 'board': 522, 'clumsy': 866, 'expressed': 1601, 'rochester': 3719, 'dalton': 1098, 'trilogy': 4586, 'suit': 4284, 'pokemon': 3320, 'race': 3499, 'mountain': 2917, 'elephant': 1444, 'et': 1526, 'wilson': 4891, 'museum': 2945, 'sidney': 3968, 'receive': 3563, 'shed': 3924, 'eager': 1396, 'pal': 3177, 'resolution': 3649, 'rolling': 3730, 'unforgettable': 4652, 'lynch': 2691, 'stranger': 4213, 'pretending': 3382, 'pretend': 3381, 'painfully': 3172, 'subtlety': 4261, 'goodness': 1938, 'grave': 1962, 'cliff': 847, 'jenny': 2393, 'ward': 4793, 'moody': 2899, 'warner': 4799, 'unknown': 4668, 'captivating': 675, 'punch': 3466, 'flaw': 1749, 'sequels': 3886, 'vast': 4716, 'majority': 2712, 'dances': 1106, 'reached': 3537, 'magical': 2704, 'worry': 4950, 'spectacular': 4101, 'april': 284, 'italy': 2368, 'deaths': 1142, 'environment': 1505, 'principal': 3398, 'merit': 2816, 'alfred': 181, 'silver': 3977, 'guard': 1988, 'oscars': 3134, 'dawn': 1127, 'balance': 387, 'suspects': 4328, 'gothic': 1945, 'virginia': 4750, 'benefit': 465, 'soul': 4079, 'hints': 2113, 'blake': 498, 'easier': 1405, 'hill': 2108, 'decades': 1145, 'enjoyment': 1488, 'clown': 862, 'nowadays': 3055, 'titles': 4506, 'handsome': 2021, 'dramas': 1347, 'seasons': 3844, 'chooses': 800, 'meaningful': 2781, 'feminist': 1695, 'manager': 2724, 'abc': 63, 'format': 1799, '2003': 33, 'bigger': 479, 'elaborate': 1439, 'kicking': 2462, 'burned': 626, 'pacino': 3164, 'substance': 4258, 'suspend': 4329, 'emphasis': 1463, 'mile': 2842, 'frank': 1821, '1999': 27, 'exploitation': 1592, 'entry': 1504, 'inventive': 2341, 'prisoners': 3403, 'invisible': 2344, 'rings': 3699, '2001': 31, 'rights': 3697, 'honesty': 2148, 'balls': 390, 'itll': 2369, 'pan': 3180, 'sides': 3967, 'copies': 992, 'craig': 1030, 'lyrics': 2692, 'ruined': 3751, 'stevens': 4183, 'deadly': 1133, 'tense': 4403, 'vacation': 4704, 'dear': 1140, 'pleased': 3305, 'stanwyck': 4149, 'builds': 617, 'laughably': 2531, 'horrific': 2166, 'fest': 1696, 'disease': 1285, 'paltrow': 3178, 'claim': 828, 'entertain': 1497, 'bette': 471, 'germany': 1898, 'waitress': 4773, 'mildred': 2841, 'treats': 4575, 'promises': 3432, 'kay': 2447, 'johnson': 2411, 'writes': 4970, 'popularity': 3334, 'gender': 1878, 'philip': 3252, 'struck': 4232, 'perfection': 3225, 'annoyed': 248, 'newspaper': 3006, 'hide': 2097, 'diamond': 1236, 'shelf': 3926, 'service': 3896, 'unit': 4663, 'friendly': 1836, 'conservative': 948, 'sink': 3999, 'spin': 4112, 'wreck': 4965, 'dropped': 1370, 'anyways': 262, 'lessons': 2578, 'remarkably': 3614, 'burns': 628, 'grandmother': 1955, 'rural': 3758, 'lone': 2642, 'drinking': 1362, 'signed': 3971, 'bucks': 606, 'curse': 1086, 'stopped': 4202, 'comical': 894, 'explained': 1587, 'lacking': 2504, 'aid': 160, 'amateur': 206, 'minded': 2850, 'judging': 2425, 'troubles': 4594, 'nonetheless': 3029, 'daring': 1114, 'foreign': 1790, 'cousin': 1021, 'types': 4622, 'eve': 1532, 'sid': 3964, 'gruesome': 1986, 'anderson': 227, 'colonel': 876, 'craft': 1028, 'refuses': 3587, 'rise': 3702, 'adapted': 114, 'holmes': 2139, 'experienced': 1581, 'fish': 1738, 'identity': 2217, 'clues': 865, 'displays': 1293, 'hammer': 2014, 'account': 89, 'conflict': 939, 'surrounding': 4319, 'serving': 3897, 'duty': 1390, 'closet': 858, 'raise': 3507, 'intrigue': 2333, 'professor': 3422, 'experiments': 1584, 'wrap': 4963, 'mature': 2773, 'specifically': 4100, 'jungle': 2434, 'theory': 4437, 'practice': 3363, 'trust': 4598, 'hook': 2152, 'whale': 4857, 'designed': 1203, 'relies': 3606, 'matthau': 2771, 'sensitive': 3879, 'education': 1424, 'ho': 2127, 'hunt': 2198, 'groups': 1981, 'hysterical': 2208, 'influence': 2286, 'flynn': 1765, 'beats': 426, 'lust': 2689, 'photographer': 3259, 'patrick': 3213, 'attorney': 348, 'supernatural': 4302, '45': 50, 'eighties': 1437, 'columbo': 881, 'montage': 2894, 'nine': 3017, 'falk': 1636, 'highest': 2102, 'artists': 309, 'spots': 4132, 'forms': 1801, 'dance': 1103, 'term': 4405, 'albert': 174, 'robbins': 3712, 'differences': 1247, 'burt': 629, 'reynolds': 3684, 'apes': 267, 'behave': 445, 'intention': 2319, 'legal': 2563, 'poignant': 3315, 'donna': 1323, 'panic': 3181, 'bumbling': 622, 'macy': 2695, 'persons': 3244, 'campbell': 663, 'discuss': 1283, 'built': 618, 'genres': 1889, 'golden': 1934, 'string': 4227, 'mob': 2879, 'enemies': 1476, 'secretly': 3851, 'weeks': 4839, 'mill': 2845, 'creation': 1040, 'headed': 2058, 'union': 4661, 'existence': 1571, 'demand': 1174, 'plight': 3308, 'charismatic': 763, 'campy': 664, 'sin': 3988, 'cuba': 1075, 'pride': 3391, 'relatives': 3601, 'forth': 1804, 'versus': 4722, 'understood': 4647, 'behavior': 446, 'advance': 127, 'masters': 2761, 'pet': 3246, 'requires': 3642, 'disbelief': 1277, 'reduced': 3579, 'twelve': 4611, 'someones': 4065, 'duo': 1386, 'rose': 3739, 'divorce': 1301, 'imagination': 2236, '2005': 35, 'businessman': 634, 'victoria': 4732, 'emily': 1456, 'blunt': 520, 'dynamic': 1394, 'storytelling': 4209, 'dutch': 1389, 'coach': 868, 'chased': 770, 'murderous': 2942, 'westerns': 4854, 'toys': 4543, 'narrator': 2967, 'fitting': 1742, 'topic': 4526, 'landscapes': 2514, 'pointed': 3317, 'moon': 2900, 'recognized': 3570, 'ought': 3138, 'tall': 4362, 'hates': 2048, 'franco': 1820, 'bomb': 531, 'fields': 1705, 'excessive': 1560, 'product': 3418, 'covers': 1024, 'scarecrow': 3804, 'rival': 3706, 'chess': 783, 'winning': 4898, 'illegal': 2229, 'blacks': 494, 'horrors': 2169, 'generated': 1882, 'banned': 395, 'todd': 4510, 'jeffrey': 2391, 'omen': 3104, 'handful': 2017, 'eccentric': 1414, 'birthday': 487, 'cats': 721, 'serve': 3893, '75': 57, 'appearances': 275, 'extended': 1604, 'cameos': 658, 'inspector': 2299, 'relatively': 3600, 'borrowed': 545, 'interaction': 2322, 'stood': 4199, 'hip': 2114, 'troops': 4591, 'familys': 1646, 'alert': 178, 'thrilling': 4474, 'treasure': 4571, 'students': 4239, 'adorable': 124, 'twilight': 4614, 'decisions': 1152, 'featuring': 1681, 'boredom': 542, 'miike': 2837, 'downhill': 1336, 'homeless': 2143, 'crocodile': 1065, 'greater': 1965, 'friday': 1834, '13th': 5, 'neil': 2995, 'lemmon': 2567, 'sell': 3871, 'schools': 3814, 'stretch': 4221, 'mixed': 2877, 'butler': 637, 'fighter': 1708, 'oddly': 3081, 'designs': 1204, 'solely': 4056, 'simplicity': 3984, 'integrity': 2311, 'deaf': 1134, 'exercise': 1568, 'cagney': 646, 'suitable': 4285, 'harry': 2039, 'rambo': 3511, 'rocket': 3721, 'rat': 3525, 'empty': 1465, 'listed': 2618, 'civil': 826, 'miracle': 2860, 'worker': 4942, 'ashley': 313, 'portrays': 3344, 'miscast': 2862, 'blah': 496, 'stilted': 4190, 'distracting': 1297, 'generous': 1886, 'satisfied': 3789, 'fool': 1779, 'portion': 3338, 'witches': 4910, 'goofy': 1939, 'wrestling': 4966, 'tree': 4576, 'unlikely': 4671, 'diane': 1238, 'harsh': 2040, 'atrocious': 335, 'inane': 2258, 'ramones': 3512, 'concert': 935, 'homage': 2141, 'tag': 4348, 'bang': 393, 'manage': 2722, 'clip': 851, 'tunes': 4603, 'range': 3516, 'dick': 1239, 'bush': 632, 'rendition': 3625, '1984': 23, 'carl': 692, 'thick': 4447, 'vegas': 4717, 'cell': 730, 'minimal': 2855, 'breasts': 572, 'toy': 4542, 'cinderella': 815, 'werewolf': 4850, 'row': 3744, 'arrogant': 303, 'aunt': 355, 'matches': 2764, 'survivor': 4324, 'hart': 2041, 'blues': 519, 'leg': 2562, 'marty': 2749, 'slaughter': 4021, 'showdown': 3955, 'luke': 2687, 'painted': 3174, 'stunt': 4245, 'albeit': 173, 'translation': 4562, 'comparing': 913, 'replaced': 3634, 'pg': 3250, 'regardless': 3590, 'richards': 3687, 'menace': 2806, 'stellar': 4174, 'guts': 1999, 'ties': 4490, 'tomatoes': 4515, 'infamous': 2284, 'scheme': 3812, 'resources': 3651, 'suffice': 4279, 'presumably': 3380, 'sunshine': 4294, '1933': 12, 'june': 2433, 'africa': 141, 'commercial': 902, 'introduces': 2338, 'justify': 2439, 'childish': 791, 'vengeance': 4719, 'raped': 3522, 'cleverly': 842, 'hal': 2006, 'comfortable': 892, 'homosexual': 2145, 'proud': 3444, 'lowest': 2678, 'montana': 2895, 'till': 4493, 'captured': 677, 'justin': 2440, 'orson': 3132, 'welles': 4844, 'giallo': 1904, 'introduce': 2336, 'sexually': 3910, 'frustrated': 1842, 'grandfather': 1954, 'houses': 2180, 'cities': 823, 'berlin': 467, 'lying': 2690, 'minimum': 2856, 'rules': 3754, 'ad': 110, 'guarantee': 1987, 'rap': 3520, 'boom': 537, 'hideous': 2098, 'moronic': 2907, 'improved': 2255, 'praise': 3364, 'dickens': 1240, 'scrooge': 3837, 'represent': 3637, 'wisdom': 4902, 'reads': 3545, 'travesty': 4570, 'university': 4667, 'relation': 3595, 'cube': 1076, 'jennifer': 2392, 'kurt': 2499, 'germans': 1897, 'hitler': 2124, 'shooting': 3943, 'blows': 517, 'endure': 1475, 'raising': 3509, 'suits': 4287, 'swimming': 4338, 'notably': 3042, 'cheese': 780, 'superhero': 4299, 'occasion': 3073, 'victor': 4731, 'challenging': 744, 'ireland': 2352, 'execution': 1566, 'bruce': 602, 'cure': 1081, 'gerard': 1895, 'lees': 2560, 'shape': 3919, 'distinct': 1296, 'packed': 3166, 'block': 508, 'incident': 2260, 'cook': 988, 'recorded': 3574, 'wandering': 4785, 'deliberately': 1166, 'bakshi': 386, 'solve': 4060, 'ingredients': 2289, 'wayne': 4821, 'glimpse': 1919, 'richardson': 3688, 'wounded': 4961, '3000': 43, 'navy': 2976, 'mouse': 2919, 'sinatra': 3989, 'triumph': 4590, 'choreography': 802, 'warming': 4795, 'patients': 3212, 'insane': 2296, 'mixture': 2878, 'atlantis': 332, 'empire': 1464, 'companion': 909, 'roman': 3731, 'visible': 4753, 'spirits': 4115, 'restored': 3659, '20th': 38, 'pulp': 3465, 'estate': 1525, 'hurts': 2203, 'spirited': 4114, 'official': 3094, 'bo': 521, 'inept': 2281, 'garbo': 1871, 'transition': 4561, 'nomination': 3026, 'logical': 2639, 'irrelevant': 2358, 'tap': 4364, 'stargate': 4151, 'medium': 2792, 'bold': 528, 'testament': 4417, 'tremendous': 4579, 'forgot': 1796, 'chain': 741, 'farm': 1656, 'nostalgic': 3039, 'promising': 3433, 'furthermore': 1854, 'savage': 3793, 'monkeys': 2891, 'kim': 2475, 'resemblance': 3645, 'sellers': 3872, 'awe': 370, 'doc': 1303, 'lacked': 2503, 'battles': 415, 'orange': 3125, 'inspiration': 2300, 'whereas': 4865, 'stiller': 4189, 'branagh': 564, '1st': 28, 'hippie': 2115, 'arms': 294, 'bedroom': 437, 'fetched': 1698, 'appalling': 268, 'arguably': 289, 'oliver': 3102, 'corrupt': 1001, 'lay': 2542, 'plant': 3293, 'ensues': 1493, 'mars': 2746, 'assault': 324, 'neo': 2998, 'chorus': 803, 'bell': 458, 'silence': 3974, 'method': 2824, 'wished': 4905, 'vulnerable': 4768, 'morris': 2908, 'abilities': 64, 'drunken': 1376, 'stunts': 4246, 'mail': 2706, 'mistakes': 2873, 'fix': 1744, 'attitudes': 347, 'invasion': 2340, 'inferior': 2285, 'rubber': 3747, 'murderer': 2941, 'nazis': 2978, 'smoke': 4039, 'wells': 4845, 'bat': 410, 'oil': 3097, 'lately': 2524, 'damon': 1101, 'iran': 2350, 'bergman': 466, 'patient': 3211, 'tea': 4373, 'solution': 4059, 'charlotte': 766, 'joey': 2408, 'willis': 4890, 'searching': 3842, 'achieved': 93, 'considerable': 950, 'describes': 1196, 'buck': 605, 'concern': 931, 'population': 3335, '1973': 19, 'damage': 1099, 'charisma': 762, 'transformation': 4560, 'fay': 1674, 'countryside': 1015, 'directorial': 1265, 'bull': 619, 'reasonable': 3558, 'hbo': 2055, 'passes': 3203, 'flies': 1756, 'waves': 4819, 'regret': 3591, 'harvey': 2042, 'forgive': 1795, 'philosophy': 3254, 'bite': 489, 'sidekick': 3966, 'authority': 360, 'alcoholic': 177, 'illogical': 2231, 'hilariously': 2107, '1990s': 25, 'embarrassment': 1455, 'christian': 808, 'maker': 2714, 'engage': 1479, 'gray': 1963, 'caine': 647, 'theyll': 4444, 'dislike': 1288, 'fed': 1682, 'subjects': 4254, 'thoughts': 4464, 'coherent': 871, 'technique': 4383, 'burton': 630, 'destroying': 1215, 'leo': 2571, 'similarly': 3980, 'civilization': 827, 'robinson': 3716, 'occurred': 3077, 'tons': 4520, 'larry': 2520, 'merits': 2817, 'amateurish': 207, 'cup': 1080, 'disappoint': 1272, 'carrie': 697, 'essential': 1522, 'contained': 963, 'repeatedly': 3632, 'passionate': 3206, 'inappropriate': 2259, 'accused': 91, 'bacall': 377, 'seed': 3856, 'abuse': 74, 'cannibal': 669, 'officers': 3093, 'funeral': 1849, 'cox': 1026, 'jet': 2400, 'airport': 167, 'bird': 484, 'rogers': 3725, 'errors': 1516, 'christians': 809, 'improvement': 2256, 'dorothy': 1330, 'unaware': 4632, 'survivors': 4325, 'hoffman': 2128, 'lumet': 2688, 'teachers': 4376, 'reed': 3580, 'loyal': 2679, 'kennedy': 2454, 'similarities': 3979, 'plastic': 3294, 'knock': 2488, 'escapes': 1519, 'pulls': 3464, 'characterization': 759, 'lily': 2605, 'dub': 1378, 'freak': 1824, 'cameras': 660, 'streep': 4215, 'masses': 2755, 'thru': 4483, 'critic': 1061, 'hamlet': 2013, 'dreary': 1356, 'distribution': 1298, 'andrews': 229, 'claire': 831, 'voight': 4764, 'beatty': 427, 'bourne': 554, 'lasted': 2522, 'classical': 836, 'nicholas': 3010, 'francis': 1818, 'shark': 3921, 'definite': 1161, 'wonders': 4931, 'linda': 2609, 'destiny': 1212, 'fonda': 1777, 'sings': 3997, 'che': 773, 'lloyd': 2630, 'mentions': 2813, 'creator': 1043, 'glenn': 1918, 'selfish': 3870, 'unsettling': 4679, 'guilt': 1994, 'lifestyle': 2593, 'possibilities': 3348, 'cost': 1003, 'emotionally': 1460, 'projects': 3428, 'jumped': 2430, 'bobby': 525, 'earl': 1398, 'sullivan': 4288, 'occur': 3076, 'niro': 3019, 'useful': 4694, 'convoluted': 987, '1940s': 13, 'wizard': 4919, 'oz': 3160, 'advanced': 128, 'mate': 2765, 'popcorn': 3331, 'mel': 2796, 'button': 639, 'lovable': 2668, 'porno': 3337, 'dropping': 1371, 'perry': 3237, 'witnesses': 4916, 'performer': 3231, 'mistress': 2874, 'mario': 2738, 'recording': 3575, 'adequate': 120, 'championship': 745, 'succeeded': 4263, 'afford': 138, 'corruption': 1002, 'tie': 4488, 'counter': 1011, 'cinematographer': 819, 'trashy': 4566, 'ideal': 2214, 'morgan': 2905, 'freeman': 1829, 'clothing': 861, 'wealth': 4826, 'fisher': 1739, '30s': 44, 'frankenstein': 1822, 'carrey': 696, 'rocky': 3723, 'kingdom': 2480, 'drawing': 1350, 'prisoner': 3402, 'cheated': 775, 'depicts': 1186, 'felix': 1689, 'rage': 3505, 'stanley': 4148, 'explaining': 1588, 'arrested': 298, 'madonna': 2699, 'tracy': 4546, 'hopper': 2161, 'cameron': 661, 'bud': 607, 'americas': 215, 'nyc': 3065, 'yesterday': 4983, 'spiritual': 4116, 'hop': 2154, 'operation': 3117, 'danes': 1108, 'blew': 505, 'luckily': 2682, 'understated': 4646, 'ruby': 3749, 'attend': 344, 'edie': 1419, 'acid': 95, 'argue': 290, 'cary': 706, 'stale': 4141, 'curtis': 1087, 'closest': 857, 'rats': 3531, '1980': 20, 'mechanical': 2788, 'doctors': 1305, 'solo': 4058, 'pearl': 3220, 'der': 1191, 'ears': 1402, 'elvis': 1451, 'contest': 967, 'ships': 3935, 'dolph': 1317, 'elvira': 1450, 'psychiatrist': 3455, '3d': 46, 'manhattan': 2726, 'boxing': 556, 'muslim': 2949, 'lincoln': 2608, 'mann': 2728, 'walker': 4778, 'paulie': 3215, 'margaret': 2735, 'awake': 365, 'letters': 2582, 'psychic': 3456, 'reel': 3581, 'abraham': 69, 'hank': 2024, 'lane': 2515, 'brando': 566, 'singers': 3994, 'exposure': 1599, 'edgar': 1417, 'brooks': 596, 'pamela': 3179, 'wholly': 4874, 'creep': 1051, 'gadget': 1860, 'spielberg': 4110, 'ruth': 3763, 'fury': 1855, 'ginger': 1908, 'elegant': 1441, 'pit': 3278, 'ham': 2011, 'astaire': 330, 'hanks': 2025, 'mummy': 2937, 'streisand': 4218, 'homer': 2144, 'wendy': 4846, 'iii': 2227}\n"
     ]
    }
   ],
   "source": [
    "test_bow = bow_encoding(test_words, vocabulary)\n",
    "#print(test_bow)\n",
    "print(vocabulary)"
   ]
  },
  {
   "cell_type": "code",
   "execution_count": 40,
   "metadata": {},
   "outputs": [
    {
     "data": {
      "text/plain": [
       "5000"
      ]
     },
     "execution_count": 40,
     "metadata": {},
     "output_type": "execute_result"
    }
   ],
   "source": [
    "len(test_bow)"
   ]
  },
  {
   "cell_type": "markdown",
   "metadata": {},
   "source": [
    "So now we know how to construct a bag of words encoding of a user provided review, how to we send it to our endpoint? First, we need to start the endpoint back up."
   ]
  },
  {
   "cell_type": "code",
   "execution_count": 41,
   "metadata": {},
   "outputs": [
    {
     "name": "stderr",
     "output_type": "stream",
     "text": [
      "WARNING:sagemaker:Using already existing model: xgboost-2020-06-07-12-53-28-534\n"
     ]
    },
    {
     "name": "stdout",
     "output_type": "stream",
     "text": [
      "-------------!"
     ]
    }
   ],
   "source": [
    "xgb_predictor = xgb.deploy(initial_instance_count = 1, instance_type = 'ml.m4.xlarge')"
   ]
  },
  {
   "cell_type": "markdown",
   "metadata": {},
   "source": [
    "At this point we could just do the same thing that we did earlier when we tested our deployed model and send `test_bow` to our endpoint using the `xgb_predictor` object. However, when we eventually construct our Lambda function we won't have access to this object, so how do we call a SageMaker endpoint?\n",
    "\n",
    "It turns out that Python functions that are used in Lambda have access to another Amazon library called `boto3`. This library provides an API for working with Amazon services, including SageMaker. To start with, we need to get a handle to the SageMaker runtime."
   ]
  },
  {
   "cell_type": "code",
   "execution_count": 42,
   "metadata": {},
   "outputs": [],
   "source": [
    "import boto3\n",
    "\n",
    "runtime = boto3.Session().client('sagemaker-runtime')"
   ]
  },
  {
   "cell_type": "markdown",
   "metadata": {},
   "source": [
    "And now that we have access to the SageMaker runtime, we can ask it to make use of (invoke) an endpoint that has already been created. However, we need to provide SageMaker with the name of the deployed endpoint. To find this out we can print it out using the `xgb_predictor` object."
   ]
  },
  {
   "cell_type": "code",
   "execution_count": 43,
   "metadata": {},
   "outputs": [
    {
     "data": {
      "text/plain": [
       "'xgboost-2020-06-07-12-53-28-534'"
      ]
     },
     "execution_count": 43,
     "metadata": {},
     "output_type": "execute_result"
    }
   ],
   "source": [
    "xgb_predictor.endpoint"
   ]
  },
  {
   "cell_type": "markdown",
   "metadata": {},
   "source": [
    "Using the SageMaker runtime and the name of our endpoint, we can invoke the endpoint and send it the `test_bow` data."
   ]
  },
  {
   "cell_type": "code",
   "execution_count": 45,
   "metadata": {},
   "outputs": [
    {
     "ename": "ParamValidationError",
     "evalue": "Parameter validation failed:\nInvalid type for parameter Body, value: [0, 0, 0, 0, 0, 0, 0, 0, 0, 0, 0, 0, 0, 0, 0, 0, 0, 0, 0, 0, 0, 0, 0, 0, 0, 0, 0, 0, 0, 0, 0, 0, 0, 0, 0, 0, 0, 0, 0, 0, 0, 0, 0, 0, 0, 0, 0, 0, 0, 0, 0, 0, 0, 0, 0, 0, 0, 0, 0, 0, 0, 0, 0, 0, 0, 0, 0, 0, 0, 0, 0, 0, 0, 0, 0, 0, 0, 0, 0, 0, 0, 0, 0, 0, 0, 0, 0, 0, 0, 0, 0, 0, 0, 0, 0, 0, 0, 0, 0, 0, 0, 0, 0, 0, 0, 0, 0, 0, 0, 0, 0, 0, 0, 0, 0, 0, 0, 0, 0, 0, 0, 0, 0, 0, 0, 0, 0, 0, 0, 0, 0, 0, 0, 0, 0, 0, 0, 0, 0, 0, 0, 0, 0, 0, 0, 0, 0, 0, 0, 0, 0, 0, 0, 0, 0, 0, 0, 0, 0, 0, 0, 0, 0, 0, 0, 0, 0, 0, 0, 0, 0, 0, 0, 0, 0, 0, 0, 0, 0, 0, 0, 0, 0, 0, 0, 0, 0, 0, 0, 0, 0, 0, 0, 0, 0, 0, 0, 0, 0, 0, 0, 0, 0, 0, 0, 0, 0, 0, 0, 0, 0, 0, 0, 0, 0, 0, 0, 0, 0, 0, 0, 0, 0, 0, 0, 0, 1, 0, 0, 0, 0, 0, 0, 0, 0, 0, 0, 0, 0, 0, 0, 0, 0, 0, 0, 0, 0, 0, 0, 0, 0, 0, 0, 0, 0, 0, 1, 0, 0, 0, 0, 0, 0, 0, 0, 0, 0, 0, 0, 0, 0, 0, 0, 0, 0, 0, 0, 0, 0, 0, 0, 0, 0, 0, 0, 0, 0, 0, 0, 0, 0, 0, 0, 0, 0, 0, 0, 0, 0, 0, 0, 0, 0, 0, 0, 0, 0, 0, 0, 0, 0, 0, 0, 0, 0, 0, 0, 0, 0, 0, 0, 0, 0, 0, 0, 0, 0, 0, 0, 0, 0, 0, 0, 0, 0, 0, 0, 0, 0, 0, 0, 0, 0, 0, 0, 0, 0, 0, 0, 0, 0, 0, 0, 0, 0, 0, 0, 0, 0, 0, 0, 0, 0, 0, 0, 0, 0, 0, 0, 0, 0, 0, 0, 0, 0, 0, 0, 0, 0, 0, 0, 0, 0, 0, 0, 0, 0, 0, 0, 0, 0, 0, 0, 0, 0, 0, 0, 0, 0, 0, 0, 0, 0, 0, 0, 0, 0, 0, 0, 0, 0, 0, 0, 0, 0, 0, 0, 0, 0, 0, 0, 0, 0, 0, 0, 0, 0, 0, 0, 0, 0, 0, 0, 0, 0, 0, 0, 0, 0, 0, 0, 0, 0, 0, 0, 0, 0, 0, 0, 0, 0, 0, 0, 0, 0, 0, 0, 0, 0, 0, 0, 0, 0, 0, 0, 0, 0, 0, 0, 0, 0, 0, 0, 0, 0, 0, 0, 0, 0, 0, 0, 0, 0, 0, 0, 0, 0, 0, 0, 0, 0, 0, 0, 0, 0, 0, 0, 0, 0, 0, 0, 0, 0, 0, 0, 0, 0, 0, 0, 0, 0, 0, 0, 0, 0, 0, 0, 0, 0, 0, 0, 0, 0, 0, 0, 0, 0, 0, 0, 0, 0, 0, 0, 0, 0, 0, 0, 0, 0, 0, 0, 0, 0, 0, 0, 0, 0, 0, 0, 0, 0, 0, 0, 0, 0, 0, 0, 0, 0, 0, 0, 0, 0, 0, 0, 0, 0, 0, 0, 0, 0, 0, 0, 0, 0, 0, 0, 0, 0, 0, 0, 0, 0, 0, 0, 0, 0, 0, 0, 0, 0, 0, 0, 0, 0, 0, 0, 0, 0, 0, 0, 0, 0, 0, 0, 0, 0, 0, 0, 0, 0, 0, 0, 0, 0, 0, 0, 0, 0, 0, 0, 0, 0, 0, 0, 0, 0, 0, 0, 0, 0, 0, 0, 0, 0, 0, 1, 0, 0, 0, 0, 0, 0, 0, 0, 0, 0, 0, 0, 0, 0, 0, 0, 0, 0, 0, 0, 0, 0, 0, 0, 0, 0, 0, 0, 0, 0, 0, 0, 0, 0, 0, 0, 0, 0, 0, 0, 0, 0, 0, 0, 0, 0, 0, 0, 0, 0, 0, 0, 0, 0, 0, 0, 0, 0, 0, 0, 0, 0, 0, 0, 0, 0, 0, 0, 0, 0, 0, 0, 0, 0, 0, 0, 0, 0, 0, 0, 0, 0, 0, 0, 0, 0, 0, 0, 0, 0, 0, 0, 0, 0, 0, 0, 0, 0, 0, 0, 0, 0, 0, 0, 0, 0, 0, 0, 0, 0, 0, 0, 0, 0, 0, 0, 0, 0, 0, 0, 0, 0, 0, 0, 0, 0, 0, 0, 0, 0, 0, 0, 0, 0, 0, 0, 0, 0, 0, 0, 0, 0, 0, 0, 0, 0, 0, 0, 0, 0, 0, 0, 0, 0, 0, 0, 0, 0, 0, 0, 0, 0, 0, 0, 0, 0, 0, 0, 0, 0, 0, 0, 0, 0, 0, 0, 0, 0, 0, 0, 0, 0, 0, 0, 0, 0, 0, 0, 0, 0, 0, 0, 0, 0, 0, 0, 0, 0, 0, 0, 0, 0, 0, 0, 0, 0, 0, 0, 0, 0, 0, 0, 0, 0, 0, 0, 0, 0, 0, 0, 0, 0, 0, 0, 0, 0, 0, 0, 0, 0, 0, 0, 0, 0, 0, 0, 0, 0, 0, 0, 0, 0, 0, 0, 0, 0, 0, 0, 0, 0, 0, 0, 0, 1, 0, 0, 0, 0, 0, 0, 0, 0, 0, 0, 0, 0, 0, 0, 0, 0, 0, 0, 0, 0, 0, 0, 0, 0, 0, 0, 0, 0, 0, 0, 0, 0, 0, 0, 0, 0, 0, 0, 0, 0, 0, 0, 0, 0, 0, 0, 0, 0, 0, 0, 0, 0, 0, 0, 0, 0, 0, 0, 0, 0, 0, 0, 0, 0, 0, 0, 0, 0, 0, 0, 0, 0, 0, 0, 0, 0, 0, 0, 0, 0, 0, 0, 0, 0, 0, 0, 1, 0, 0, 0, 0, 0, 0, 0, 0, 0, 0, 0, 0, 0, 0, 0, 0, 0, 0, 0, 0, 0, 0, 0, 0, 0, 0, 0, 0, 0, 0, 0, 0, 0, 0, 0, 0, 0, 0, 0, 0, 0, 0, 0, 0, 0, 0, 0, 0, 0, 0, 0, 0, 0, 0, 0, 0, 0, 0, 0, 0, 0, 0, 0, 0, 0, 0, 0, 0, 0, 0, 0, 0, 0, 0, 0, 0, 0, 0, 0, 0, 0, 0, 0, 0, 0, 0, 0, 0, 0, 0, 0, 0, 0, 0, 0, 0, 0, 0, 0, 0, 0, 0, 0, 0, 0, 0, 0, 0, 0, 0, 0, 0, 0, 0, 0, 0, 0, 0, 0, 0, 0, 0, 0, 0, 0, 0, 0, 0, 0, 0, 0, 0, 0, 0, 0, 0, 0, 0, 0, 0, 0, 0, 0, 0, 0, 0, 0, 0, 0, 0, 0, 0, 0, 0, 0, 0, 0, 0, 0, 0, 0, 0, 0, 0, 0, 0, 0, 0, 0, 0, 0, 0, 0, 0, 0, 0, 0, 0, 0, 0, 0, 0, 0, 0, 0, 0, 0, 0, 0, 0, 0, 0, 0, 0, 0, 0, 0, 0, 0, 0, 0, 0, 0, 0, 0, 0, 0, 0, 0, 0, 0, 0, 0, 0, 0, 0, 0, 0, 0, 0, 0, 0, 0, 0, 0, 0, 0, 0, 0, 0, 0, 0, 0, 0, 0, 0, 0, 0, 0, 0, 0, 0, 0, 0, 0, 0, 0, 0, 0, 0, 0, 0, 1, 0, 0, 0, 0, 0, 0, 0, 0, 0, 0, 0, 0, 0, 0, 0, 0, 0, 0, 0, 0, 0, 0, 0, 0, 0, 0, 0, 0, 0, 0, 0, 0, 0, 0, 0, 0, 0, 0, 0, 0, 0, 0, 0, 0, 0, 0, 0, 0, 0, 0, 0, 0, 0, 0, 0, 1, 0, 0, 0, 0, 0, 0, 0, 0, 0, 0, 0, 0, 0, 0, 0, 0, 0, 0, 0, 0, 0, 0, 0, 0, 0, 0, 0, 0, 0, 0, 0, 0, 0, 0, 0, 0, 0, 0, 0, 0, 0, 0, 0, 0, 0, 0, 0, 0, 0, 0, 0, 0, 0, 0, 0, 0, 0, 0, 0, 0, 0, 0, 0, 0, 0, 0, 0, 0, 0, 0, 0, 0, 0, 0, 0, 0, 0, 0, 0, 0, 0, 0, 0, 0, 0, 0, 0, 0, 0, 0, 0, 0, 0, 0, 0, 0, 0, 0, 0, 0, 0, 0, 0, 0, 0, 0, 0, 0, 0, 0, 0, 0, 0, 0, 0, 0, 0, 0, 0, 0, 0, 0, 0, 0, 0, 0, 0, 0, 0, 0, 0, 0, 0, 0, 0, 0, 0, 0, 0, 0, 0, 0, 0, 0, 0, 0, 0, 0, 0, 0, 0, 0, 0, 0, 0, 0, 0, 0, 0, 0, 0, 0, 0, 0, 0, 0, 0, 0, 0, 0, 0, 0, 0, 0, 0, 0, 0, 0, 0, 0, 0, 0, 0, 0, 0, 0, 0, 0, 0, 0, 0, 0, 0, 0, 0, 0, 0, 0, 0, 0, 0, 0, 0, 0, 0, 0, 0, 0, 0, 0, 0, 0, 0, 0, 0, 0, 0, 0, 0, 0, 0, 0, 0, 0, 0, 0, 0, 0, 0, 0, 0, 0, 0, 0, 0, 0, 0, 0, 0, 0, 0, 0, 0, 0, 0, 0, 0, 0, 0, 0, 0, 0, 0, 0, 0, 0, 0, 0, 0, 0, 0, 0, 0, 0, 0, 0, 0, 0, 0, 0, 0, 0, 0, 0, 0, 0, 0, 0, 0, 0, 0, 0, 0, 0, 0, 0, 0, 0, 0, 0, 0, 0, 0, 0, 0, 0, 0, 0, 0, 0, 0, 0, 0, 0, 0, 0, 0, 0, 0, 0, 0, 0, 0, 0, 0, 0, 0, 0, 0, 0, 0, 0, 0, 0, 0, 0, 0, 0, 0, 0, 0, 0, 0, 0, 0, 0, 0, 0, 0, 0, 0, 0, 0, 0, 0, 0, 0, 0, 0, 0, 0, 0, 0, 0, 0, 0, 0, 0, 0, 0, 0, 0, 0, 0, 0, 0, 0, 0, 0, 0, 0, 0, 0, 0, 0, 0, 0, 0, 0, 0, 0, 0, 0, 0, 0, 0, 0, 0, 0, 0, 0, 0, 0, 0, 0, 0, 0, 0, 0, 0, 0, 0, 0, 0, 0, 0, 0, 0, 0, 0, 0, 0, 0, 0, 0, 0, 0, 0, 0, 0, 0, 0, 0, 0, 0, 0, 0, 0, 0, 0, 0, 0, 0, 0, 0, 0, 0, 0, 0, 0, 0, 0, 0, 0, 0, 0, 0, 0, 0, 0, 0, 0, 0, 0, 0, 0, 0, 0, 0, 0, 0, 0, 0, 0, 0, 0, 0, 0, 0, 0, 0, 0, 0, 0, 0, 0, 0, 0, 0, 0, 0, 0, 0, 0, 0, 0, 0, 0, 0, 0, 0, 0, 0, 0, 0, 0, 0, 0, 0, 0, 0, 0, 0, 0, 0, 0, 0, 0, 0, 0, 0, 0, 0, 0, 0, 0, 0, 0, 0, 0, 0, 0, 0, 0, 0, 0, 0, 0, 0, 0, 0, 0, 0, 0, 0, 0, 0, 0, 0, 0, 0, 0, 0, 0, 0, 0, 0, 0, 0, 0, 0, 0, 0, 0, 0, 0, 0, 0, 0, 0, 0, 0, 0, 0, 0, 0, 0, 0, 0, 0, 0, 0, 0, 0, 0, 0, 0, 0, 0, 0, 0, 0, 0, 0, 0, 0, 0, 0, 0, 0, 0, 0, 0, 0, 0, 0, 0, 0, 0, 0, 0, 0, 0, 0, 0, 0, 0, 0, 0, 0, 0, 0, 0, 0, 0, 0, 0, 0, 0, 0, 0, 0, 0, 0, 0, 0, 0, 0, 0, 0, 0, 0, 0, 0, 0, 0, 0, 0, 0, 0, 0, 0, 0, 0, 0, 0, 0, 0, 0, 0, 0, 0, 0, 0, 0, 0, 0, 0, 0, 0, 0, 0, 0, 0, 0, 0, 0, 0, 0, 0, 0, 0, 0, 0, 0, 0, 0, 0, 0, 0, 0, 1, 0, 0, 0, 0, 0, 0, 0, 0, 0, 0, 0, 0, 0, 0, 0, 0, 0, 0, 0, 0, 0, 0, 0, 0, 0, 0, 0, 0, 0, 0, 0, 0, 0, 0, 0, 0, 0, 0, 0, 0, 0, 0, 0, 0, 0, 0, 0, 0, 0, 0, 0, 0, 0, 0, 0, 0, 0, 0, 0, 0, 0, 0, 0, 0, 0, 0, 0, 0, 0, 0, 0, 0, 0, 0, 1, 0, 0, 0, 0, 0, 0, 0, 0, 0, 0, 0, 0, 0, 0, 0, 0, 0, 0, 0, 0, 1, 0, 0, 1, 0, 0, 0, 0, 0, 0, 0, 0, 0, 0, 0, 0, 0, 0, 0, 0, 0, 0, 0, 0, 0, 0, 0, 0, 0, 0, 0, 0, 0, 0, 0, 0, 0, 0, 0, 0, 0, 0, 0, 0, 0, 0, 0, 0, 0, 0, 0, 0, 0, 0, 0, 0, 0, 0, 0, 0, 0, 0, 0, 0, 0, 0, 0, 0, 0, 0, 0, 0, 0, 0, 0, 0, 0, 0, 0, 0, 0, 0, 0, 0, 0, 0, 0, 0, 0, 0, 0, 0, 0, 0, 0, 0, 0, 0, 0, 0, 0, 0, 0, 0, 0, 0, 0, 0, 0, 0, 0, 0, 0, 0, 0, 0, 0, 0, 0, 0, 0, 0, 0, 0, 0, 0, 0, 0, 0, 0, 0, 0, 0, 0, 0, 0, 0, 0, 0, 0, 0, 0, 0, 0, 0, 0, 0, 0, 0, 0, 0, 0, 0, 0, 0, 0, 0, 0, 0, 0, 0, 0, 0, 0, 0, 0, 0, 0, 0, 0, 0, 0, 0, 0, 0, 0, 0, 0, 0, 0, 0, 0, 0, 0, 0, 0, 0, 0, 0, 0, 0, 0, 0, 0, 0, 0, 0, 0, 0, 0, 0, 0, 0, 0, 0, 0, 0, 0, 0, 0, 0, 0, 0, 0, 0, 0, 0, 0, 0, 0, 0, 0, 0, 0, 0, 0, 0, 0, 0, 0, 0, 0, 0, 0, 0, 0, 0, 0, 0, 0, 0, 0, 0, 0, 0, 0, 0, 0, 0, 0, 0, 0, 0, 0, 0, 0, 0, 0, 0, 0, 0, 0, 0, 0, 0, 0, 0, 0, 0, 0, 0, 0, 0, 0, 0, 0, 0, 0, 0, 0, 0, 0, 0, 0, 0, 0, 0, 0, 0, 0, 0, 0, 0, 0, 0, 0, 0, 0, 0, 0, 0, 0, 0, 0, 0, 0, 0, 0, 0, 0, 0, 0, 0, 0, 0, 0, 0, 0, 0, 0, 0, 0, 0, 0, 0, 0, 0, 0, 0, 0, 0, 0, 0, 0, 0, 0, 0, 0, 0, 0, 0, 0, 0, 0, 0, 0, 0, 0, 0, 0, 0, 0, 0, 0, 0, 0, 0, 0, 0, 0, 0, 0, 0, 0, 0, 0, 0, 0, 0, 0, 0, 0, 0, 0, 0, 0, 0, 0, 0, 0, 0, 0, 0, 0, 0, 0, 0, 0, 0, 0, 0, 0, 0, 0, 0, 0, 0, 0, 0, 0, 0, 0, 0, 0, 0, 0, 0, 0, 0, 0, 0, 0, 0, 0, 0, 0, 0, 0, 0, 0, 0, 0, 0, 0, 0, 0, 0, 0, 0, 0, 0, 0, 0, 0, 0, 0, 0, 0, 0, 0, 0, 0, 0, 0, 0, 0, 0, 0, 0, 0, 0, 0, 0, 0, 0, 0, 0, 0, 0, 0, 0, 0, 0, 0, 0, 0, 0, 0, 0, 0, 1, 0, 0, 0, 0, 0, 0, 0, 0, 0, 0, 0, 0, 0, 0, 0, 0, 0, 0, 0, 0, 0, 0, 0, 0, 0, 0, 0, 0, 0, 0, 0, 0, 0, 0, 0, 0, 0, 0, 0, 0, 0, 0, 0, 0, 0, 0, 0, 0, 0, 0, 0, 0, 0, 0, 0, 0, 0, 0, 0, 0, 0, 0, 0, 0, 0, 0, 0, 0, 0, 0, 0, 0, 0, 0, 0, 0, 0, 0, 0, 0, 0, 0, 0, 0, 0, 0, 0, 0, 0, 0, 0, 0, 0, 0, 0, 0, 0, 0, 0, 0, 0, 0, 0, 0, 0, 0, 0, 0, 0, 0, 0, 0, 0, 0, 0, 0, 0, 0, 0, 0, 0, 0, 0, 0, 0, 0, 0, 0, 0, 0, 0, 0, 0, 0, 0, 0, 0, 0, 0, 0, 0, 0, 0, 0, 0, 0, 0, 0, 0, 0, 0, 0, 0, 0, 0, 0, 0, 0, 0, 0, 0, 0, 0, 0, 0, 0, 0, 0, 0, 0, 0, 0, 0, 0, 0, 0, 0, 0, 0, 0, 0, 0, 0, 0, 0, 0, 0, 0, 0, 0, 0, 0, 0, 0, 0, 0, 0, 0, 0, 0, 0, 0, 0, 0, 0, 0, 0, 0, 0, 0, 0, 0, 0, 0, 0, 0, 0, 0, 0, 0, 0, 0, 0, 0, 0, 0, 0, 0, 0, 0, 0, 0, 0, 0, 0, 0, 0, 0, 0, 0, 0, 0, 0, 0, 0, 0, 0, 0, 0, 0, 0, 0, 0, 0, 0, 0, 0, 0, 0, 0, 0, 0, 0, 0, 0, 0, 0, 0, 0, 0, 0, 0, 0, 0, 0, 0, 0, 0, 0, 0, 0, 0, 0, 0, 0, 0, 0, 0, 0, 0, 0, 0, 0, 0, 0, 0, 0, 0, 0, 0, 0, 0, 0, 0, 0, 0, 0, 0, 0, 0, 0, 0, 0, 0, 0, 0, 0, 0, 0, 0, 0, 0, 0, 0, 0, 0, 0, 0, 0, 0, 0, 0, 0, 0, 0, 0, 0, 0, 0, 0, 0, 0, 0, 0, 0, 0, 0, 0, 0, 0, 0, 0, 0, 0, 0, 0, 0, 0, 0, 0, 0, 0, 0, 0, 0, 0, 0, 0, 0, 0, 0, 0, 0, 0, 0, 0, 0, 0, 0, 0, 0, 0, 0, 0, 0, 0, 0, 0, 0, 0, 0, 0, 0, 0, 0, 0, 0, 0, 0, 0, 0, 0, 0, 0, 0, 0, 0, 0, 0, 0, 0, 0, 0, 0, 0, 0, 0, 0, 0, 0, 0, 0, 0, 0, 0, 0, 0, 0, 0, 0, 0, 0, 0, 0, 0, 0, 0, 0, 0, 0, 0, 0, 0, 0, 0, 0, 0, 0, 0, 0, 0, 0, 0, 0, 0, 0, 0, 0, 0, 0, 0, 0, 0, 0, 0, 0, 0, 0, 0, 0, 0, 0, 0, 0, 0, 0, 0, 0, 0, 0, 0, 0, 0, 0, 0, 0, 0, 0, 0, 0, 0, 0, 0, 0, 0, 0, 0, 0, 0, 0, 0, 0, 0, 0, 0, 0, 0, 0, 0, 0, 0, 0, 1, 0, 0, 0, 0, 0, 0, 0, 0, 0, 0, 0, 0, 0, 0, 0, 0, 0, 0, 0, 0, 0, 0, 0, 0, 0, 0, 0, 0, 0, 0, 0, 0, 0, 0, 0, 2, 0, 0, 0, 0, 0, 0, 0, 0, 0, 0, 0, 0, 0, 0, 0, 0, 0, 0, 0, 0, 0, 0, 0, 0, 0, 0, 0, 0, 0, 0, 0, 0, 0, 0, 0, 0, 0, 0, 0, 0, 1, 0, 0, 0, 0, 0, 0, 0, 0, 0, 0, 0, 0, 0, 0, 0, 0, 0, 0, 0, 0, 0, 0, 0, 0, 0, 0, 0, 0, 0, 0, 0, 0, 0, 0, 0, 0, 0, 0, 0, 0, 0, 0, 0, 0, 0, 0, 0, 0, 0, 0, 0, 0, 0, 0, 0, 0, 0, 0, 0, 0, 0, 0, 0, 0, 0, 0, 0, 0, 0, 0, 0, 0, 0, 0, 0, 0, 0, 0, 0, 0, 0, 0, 0, 0, 0, 0, 0, 0, 0, 0, 0, 0, 0, 0, 0, 0, 0, 0, 0, 0, 0, 0, 0, 0, 0, 0, 0, 0, 0, 0, 0, 0, 0, 0, 0, 0, 0, 0, 0, 0, 0, 0, 0, 0, 0, 0, 0, 0, 0, 0, 0, 0, 0, 0, 0, 0, 0, 0, 0, 0, 0, 0, 0, 0, 0, 0, 0, 0, 0, 0, 0, 0, 0, 0, 0, 0, 0, 0, 0, 0, 0, 0, 0, 0, 0, 0, 0, 0, 0, 0, 0, 0, 0, 0, 0, 0, 0, 0, 0, 0, 0, 0, 0, 0, 0, 0, 0, 0, 0, 0, 0, 0, 0, 0, 0, 0, 0, 0, 0, 0, 0, 0, 0, 0, 0, 0, 0, 0, 0, 0, 0, 0, 0, 0, 0, 0, 0, 0, 0, 0, 0, 0, 0, 0, 0, 0, 0, 0, 0, 0, 0, 0, 0, 0, 0, 0, 0, 0, 0, 0, 0, 0, 0, 0, 0, 0, 0, 0, 0, 0, 0, 0, 0, 0, 0, 0, 0, 0, 0, 0, 0, 0, 0, 0, 0, 0, 0, 0, 0, 0, 0, 0, 0, 0, 0, 0, 0, 0, 0, 0, 0, 0, 0, 0, 0, 0, 0, 0, 0, 0, 0, 0, 0, 0, 0, 0, 0, 0, 0, 0, 0, 0, 0, 0, 0, 0, 0, 0, 0, 0, 0, 0, 0, 0, 0, 0, 0, 0, 0, 0, 0, 0, 0, 0, 0, 0, 0, 0, 0, 0, 0, 0, 0, 0, 0, 0, 0, 0, 0, 0, 0, 0, 0, 0, 0, 0, 0, 0, 0, 0, 0, 0, 0, 0, 0, 0, 0, 0, 0, 0, 0, 0, 0, 0, 0, 0, 0, 0, 0, 0, 0, 0, 0, 0, 0, 0, 0, 0, 0, 0, 0, 0, 0, 0, 0, 0, 0, 0, 0, 0, 0, 0, 0, 0, 0, 0, 0, 0, 0, 0, 0, 0, 0, 0, 0, 0, 0, 0, 0, 0, 0, 0, 0, 0, 0, 0, 0, 0, 0, 0, 0, 0, 0, 0, 0, 0, 0, 0, 0, 0, 0, 0, 0, 0, 0, 0, 0, 0, 0, 0, 0, 0, 0, 0, 0, 0, 0, 0, 0, 0, 0, 0, 0, 0, 0, 0, 0, 0, 0, 0, 0, 0, 0, 0, 0, 0, 0, 0, 0, 0, 0, 0, 0, 0, 0, 0, 0, 0, 0, 0, 0, 0, 0, 0, 0, 0, 0, 0, 0, 0, 0, 0, 0, 0, 0, 0, 0, 1, 0, 0, 0, 0, 0, 0, 0, 0, 0, 0, 0, 0, 0, 0, 0, 0, 0, 0, 0, 0, 0, 0, 0, 0, 0, 0, 0, 0, 0, 0, 0, 0, 0, 0, 0, 0, 0, 0, 0, 0, 0, 0, 0, 0, 0, 0, 0, 0, 0, 0, 0, 0, 0, 0, 0, 0, 0, 0, 0, 0, 0, 0, 0, 0, 0, 0, 0, 0, 0, 0, 0, 0, 0, 0, 0, 0, 0, 0, 0, 0, 0, 0, 0, 0, 0, 0, 0, 0, 0, 0, 0, 0, 0, 0, 0, 0, 0, 0, 0, 0, 0, 0, 0, 0, 0, 0, 0, 0, 0, 0, 2, 0, 0, 0, 0, 0, 0, 0, 0, 0, 0, 0, 0, 0, 0, 0, 0, 0, 0, 0, 0, 0, 0, 0, 0, 0, 0, 0, 0, 0, 0, 0, 0, 0, 0, 0, 0, 0, 0, 0, 0, 0, 0, 0, 0, 0, 0, 0, 0, 0, 0, 0, 0, 0, 0, 0, 0, 0, 0, 0, 0, 0, 0, 0, 0, 0, 0, 0, 0, 0, 0, 0, 0, 0, 0, 0, 0, 0, 0, 0, 0, 0, 0, 0, 0, 0, 0, 0, 0, 0, 0, 0, 0, 0, 0, 0, 0, 0, 0, 0, 0, 0, 0, 0, 0, 0, 0, 0, 0, 0, 0, 0, 0, 0, 0, 0, 0, 0, 0, 0, 0, 0, 0, 0, 0, 0, 0, 0, 0, 0, 0, 0, 0, 0, 0, 0, 0, 0, 0, 0, 0, 0, 0, 0, 0, 0, 0, 0, 0, 0, 0, 0, 0, 0, 0, 0, 0, 0, 0, 0, 0, 0, 0, 0, 0, 0, 0, 0, 0, 0, 0, 0, 0, 0, 0, 0, 0, 0, 0, 0, 0, 0, 0, 0, 0, 0, 0, 0, 0, 0, 0, 0, 0, 0, 0, 0, 0, 0, 0, 0, 0, 0, 0, 0, 0, 0, 0, 0, 0, 0, 0, 0, 0, 0, 0, 0, 0, 0, 0, 0, 0, 0, 0, 0, 0, 0, 0, 0, 0, 0, 0, 0, 0, 0, 0, 0, 0, 0, 0, 0, 0, 0, 0, 0, 0, 0, 0, 0, 0, 0, 0, 0, 0, 0, 0, 0, 0, 0, 0, 0, 0, 0, 0, 0, 0, 0, 0, 0, 0, 0, 0, 0, 0, 0, 0, 0, 0, 0, 0, 0, 0, 0, 0, 0, 0, 0, 0, 0, 0, 0, 0, 0, 0, 0, 0, 0, 0, 0, 0, 0, 0, 0, 0, 0, 0, 0, 0, 0, 0, 0, 0, 0, 0, 0, 0, 0, 0, 0, 0, 0, 0, 0, 0, 0, 0, 0, 0, 0, 0, 0, 0, 0, 0, 0, 0, 0, 0, 0, 0, 0, 0, 0, 0, 0, 0, 0, 0, 0, 0, 0, 0, 0, 0, 0, 0, 0, 0, 0, 0, 0, 0, 0, 0, 0, 0, 0, 0, 0, 0, 0, 0, 0, 0, 0, 0, 0, 0, 0, 0, 0, 0, 0, 0, 0, 0, 0, 0, 0, 0, 0, 0, 0, 0, 0, 0, 0, 0, 0, 0, 0, 0, 0, 0, 0, 0, 0, 0, 0, 0, 0, 0, 0, 0, 0, 0, 0, 0, 0, 0, 0, 0, 0, 0, 0, 0, 0, 0, 0, 0, 0, 0, 0, 0, 0, 0, 0, 0, 0, 0, 0, 0, 0, 0, 0, 0, 0, 0, 0, 0, 0, 0, 0, 0, 0, 0, 0, 0, 0, 0, 0, 0, 0, 0, 0, 0, 0, 0, 0, 0, 0, 0, 0, 0, 0, 0, 0, 0, 0, 0, 0, 0, 0, 0, 0, 0, 0, 0, 0, 0, 0, 0, 0, 0, 0, 0, 0, 0, 0, 0, 0, 0, 0, 0, 0, 0, 0, 0, 0, 0, 0, 0, 0, 0, 0, 0, 0, 0, 0, 0, 0, 0, 0, 0, 0, 0, 0, 0, 0, 0, 0, 0, 0, 0, 0, 0, 0, 0, 0, 0, 0, 0, 0, 0, 0, 0, 0, 0, 0, 0, 0, 0, 0, 0, 0, 0, 0, 0, 0, 0, 0, 0, 0, 0, 0, 0, 0, 0, 0, 0, 0, 0, 0, 0, 0, 0, 0, 0, 0, 0, 0, 0, 0, 0, 0, 0, 0, 0, 0, 0, 0, 0, 0, 0, 0, 0, 0, 0, 0, 0, 0, 0, 0, 0, 0, 0, 0, 0, 0, 0, 0, 0, 0, 0, 0, 0, 0, 0, 0, 0, 0, 0, 0, 0, 0, 0, 0, 0, 0, 0, 0, 0, 0, 0, 0, 0, 0, 0, 0, 0, 0, 0, 0, 0, 0, 0, 0, 0, 0, 0, 0, 0, 0, 0, 0, 0, 0, 0, 0, 0, 0, 0, 0, 0, 0, 0, 0, 0, 0, 0, 0, 0, 0, 0, 0, 0, 0, 0, 0, 0, 0, 0, 0, 0, 0, 0, 0, 0, 0, 0, 0, 0, 1, 0, 0, 0, 0, 0, 0, 0, 0, 0, 0, 0, 0, 0, 0, 0, 0, 0, 0, 0, 0, 0, 0, 0, 0, 0, 0, 0, 0, 0, 0, 0, 0, 0, 0, 0, 0, 0, 0, 0, 0, 0, 0, 0, 0, 0, 0, 0, 0, 0, 0, 0, 0, 0, 0, 0, 0, 0, 0, 0, 0, 0, 0, 0, 0, 0, 0, 0, 0, 0, 0, 0, 0, 0, 0, 0, 0, 0, 0, 0, 0, 0, 0, 0, 0, 0, 0, 0, 0, 0, 0, 0, 0, 0, 0, 0, 0, 0, 0, 0, 0, 0, 0, 0, 0, 0, 0, 0, 1, 0, 0, 0, 0, 0, 0, 0, 0, 0, 0, 0, 0, 0, 0, 0, 0, 0, 0, 0, 0, 0, 0, 0, 0, 0, 0, 0, 0, 0, 0, 0, 0, 0, 0, 0, 0, 0, 0, 0, 0, 0, 0, 0, 0, 0, 0, 0, 0, 0, 0, 0, 0, 0, 0, 0, 0, 0, 0, 0, 0, 0, 0, 0, 0, 0, 0, 0, 0, 0, 0, 0, 0, 0, 0, 0, 0, 0, 0, 0, 0, 0, 0, 0, 0, 0, 0, 0, 0, 0, 0, 0, 0, 0, 0, 0, 0, 0, 0, 0, 0, 0, 0, 0, 0, 0, 0, 0, 0, 0, 0, 0, 0, 0, 0, 0, 0, 0, 0, 0, 0, 0, 0, 0, 0, 0, 0, 0, 0, 0, 0, 0, 0, 0, 0, 0, 0, 0, 0, 0, 0, 0, 0, 0, 0, 0, 0, 0, 0, 0, 0, 0, 0, 0, 0, 0, 0, 0, 0, 0, 0, 0, 0, 0, 0, 0, 0, 0, 0, 0, 0, 0, 0, 0, 0, 0, 0, 0, 0, 0, 0, 0, 0, 0, 0, 0, 0, 0, 0, 0, 0, 0, 0, 0, 0, 0, 0, 0, 0, 0, 0, 0, 0, 0, 0, 0, 0, 0, 0, 0, 0, 0, 0, 0, 0, 0, 0, 0, 0, 0, 0, 0, 0, 0, 0, 0, 0, 0, 0, 0, 0, 0, 0, 0, 0, 0, 0, 0, 0, 0, 0, 0, 0, 0, 0, 0, 0, 0, 0, 0, 0, 0, 0, 0, 0, 0, 0, 0, 0, 0, 0, 0, 0, 0, 0, 0, 0, 0, 0, 0, 0, 0, 0, 0, 0, 0, 0, 0, 0, 0, 0, 0, 0, 0, 0, 0, 0, 0, 0, 0, 0, 0, 0, 0, 0, 0, 0, 0, 0, 0, 0, 0, 0, 0, 0, 0, 0, 0, 0, 0, 0, 0, 0, 0, 0, 0, 0, 0, 0, 0, 0, 0, 0, 0, 0, 0, 0, 0, 0, 0, 0, 0, 0, 0, 0, 0, 0, 0, 0, 0, 0, 0, 0, 0, 0, 0, 0, 0, 0, 0, 0, 0, 0, 0, 0, 0, 0, 0, 0, 0, 0, 0, 0, 0, 0, 0, 0, 0, 0, 0, 0, 0, 0, 0, 0, 0, 0, 0, 0, 0, 0, 0, 0, 0, 0, 0, 0, 0, 0, 0, 0, 0, 0, 0, 0, 0, 0, 0, 0, 0, 0, 0, 0, 0, 0, 0, 0, 0, 0, 0, 0, 0, 0, 0, 0, 0, 0, 0, 0, 0, 0, 0, 0, 0, 0, 0, 0, 0, 0, 0, 0, 0, 0, 0, 0, 0, 0, 0, 0, 0, 0, 0, 0, 0, 0, 0, 0, 0, 0, 0, 0, 0, 0, 0, 0, 0, 0, 0, 0, 0, 0, 0, 0, 0, 2, 0, 1, 0], type: <class 'list'>, valid types: <class 'bytes'>, <class 'bytearray'>, file-like object",
     "output_type": "error",
     "traceback": [
      "\u001b[0;31m---------------------------------------------------------------------------\u001b[0m",
      "\u001b[0;31mParamValidationError\u001b[0m                      Traceback (most recent call last)",
      "\u001b[0;32m<ipython-input-45-1805bab07953>\u001b[0m in \u001b[0;36m<module>\u001b[0;34m()\u001b[0m\n\u001b[1;32m      1\u001b[0m response = runtime.invoke_endpoint(EndpointName = xgb_predictor.endpoint, # The name of the endpoint we created\n\u001b[1;32m      2\u001b[0m                                        \u001b[0mContentType\u001b[0m \u001b[0;34m=\u001b[0m \u001b[0;34m'text/csv'\u001b[0m\u001b[0;34m,\u001b[0m                     \u001b[0;31m# The data format that is expected\u001b[0m\u001b[0;34m\u001b[0m\u001b[0m\n\u001b[0;32m----> 3\u001b[0;31m                                        Body = test_bow)\n\u001b[0m\u001b[1;32m      4\u001b[0m \u001b[0;34m\u001b[0m\u001b[0m\n\u001b[1;32m      5\u001b[0m \u001b[0mprint\u001b[0m\u001b[0;34m(\u001b[0m\u001b[0mtest_bow\u001b[0m\u001b[0;34m)\u001b[0m\u001b[0;34m\u001b[0m\u001b[0m\n",
      "\u001b[0;32m~/anaconda3/envs/python3/lib/python3.6/site-packages/botocore/client.py\u001b[0m in \u001b[0;36m_api_call\u001b[0;34m(self, *args, **kwargs)\u001b[0m\n\u001b[1;32m    314\u001b[0m                     \"%s() only accepts keyword arguments.\" % py_operation_name)\n\u001b[1;32m    315\u001b[0m             \u001b[0;31m# The \"self\" in this scope is referring to the BaseClient.\u001b[0m\u001b[0;34m\u001b[0m\u001b[0;34m\u001b[0m\u001b[0m\n\u001b[0;32m--> 316\u001b[0;31m             \u001b[0;32mreturn\u001b[0m \u001b[0mself\u001b[0m\u001b[0;34m.\u001b[0m\u001b[0m_make_api_call\u001b[0m\u001b[0;34m(\u001b[0m\u001b[0moperation_name\u001b[0m\u001b[0;34m,\u001b[0m \u001b[0mkwargs\u001b[0m\u001b[0;34m)\u001b[0m\u001b[0;34m\u001b[0m\u001b[0m\n\u001b[0m\u001b[1;32m    317\u001b[0m \u001b[0;34m\u001b[0m\u001b[0m\n\u001b[1;32m    318\u001b[0m         \u001b[0m_api_call\u001b[0m\u001b[0;34m.\u001b[0m\u001b[0m__name__\u001b[0m \u001b[0;34m=\u001b[0m \u001b[0mstr\u001b[0m\u001b[0;34m(\u001b[0m\u001b[0mpy_operation_name\u001b[0m\u001b[0;34m)\u001b[0m\u001b[0;34m\u001b[0m\u001b[0m\n",
      "\u001b[0;32m~/anaconda3/envs/python3/lib/python3.6/site-packages/botocore/client.py\u001b[0m in \u001b[0;36m_make_api_call\u001b[0;34m(self, operation_name, api_params)\u001b[0m\n\u001b[1;32m    597\u001b[0m         }\n\u001b[1;32m    598\u001b[0m         request_dict = self._convert_to_request_dict(\n\u001b[0;32m--> 599\u001b[0;31m             api_params, operation_model, context=request_context)\n\u001b[0m\u001b[1;32m    600\u001b[0m \u001b[0;34m\u001b[0m\u001b[0m\n\u001b[1;32m    601\u001b[0m         \u001b[0mservice_id\u001b[0m \u001b[0;34m=\u001b[0m \u001b[0mself\u001b[0m\u001b[0;34m.\u001b[0m\u001b[0m_service_model\u001b[0m\u001b[0;34m.\u001b[0m\u001b[0mservice_id\u001b[0m\u001b[0;34m.\u001b[0m\u001b[0mhyphenize\u001b[0m\u001b[0;34m(\u001b[0m\u001b[0;34m)\u001b[0m\u001b[0;34m\u001b[0m\u001b[0m\n",
      "\u001b[0;32m~/anaconda3/envs/python3/lib/python3.6/site-packages/botocore/client.py\u001b[0m in \u001b[0;36m_convert_to_request_dict\u001b[0;34m(self, api_params, operation_model, context)\u001b[0m\n\u001b[1;32m    645\u001b[0m             api_params, operation_model, context)\n\u001b[1;32m    646\u001b[0m         request_dict = self._serializer.serialize_to_request(\n\u001b[0;32m--> 647\u001b[0;31m             api_params, operation_model)\n\u001b[0m\u001b[1;32m    648\u001b[0m         \u001b[0;32mif\u001b[0m \u001b[0;32mnot\u001b[0m \u001b[0mself\u001b[0m\u001b[0;34m.\u001b[0m\u001b[0m_client_config\u001b[0m\u001b[0;34m.\u001b[0m\u001b[0minject_host_prefix\u001b[0m\u001b[0;34m:\u001b[0m\u001b[0;34m\u001b[0m\u001b[0m\n\u001b[1;32m    649\u001b[0m             \u001b[0mrequest_dict\u001b[0m\u001b[0;34m.\u001b[0m\u001b[0mpop\u001b[0m\u001b[0;34m(\u001b[0m\u001b[0;34m'host_prefix'\u001b[0m\u001b[0;34m,\u001b[0m \u001b[0;32mNone\u001b[0m\u001b[0;34m)\u001b[0m\u001b[0;34m\u001b[0m\u001b[0m\n",
      "\u001b[0;32m~/anaconda3/envs/python3/lib/python3.6/site-packages/botocore/validate.py\u001b[0m in \u001b[0;36mserialize_to_request\u001b[0;34m(self, parameters, operation_model)\u001b[0m\n\u001b[1;32m    295\u001b[0m                                                     operation_model.input_shape)\n\u001b[1;32m    296\u001b[0m             \u001b[0;32mif\u001b[0m \u001b[0mreport\u001b[0m\u001b[0;34m.\u001b[0m\u001b[0mhas_errors\u001b[0m\u001b[0;34m(\u001b[0m\u001b[0;34m)\u001b[0m\u001b[0;34m:\u001b[0m\u001b[0;34m\u001b[0m\u001b[0m\n\u001b[0;32m--> 297\u001b[0;31m                 \u001b[0;32mraise\u001b[0m \u001b[0mParamValidationError\u001b[0m\u001b[0;34m(\u001b[0m\u001b[0mreport\u001b[0m\u001b[0;34m=\u001b[0m\u001b[0mreport\u001b[0m\u001b[0;34m.\u001b[0m\u001b[0mgenerate_report\u001b[0m\u001b[0;34m(\u001b[0m\u001b[0;34m)\u001b[0m\u001b[0;34m)\u001b[0m\u001b[0;34m\u001b[0m\u001b[0m\n\u001b[0m\u001b[1;32m    298\u001b[0m         return self._serializer.serialize_to_request(parameters,\n\u001b[1;32m    299\u001b[0m                                                      operation_model)\n",
      "\u001b[0;31mParamValidationError\u001b[0m: Parameter validation failed:\nInvalid type for parameter Body, value: [0, 0, 0, 0, 0, 0, 0, 0, 0, 0, 0, 0, 0, 0, 0, 0, 0, 0, 0, 0, 0, 0, 0, 0, 0, 0, 0, 0, 0, 0, 0, 0, 0, 0, 0, 0, 0, 0, 0, 0, 0, 0, 0, 0, 0, 0, 0, 0, 0, 0, 0, 0, 0, 0, 0, 0, 0, 0, 0, 0, 0, 0, 0, 0, 0, 0, 0, 0, 0, 0, 0, 0, 0, 0, 0, 0, 0, 0, 0, 0, 0, 0, 0, 0, 0, 0, 0, 0, 0, 0, 0, 0, 0, 0, 0, 0, 0, 0, 0, 0, 0, 0, 0, 0, 0, 0, 0, 0, 0, 0, 0, 0, 0, 0, 0, 0, 0, 0, 0, 0, 0, 0, 0, 0, 0, 0, 0, 0, 0, 0, 0, 0, 0, 0, 0, 0, 0, 0, 0, 0, 0, 0, 0, 0, 0, 0, 0, 0, 0, 0, 0, 0, 0, 0, 0, 0, 0, 0, 0, 0, 0, 0, 0, 0, 0, 0, 0, 0, 0, 0, 0, 0, 0, 0, 0, 0, 0, 0, 0, 0, 0, 0, 0, 0, 0, 0, 0, 0, 0, 0, 0, 0, 0, 0, 0, 0, 0, 0, 0, 0, 0, 0, 0, 0, 0, 0, 0, 0, 0, 0, 0, 0, 0, 0, 0, 0, 0, 0, 0, 0, 0, 0, 0, 0, 0, 0, 1, 0, 0, 0, 0, 0, 0, 0, 0, 0, 0, 0, 0, 0, 0, 0, 0, 0, 0, 0, 0, 0, 0, 0, 0, 0, 0, 0, 0, 0, 1, 0, 0, 0, 0, 0, 0, 0, 0, 0, 0, 0, 0, 0, 0, 0, 0, 0, 0, 0, 0, 0, 0, 0, 0, 0, 0, 0, 0, 0, 0, 0, 0, 0, 0, 0, 0, 0, 0, 0, 0, 0, 0, 0, 0, 0, 0, 0, 0, 0, 0, 0, 0, 0, 0, 0, 0, 0, 0, 0, 0, 0, 0, 0, 0, 0, 0, 0, 0, 0, 0, 0, 0, 0, 0, 0, 0, 0, 0, 0, 0, 0, 0, 0, 0, 0, 0, 0, 0, 0, 0, 0, 0, 0, 0, 0, 0, 0, 0, 0, 0, 0, 0, 0, 0, 0, 0, 0, 0, 0, 0, 0, 0, 0, 0, 0, 0, 0, 0, 0, 0, 0, 0, 0, 0, 0, 0, 0, 0, 0, 0, 0, 0, 0, 0, 0, 0, 0, 0, 0, 0, 0, 0, 0, 0, 0, 0, 0, 0, 0, 0, 0, 0, 0, 0, 0, 0, 0, 0, 0, 0, 0, 0, 0, 0, 0, 0, 0, 0, 0, 0, 0, 0, 0, 0, 0, 0, 0, 0, 0, 0, 0, 0, 0, 0, 0, 0, 0, 0, 0, 0, 0, 0, 0, 0, 0, 0, 0, 0, 0, 0, 0, 0, 0, 0, 0, 0, 0, 0, 0, 0, 0, 0, 0, 0, 0, 0, 0, 0, 0, 0, 0, 0, 0, 0, 0, 0, 0, 0, 0, 0, 0, 0, 0, 0, 0, 0, 0, 0, 0, 0, 0, 0, 0, 0, 0, 0, 0, 0, 0, 0, 0, 0, 0, 0, 0, 0, 0, 0, 0, 0, 0, 0, 0, 0, 0, 0, 0, 0, 0, 0, 0, 0, 0, 0, 0, 0, 0, 0, 0, 0, 0, 0, 0, 0, 0, 0, 0, 0, 0, 0, 0, 0, 0, 0, 0, 0, 0, 0, 0, 0, 0, 0, 0, 0, 0, 0, 0, 0, 0, 0, 0, 0, 0, 0, 0, 0, 0, 0, 0, 0, 0, 0, 0, 0, 0, 0, 0, 0, 0, 0, 0, 0, 0, 0, 0, 0, 0, 0, 0, 0, 0, 0, 0, 0, 0, 0, 0, 0, 0, 0, 0, 0, 0, 0, 0, 0, 0, 0, 0, 0, 0, 0, 0, 0, 0, 0, 0, 0, 0, 0, 0, 0, 0, 0, 0, 0, 0, 0, 0, 1, 0, 0, 0, 0, 0, 0, 0, 0, 0, 0, 0, 0, 0, 0, 0, 0, 0, 0, 0, 0, 0, 0, 0, 0, 0, 0, 0, 0, 0, 0, 0, 0, 0, 0, 0, 0, 0, 0, 0, 0, 0, 0, 0, 0, 0, 0, 0, 0, 0, 0, 0, 0, 0, 0, 0, 0, 0, 0, 0, 0, 0, 0, 0, 0, 0, 0, 0, 0, 0, 0, 0, 0, 0, 0, 0, 0, 0, 0, 0, 0, 0, 0, 0, 0, 0, 0, 0, 0, 0, 0, 0, 0, 0, 0, 0, 0, 0, 0, 0, 0, 0, 0, 0, 0, 0, 0, 0, 0, 0, 0, 0, 0, 0, 0, 0, 0, 0, 0, 0, 0, 0, 0, 0, 0, 0, 0, 0, 0, 0, 0, 0, 0, 0, 0, 0, 0, 0, 0, 0, 0, 0, 0, 0, 0, 0, 0, 0, 0, 0, 0, 0, 0, 0, 0, 0, 0, 0, 0, 0, 0, 0, 0, 0, 0, 0, 0, 0, 0, 0, 0, 0, 0, 0, 0, 0, 0, 0, 0, 0, 0, 0, 0, 0, 0, 0, 0, 0, 0, 0, 0, 0, 0, 0, 0, 0, 0, 0, 0, 0, 0, 0, 0, 0, 0, 0, 0, 0, 0, 0, 0, 0, 0, 0, 0, 0, 0, 0, 0, 0, 0, 0, 0, 0, 0, 0, 0, 0, 0, 0, 0, 0, 0, 0, 0, 0, 0, 0, 0, 0, 0, 0, 0, 0, 0, 0, 0, 0, 0, 0, 0, 0, 0, 0, 1, 0, 0, 0, 0, 0, 0, 0, 0, 0, 0, 0, 0, 0, 0, 0, 0, 0, 0, 0, 0, 0, 0, 0, 0, 0, 0, 0, 0, 0, 0, 0, 0, 0, 0, 0, 0, 0, 0, 0, 0, 0, 0, 0, 0, 0, 0, 0, 0, 0, 0, 0, 0, 0, 0, 0, 0, 0, 0, 0, 0, 0, 0, 0, 0, 0, 0, 0, 0, 0, 0, 0, 0, 0, 0, 0, 0, 0, 0, 0, 0, 0, 0, 0, 0, 0, 0, 1, 0, 0, 0, 0, 0, 0, 0, 0, 0, 0, 0, 0, 0, 0, 0, 0, 0, 0, 0, 0, 0, 0, 0, 0, 0, 0, 0, 0, 0, 0, 0, 0, 0, 0, 0, 0, 0, 0, 0, 0, 0, 0, 0, 0, 0, 0, 0, 0, 0, 0, 0, 0, 0, 0, 0, 0, 0, 0, 0, 0, 0, 0, 0, 0, 0, 0, 0, 0, 0, 0, 0, 0, 0, 0, 0, 0, 0, 0, 0, 0, 0, 0, 0, 0, 0, 0, 0, 0, 0, 0, 0, 0, 0, 0, 0, 0, 0, 0, 0, 0, 0, 0, 0, 0, 0, 0, 0, 0, 0, 0, 0, 0, 0, 0, 0, 0, 0, 0, 0, 0, 0, 0, 0, 0, 0, 0, 0, 0, 0, 0, 0, 0, 0, 0, 0, 0, 0, 0, 0, 0, 0, 0, 0, 0, 0, 0, 0, 0, 0, 0, 0, 0, 0, 0, 0, 0, 0, 0, 0, 0, 0, 0, 0, 0, 0, 0, 0, 0, 0, 0, 0, 0, 0, 0, 0, 0, 0, 0, 0, 0, 0, 0, 0, 0, 0, 0, 0, 0, 0, 0, 0, 0, 0, 0, 0, 0, 0, 0, 0, 0, 0, 0, 0, 0, 0, 0, 0, 0, 0, 0, 0, 0, 0, 0, 0, 0, 0, 0, 0, 0, 0, 0, 0, 0, 0, 0, 0, 0, 0, 0, 0, 0, 0, 0, 0, 0, 0, 0, 0, 0, 0, 0, 0, 0, 0, 0, 0, 0, 0, 0, 0, 0, 1, 0, 0, 0, 0, 0, 0, 0, 0, 0, 0, 0, 0, 0, 0, 0, 0, 0, 0, 0, 0, 0, 0, 0, 0, 0, 0, 0, 0, 0, 0, 0, 0, 0, 0, 0, 0, 0, 0, 0, 0, 0, 0, 0, 0, 0, 0, 0, 0, 0, 0, 0, 0, 0, 0, 0, 1, 0, 0, 0, 0, 0, 0, 0, 0, 0, 0, 0, 0, 0, 0, 0, 0, 0, 0, 0, 0, 0, 0, 0, 0, 0, 0, 0, 0, 0, 0, 0, 0, 0, 0, 0, 0, 0, 0, 0, 0, 0, 0, 0, 0, 0, 0, 0, 0, 0, 0, 0, 0, 0, 0, 0, 0, 0, 0, 0, 0, 0, 0, 0, 0, 0, 0, 0, 0, 0, 0, 0, 0, 0, 0, 0, 0, 0, 0, 0, 0, 0, 0, 0, 0, 0, 0, 0, 0, 0, 0, 0, 0, 0, 0, 0, 0, 0, 0, 0, 0, 0, 0, 0, 0, 0, 0, 0, 0, 0, 0, 0, 0, 0, 0, 0, 0, 0, 0, 0, 0, 0, 0, 0, 0, 0, 0, 0, 0, 0, 0, 0, 0, 0, 0, 0, 0, 0, 0, 0, 0, 0, 0, 0, 0, 0, 0, 0, 0, 0, 0, 0, 0, 0, 0, 0, 0, 0, 0, 0, 0, 0, 0, 0, 0, 0, 0, 0, 0, 0, 0, 0, 0, 0, 0, 0, 0, 0, 0, 0, 0, 0, 0, 0, 0, 0, 0, 0, 0, 0, 0, 0, 0, 0, 0, 0, 0, 0, 0, 0, 0, 0, 0, 0, 0, 0, 0, 0, 0, 0, 0, 0, 0, 0, 0, 0, 0, 0, 0, 0, 0, 0, 0, 0, 0, 0, 0, 0, 0, 0, 0, 0, 0, 0, 0, 0, 0, 0, 0, 0, 0, 0, 0, 0, 0, 0, 0, 0, 0, 0, 0, 0, 0, 0, 0, 0, 0, 0, 0, 0, 0, 0, 0, 0, 0, 0, 0, 0, 0, 0, 0, 0, 0, 0, 0, 0, 0, 0, 0, 0, 0, 0, 0, 0, 0, 0, 0, 0, 0, 0, 0, 0, 0, 0, 0, 0, 0, 0, 0, 0, 0, 0, 0, 0, 0, 0, 0, 0, 0, 0, 0, 0, 0, 0, 0, 0, 0, 0, 0, 0, 0, 0, 0, 0, 0, 0, 0, 0, 0, 0, 0, 0, 0, 0, 0, 0, 0, 0, 0, 0, 0, 0, 0, 0, 0, 0, 0, 0, 0, 0, 0, 0, 0, 0, 0, 0, 0, 0, 0, 0, 0, 0, 0, 0, 0, 0, 0, 0, 0, 0, 0, 0, 0, 0, 0, 0, 0, 0, 0, 0, 0, 0, 0, 0, 0, 0, 0, 0, 0, 0, 0, 0, 0, 0, 0, 0, 0, 0, 0, 0, 0, 0, 0, 0, 0, 0, 0, 0, 0, 0, 0, 0, 0, 0, 0, 0, 0, 0, 0, 0, 0, 0, 0, 0, 0, 0, 0, 0, 0, 0, 0, 0, 0, 0, 0, 0, 0, 0, 0, 0, 0, 0, 0, 0, 0, 0, 0, 0, 0, 0, 0, 0, 0, 0, 0, 0, 0, 0, 0, 0, 0, 0, 0, 0, 0, 0, 0, 0, 0, 0, 0, 0, 0, 0, 0, 0, 0, 0, 0, 0, 0, 0, 0, 0, 0, 0, 0, 0, 0, 0, 0, 0, 0, 0, 0, 0, 0, 0, 0, 0, 0, 0, 0, 0, 0, 0, 0, 0, 0, 0, 0, 0, 0, 0, 0, 0, 0, 0, 0, 0, 0, 0, 0, 0, 0, 0, 0, 0, 0, 0, 0, 0, 0, 0, 0, 0, 0, 0, 0, 0, 0, 0, 0, 0, 0, 0, 0, 0, 0, 0, 0, 0, 0, 0, 0, 0, 0, 0, 0, 0, 0, 0, 0, 0, 0, 0, 0, 0, 0, 0, 0, 0, 0, 0, 0, 0, 0, 0, 0, 0, 0, 0, 0, 0, 0, 0, 0, 0, 0, 0, 0, 0, 0, 0, 0, 0, 0, 0, 0, 0, 0, 0, 0, 0, 0, 0, 0, 0, 0, 0, 0, 0, 0, 0, 0, 0, 0, 0, 0, 0, 0, 0, 0, 0, 0, 0, 0, 0, 0, 0, 0, 0, 0, 0, 0, 0, 0, 0, 0, 0, 0, 0, 0, 0, 0, 0, 0, 0, 0, 0, 0, 0, 0, 0, 0, 0, 0, 0, 0, 0, 0, 0, 0, 0, 0, 0, 0, 0, 0, 0, 0, 0, 0, 0, 0, 0, 0, 0, 0, 0, 0, 0, 1, 0, 0, 0, 0, 0, 0, 0, 0, 0, 0, 0, 0, 0, 0, 0, 0, 0, 0, 0, 0, 0, 0, 0, 0, 0, 0, 0, 0, 0, 0, 0, 0, 0, 0, 0, 0, 0, 0, 0, 0, 0, 0, 0, 0, 0, 0, 0, 0, 0, 0, 0, 0, 0, 0, 0, 0, 0, 0, 0, 0, 0, 0, 0, 0, 0, 0, 0, 0, 0, 0, 0, 0, 0, 0, 1, 0, 0, 0, 0, 0, 0, 0, 0, 0, 0, 0, 0, 0, 0, 0, 0, 0, 0, 0, 0, 1, 0, 0, 1, 0, 0, 0, 0, 0, 0, 0, 0, 0, 0, 0, 0, 0, 0, 0, 0, 0, 0, 0, 0, 0, 0, 0, 0, 0, 0, 0, 0, 0, 0, 0, 0, 0, 0, 0, 0, 0, 0, 0, 0, 0, 0, 0, 0, 0, 0, 0, 0, 0, 0, 0, 0, 0, 0, 0, 0, 0, 0, 0, 0, 0, 0, 0, 0, 0, 0, 0, 0, 0, 0, 0, 0, 0, 0, 0, 0, 0, 0, 0, 0, 0, 0, 0, 0, 0, 0, 0, 0, 0, 0, 0, 0, 0, 0, 0, 0, 0, 0, 0, 0, 0, 0, 0, 0, 0, 0, 0, 0, 0, 0, 0, 0, 0, 0, 0, 0, 0, 0, 0, 0, 0, 0, 0, 0, 0, 0, 0, 0, 0, 0, 0, 0, 0, 0, 0, 0, 0, 0, 0, 0, 0, 0, 0, 0, 0, 0, 0, 0, 0, 0, 0, 0, 0, 0, 0, 0, 0, 0, 0, 0, 0, 0, 0, 0, 0, 0, 0, 0, 0, 0, 0, 0, 0, 0, 0, 0, 0, 0, 0, 0, 0, 0, 0, 0, 0, 0, 0, 0, 0, 0, 0, 0, 0, 0, 0, 0, 0, 0, 0, 0, 0, 0, 0, 0, 0, 0, 0, 0, 0, 0, 0, 0, 0, 0, 0, 0, 0, 0, 0, 0, 0, 0, 0, 0, 0, 0, 0, 0, 0, 0, 0, 0, 0, 0, 0, 0, 0, 0, 0, 0, 0, 0, 0, 0, 0, 0, 0, 0, 0, 0, 0, 0, 0, 0, 0, 0, 0, 0, 0, 0, 0, 0, 0, 0, 0, 0, 0, 0, 0, 0, 0, 0, 0, 0, 0, 0, 0, 0, 0, 0, 0, 0, 0, 0, 0, 0, 0, 0, 0, 0, 0, 0, 0, 0, 0, 0, 0, 0, 0, 0, 0, 0, 0, 0, 0, 0, 0, 0, 0, 0, 0, 0, 0, 0, 0, 0, 0, 0, 0, 0, 0, 0, 0, 0, 0, 0, 0, 0, 0, 0, 0, 0, 0, 0, 0, 0, 0, 0, 0, 0, 0, 0, 0, 0, 0, 0, 0, 0, 0, 0, 0, 0, 0, 0, 0, 0, 0, 0, 0, 0, 0, 0, 0, 0, 0, 0, 0, 0, 0, 0, 0, 0, 0, 0, 0, 0, 0, 0, 0, 0, 0, 0, 0, 0, 0, 0, 0, 0, 0, 0, 0, 0, 0, 0, 0, 0, 0, 0, 0, 0, 0, 0, 0, 0, 0, 0, 0, 0, 0, 0, 0, 0, 0, 0, 0, 0, 0, 0, 0, 0, 0, 0, 0, 0, 0, 0, 0, 0, 0, 0, 0, 0, 0, 0, 0, 0, 0, 0, 0, 0, 0, 0, 0, 0, 0, 0, 0, 0, 0, 0, 0, 0, 0, 0, 0, 0, 0, 0, 0, 0, 0, 0, 0, 0, 0, 0, 1, 0, 0, 0, 0, 0, 0, 0, 0, 0, 0, 0, 0, 0, 0, 0, 0, 0, 0, 0, 0, 0, 0, 0, 0, 0, 0, 0, 0, 0, 0, 0, 0, 0, 0, 0, 0, 0, 0, 0, 0, 0, 0, 0, 0, 0, 0, 0, 0, 0, 0, 0, 0, 0, 0, 0, 0, 0, 0, 0, 0, 0, 0, 0, 0, 0, 0, 0, 0, 0, 0, 0, 0, 0, 0, 0, 0, 0, 0, 0, 0, 0, 0, 0, 0, 0, 0, 0, 0, 0, 0, 0, 0, 0, 0, 0, 0, 0, 0, 0, 0, 0, 0, 0, 0, 0, 0, 0, 0, 0, 0, 0, 0, 0, 0, 0, 0, 0, 0, 0, 0, 0, 0, 0, 0, 0, 0, 0, 0, 0, 0, 0, 0, 0, 0, 0, 0, 0, 0, 0, 0, 0, 0, 0, 0, 0, 0, 0, 0, 0, 0, 0, 0, 0, 0, 0, 0, 0, 0, 0, 0, 0, 0, 0, 0, 0, 0, 0, 0, 0, 0, 0, 0, 0, 0, 0, 0, 0, 0, 0, 0, 0, 0, 0, 0, 0, 0, 0, 0, 0, 0, 0, 0, 0, 0, 0, 0, 0, 0, 0, 0, 0, 0, 0, 0, 0, 0, 0, 0, 0, 0, 0, 0, 0, 0, 0, 0, 0, 0, 0, 0, 0, 0, 0, 0, 0, 0, 0, 0, 0, 0, 0, 0, 0, 0, 0, 0, 0, 0, 0, 0, 0, 0, 0, 0, 0, 0, 0, 0, 0, 0, 0, 0, 0, 0, 0, 0, 0, 0, 0, 0, 0, 0, 0, 0, 0, 0, 0, 0, 0, 0, 0, 0, 0, 0, 0, 0, 0, 0, 0, 0, 0, 0, 0, 0, 0, 0, 0, 0, 0, 0, 0, 0, 0, 0, 0, 0, 0, 0, 0, 0, 0, 0, 0, 0, 0, 0, 0, 0, 0, 0, 0, 0, 0, 0, 0, 0, 0, 0, 0, 0, 0, 0, 0, 0, 0, 0, 0, 0, 0, 0, 0, 0, 0, 0, 0, 0, 0, 0, 0, 0, 0, 0, 0, 0, 0, 0, 0, 0, 0, 0, 0, 0, 0, 0, 0, 0, 0, 0, 0, 0, 0, 0, 0, 0, 0, 0, 0, 0, 0, 0, 0, 0, 0, 0, 0, 0, 0, 0, 0, 0, 0, 0, 0, 0, 0, 0, 0, 0, 0, 0, 0, 0, 0, 0, 0, 0, 0, 0, 0, 0, 0, 0, 0, 0, 0, 0, 0, 0, 0, 0, 0, 0, 0, 0, 0, 0, 0, 0, 0, 0, 0, 0, 0, 0, 0, 0, 0, 0, 0, 0, 0, 0, 0, 0, 0, 0, 0, 0, 0, 0, 0, 0, 0, 0, 0, 0, 0, 0, 0, 0, 0, 0, 0, 0, 0, 0, 0, 0, 0, 0, 0, 0, 0, 0, 0, 0, 0, 0, 0, 0, 0, 0, 0, 0, 0, 0, 0, 0, 0, 0, 0, 0, 0, 0, 0, 0, 0, 0, 0, 0, 0, 0, 0, 0, 0, 0, 0, 0, 0, 0, 0, 0, 0, 0, 0, 0, 0, 0, 0, 0, 0, 0, 1, 0, 0, 0, 0, 0, 0, 0, 0, 0, 0, 0, 0, 0, 0, 0, 0, 0, 0, 0, 0, 0, 0, 0, 0, 0, 0, 0, 0, 0, 0, 0, 0, 0, 0, 0, 2, 0, 0, 0, 0, 0, 0, 0, 0, 0, 0, 0, 0, 0, 0, 0, 0, 0, 0, 0, 0, 0, 0, 0, 0, 0, 0, 0, 0, 0, 0, 0, 0, 0, 0, 0, 0, 0, 0, 0, 0, 1, 0, 0, 0, 0, 0, 0, 0, 0, 0, 0, 0, 0, 0, 0, 0, 0, 0, 0, 0, 0, 0, 0, 0, 0, 0, 0, 0, 0, 0, 0, 0, 0, 0, 0, 0, 0, 0, 0, 0, 0, 0, 0, 0, 0, 0, 0, 0, 0, 0, 0, 0, 0, 0, 0, 0, 0, 0, 0, 0, 0, 0, 0, 0, 0, 0, 0, 0, 0, 0, 0, 0, 0, 0, 0, 0, 0, 0, 0, 0, 0, 0, 0, 0, 0, 0, 0, 0, 0, 0, 0, 0, 0, 0, 0, 0, 0, 0, 0, 0, 0, 0, 0, 0, 0, 0, 0, 0, 0, 0, 0, 0, 0, 0, 0, 0, 0, 0, 0, 0, 0, 0, 0, 0, 0, 0, 0, 0, 0, 0, 0, 0, 0, 0, 0, 0, 0, 0, 0, 0, 0, 0, 0, 0, 0, 0, 0, 0, 0, 0, 0, 0, 0, 0, 0, 0, 0, 0, 0, 0, 0, 0, 0, 0, 0, 0, 0, 0, 0, 0, 0, 0, 0, 0, 0, 0, 0, 0, 0, 0, 0, 0, 0, 0, 0, 0, 0, 0, 0, 0, 0, 0, 0, 0, 0, 0, 0, 0, 0, 0, 0, 0, 0, 0, 0, 0, 0, 0, 0, 0, 0, 0, 0, 0, 0, 0, 0, 0, 0, 0, 0, 0, 0, 0, 0, 0, 0, 0, 0, 0, 0, 0, 0, 0, 0, 0, 0, 0, 0, 0, 0, 0, 0, 0, 0, 0, 0, 0, 0, 0, 0, 0, 0, 0, 0, 0, 0, 0, 0, 0, 0, 0, 0, 0, 0, 0, 0, 0, 0, 0, 0, 0, 0, 0, 0, 0, 0, 0, 0, 0, 0, 0, 0, 0, 0, 0, 0, 0, 0, 0, 0, 0, 0, 0, 0, 0, 0, 0, 0, 0, 0, 0, 0, 0, 0, 0, 0, 0, 0, 0, 0, 0, 0, 0, 0, 0, 0, 0, 0, 0, 0, 0, 0, 0, 0, 0, 0, 0, 0, 0, 0, 0, 0, 0, 0, 0, 0, 0, 0, 0, 0, 0, 0, 0, 0, 0, 0, 0, 0, 0, 0, 0, 0, 0, 0, 0, 0, 0, 0, 0, 0, 0, 0, 0, 0, 0, 0, 0, 0, 0, 0, 0, 0, 0, 0, 0, 0, 0, 0, 0, 0, 0, 0, 0, 0, 0, 0, 0, 0, 0, 0, 0, 0, 0, 0, 0, 0, 0, 0, 0, 0, 0, 0, 0, 0, 0, 0, 0, 0, 0, 0, 0, 0, 0, 0, 0, 0, 0, 0, 0, 0, 0, 0, 0, 0, 0, 0, 0, 0, 0, 0, 0, 0, 0, 0, 0, 0, 0, 0, 0, 0, 0, 0, 0, 0, 0, 0, 0, 0, 0, 0, 0, 0, 0, 0, 0, 0, 0, 0, 0, 0, 0, 0, 0, 0, 0, 0, 0, 0, 0, 0, 0, 0, 0, 0, 0, 0, 0, 0, 0, 0, 0, 0, 0, 0, 0, 0, 0, 0, 0, 0, 0, 0, 0, 0, 0, 0, 0, 1, 0, 0, 0, 0, 0, 0, 0, 0, 0, 0, 0, 0, 0, 0, 0, 0, 0, 0, 0, 0, 0, 0, 0, 0, 0, 0, 0, 0, 0, 0, 0, 0, 0, 0, 0, 0, 0, 0, 0, 0, 0, 0, 0, 0, 0, 0, 0, 0, 0, 0, 0, 0, 0, 0, 0, 0, 0, 0, 0, 0, 0, 0, 0, 0, 0, 0, 0, 0, 0, 0, 0, 0, 0, 0, 0, 0, 0, 0, 0, 0, 0, 0, 0, 0, 0, 0, 0, 0, 0, 0, 0, 0, 0, 0, 0, 0, 0, 0, 0, 0, 0, 0, 0, 0, 0, 0, 0, 0, 0, 0, 2, 0, 0, 0, 0, 0, 0, 0, 0, 0, 0, 0, 0, 0, 0, 0, 0, 0, 0, 0, 0, 0, 0, 0, 0, 0, 0, 0, 0, 0, 0, 0, 0, 0, 0, 0, 0, 0, 0, 0, 0, 0, 0, 0, 0, 0, 0, 0, 0, 0, 0, 0, 0, 0, 0, 0, 0, 0, 0, 0, 0, 0, 0, 0, 0, 0, 0, 0, 0, 0, 0, 0, 0, 0, 0, 0, 0, 0, 0, 0, 0, 0, 0, 0, 0, 0, 0, 0, 0, 0, 0, 0, 0, 0, 0, 0, 0, 0, 0, 0, 0, 0, 0, 0, 0, 0, 0, 0, 0, 0, 0, 0, 0, 0, 0, 0, 0, 0, 0, 0, 0, 0, 0, 0, 0, 0, 0, 0, 0, 0, 0, 0, 0, 0, 0, 0, 0, 0, 0, 0, 0, 0, 0, 0, 0, 0, 0, 0, 0, 0, 0, 0, 0, 0, 0, 0, 0, 0, 0, 0, 0, 0, 0, 0, 0, 0, 0, 0, 0, 0, 0, 0, 0, 0, 0, 0, 0, 0, 0, 0, 0, 0, 0, 0, 0, 0, 0, 0, 0, 0, 0, 0, 0, 0, 0, 0, 0, 0, 0, 0, 0, 0, 0, 0, 0, 0, 0, 0, 0, 0, 0, 0, 0, 0, 0, 0, 0, 0, 0, 0, 0, 0, 0, 0, 0, 0, 0, 0, 0, 0, 0, 0, 0, 0, 0, 0, 0, 0, 0, 0, 0, 0, 0, 0, 0, 0, 0, 0, 0, 0, 0, 0, 0, 0, 0, 0, 0, 0, 0, 0, 0, 0, 0, 0, 0, 0, 0, 0, 0, 0, 0, 0, 0, 0, 0, 0, 0, 0, 0, 0, 0, 0, 0, 0, 0, 0, 0, 0, 0, 0, 0, 0, 0, 0, 0, 0, 0, 0, 0, 0, 0, 0, 0, 0, 0, 0, 0, 0, 0, 0, 0, 0, 0, 0, 0, 0, 0, 0, 0, 0, 0, 0, 0, 0, 0, 0, 0, 0, 0, 0, 0, 0, 0, 0, 0, 0, 0, 0, 0, 0, 0, 0, 0, 0, 0, 0, 0, 0, 0, 0, 0, 0, 0, 0, 0, 0, 0, 0, 0, 0, 0, 0, 0, 0, 0, 0, 0, 0, 0, 0, 0, 0, 0, 0, 0, 0, 0, 0, 0, 0, 0, 0, 0, 0, 0, 0, 0, 0, 0, 0, 0, 0, 0, 0, 0, 0, 0, 0, 0, 0, 0, 0, 0, 0, 0, 0, 0, 0, 0, 0, 0, 0, 0, 0, 0, 0, 0, 0, 0, 0, 0, 0, 0, 0, 0, 0, 0, 0, 0, 0, 0, 0, 0, 0, 0, 0, 0, 0, 0, 0, 0, 0, 0, 0, 0, 0, 0, 0, 0, 0, 0, 0, 0, 0, 0, 0, 0, 0, 0, 0, 0, 0, 0, 0, 0, 0, 0, 0, 0, 0, 0, 0, 0, 0, 0, 0, 0, 0, 0, 0, 0, 0, 0, 0, 0, 0, 0, 0, 0, 0, 0, 0, 0, 0, 0, 0, 0, 0, 0, 0, 0, 0, 0, 0, 0, 0, 0, 0, 0, 0, 0, 0, 0, 0, 0, 0, 0, 0, 0, 0, 0, 0, 0, 0, 0, 0, 0, 0, 0, 0, 0, 0, 0, 0, 0, 0, 0, 0, 0, 0, 0, 0, 0, 0, 0, 0, 0, 0, 0, 0, 0, 0, 0, 0, 0, 0, 0, 0, 0, 0, 0, 0, 0, 0, 0, 0, 0, 0, 0, 0, 0, 0, 0, 0, 0, 0, 0, 0, 0, 0, 0, 0, 0, 0, 0, 0, 0, 0, 0, 0, 0, 0, 0, 0, 0, 0, 0, 0, 0, 0, 0, 0, 0, 0, 0, 0, 0, 0, 0, 0, 0, 0, 0, 0, 0, 0, 0, 0, 0, 0, 0, 0, 0, 0, 0, 0, 0, 0, 0, 0, 0, 0, 0, 0, 0, 0, 0, 0, 0, 0, 0, 0, 0, 0, 0, 0, 0, 0, 0, 0, 0, 0, 0, 0, 0, 0, 0, 0, 0, 0, 0, 0, 0, 0, 0, 0, 0, 0, 0, 0, 0, 0, 0, 0, 0, 0, 0, 0, 0, 0, 0, 0, 0, 0, 0, 0, 0, 0, 0, 0, 0, 1, 0, 0, 0, 0, 0, 0, 0, 0, 0, 0, 0, 0, 0, 0, 0, 0, 0, 0, 0, 0, 0, 0, 0, 0, 0, 0, 0, 0, 0, 0, 0, 0, 0, 0, 0, 0, 0, 0, 0, 0, 0, 0, 0, 0, 0, 0, 0, 0, 0, 0, 0, 0, 0, 0, 0, 0, 0, 0, 0, 0, 0, 0, 0, 0, 0, 0, 0, 0, 0, 0, 0, 0, 0, 0, 0, 0, 0, 0, 0, 0, 0, 0, 0, 0, 0, 0, 0, 0, 0, 0, 0, 0, 0, 0, 0, 0, 0, 0, 0, 0, 0, 0, 0, 0, 0, 0, 0, 1, 0, 0, 0, 0, 0, 0, 0, 0, 0, 0, 0, 0, 0, 0, 0, 0, 0, 0, 0, 0, 0, 0, 0, 0, 0, 0, 0, 0, 0, 0, 0, 0, 0, 0, 0, 0, 0, 0, 0, 0, 0, 0, 0, 0, 0, 0, 0, 0, 0, 0, 0, 0, 0, 0, 0, 0, 0, 0, 0, 0, 0, 0, 0, 0, 0, 0, 0, 0, 0, 0, 0, 0, 0, 0, 0, 0, 0, 0, 0, 0, 0, 0, 0, 0, 0, 0, 0, 0, 0, 0, 0, 0, 0, 0, 0, 0, 0, 0, 0, 0, 0, 0, 0, 0, 0, 0, 0, 0, 0, 0, 0, 0, 0, 0, 0, 0, 0, 0, 0, 0, 0, 0, 0, 0, 0, 0, 0, 0, 0, 0, 0, 0, 0, 0, 0, 0, 0, 0, 0, 0, 0, 0, 0, 0, 0, 0, 0, 0, 0, 0, 0, 0, 0, 0, 0, 0, 0, 0, 0, 0, 0, 0, 0, 0, 0, 0, 0, 0, 0, 0, 0, 0, 0, 0, 0, 0, 0, 0, 0, 0, 0, 0, 0, 0, 0, 0, 0, 0, 0, 0, 0, 0, 0, 0, 0, 0, 0, 0, 0, 0, 0, 0, 0, 0, 0, 0, 0, 0, 0, 0, 0, 0, 0, 0, 0, 0, 0, 0, 0, 0, 0, 0, 0, 0, 0, 0, 0, 0, 0, 0, 0, 0, 0, 0, 0, 0, 0, 0, 0, 0, 0, 0, 0, 0, 0, 0, 0, 0, 0, 0, 0, 0, 0, 0, 0, 0, 0, 0, 0, 0, 0, 0, 0, 0, 0, 0, 0, 0, 0, 0, 0, 0, 0, 0, 0, 0, 0, 0, 0, 0, 0, 0, 0, 0, 0, 0, 0, 0, 0, 0, 0, 0, 0, 0, 0, 0, 0, 0, 0, 0, 0, 0, 0, 0, 0, 0, 0, 0, 0, 0, 0, 0, 0, 0, 0, 0, 0, 0, 0, 0, 0, 0, 0, 0, 0, 0, 0, 0, 0, 0, 0, 0, 0, 0, 0, 0, 0, 0, 0, 0, 0, 0, 0, 0, 0, 0, 0, 0, 0, 0, 0, 0, 0, 0, 0, 0, 0, 0, 0, 0, 0, 0, 0, 0, 0, 0, 0, 0, 0, 0, 0, 0, 0, 0, 0, 0, 0, 0, 0, 0, 0, 0, 0, 0, 0, 0, 0, 0, 0, 0, 0, 0, 0, 0, 0, 0, 0, 0, 0, 0, 0, 0, 0, 0, 0, 0, 0, 0, 0, 0, 0, 0, 0, 0, 0, 0, 0, 0, 0, 0, 0, 0, 0, 0, 0, 0, 0, 0, 0, 0, 0, 0, 0, 0, 0, 0, 0, 0, 0, 0, 0, 0, 0, 0, 0, 0, 0, 0, 0, 0, 0, 0, 0, 0, 0, 0, 0, 0, 0, 0, 0, 0, 0, 2, 0, 1, 0], type: <class 'list'>, valid types: <class 'bytes'>, <class 'bytearray'>, file-like object"
     ]
    }
   ],
   "source": [
    "response = runtime.invoke_endpoint(EndpointName = xgb_predictor.endpoint, # The name of the endpoint we created\n",
    "                                       ContentType = 'text/csv',                     # The data format that is expected\n",
    "                                       Body = test_bow)\n",
    "\n",
    "print(test_bow)"
   ]
  },
  {
   "cell_type": "markdown",
   "metadata": {},
   "source": [
    "So why did we get an error?\n",
    "\n",
    "Because we tried to send the endpoint a list of integers but it expected us to send data of type `text/csv`. So, we need to convert it."
   ]
  },
  {
   "cell_type": "code",
   "execution_count": 46,
   "metadata": {},
   "outputs": [],
   "source": [
    "response = runtime.invoke_endpoint(EndpointName = xgb_predictor.endpoint, # The name of the endpoint we created\n",
    "                                       ContentType = 'text/csv',                     # The data format that is expected\n",
    "                                       Body = ','.join([str(val) for val in test_bow]).encode('utf-8'))"
   ]
  },
  {
   "cell_type": "code",
   "execution_count": 47,
   "metadata": {},
   "outputs": [
    {
     "name": "stdout",
     "output_type": "stream",
     "text": [
      "{'ResponseMetadata': {'RequestId': '01b8f5da-0e0d-4d39-a786-afa1b2b15940', 'HTTPStatusCode': 200, 'HTTPHeaders': {'x-amzn-requestid': '01b8f5da-0e0d-4d39-a786-afa1b2b15940', 'x-amzn-invoked-production-variant': 'AllTraffic', 'date': 'Sun, 7 Jun 2020 13:53:42 GMT', 'content-type': 'text/csv; charset=utf-8', 'content-length': '13'}, 'RetryAttempts': 0}, 'ContentType': 'text/csv; charset=utf-8', 'InvokedProductionVariant': 'AllTraffic', 'Body': <botocore.response.StreamingBody object at 0x7fe04fa10a20>}\n"
     ]
    }
   ],
   "source": [
    "print(response)"
   ]
  },
  {
   "cell_type": "markdown",
   "metadata": {},
   "source": [
    "As we can see, the response from our model is a somewhat complicated looking dict that contains a bunch of information. The bit that we are most interested in is `'Body'` object which is a streaming object that we need to `read` in order to make use of."
   ]
  },
  {
   "cell_type": "code",
   "execution_count": 48,
   "metadata": {},
   "outputs": [
    {
     "name": "stdout",
     "output_type": "stream",
     "text": [
      "0.23250465095\n"
     ]
    }
   ],
   "source": [
    "response = response['Body'].read().decode('utf-8')\n",
    "print(response)"
   ]
  },
  {
   "cell_type": "markdown",
   "metadata": {},
   "source": [
    "Now that we know how to process the incoming user data we can start setting up the infrastructure to make our simple web app work. To do this we will make use of two different services. Amazon's Lambda and API Gateway services.\n",
    "\n",
    "Lambda is a service which allows someone to write some relatively simple code and have it executed whenever a chosen trigger occurs. For example, you may want to update a database whenever new data is uploaded to a folder stored on S3.\n",
    "\n",
    "API Gateway is a service that allows you to create HTTP endpoints (url addresses) which are connected to other AWS services. One of the benefits to this is that you get to decide what credentials, if any, are required to access these endpoints.\n",
    "\n",
    "In our case we are going to set up an HTTP endpoint through API Gateway which is open to the public. Then, whenever anyone sends data to our public endpoint we will trigger a Lambda function which will send the input (in our case a review) to our model's endpoint and then return the result."
   ]
  },
  {
   "cell_type": "markdown",
   "metadata": {},
   "source": [
    "### Setting up a Lambda function\n",
    "\n",
    "The first thing we are going to do is set up a Lambda function. This Lambda function will be executed whenever our public API has data sent to it. When it is executed it will receive the data, perform any sort of processing that is required, send the data (the review) to the SageMaker endpoint we've created and then return the result.\n",
    "\n",
    "#### Part A: Create an IAM Role for the Lambda function\n",
    "\n",
    "Since we want the Lambda function to call a SageMaker endpoint, we need to make sure that it has permission to do so. To do this, we will construct a role that we can later give the Lambda function.\n",
    "\n",
    "Using the AWS Console, navigate to the **IAM** page and click on **Roles**. Then, click on **Create role**. Make sure that the **AWS service** is the type of trusted entity selected and choose **Lambda** as the service that will use this role, then click **Next: Permissions**.\n",
    "\n",
    "In the search box type `sagemaker` and select the check box next to the **AmazonSageMakerFullAccess** policy. Then, click on **Next: Review**.\n",
    "\n",
    "Lastly, give this role a name. Make sure you use a name that you will remember later on, for example `LambdaSageMakerRole`. Then, click on **Create role**."
   ]
  },
  {
   "cell_type": "markdown",
   "metadata": {},
   "source": [
    "#### Part B: Create a Lambda function\n",
    "\n",
    "Now it is time to actually create the Lambda function. Remember from earlier that in order to process the user provided input and send it to our endpoint we need to gather two pieces of information:\n",
    "\n",
    " - The name of the endpoint, and\n",
    " - the vocabulary object.\n",
    "\n",
    "We will copy these pieces of information to our Lambda function after we create it.\n",
    "\n",
    "To start, using the AWS Console, navigate to the AWS Lambda page and click on **Create a function**. When you get to the next page, make sure that **Author from scratch** is selected. Now, name your Lambda function, using a name that you will remember later on, for example `sentiment_analysis_xgboost_func`. Make sure that the **Python 3.6** runtime is selected and then choose the role that you created in the previous part. Then, click on **Create Function**.\n",
    "\n",
    "On the next page you will see some information about the Lambda function you've just created. If you scroll down you should see an editor in which you can write the code that will be executed when your Lambda function is triggered. Collecting the code we wrote above to process a single review and adding it to the provided example `lambda_handler` we arrive at the following.\n",
    "\n",
    "```python\n",
    "# We need to use the low-level library to interact with SageMaker since the SageMaker API\n",
    "# is not available natively through Lambda.\n",
    "import boto3\n",
    "\n",
    "# And we need the regular expression library to do some of the data processing\n",
    "import re\n",
    "\n",
    "REPLACE_NO_SPACE = re.compile(\"(\\.)|(\\;)|(\\:)|(\\!)|(\\')|(\\?)|(\\,)|(\\\")|(\\()|(\\))|(\\[)|(\\])\")\n",
    "REPLACE_WITH_SPACE = re.compile(\"(<br\\s*/><br\\s*/>)|(\\-)|(\\/)\")\n",
    "\n",
    "def review_to_words(review):\n",
    "    words = REPLACE_NO_SPACE.sub(\"\", review.lower())\n",
    "    words = REPLACE_WITH_SPACE.sub(\" \", words)\n",
    "    return words\n",
    "    \n",
    "def bow_encoding(words, vocabulary):\n",
    "    bow = [0] * len(vocabulary) # Start by setting the count for each word in the vocabulary to zero.\n",
    "    for word in words.split():  # For each word in the string\n",
    "        if word in vocabulary:  # If the word is one that occurs in the vocabulary, increase its count.\n",
    "            bow[vocabulary[word]] += 1\n",
    "    return bow\n",
    "\n",
    "\n",
    "def lambda_handler(event, context):\n",
    "    \n",
    "    vocab = \"*** ACTUAL VOCABULARY GOES HERE ***\"\n",
    "    \n",
    "    words = review_to_words(event['body'])\n",
    "    bow = bow_encoding(words, vocab)\n",
    "\n",
    "    # The SageMaker runtime is what allows us to invoke the endpoint that we've created.\n",
    "    runtime = boto3.Session().client('sagemaker-runtime')\n",
    "\n",
    "    # Now we use the SageMaker runtime to invoke our endpoint, sending the review we were given\n",
    "    response = runtime.invoke_endpoint(EndpointName = '***ENDPOINT NAME HERE***',# The name of the endpoint we created\n",
    "                                       ContentType = 'text/csv',                 # The data format that is expected\n",
    "                                       Body = ','.join([str(val) for val in bow]).encode('utf-8')) # The actual review\n",
    "\n",
    "    # The response is an HTTP response whose body contains the result of our inference\n",
    "    result = response['Body'].read().decode('utf-8')\n",
    "    \n",
    "    # Round the result so that our web app only gets '1' or '0' as a response.\n",
    "    result = round(float(result))\n",
    "\n",
    "    return {\n",
    "        'statusCode' : 200,\n",
    "        'headers' : { 'Content-Type' : 'text/plain', 'Access-Control-Allow-Origin' : '*' },\n",
    "        'body' : str(result)\n",
    "    }\n",
    "```"
   ]
  },
  {
   "cell_type": "markdown",
   "metadata": {},
   "source": [
    "Once you have copy and pasted the code above into the Lambda code editor, replace the `**ENDPOINT NAME HERE**` portion with the name of the endpoint that we deployed earlier. You can determine the name of the endpoint using the code cell below."
   ]
  },
  {
   "cell_type": "code",
   "execution_count": null,
   "metadata": {},
   "outputs": [],
   "source": [
    "xgb_predictor.endpoint"
   ]
  },
  {
   "cell_type": "markdown",
   "metadata": {},
   "source": [
    "In addition, you will need to copy the vocabulary dict to the appropriate place in the code at the beginning of the `lambda_handler` method. The cell below prints out the vocabulary dict in a way that is easy to copy and paste."
   ]
  },
  {
   "cell_type": "code",
   "execution_count": null,
   "metadata": {},
   "outputs": [],
   "source": [
    "print(str(vocabulary))"
   ]
  },
  {
   "cell_type": "markdown",
   "metadata": {},
   "source": [
    "Once you have added the endpoint name to the Lambda function, click on **Save**. Your Lambda function is now up and running. Next we need to create a way for our web app to execute the Lambda function."
   ]
  },
  {
   "cell_type": "markdown",
   "metadata": {},
   "source": [
    "### Setting up API Gateway\n",
    "\n",
    "Now that our Lambda function is set up, it is time to create a new API using API Gateway that will trigger the Lambda function we have just created.\n",
    "\n",
    "Using AWS Console, navigate to **Amazon API Gateway** and then click on **Get started**.\n",
    "\n",
    "On the next page, make sure that **New API** is selected and give the new api a name, for example, `sentiment_analysis_web_app`. Then, click on **Create API**.\n",
    "\n",
    "Now we have created an API, however it doesn't currently do anything. What we want it to do is to trigger the Lambda function that we created earlier.\n",
    "\n",
    "Select the **Actions** dropdown menu and click **Create Method**. A new blank method will be created, select its dropdown menu and select **POST**, then click on the check mark beside it.\n",
    "\n",
    "For the integration point, make sure that **Lambda Function** is selected and click on the **Use Lambda Proxy integration**. This option makes sure that the data that is sent to the API is then sent directly to the Lambda function with no processing. It also means that the return value must be a proper response object as it will also not be processed by API Gateway.\n",
    "\n",
    "Type the name of the Lambda function you created earlier into the **Lambda Function** text entry box and then click on **Save**. Click on **OK** in the pop-up box that then appears, giving permission to API Gateway to invoke the Lambda function you created.\n",
    "\n",
    "The last step in creating the API Gateway is to select the **Actions** dropdown and click on **Deploy API**. You will need to create a new Deployment stage and name it anything you like, for example `prod`.\n",
    "\n",
    "You have now successfully set up a public API to access your SageMaker model. Make sure to copy or write down the URL provided to invoke your newly created public API as this will be needed in the next step. This URL can be found at the top of the page, highlighted in blue next to the text **Invoke URL**."
   ]
  },
  {
   "cell_type": "markdown",
   "metadata": {},
   "source": [
    "## Step 7: Deploying our web app\n",
    "\n",
    "Now that we have a publicly available API, we can start using it in a web app. For our purposes, we have provided a simple static html file which can make use of the public api you created earlier.\n",
    "\n",
    "In the `website` folder there should be a file called `index.html`. Download the file to your computer and open that file up in a text editor of your choice. There should be a line which contains **\\*\\*REPLACE WITH PUBLIC API URL\\*\\***. Replace this string with the url that you wrote down in the last step and then save the file.\n",
    "\n",
    "Now, if you open `index.html` on your local computer, your browser will behave as a local web server and you can use the provided site to interact with your SageMaker model.\n",
    "\n",
    "If you'd like to go further, you can host this html file anywhere you'd like, for example using github or hosting a static site on Amazon's S3. Once you have done this you can share the link with anyone you'd like and have them play with it too!\n",
    "\n",
    "> **Important Note** In order for the web app to communicate with the SageMaker endpoint, the endpoint has to actually be deployed and running. This means that you are paying for it. Make sure that the endpoint is running when you want to use the web app but that you shut it down when you don't need it, otherwise you will end up with a surprisingly large AWS bill."
   ]
  },
  {
   "cell_type": "markdown",
   "metadata": {},
   "source": [
    "### Delete the endpoint\n",
    "\n",
    "Remember to always shut down your endpoint if you are no longer using it. You are charged for the length of time that the endpoint is running so if you forget and leave it on you could end up with an unexpectedly large bill."
   ]
  },
  {
   "cell_type": "code",
   "execution_count": 50,
   "metadata": {},
   "outputs": [],
   "source": [
    "xgb_predictor.delete_endpoint()"
   ]
  },
  {
   "cell_type": "markdown",
   "metadata": {},
   "source": [
    "## Optional: Clean up\n",
    "\n",
    "The default notebook instance on SageMaker doesn't have a lot of excess disk space available. As you continue to complete and execute notebooks you will eventually fill up this disk space, leading to errors which can be difficult to diagnose. Once you are completely finished using a notebook it is a good idea to remove the files that you created along the way. Of course, you can do this from the terminal or from the notebook hub if you would like. The cell below contains some commands to clean up the created files from within the notebook."
   ]
  },
  {
   "cell_type": "code",
   "execution_count": 51,
   "metadata": {},
   "outputs": [
    {
     "ename": "OSError",
     "evalue": "[Errno 12] Cannot allocate memory",
     "output_type": "error",
     "traceback": [
      "\u001b[0;31m---------------------------------------------------------------------------\u001b[0m",
      "\u001b[0;31mOSError\u001b[0m                                   Traceback (most recent call last)",
      "\u001b[0;32m<ipython-input-51-2c87d8eefdf2>\u001b[0m in \u001b[0;36m<module>\u001b[0;34m()\u001b[0m\n\u001b[1;32m      1\u001b[0m \u001b[0;31m# First we will remove all of the files contained in the data_dir directory\u001b[0m\u001b[0;34m\u001b[0m\u001b[0;34m\u001b[0m\u001b[0m\n\u001b[0;32m----> 2\u001b[0;31m \u001b[0mget_ipython\u001b[0m\u001b[0;34m(\u001b[0m\u001b[0;34m)\u001b[0m\u001b[0;34m.\u001b[0m\u001b[0msystem\u001b[0m\u001b[0;34m(\u001b[0m\u001b[0;34m'rm $data_dir/*'\u001b[0m\u001b[0;34m)\u001b[0m\u001b[0;34m\u001b[0m\u001b[0m\n\u001b[0m\u001b[1;32m      3\u001b[0m \u001b[0;34m\u001b[0m\u001b[0m\n\u001b[1;32m      4\u001b[0m \u001b[0;31m# And then we delete the directory itself\u001b[0m\u001b[0;34m\u001b[0m\u001b[0;34m\u001b[0m\u001b[0m\n\u001b[1;32m      5\u001b[0m \u001b[0mget_ipython\u001b[0m\u001b[0;34m(\u001b[0m\u001b[0;34m)\u001b[0m\u001b[0;34m.\u001b[0m\u001b[0msystem\u001b[0m\u001b[0;34m(\u001b[0m\u001b[0;34m'rmdir $data_dir'\u001b[0m\u001b[0;34m)\u001b[0m\u001b[0;34m\u001b[0m\u001b[0m\n",
      "\u001b[0;32m~/anaconda3/envs/python3/lib/python3.6/site-packages/IPython/core/interactiveshell.py\u001b[0m in \u001b[0;36msystem_piped\u001b[0;34m(self, cmd)\u001b[0m\n\u001b[1;32m   2259\u001b[0m         \u001b[0;31m# a non-None value would trigger :func:`sys.displayhook` calls.\u001b[0m\u001b[0;34m\u001b[0m\u001b[0;34m\u001b[0m\u001b[0m\n\u001b[1;32m   2260\u001b[0m         \u001b[0;31m# Instead, we store the exit_code in user_ns.\u001b[0m\u001b[0;34m\u001b[0m\u001b[0;34m\u001b[0m\u001b[0m\n\u001b[0;32m-> 2261\u001b[0;31m         \u001b[0mself\u001b[0m\u001b[0;34m.\u001b[0m\u001b[0muser_ns\u001b[0m\u001b[0;34m[\u001b[0m\u001b[0;34m'_exit_code'\u001b[0m\u001b[0;34m]\u001b[0m \u001b[0;34m=\u001b[0m \u001b[0msystem\u001b[0m\u001b[0;34m(\u001b[0m\u001b[0mself\u001b[0m\u001b[0;34m.\u001b[0m\u001b[0mvar_expand\u001b[0m\u001b[0;34m(\u001b[0m\u001b[0mcmd\u001b[0m\u001b[0;34m,\u001b[0m \u001b[0mdepth\u001b[0m\u001b[0;34m=\u001b[0m\u001b[0;36m1\u001b[0m\u001b[0;34m)\u001b[0m\u001b[0;34m)\u001b[0m\u001b[0;34m\u001b[0m\u001b[0m\n\u001b[0m\u001b[1;32m   2262\u001b[0m \u001b[0;34m\u001b[0m\u001b[0m\n\u001b[1;32m   2263\u001b[0m     \u001b[0;32mdef\u001b[0m \u001b[0msystem_raw\u001b[0m\u001b[0;34m(\u001b[0m\u001b[0mself\u001b[0m\u001b[0;34m,\u001b[0m \u001b[0mcmd\u001b[0m\u001b[0;34m)\u001b[0m\u001b[0;34m:\u001b[0m\u001b[0;34m\u001b[0m\u001b[0m\n",
      "\u001b[0;32m~/anaconda3/envs/python3/lib/python3.6/site-packages/IPython/utils/_process_posix.py\u001b[0m in \u001b[0;36msystem\u001b[0;34m(self, cmd)\u001b[0m\n\u001b[1;32m    154\u001b[0m                 \u001b[0mchild\u001b[0m \u001b[0;34m=\u001b[0m \u001b[0mpexpect\u001b[0m\u001b[0;34m.\u001b[0m\u001b[0mspawnb\u001b[0m\u001b[0;34m(\u001b[0m\u001b[0mself\u001b[0m\u001b[0;34m.\u001b[0m\u001b[0msh\u001b[0m\u001b[0;34m,\u001b[0m \u001b[0margs\u001b[0m\u001b[0;34m=\u001b[0m\u001b[0;34m[\u001b[0m\u001b[0;34m'-c'\u001b[0m\u001b[0;34m,\u001b[0m \u001b[0mcmd\u001b[0m\u001b[0;34m]\u001b[0m\u001b[0;34m)\u001b[0m \u001b[0;31m# Pexpect-U\u001b[0m\u001b[0;34m\u001b[0m\u001b[0m\n\u001b[1;32m    155\u001b[0m             \u001b[0;32melse\u001b[0m\u001b[0;34m:\u001b[0m\u001b[0;34m\u001b[0m\u001b[0m\n\u001b[0;32m--> 156\u001b[0;31m                 \u001b[0mchild\u001b[0m \u001b[0;34m=\u001b[0m \u001b[0mpexpect\u001b[0m\u001b[0;34m.\u001b[0m\u001b[0mspawn\u001b[0m\u001b[0;34m(\u001b[0m\u001b[0mself\u001b[0m\u001b[0;34m.\u001b[0m\u001b[0msh\u001b[0m\u001b[0;34m,\u001b[0m \u001b[0margs\u001b[0m\u001b[0;34m=\u001b[0m\u001b[0;34m[\u001b[0m\u001b[0;34m'-c'\u001b[0m\u001b[0;34m,\u001b[0m \u001b[0mcmd\u001b[0m\u001b[0;34m]\u001b[0m\u001b[0;34m)\u001b[0m  \u001b[0;31m# Vanilla Pexpect\u001b[0m\u001b[0;34m\u001b[0m\u001b[0m\n\u001b[0m\u001b[1;32m    157\u001b[0m             \u001b[0mflush\u001b[0m \u001b[0;34m=\u001b[0m \u001b[0msys\u001b[0m\u001b[0;34m.\u001b[0m\u001b[0mstdout\u001b[0m\u001b[0;34m.\u001b[0m\u001b[0mflush\u001b[0m\u001b[0;34m\u001b[0m\u001b[0m\n\u001b[1;32m    158\u001b[0m             \u001b[0;32mwhile\u001b[0m \u001b[0;32mTrue\u001b[0m\u001b[0;34m:\u001b[0m\u001b[0;34m\u001b[0m\u001b[0m\n",
      "\u001b[0;32m~/anaconda3/envs/python3/lib/python3.6/site-packages/pexpect/pty_spawn.py\u001b[0m in \u001b[0;36m__init__\u001b[0;34m(self, command, args, timeout, maxread, searchwindowsize, logfile, cwd, env, ignore_sighup, echo, preexec_fn, encoding, codec_errors, dimensions, use_poll)\u001b[0m\n\u001b[1;32m    202\u001b[0m             \u001b[0mself\u001b[0m\u001b[0;34m.\u001b[0m\u001b[0mname\u001b[0m \u001b[0;34m=\u001b[0m \u001b[0;34m'<pexpect factory incomplete>'\u001b[0m\u001b[0;34m\u001b[0m\u001b[0m\n\u001b[1;32m    203\u001b[0m         \u001b[0;32melse\u001b[0m\u001b[0;34m:\u001b[0m\u001b[0;34m\u001b[0m\u001b[0m\n\u001b[0;32m--> 204\u001b[0;31m             \u001b[0mself\u001b[0m\u001b[0;34m.\u001b[0m\u001b[0m_spawn\u001b[0m\u001b[0;34m(\u001b[0m\u001b[0mcommand\u001b[0m\u001b[0;34m,\u001b[0m \u001b[0margs\u001b[0m\u001b[0;34m,\u001b[0m \u001b[0mpreexec_fn\u001b[0m\u001b[0;34m,\u001b[0m \u001b[0mdimensions\u001b[0m\u001b[0;34m)\u001b[0m\u001b[0;34m\u001b[0m\u001b[0m\n\u001b[0m\u001b[1;32m    205\u001b[0m         \u001b[0mself\u001b[0m\u001b[0;34m.\u001b[0m\u001b[0muse_poll\u001b[0m \u001b[0;34m=\u001b[0m \u001b[0muse_poll\u001b[0m\u001b[0;34m\u001b[0m\u001b[0m\n\u001b[1;32m    206\u001b[0m \u001b[0;34m\u001b[0m\u001b[0m\n",
      "\u001b[0;32m~/anaconda3/envs/python3/lib/python3.6/site-packages/pexpect/pty_spawn.py\u001b[0m in \u001b[0;36m_spawn\u001b[0;34m(self, command, args, preexec_fn, dimensions)\u001b[0m\n\u001b[1;32m    301\u001b[0m \u001b[0;34m\u001b[0m\u001b[0m\n\u001b[1;32m    302\u001b[0m         self.ptyproc = self._spawnpty(self.args, env=self.env,\n\u001b[0;32m--> 303\u001b[0;31m                                      cwd=self.cwd, **kwargs)\n\u001b[0m\u001b[1;32m    304\u001b[0m \u001b[0;34m\u001b[0m\u001b[0m\n\u001b[1;32m    305\u001b[0m         \u001b[0mself\u001b[0m\u001b[0;34m.\u001b[0m\u001b[0mpid\u001b[0m \u001b[0;34m=\u001b[0m \u001b[0mself\u001b[0m\u001b[0;34m.\u001b[0m\u001b[0mptyproc\u001b[0m\u001b[0;34m.\u001b[0m\u001b[0mpid\u001b[0m\u001b[0;34m\u001b[0m\u001b[0m\n",
      "\u001b[0;32m~/anaconda3/envs/python3/lib/python3.6/site-packages/pexpect/pty_spawn.py\u001b[0m in \u001b[0;36m_spawnpty\u001b[0;34m(self, args, **kwargs)\u001b[0m\n\u001b[1;32m    312\u001b[0m     \u001b[0;32mdef\u001b[0m \u001b[0m_spawnpty\u001b[0m\u001b[0;34m(\u001b[0m\u001b[0mself\u001b[0m\u001b[0;34m,\u001b[0m \u001b[0margs\u001b[0m\u001b[0;34m,\u001b[0m \u001b[0;34m**\u001b[0m\u001b[0mkwargs\u001b[0m\u001b[0;34m)\u001b[0m\u001b[0;34m:\u001b[0m\u001b[0;34m\u001b[0m\u001b[0m\n\u001b[1;32m    313\u001b[0m         \u001b[0;34m'''Spawn a pty and return an instance of PtyProcess.'''\u001b[0m\u001b[0;34m\u001b[0m\u001b[0m\n\u001b[0;32m--> 314\u001b[0;31m         \u001b[0;32mreturn\u001b[0m \u001b[0mptyprocess\u001b[0m\u001b[0;34m.\u001b[0m\u001b[0mPtyProcess\u001b[0m\u001b[0;34m.\u001b[0m\u001b[0mspawn\u001b[0m\u001b[0;34m(\u001b[0m\u001b[0margs\u001b[0m\u001b[0;34m,\u001b[0m \u001b[0;34m**\u001b[0m\u001b[0mkwargs\u001b[0m\u001b[0;34m)\u001b[0m\u001b[0;34m\u001b[0m\u001b[0m\n\u001b[0m\u001b[1;32m    315\u001b[0m \u001b[0;34m\u001b[0m\u001b[0m\n\u001b[1;32m    316\u001b[0m     \u001b[0;32mdef\u001b[0m \u001b[0mclose\u001b[0m\u001b[0;34m(\u001b[0m\u001b[0mself\u001b[0m\u001b[0;34m,\u001b[0m \u001b[0mforce\u001b[0m\u001b[0;34m=\u001b[0m\u001b[0;32mTrue\u001b[0m\u001b[0;34m)\u001b[0m\u001b[0;34m:\u001b[0m\u001b[0;34m\u001b[0m\u001b[0m\n",
      "\u001b[0;32m~/anaconda3/envs/python3/lib/python3.6/site-packages/ptyprocess/ptyprocess.py\u001b[0m in \u001b[0;36mspawn\u001b[0;34m(cls, argv, cwd, env, echo, preexec_fn, dimensions)\u001b[0m\n\u001b[1;32m    220\u001b[0m \u001b[0;34m\u001b[0m\u001b[0m\n\u001b[1;32m    221\u001b[0m         \u001b[0;32mif\u001b[0m \u001b[0muse_native_pty_fork\u001b[0m\u001b[0;34m:\u001b[0m\u001b[0;34m\u001b[0m\u001b[0m\n\u001b[0;32m--> 222\u001b[0;31m             \u001b[0mpid\u001b[0m\u001b[0;34m,\u001b[0m \u001b[0mfd\u001b[0m \u001b[0;34m=\u001b[0m \u001b[0mpty\u001b[0m\u001b[0;34m.\u001b[0m\u001b[0mfork\u001b[0m\u001b[0;34m(\u001b[0m\u001b[0;34m)\u001b[0m\u001b[0;34m\u001b[0m\u001b[0m\n\u001b[0m\u001b[1;32m    223\u001b[0m         \u001b[0;32melse\u001b[0m\u001b[0;34m:\u001b[0m\u001b[0;34m\u001b[0m\u001b[0m\n\u001b[1;32m    224\u001b[0m             \u001b[0;31m# Use internal fork_pty, for Solaris\u001b[0m\u001b[0;34m\u001b[0m\u001b[0;34m\u001b[0m\u001b[0m\n",
      "\u001b[0;32m~/anaconda3/envs/python3/lib/python3.6/pty.py\u001b[0m in \u001b[0;36mfork\u001b[0;34m()\u001b[0m\n\u001b[1;32m     95\u001b[0m \u001b[0;34m\u001b[0m\u001b[0m\n\u001b[1;32m     96\u001b[0m     \u001b[0mmaster_fd\u001b[0m\u001b[0;34m,\u001b[0m \u001b[0mslave_fd\u001b[0m \u001b[0;34m=\u001b[0m \u001b[0mopenpty\u001b[0m\u001b[0;34m(\u001b[0m\u001b[0;34m)\u001b[0m\u001b[0;34m\u001b[0m\u001b[0m\n\u001b[0;32m---> 97\u001b[0;31m     \u001b[0mpid\u001b[0m \u001b[0;34m=\u001b[0m \u001b[0mos\u001b[0m\u001b[0;34m.\u001b[0m\u001b[0mfork\u001b[0m\u001b[0;34m(\u001b[0m\u001b[0;34m)\u001b[0m\u001b[0;34m\u001b[0m\u001b[0m\n\u001b[0m\u001b[1;32m     98\u001b[0m     \u001b[0;32mif\u001b[0m \u001b[0mpid\u001b[0m \u001b[0;34m==\u001b[0m \u001b[0mCHILD\u001b[0m\u001b[0;34m:\u001b[0m\u001b[0;34m\u001b[0m\u001b[0m\n\u001b[1;32m     99\u001b[0m         \u001b[0;31m# Establish a new session.\u001b[0m\u001b[0;34m\u001b[0m\u001b[0;34m\u001b[0m\u001b[0m\n",
      "\u001b[0;31mOSError\u001b[0m: [Errno 12] Cannot allocate memory"
     ]
    }
   ],
   "source": [
    "# First we will remove all of the files contained in the data_dir directory\n",
    "!rm $data_dir/*\n",
    "\n",
    "# And then we delete the directory itself\n",
    "!rmdir $data_dir\n",
    "\n",
    "# Similarly we remove the files in the cache_dir directory and the directory itself\n",
    "!rm $cache_dir/*\n",
    "!rmdir $cache_dir"
   ]
  },
  {
   "cell_type": "code",
   "execution_count": null,
   "metadata": {},
   "outputs": [],
   "source": []
  }
 ],
 "metadata": {
  "kernelspec": {
   "display_name": "conda_python3",
   "language": "python",
   "name": "conda_python3"
  },
  "language_info": {
   "codemirror_mode": {
    "name": "ipython",
    "version": 3
   },
   "file_extension": ".py",
   "mimetype": "text/x-python",
   "name": "python",
   "nbconvert_exporter": "python",
   "pygments_lexer": "ipython3",
   "version": "3.6.5"
  }
 },
 "nbformat": 4,
 "nbformat_minor": 2
}
